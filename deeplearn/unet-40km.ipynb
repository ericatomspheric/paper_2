{
 "cells": [
  {
   "cell_type": "code",
   "execution_count": null,
   "id": "1a0a3b73",
   "metadata": {},
   "outputs": [],
   "source": [
    "import os\n",
    "import json\n",
    "import random\n",
    "from pathlib import Path\n",
    "import numpy as np\n",
    "from tqdm import tqdm\n",
    "import matplotlib.pyplot as plt\n",
    "from datetime import datetime\n",
    "import time\n",
    "from scipy.stats import pearsonr\n",
    "\n",
    "from sklearn.metrics import r2_score\n",
    "import torch\n",
    "import torch.nn as nn\n",
    "import torch.optim as optim\n",
    "from torch.utils.data import Dataset, DataLoader\n",
    "from torch.utils.tensorboard import SummaryWriter\n",
    "\n",
    "# ---------------------------------------------------------------------------- #\n",
    "def set_seed(seed=42):\n",
    "    random.seed(seed)\n",
    "    np.random.seed(seed)\n",
    "    torch.manual_seed(seed)\n",
    "    if torch.cuda.is_available():\n",
    "        torch.cuda.manual_seed_all(seed)\n",
    "set_seed(42)"
   ]
  },
  {
   "cell_type": "code",
   "execution_count": null,
   "id": "373394c3",
   "metadata": {},
   "outputs": [
    {
     "name": "stdout",
     "output_type": "stream",
     "text": [
      "Total samples: 104, Train: 72, Val: 15, Test: 17\n",
      "Loaded existing target stats\n",
      "Loaded existing input stats\n",
      "Created dataset with 28800 vertical profiles\n",
      "Created dataset with 6000 vertical profiles\n",
      "Created dataset with 6800 vertical profiles\n",
      "Train samples: 28800, Validation samples: 6000\n",
      "Model initialized on cuda, total parameters: 43.25M\n",
      "Auto-calculated LOSS_WEIGHTS: tensor([0.0266, 0.0460, 0.0214, 1.0000], device='cuda:0')\n",
      "\n",
      "Epoch 1/200\n"
     ]
    },
    {
     "name": "stderr",
     "output_type": "stream",
     "text": [
      "                                                           \r"
     ]
    },
    {
     "name": "stdout",
     "output_type": "stream",
     "text": [
      "  Train Total Loss: 0.006563, Value Loss: 0.006563\n"
     ]
    },
    {
     "name": "stderr",
     "output_type": "stream",
     "text": [
      "                                                           \r"
     ]
    },
    {
     "name": "stdout",
     "output_type": "stream",
     "text": [
      "  Global Pearson Correlation: 0.3588\n",
      "  R² layer mean - uw: 0.1608\n",
      "  R² layer mean - vw: 0.1310\n",
      "  R² layer mean - tw: 0.1261\n",
      "  R² layer mean - qw: -2110.6589\n",
      "  Saved R² plot to ./model_plots\\uvtr2_layer_epoch001.png\n",
      "  Saved scatter plot to ./model_plots\\uvtscatter_epoch001.png\n",
      "  Val Total Loss: 0.005529, Value Loss: 0.005529\n",
      "  Per-channel RMSE: uw=0.9143, vw=0.9278, tw=0.9282, \n",
      "  Saved best model: F:\\model\\model_save\\best_epoch001_val0.005529.pth\n",
      "\n",
      "Epoch 2/200\n"
     ]
    },
    {
     "name": "stderr",
     "output_type": "stream",
     "text": [
      "                                                           \r"
     ]
    },
    {
     "name": "stdout",
     "output_type": "stream",
     "text": [
      "  Train Total Loss: 0.005386, Value Loss: 0.005386\n"
     ]
    },
    {
     "name": "stderr",
     "output_type": "stream",
     "text": [
      "                                                           \r"
     ]
    },
    {
     "name": "stdout",
     "output_type": "stream",
     "text": [
      "  Global Pearson Correlation: 0.4668\n",
      "  R² layer mean - uw: 0.2488\n",
      "  R² layer mean - vw: 0.1497\n",
      "  R² layer mean - tw: 0.2336\n",
      "  R² layer mean - qw: -2076.0449\n",
      "  Saved R² plot to ./model_plots\\uvtr2_layer_epoch002.png\n",
      "  Saved scatter plot to ./model_plots\\uvtscatter_epoch002.png\n",
      "  Val Total Loss: 0.005360, Value Loss: 0.005360\n",
      "  Per-channel RMSE: uw=0.8671, vw=0.9130, tw=0.8656, \n",
      "  Saved best model: F:\\model\\model_save\\best_epoch002_val0.005360.pth\n",
      "\n",
      "Epoch 3/200\n"
     ]
    },
    {
     "name": "stderr",
     "output_type": "stream",
     "text": [
      "                                                           \r"
     ]
    },
    {
     "name": "stdout",
     "output_type": "stream",
     "text": [
      "  Train Total Loss: 0.004883, Value Loss: 0.004883\n"
     ]
    },
    {
     "name": "stderr",
     "output_type": "stream",
     "text": [
      "                                                           \r"
     ]
    },
    {
     "name": "stdout",
     "output_type": "stream",
     "text": [
      "  Global Pearson Correlation: 0.6104\n",
      "  R² layer mean - uw: 0.3736\n",
      "  R² layer mean - vw: 0.3289\n",
      "  R² layer mean - tw: 0.3897\n",
      "  R² layer mean - qw: -1414.7000\n",
      "  Saved R² plot to ./model_plots\\uvtr2_layer_epoch003.png\n",
      "  Saved scatter plot to ./model_plots\\uvtscatter_epoch003.png\n",
      "  Val Total Loss: 0.004553, Value Loss: 0.004553\n",
      "  Per-channel RMSE: uw=0.7923, vw=0.8138, tw=0.7730, \n",
      "  Saved best model: F:\\model\\model_save\\best_epoch003_val0.004553.pth\n",
      "\n",
      "Epoch 4/200\n"
     ]
    },
    {
     "name": "stderr",
     "output_type": "stream",
     "text": [
      "                                                           \r"
     ]
    },
    {
     "name": "stdout",
     "output_type": "stream",
     "text": [
      "  Train Total Loss: 0.004529, Value Loss: 0.004529\n"
     ]
    },
    {
     "name": "stderr",
     "output_type": "stream",
     "text": [
      "                                                           \r"
     ]
    },
    {
     "name": "stdout",
     "output_type": "stream",
     "text": [
      "  Global Pearson Correlation: 0.6614\n",
      "  R² layer mean - uw: 0.4185\n",
      "  R² layer mean - vw: 0.3944\n",
      "  R² layer mean - tw: 0.4499\n",
      "  R² layer mean - qw: -897.4030\n",
      "  Saved R² plot to ./model_plots\\uvtr2_layer_epoch004.png\n",
      "  Saved scatter plot to ./model_plots\\uvtscatter_epoch004.png\n",
      "  Val Total Loss: 0.004192, Value Loss: 0.004192\n",
      "  Per-channel RMSE: uw=0.7603, vw=0.7703, tw=0.7315, \n",
      "  Saved best model: F:\\model\\model_save\\best_epoch004_val0.004192.pth\n",
      "\n",
      "Epoch 5/200\n"
     ]
    },
    {
     "name": "stderr",
     "output_type": "stream",
     "text": [
      "                                                           \r"
     ]
    },
    {
     "name": "stdout",
     "output_type": "stream",
     "text": [
      "  Train Total Loss: 0.004189, Value Loss: 0.004189\n"
     ]
    },
    {
     "name": "stderr",
     "output_type": "stream",
     "text": [
      "                                                           \r"
     ]
    },
    {
     "name": "stdout",
     "output_type": "stream",
     "text": [
      "  Global Pearson Correlation: 0.6817\n",
      "  R² layer mean - uw: 0.4402\n",
      "  R² layer mean - vw: 0.3944\n",
      "  R² layer mean - tw: 0.4857\n",
      "  R² layer mean - qw: -760.6323\n",
      "  Saved R² plot to ./model_plots\\uvtr2_layer_epoch005.png\n",
      "  Saved scatter plot to ./model_plots\\uvtscatter_epoch005.png\n",
      "  Val Total Loss: 0.004010, Value Loss: 0.004010\n",
      "  Per-channel RMSE: uw=0.7448, vw=0.7666, tw=0.7045, \n",
      "  Saved best model: F:\\model\\model_save\\best_epoch005_val0.004010.pth\n",
      "\n",
      "Epoch 6/200\n"
     ]
    },
    {
     "name": "stderr",
     "output_type": "stream",
     "text": [
      "                                                           \r"
     ]
    },
    {
     "name": "stdout",
     "output_type": "stream",
     "text": [
      "  Train Total Loss: 0.003974, Value Loss: 0.003974\n"
     ]
    },
    {
     "name": "stderr",
     "output_type": "stream",
     "text": [
      "                                                           \r"
     ]
    },
    {
     "name": "stdout",
     "output_type": "stream",
     "text": [
      "  Global Pearson Correlation: 0.7171\n",
      "  R² layer mean - uw: 0.5202\n",
      "  R² layer mean - vw: 0.4644\n",
      "  R² layer mean - tw: 0.5546\n",
      "  R² layer mean - qw: -730.4468\n",
      "  Saved R² plot to ./model_plots\\uvtr2_layer_epoch006.png\n",
      "  Saved scatter plot to ./model_plots\\uvtscatter_epoch006.png\n",
      "  Val Total Loss: 0.003712, Value Loss: 0.003712\n",
      "  Per-channel RMSE: uw=0.6897, vw=0.7233, tw=0.6566, \n",
      "  Saved best model: F:\\model\\model_save\\best_epoch006_val0.003712.pth\n",
      "\n",
      "Epoch 7/200\n"
     ]
    },
    {
     "name": "stderr",
     "output_type": "stream",
     "text": [
      "                                                           \r"
     ]
    },
    {
     "name": "stdout",
     "output_type": "stream",
     "text": [
      "  Train Total Loss: 0.003721, Value Loss: 0.003721\n"
     ]
    },
    {
     "name": "stderr",
     "output_type": "stream",
     "text": [
      "                                                           \r"
     ]
    },
    {
     "name": "stdout",
     "output_type": "stream",
     "text": [
      "  Global Pearson Correlation: 0.7078\n",
      "  R² layer mean - uw: 0.5061\n",
      "  R² layer mean - vw: 0.4681\n",
      "  R² layer mean - tw: 0.5386\n",
      "  R² layer mean - qw: -628.7633\n",
      "  Saved R² plot to ./model_plots\\uvtr2_layer_epoch007.png\n",
      "  Saved scatter plot to ./model_plots\\uvtscatter_epoch007.png\n",
      "  Val Total Loss: 0.003830, Value Loss: 0.003830\n",
      "  Per-channel RMSE: uw=0.7017, vw=0.7225, tw=0.6696, \n",
      "\n",
      "Epoch 8/200\n"
     ]
    },
    {
     "name": "stderr",
     "output_type": "stream",
     "text": [
      "                                                           \r"
     ]
    },
    {
     "name": "stdout",
     "output_type": "stream",
     "text": [
      "  Train Total Loss: 0.003588, Value Loss: 0.003588\n"
     ]
    },
    {
     "name": "stderr",
     "output_type": "stream",
     "text": [
      "                                                           \r"
     ]
    },
    {
     "name": "stdout",
     "output_type": "stream",
     "text": [
      "  Global Pearson Correlation: 0.7522\n",
      "  R² layer mean - uw: 0.5776\n",
      "  R² layer mean - vw: 0.5275\n",
      "  R² layer mean - tw: 0.5960\n",
      "  R² layer mean - qw: -572.2140\n",
      "  Saved R² plot to ./model_plots\\uvtr2_layer_epoch008.png\n",
      "  Saved scatter plot to ./model_plots\\uvtscatter_epoch008.png\n",
      "  Val Total Loss: 0.003489, Value Loss: 0.003489\n",
      "  Per-channel RMSE: uw=0.6487, vw=0.6806, tw=0.6259, \n",
      "  Saved best model: F:\\model\\model_save\\best_epoch008_val0.003489.pth\n",
      "\n",
      "Epoch 9/200\n"
     ]
    },
    {
     "name": "stderr",
     "output_type": "stream",
     "text": [
      "                                                           \r"
     ]
    },
    {
     "name": "stdout",
     "output_type": "stream",
     "text": [
      "  Train Total Loss: 0.003373, Value Loss: 0.003373\n"
     ]
    },
    {
     "name": "stderr",
     "output_type": "stream",
     "text": [
      "                                                           \r"
     ]
    },
    {
     "name": "stdout",
     "output_type": "stream",
     "text": [
      "  Global Pearson Correlation: 0.7415\n",
      "  R² layer mean - uw: 0.5332\n",
      "  R² layer mean - vw: 0.4891\n",
      "  R² layer mean - tw: 0.5713\n",
      "  R² layer mean - qw: -551.6130\n",
      "  Saved R² plot to ./model_plots\\uvtr2_layer_epoch009.png\n",
      "  Saved scatter plot to ./model_plots\\uvtscatter_epoch009.png\n",
      "  Val Total Loss: 0.003566, Value Loss: 0.003566\n",
      "  Per-channel RMSE: uw=0.6783, vw=0.7022, tw=0.6425, \n",
      "\n",
      "Epoch 10/200\n"
     ]
    },
    {
     "name": "stderr",
     "output_type": "stream",
     "text": [
      "                                                           \r"
     ]
    },
    {
     "name": "stdout",
     "output_type": "stream",
     "text": [
      "  Train Total Loss: 0.003210, Value Loss: 0.003210\n"
     ]
    },
    {
     "name": "stderr",
     "output_type": "stream",
     "text": [
      "                                                           \r"
     ]
    },
    {
     "name": "stdout",
     "output_type": "stream",
     "text": [
      "  Global Pearson Correlation: 0.7769\n",
      "  R² layer mean - uw: 0.6060\n",
      "  R² layer mean - vw: 0.5559\n",
      "  R² layer mean - tw: 0.6431\n",
      "  R² layer mean - qw: -319.4129\n",
      "  Saved R² plot to ./model_plots\\uvtr2_layer_epoch010.png\n",
      "  Saved scatter plot to ./model_plots\\uvtscatter_epoch010.png\n",
      "  Val Total Loss: 0.003245, Value Loss: 0.003245\n",
      "  Per-channel RMSE: uw=0.6261, vw=0.6611, tw=0.5893, \n",
      "  Saved best model: F:\\model\\model_save\\best_epoch010_val0.003245.pth\n",
      "\n",
      "Epoch 11/200\n"
     ]
    },
    {
     "name": "stderr",
     "output_type": "stream",
     "text": [
      "                                                           \r"
     ]
    },
    {
     "name": "stdout",
     "output_type": "stream",
     "text": [
      "  Train Total Loss: 0.003062, Value Loss: 0.003062\n"
     ]
    },
    {
     "name": "stderr",
     "output_type": "stream",
     "text": [
      "                                                           \r"
     ]
    },
    {
     "name": "stdout",
     "output_type": "stream",
     "text": [
      "  Global Pearson Correlation: 0.7939\n",
      "  R² layer mean - uw: 0.6013\n",
      "  R² layer mean - vw: 0.5574\n",
      "  R² layer mean - tw: 0.6495\n",
      "  R² layer mean - qw: -388.5697\n",
      "  Saved R² plot to ./model_plots\\uvtr2_layer_epoch011.png\n",
      "  Saved scatter plot to ./model_plots\\uvtscatter_epoch011.png\n",
      "  Val Total Loss: 0.003218, Value Loss: 0.003218\n",
      "  Per-channel RMSE: uw=0.6312, vw=0.6632, tw=0.5854, \n",
      "  Saved best model: F:\\model\\model_save\\best_epoch011_val0.003218.pth\n",
      "\n",
      "Epoch 12/200\n"
     ]
    },
    {
     "name": "stderr",
     "output_type": "stream",
     "text": [
      "                                                           \r"
     ]
    },
    {
     "name": "stdout",
     "output_type": "stream",
     "text": [
      "  Train Total Loss: 0.002919, Value Loss: 0.002919\n"
     ]
    },
    {
     "name": "stderr",
     "output_type": "stream",
     "text": [
      "                                                           \r"
     ]
    },
    {
     "name": "stdout",
     "output_type": "stream",
     "text": [
      "  Global Pearson Correlation: 0.8000\n",
      "  R² layer mean - uw: 0.6411\n",
      "  R² layer mean - vw: 0.5841\n",
      "  R² layer mean - tw: 0.6655\n",
      "  R² layer mean - qw: -368.7154\n",
      "  Saved R² plot to ./model_plots\\uvtr2_layer_epoch012.png\n",
      "  Saved scatter plot to ./model_plots\\uvtscatter_epoch012.png\n",
      "  Val Total Loss: 0.003105, Value Loss: 0.003105\n",
      "  Per-channel RMSE: uw=0.5956, vw=0.6391, tw=0.5702, \n",
      "  Saved best model: F:\\model\\model_save\\best_epoch012_val0.003105.pth\n",
      "\n",
      "Epoch 13/200\n"
     ]
    },
    {
     "name": "stderr",
     "output_type": "stream",
     "text": [
      "                                                           \r"
     ]
    },
    {
     "name": "stdout",
     "output_type": "stream",
     "text": [
      "  Train Total Loss: 0.002746, Value Loss: 0.002746\n"
     ]
    },
    {
     "name": "stderr",
     "output_type": "stream",
     "text": [
      "                                                           \r"
     ]
    },
    {
     "name": "stdout",
     "output_type": "stream",
     "text": [
      "  Global Pearson Correlation: 0.8217\n",
      "  R² layer mean - uw: 0.6762\n",
      "  R² layer mean - vw: 0.6425\n",
      "  R² layer mean - tw: 0.6947\n",
      "  R² layer mean - qw: -418.2928\n",
      "  Saved R² plot to ./model_plots\\uvtr2_layer_epoch013.png\n",
      "  Saved scatter plot to ./model_plots\\uvtscatter_epoch013.png\n",
      "  Val Total Loss: 0.002876, Value Loss: 0.002876\n",
      "  Per-channel RMSE: uw=0.5669, vw=0.5888, tw=0.5451, \n",
      "  Saved best model: F:\\model\\model_save\\best_epoch013_val0.002876.pth\n",
      "\n",
      "Epoch 14/200\n"
     ]
    },
    {
     "name": "stderr",
     "output_type": "stream",
     "text": [
      "                                                           \r"
     ]
    },
    {
     "name": "stdout",
     "output_type": "stream",
     "text": [
      "  Train Total Loss: 0.002688, Value Loss: 0.002688\n"
     ]
    },
    {
     "name": "stderr",
     "output_type": "stream",
     "text": [
      "                                                           \r"
     ]
    },
    {
     "name": "stdout",
     "output_type": "stream",
     "text": [
      "  Global Pearson Correlation: 0.8246\n",
      "  R² layer mean - uw: 0.6633\n",
      "  R² layer mean - vw: 0.6389\n",
      "  R² layer mean - tw: 0.7080\n",
      "  R² layer mean - qw: -283.9979\n",
      "  Saved R² plot to ./model_plots\\uvtr2_layer_epoch014.png\n",
      "  Saved scatter plot to ./model_plots\\uvtscatter_epoch014.png\n",
      "  Val Total Loss: 0.002813, Value Loss: 0.002813\n",
      "  Per-channel RMSE: uw=0.5790, vw=0.5952, tw=0.5329, \n",
      "  Saved best model: F:\\model\\model_save\\best_epoch014_val0.002813.pth\n",
      "\n",
      "Epoch 15/200\n"
     ]
    },
    {
     "name": "stderr",
     "output_type": "stream",
     "text": [
      "                                                           \r"
     ]
    },
    {
     "name": "stdout",
     "output_type": "stream",
     "text": [
      "  Train Total Loss: 0.002522, Value Loss: 0.002522\n"
     ]
    },
    {
     "name": "stderr",
     "output_type": "stream",
     "text": [
      "                                                           \r"
     ]
    },
    {
     "name": "stdout",
     "output_type": "stream",
     "text": [
      "  Global Pearson Correlation: 0.8332\n",
      "  R² layer mean - uw: 0.6880\n",
      "  R² layer mean - vw: 0.6620\n",
      "  R² layer mean - tw: 0.7291\n",
      "  R² layer mean - qw: -299.3276\n",
      "  Saved R² plot to ./model_plots\\uvtr2_layer_epoch015.png\n",
      "  Saved scatter plot to ./model_plots\\uvtscatter_epoch015.png\n",
      "  Val Total Loss: 0.002677, Value Loss: 0.002677\n",
      "  Per-channel RMSE: uw=0.5575, vw=0.5753, tw=0.5120, \n",
      "  Saved best model: F:\\model\\model_save\\best_epoch015_val0.002677.pth\n",
      "\n",
      "Epoch 16/200\n"
     ]
    },
    {
     "name": "stderr",
     "output_type": "stream",
     "text": [
      "                                                           \r"
     ]
    },
    {
     "name": "stdout",
     "output_type": "stream",
     "text": [
      "  Train Total Loss: 0.002425, Value Loss: 0.002425\n"
     ]
    },
    {
     "name": "stderr",
     "output_type": "stream",
     "text": [
      "                                                           \r"
     ]
    },
    {
     "name": "stdout",
     "output_type": "stream",
     "text": [
      "  Global Pearson Correlation: 0.8325\n",
      "  R² layer mean - uw: 0.6918\n",
      "  R² layer mean - vw: 0.6691\n",
      "  R² layer mean - tw: 0.7263\n",
      "  R² layer mean - qw: -259.6842\n",
      "  Saved R² plot to ./model_plots\\uvtr2_layer_epoch016.png\n",
      "  Saved scatter plot to ./model_plots\\uvtscatter_epoch016.png\n",
      "  Val Total Loss: 0.002673, Value Loss: 0.002673\n",
      "  Per-channel RMSE: uw=0.5544, vw=0.5694, tw=0.5153, \n",
      "  Saved best model: F:\\model\\model_save\\best_epoch016_val0.002673.pth\n",
      "\n",
      "Epoch 17/200\n"
     ]
    },
    {
     "name": "stderr",
     "output_type": "stream",
     "text": [
      "                                                           \r"
     ]
    },
    {
     "name": "stdout",
     "output_type": "stream",
     "text": [
      "  Train Total Loss: 0.002390, Value Loss: 0.002390\n"
     ]
    },
    {
     "name": "stderr",
     "output_type": "stream",
     "text": [
      "                                                           \r"
     ]
    },
    {
     "name": "stdout",
     "output_type": "stream",
     "text": [
      "  Global Pearson Correlation: 0.8448\n",
      "  R² layer mean - uw: 0.7066\n",
      "  R² layer mean - vw: 0.6697\n",
      "  R² layer mean - tw: 0.7340\n",
      "  R² layer mean - qw: -294.9482\n",
      "  Saved R² plot to ./model_plots\\uvtr2_layer_epoch017.png\n",
      "  Saved scatter plot to ./model_plots\\uvtscatter_epoch017.png\n",
      "  Val Total Loss: 0.002607, Value Loss: 0.002607\n",
      "  Per-channel RMSE: uw=0.5404, vw=0.5692, tw=0.5067, \n",
      "  Saved best model: F:\\model\\model_save\\best_epoch017_val0.002607.pth\n",
      "\n",
      "Epoch 18/200\n"
     ]
    },
    {
     "name": "stderr",
     "output_type": "stream",
     "text": [
      "                                                           \r"
     ]
    },
    {
     "name": "stdout",
     "output_type": "stream",
     "text": [
      "  Train Total Loss: 0.002317, Value Loss: 0.002317\n"
     ]
    },
    {
     "name": "stderr",
     "output_type": "stream",
     "text": [
      "                                                           \r"
     ]
    },
    {
     "name": "stdout",
     "output_type": "stream",
     "text": [
      "  Global Pearson Correlation: 0.8465\n",
      "  R² layer mean - uw: 0.7220\n",
      "  R² layer mean - vw: 0.6792\n",
      "  R² layer mean - tw: 0.7462\n",
      "  R² layer mean - qw: -292.6899\n",
      "  Saved R² plot to ./model_plots\\uvtr2_layer_epoch018.png\n",
      "  Saved scatter plot to ./model_plots\\uvtscatter_epoch018.png\n",
      "  Val Total Loss: 0.002557, Value Loss: 0.002557\n",
      "  Per-channel RMSE: uw=0.5243, vw=0.5574, tw=0.4930, \n",
      "  Saved best model: F:\\model\\model_save\\best_epoch018_val0.002557.pth\n",
      "\n",
      "Epoch 19/200\n"
     ]
    },
    {
     "name": "stderr",
     "output_type": "stream",
     "text": [
      "                                                           \r"
     ]
    },
    {
     "name": "stdout",
     "output_type": "stream",
     "text": [
      "  Train Total Loss: 0.002204, Value Loss: 0.002204\n"
     ]
    },
    {
     "name": "stderr",
     "output_type": "stream",
     "text": [
      "                                                           \r"
     ]
    },
    {
     "name": "stdout",
     "output_type": "stream",
     "text": [
      "  Global Pearson Correlation: 0.8647\n",
      "  R² layer mean - uw: 0.7387\n",
      "  R² layer mean - vw: 0.7135\n",
      "  R² layer mean - tw: 0.7724\n",
      "  R² layer mean - qw: -297.6633\n",
      "  Saved R² plot to ./model_plots\\uvtr2_layer_epoch019.png\n",
      "  Saved scatter plot to ./model_plots\\uvtscatter_epoch019.png\n",
      "  Val Total Loss: 0.002425, Value Loss: 0.002425\n",
      "  Per-channel RMSE: uw=0.5072, vw=0.5261, tw=0.4695, \n",
      "  Saved best model: F:\\model\\model_save\\best_epoch019_val0.002425.pth\n",
      "\n",
      "Epoch 20/200\n"
     ]
    },
    {
     "name": "stderr",
     "output_type": "stream",
     "text": [
      "                                                           \r"
     ]
    },
    {
     "name": "stdout",
     "output_type": "stream",
     "text": [
      "  Train Total Loss: 0.002114, Value Loss: 0.002114\n"
     ]
    },
    {
     "name": "stderr",
     "output_type": "stream",
     "text": [
      "                                                           \r"
     ]
    },
    {
     "name": "stdout",
     "output_type": "stream",
     "text": [
      "  Global Pearson Correlation: 0.8508\n",
      "  R² layer mean - uw: 0.7276\n",
      "  R² layer mean - vw: 0.6888\n",
      "  R² layer mean - tw: 0.7516\n",
      "  R² layer mean - qw: -294.1884\n",
      "  Saved R² plot to ./model_plots\\uvtr2_layer_epoch020.png\n",
      "  Saved scatter plot to ./model_plots\\uvtscatter_epoch020.png\n",
      "  Val Total Loss: 0.002480, Value Loss: 0.002480\n",
      "  Per-channel RMSE: uw=0.5199, vw=0.5530, tw=0.4903, \n",
      "\n",
      "Epoch 21/200\n"
     ]
    },
    {
     "name": "stderr",
     "output_type": "stream",
     "text": [
      "                                                           \r"
     ]
    },
    {
     "name": "stdout",
     "output_type": "stream",
     "text": [
      "  Train Total Loss: 0.002072, Value Loss: 0.002072\n"
     ]
    },
    {
     "name": "stderr",
     "output_type": "stream",
     "text": [
      "                                                           \r"
     ]
    },
    {
     "name": "stdout",
     "output_type": "stream",
     "text": [
      "  Global Pearson Correlation: 0.8679\n",
      "  R² layer mean - uw: 0.7582\n",
      "  R² layer mean - vw: 0.7240\n",
      "  R² layer mean - tw: 0.7717\n",
      "  R² layer mean - qw: -235.7432\n",
      "  Saved R² plot to ./model_plots\\uvtr2_layer_epoch021.png\n",
      "  Saved scatter plot to ./model_plots\\uvtscatter_epoch021.png\n",
      "  Val Total Loss: 0.002290, Value Loss: 0.002290\n",
      "  Per-channel RMSE: uw=0.4883, vw=0.5186, tw=0.4694, \n",
      "  Saved best model: F:\\model\\model_save\\best_epoch021_val0.002290.pth\n",
      "\n",
      "Epoch 22/200\n"
     ]
    },
    {
     "name": "stderr",
     "output_type": "stream",
     "text": [
      "                                                           \r"
     ]
    },
    {
     "name": "stdout",
     "output_type": "stream",
     "text": [
      "  Train Total Loss: 0.002012, Value Loss: 0.002012\n"
     ]
    },
    {
     "name": "stderr",
     "output_type": "stream",
     "text": [
      "                                                           \r"
     ]
    },
    {
     "name": "stdout",
     "output_type": "stream",
     "text": [
      "  Global Pearson Correlation: 0.8527\n",
      "  R² layer mean - uw: 0.7211\n",
      "  R² layer mean - vw: 0.7115\n",
      "  R² layer mean - tw: 0.7312\n",
      "  R² layer mean - qw: -257.7992\n",
      "  Saved R² plot to ./model_plots\\uvtr2_layer_epoch022.png\n",
      "  Saved scatter plot to ./model_plots\\uvtscatter_epoch022.png\n",
      "  Val Total Loss: 0.002520, Value Loss: 0.002520\n",
      "  Per-channel RMSE: uw=0.5280, vw=0.5301, tw=0.5139, \n",
      "\n",
      "Epoch 23/200\n"
     ]
    },
    {
     "name": "stderr",
     "output_type": "stream",
     "text": [
      "                                                           \r"
     ]
    },
    {
     "name": "stdout",
     "output_type": "stream",
     "text": [
      "  Train Total Loss: 0.001974, Value Loss: 0.001974\n"
     ]
    },
    {
     "name": "stderr",
     "output_type": "stream",
     "text": [
      "                                                           \r"
     ]
    },
    {
     "name": "stdout",
     "output_type": "stream",
     "text": [
      "  Global Pearson Correlation: 0.8705\n",
      "  R² layer mean - uw: 0.7656\n",
      "  R² layer mean - vw: 0.7255\n",
      "  R² layer mean - tw: 0.7829\n",
      "  R² layer mean - qw: -257.1280\n",
      "  Saved R² plot to ./model_plots\\uvtr2_layer_epoch023.png\n",
      "  Saved scatter plot to ./model_plots\\uvtscatter_epoch023.png\n",
      "  Val Total Loss: 0.002295, Value Loss: 0.002295\n",
      "  Per-channel RMSE: uw=0.4816, vw=0.5189, tw=0.4587, \n",
      "\n",
      "Epoch 24/200\n"
     ]
    },
    {
     "name": "stderr",
     "output_type": "stream",
     "text": [
      "                                                           \r"
     ]
    },
    {
     "name": "stdout",
     "output_type": "stream",
     "text": [
      "  Train Total Loss: 0.001896, Value Loss: 0.001896\n"
     ]
    },
    {
     "name": "stderr",
     "output_type": "stream",
     "text": [
      "                                                           \r"
     ]
    },
    {
     "name": "stdout",
     "output_type": "stream",
     "text": [
      "  Global Pearson Correlation: 0.8708\n",
      "  R² layer mean - uw: 0.7614\n",
      "  R² layer mean - vw: 0.7383\n",
      "  R² layer mean - tw: 0.7697\n",
      "  R² layer mean - qw: -213.1053\n",
      "  Saved R² plot to ./model_plots\\uvtr2_layer_epoch024.png\n",
      "  Saved scatter plot to ./model_plots\\uvtscatter_epoch024.png\n",
      "  Val Total Loss: 0.002258, Value Loss: 0.002258\n",
      "  Per-channel RMSE: uw=0.4863, vw=0.5058, tw=0.4716, \n",
      "  Saved best model: F:\\model\\model_save\\best_epoch024_val0.002258.pth\n",
      "\n",
      "Epoch 25/200\n"
     ]
    },
    {
     "name": "stderr",
     "output_type": "stream",
     "text": [
      "                                                           \r"
     ]
    },
    {
     "name": "stdout",
     "output_type": "stream",
     "text": [
      "  Train Total Loss: 0.001848, Value Loss: 0.001848\n"
     ]
    },
    {
     "name": "stderr",
     "output_type": "stream",
     "text": [
      "                                                           \r"
     ]
    },
    {
     "name": "stdout",
     "output_type": "stream",
     "text": [
      "  Global Pearson Correlation: 0.8737\n",
      "  R² layer mean - uw: 0.7650\n",
      "  R² layer mean - vw: 0.7382\n",
      "  R² layer mean - tw: 0.7796\n",
      "  R² layer mean - qw: -208.6744\n",
      "  Saved R² plot to ./model_plots\\uvtr2_layer_epoch025.png\n",
      "  Saved scatter plot to ./model_plots\\uvtscatter_epoch025.png\n",
      "  Val Total Loss: 0.002244, Value Loss: 0.002244\n",
      "  Per-channel RMSE: uw=0.4823, vw=0.5048, tw=0.4622, \n",
      "  Saved best model: F:\\model\\model_save\\best_epoch025_val0.002244.pth\n",
      "\n",
      "Epoch 26/200\n"
     ]
    },
    {
     "name": "stderr",
     "output_type": "stream",
     "text": [
      "                                                           \r"
     ]
    },
    {
     "name": "stdout",
     "output_type": "stream",
     "text": [
      "  Train Total Loss: 0.001827, Value Loss: 0.001827\n"
     ]
    },
    {
     "name": "stderr",
     "output_type": "stream",
     "text": [
      "                                                           \r"
     ]
    },
    {
     "name": "stdout",
     "output_type": "stream",
     "text": [
      "  Global Pearson Correlation: 0.8811\n",
      "  R² layer mean - uw: 0.7766\n",
      "  R² layer mean - vw: 0.7450\n",
      "  R² layer mean - tw: 0.7997\n",
      "  R² layer mean - qw: -183.7545\n",
      "  Saved R² plot to ./model_plots\\uvtr2_layer_epoch026.png\n",
      "  Saved scatter plot to ./model_plots\\uvtscatter_epoch026.png\n",
      "  Val Total Loss: 0.002159, Value Loss: 0.002159\n",
      "  Per-channel RMSE: uw=0.4699, vw=0.4987, tw=0.4407, \n",
      "  Saved best model: F:\\model\\model_save\\best_epoch026_val0.002159.pth\n",
      "\n",
      "Epoch 27/200\n"
     ]
    },
    {
     "name": "stderr",
     "output_type": "stream",
     "text": [
      "                                                           \r"
     ]
    },
    {
     "name": "stdout",
     "output_type": "stream",
     "text": [
      "  Train Total Loss: 0.001814, Value Loss: 0.001814\n"
     ]
    },
    {
     "name": "stderr",
     "output_type": "stream",
     "text": [
      "                                                           \r"
     ]
    },
    {
     "name": "stdout",
     "output_type": "stream",
     "text": [
      "  Global Pearson Correlation: 0.8826\n",
      "  R² layer mean - uw: 0.7859\n",
      "  R² layer mean - vw: 0.7419\n",
      "  R² layer mean - tw: 0.8041\n",
      "  R² layer mean - qw: -184.3623\n",
      "  Saved R² plot to ./model_plots\\uvtr2_layer_epoch027.png\n",
      "  Saved scatter plot to ./model_plots\\uvtscatter_epoch027.png\n",
      "  Val Total Loss: 0.002101, Value Loss: 0.002101\n",
      "  Per-channel RMSE: uw=0.4604, vw=0.5026, tw=0.4360, \n",
      "  Saved best model: F:\\model\\model_save\\best_epoch027_val0.002101.pth\n",
      "\n",
      "Epoch 28/200\n"
     ]
    },
    {
     "name": "stderr",
     "output_type": "stream",
     "text": [
      "                                                           \r"
     ]
    },
    {
     "name": "stdout",
     "output_type": "stream",
     "text": [
      "  Train Total Loss: 0.001707, Value Loss: 0.001707\n"
     ]
    },
    {
     "name": "stderr",
     "output_type": "stream",
     "text": [
      "                                                           \r"
     ]
    },
    {
     "name": "stdout",
     "output_type": "stream",
     "text": [
      "  Global Pearson Correlation: 0.8871\n",
      "  R² layer mean - uw: 0.7907\n",
      "  R² layer mean - vw: 0.7704\n",
      "  R² layer mean - tw: 0.8003\n",
      "  R² layer mean - qw: -202.5206\n",
      "  Saved R² plot to ./model_plots\\uvtr2_layer_epoch028.png\n",
      "  Saved scatter plot to ./model_plots\\uvtscatter_epoch028.png\n",
      "  Val Total Loss: 0.002048, Value Loss: 0.002048\n",
      "  Per-channel RMSE: uw=0.4557, vw=0.4739, tw=0.4397, \n",
      "  Saved best model: F:\\model\\model_save\\best_epoch028_val0.002048.pth\n",
      "\n",
      "Epoch 29/200\n"
     ]
    },
    {
     "name": "stderr",
     "output_type": "stream",
     "text": [
      "                                                           \r"
     ]
    },
    {
     "name": "stdout",
     "output_type": "stream",
     "text": [
      "  Train Total Loss: 0.001682, Value Loss: 0.001682\n"
     ]
    },
    {
     "name": "stderr",
     "output_type": "stream",
     "text": [
      "                                                           \r"
     ]
    },
    {
     "name": "stdout",
     "output_type": "stream",
     "text": [
      "  Global Pearson Correlation: 0.8722\n",
      "  R² layer mean - uw: 0.7599\n",
      "  R² layer mean - vw: 0.7434\n",
      "  R² layer mean - tw: 0.7517\n",
      "  R² layer mean - qw: -358.6312\n",
      "  Saved R² plot to ./model_plots\\uvtr2_layer_epoch029.png\n",
      "  Saved scatter plot to ./model_plots\\uvtscatter_epoch029.png\n",
      "  Val Total Loss: 0.002279, Value Loss: 0.002279\n",
      "  Per-channel RMSE: uw=0.4878, vw=0.5015, tw=0.4924, \n",
      "\n",
      "Epoch 30/200\n"
     ]
    },
    {
     "name": "stderr",
     "output_type": "stream",
     "text": [
      "                                                           \r"
     ]
    },
    {
     "name": "stdout",
     "output_type": "stream",
     "text": [
      "  Train Total Loss: 0.001702, Value Loss: 0.001702\n"
     ]
    },
    {
     "name": "stderr",
     "output_type": "stream",
     "text": [
      "                                                           \r"
     ]
    },
    {
     "name": "stdout",
     "output_type": "stream",
     "text": [
      "  Global Pearson Correlation: 0.8828\n",
      "  R² layer mean - uw: 0.7807\n",
      "  R² layer mean - vw: 0.7472\n",
      "  R² layer mean - tw: 0.8071\n",
      "  R² layer mean - qw: -213.8215\n",
      "  Saved R² plot to ./model_plots\\uvtr2_layer_epoch030.png\n",
      "  Saved scatter plot to ./model_plots\\uvtscatter_epoch030.png\n",
      "  Val Total Loss: 0.002091, Value Loss: 0.002091\n",
      "  Per-channel RMSE: uw=0.4654, vw=0.4980, tw=0.4318, \n",
      "\n",
      "Epoch 31/200\n"
     ]
    },
    {
     "name": "stderr",
     "output_type": "stream",
     "text": [
      "                                                           \r"
     ]
    },
    {
     "name": "stdout",
     "output_type": "stream",
     "text": [
      "  Train Total Loss: 0.001631, Value Loss: 0.001631\n"
     ]
    },
    {
     "name": "stderr",
     "output_type": "stream",
     "text": [
      "                                                           \r"
     ]
    },
    {
     "name": "stdout",
     "output_type": "stream",
     "text": [
      "  Global Pearson Correlation: 0.8892\n",
      "  R² layer mean - uw: 0.7889\n",
      "  R² layer mean - vw: 0.7641\n",
      "  R² layer mean - tw: 0.8000\n",
      "  R² layer mean - qw: -176.1360\n",
      "  Saved R² plot to ./model_plots\\uvtr2_layer_epoch031.png\n",
      "  Saved scatter plot to ./model_plots\\uvtscatter_epoch031.png\n",
      "  Val Total Loss: 0.002031, Value Loss: 0.002031\n",
      "  Per-channel RMSE: uw=0.4568, vw=0.4785, tw=0.4390, \n",
      "  Saved best model: F:\\model\\model_save\\best_epoch031_val0.002031.pth\n",
      "\n",
      "Epoch 32/200\n"
     ]
    },
    {
     "name": "stderr",
     "output_type": "stream",
     "text": [
      "                                                           \r"
     ]
    },
    {
     "name": "stdout",
     "output_type": "stream",
     "text": [
      "  Train Total Loss: 0.001580, Value Loss: 0.001580\n"
     ]
    },
    {
     "name": "stderr",
     "output_type": "stream",
     "text": [
      "                                                           \r"
     ]
    },
    {
     "name": "stdout",
     "output_type": "stream",
     "text": [
      "  Global Pearson Correlation: 0.8919\n",
      "  R² layer mean - uw: 0.8008\n",
      "  R² layer mean - vw: 0.7696\n",
      "  R² layer mean - tw: 0.8178\n",
      "  R² layer mean - qw: -183.4767\n",
      "  Saved R² plot to ./model_plots\\uvtr2_layer_epoch032.png\n",
      "  Saved scatter plot to ./model_plots\\uvtscatter_epoch032.png\n",
      "  Val Total Loss: 0.001996, Value Loss: 0.001996\n",
      "  Per-channel RMSE: uw=0.4431, vw=0.4745, tw=0.4206, \n",
      "  Saved best model: F:\\model\\model_save\\best_epoch032_val0.001996.pth\n",
      "\n",
      "Epoch 33/200\n"
     ]
    },
    {
     "name": "stderr",
     "output_type": "stream",
     "text": [
      "                                                           \r"
     ]
    },
    {
     "name": "stdout",
     "output_type": "stream",
     "text": [
      "  Train Total Loss: 0.001593, Value Loss: 0.001593\n"
     ]
    },
    {
     "name": "stderr",
     "output_type": "stream",
     "text": [
      "                                                           \r"
     ]
    },
    {
     "name": "stdout",
     "output_type": "stream",
     "text": [
      "  Global Pearson Correlation: 0.8857\n",
      "  R² layer mean - uw: 0.7515\n",
      "  R² layer mean - vw: 0.7494\n",
      "  R² layer mean - tw: 0.7597\n",
      "  R² layer mean - qw: -250.7601\n",
      "  Saved R² plot to ./model_plots\\uvtr2_layer_epoch033.png\n",
      "  Saved scatter plot to ./model_plots\\uvtscatter_epoch033.png\n",
      "  Val Total Loss: 0.002270, Value Loss: 0.002270\n",
      "  Per-channel RMSE: uw=0.4972, vw=0.4983, tw=0.4814, \n",
      "\n",
      "Epoch 34/200\n"
     ]
    },
    {
     "name": "stderr",
     "output_type": "stream",
     "text": [
      "                                                           \r"
     ]
    },
    {
     "name": "stdout",
     "output_type": "stream",
     "text": [
      "  Train Total Loss: 0.001539, Value Loss: 0.001539\n"
     ]
    },
    {
     "name": "stderr",
     "output_type": "stream",
     "text": [
      "                                                           \r"
     ]
    },
    {
     "name": "stdout",
     "output_type": "stream",
     "text": [
      "  Global Pearson Correlation: 0.8911\n",
      "  R² layer mean - uw: 0.7957\n",
      "  R² layer mean - vw: 0.7686\n",
      "  R² layer mean - tw: 0.8072\n",
      "  R² layer mean - qw: -184.2123\n",
      "  Saved R² plot to ./model_plots\\uvtr2_layer_epoch034.png\n",
      "  Saved scatter plot to ./model_plots\\uvtscatter_epoch034.png\n",
      "  Val Total Loss: 0.001984, Value Loss: 0.001984\n",
      "  Per-channel RMSE: uw=0.4496, vw=0.4750, tw=0.4327, \n",
      "  Saved best model: F:\\model\\model_save\\best_epoch034_val0.001984.pth\n",
      "\n",
      "Epoch 35/200\n"
     ]
    },
    {
     "name": "stderr",
     "output_type": "stream",
     "text": [
      "                                                           \r"
     ]
    },
    {
     "name": "stdout",
     "output_type": "stream",
     "text": [
      "  Train Total Loss: 0.001520, Value Loss: 0.001520\n"
     ]
    },
    {
     "name": "stderr",
     "output_type": "stream",
     "text": [
      "                                                           \r"
     ]
    },
    {
     "name": "stdout",
     "output_type": "stream",
     "text": [
      "  Global Pearson Correlation: 0.8917\n",
      "  R² layer mean - uw: 0.7917\n",
      "  R² layer mean - vw: 0.7735\n",
      "  R² layer mean - tw: 0.8197\n",
      "  R² layer mean - qw: -199.6135\n",
      "  Saved R² plot to ./model_plots\\uvtr2_layer_epoch035.png\n",
      "  Saved scatter plot to ./model_plots\\uvtscatter_epoch035.png\n",
      "  Val Total Loss: 0.001962, Value Loss: 0.001962\n",
      "  Per-channel RMSE: uw=0.4545, vw=0.4721, tw=0.4184, \n",
      "  Saved best model: F:\\model\\model_save\\best_epoch035_val0.001962.pth\n",
      "\n",
      "Epoch 36/200\n"
     ]
    },
    {
     "name": "stderr",
     "output_type": "stream",
     "text": [
      "                                                           \r"
     ]
    },
    {
     "name": "stdout",
     "output_type": "stream",
     "text": [
      "  Train Total Loss: 0.001462, Value Loss: 0.001462\n"
     ]
    },
    {
     "name": "stderr",
     "output_type": "stream",
     "text": [
      "                                                           \r"
     ]
    },
    {
     "name": "stdout",
     "output_type": "stream",
     "text": [
      "  Global Pearson Correlation: 0.8876\n",
      "  R² layer mean - uw: 0.7871\n",
      "  R² layer mean - vw: 0.7450\n",
      "  R² layer mean - tw: 0.8033\n",
      "  R² layer mean - qw: -134.7540\n",
      "  Saved R² plot to ./model_plots\\uvtr2_layer_epoch036.png\n",
      "  Saved scatter plot to ./model_plots\\uvtscatter_epoch036.png\n",
      "  Val Total Loss: 0.002022, Value Loss: 0.002022\n",
      "  Per-channel RMSE: uw=0.4587, vw=0.4970, tw=0.4348, \n",
      "\n",
      "Epoch 37/200\n"
     ]
    },
    {
     "name": "stderr",
     "output_type": "stream",
     "text": [
      "                                                           \r"
     ]
    },
    {
     "name": "stdout",
     "output_type": "stream",
     "text": [
      "  Train Total Loss: 0.001486, Value Loss: 0.001486\n"
     ]
    },
    {
     "name": "stderr",
     "output_type": "stream",
     "text": [
      "                                                           \r"
     ]
    },
    {
     "name": "stdout",
     "output_type": "stream",
     "text": [
      "  Global Pearson Correlation: 0.8926\n",
      "  R² layer mean - uw: 0.7892\n",
      "  R² layer mean - vw: 0.7764\n",
      "  R² layer mean - tw: 0.8244\n",
      "  R² layer mean - qw: -126.1305\n",
      "  Saved R² plot to ./model_plots\\uvtr2_layer_epoch037.png\n",
      "  Saved scatter plot to ./model_plots\\uvtscatter_epoch037.png\n",
      "  Val Total Loss: 0.001956, Value Loss: 0.001956\n",
      "  Per-channel RMSE: uw=0.4583, vw=0.4668, tw=0.4133, \n",
      "  Saved best model: F:\\model\\model_save\\best_epoch037_val0.001956.pth\n",
      "\n",
      "Epoch 38/200\n"
     ]
    },
    {
     "name": "stderr",
     "output_type": "stream",
     "text": [
      "                                                           \r"
     ]
    },
    {
     "name": "stdout",
     "output_type": "stream",
     "text": [
      "  Train Total Loss: 0.001458, Value Loss: 0.001458\n"
     ]
    },
    {
     "name": "stderr",
     "output_type": "stream",
     "text": [
      "                                                           \r"
     ]
    },
    {
     "name": "stdout",
     "output_type": "stream",
     "text": [
      "  Global Pearson Correlation: 0.9010\n",
      "  R² layer mean - uw: 0.8117\n",
      "  R² layer mean - vw: 0.7879\n",
      "  R² layer mean - tw: 0.8318\n",
      "  R² layer mean - qw: -127.1656\n",
      "  Saved R² plot to ./model_plots\\uvtr2_layer_epoch038.png\n",
      "  Saved scatter plot to ./model_plots\\uvtscatter_epoch038.png\n",
      "  Val Total Loss: 0.001845, Value Loss: 0.001845\n",
      "  Per-channel RMSE: uw=0.4304, vw=0.4554, tw=0.4036, \n",
      "  Saved best model: F:\\model\\model_save\\best_epoch038_val0.001845.pth\n",
      "\n",
      "Epoch 39/200\n"
     ]
    },
    {
     "name": "stderr",
     "output_type": "stream",
     "text": [
      "                                                           \r"
     ]
    },
    {
     "name": "stdout",
     "output_type": "stream",
     "text": [
      "  Train Total Loss: 0.001425, Value Loss: 0.001425\n"
     ]
    },
    {
     "name": "stderr",
     "output_type": "stream",
     "text": [
      "                                                           \r"
     ]
    },
    {
     "name": "stdout",
     "output_type": "stream",
     "text": [
      "  Global Pearson Correlation: 0.9005\n",
      "  R² layer mean - uw: 0.8099\n",
      "  R² layer mean - vw: 0.7930\n",
      "  R² layer mean - tw: 0.8315\n",
      "  R² layer mean - qw: -129.4313\n",
      "  Saved R² plot to ./model_plots\\uvtr2_layer_epoch039.png\n",
      "  Saved scatter plot to ./model_plots\\uvtscatter_epoch039.png\n",
      "  Val Total Loss: 0.001882, Value Loss: 0.001882\n",
      "  Per-channel RMSE: uw=0.4345, vw=0.4482, tw=0.4047, \n",
      "\n",
      "Epoch 40/200\n"
     ]
    },
    {
     "name": "stderr",
     "output_type": "stream",
     "text": [
      "                                                           \r"
     ]
    },
    {
     "name": "stdout",
     "output_type": "stream",
     "text": [
      "  Train Total Loss: 0.001391, Value Loss: 0.001391\n"
     ]
    },
    {
     "name": "stderr",
     "output_type": "stream",
     "text": [
      "                                                           \r"
     ]
    },
    {
     "name": "stdout",
     "output_type": "stream",
     "text": [
      "  Global Pearson Correlation: 0.8984\n",
      "  R² layer mean - uw: 0.8075\n",
      "  R² layer mean - vw: 0.7873\n",
      "  R² layer mean - tw: 0.8273\n",
      "  R² layer mean - qw: -148.3113\n",
      "  Saved R² plot to ./model_plots\\uvtr2_layer_epoch040.png\n",
      "  Saved scatter plot to ./model_plots\\uvtscatter_epoch040.png\n",
      "  Val Total Loss: 0.001887, Value Loss: 0.001887\n",
      "  Per-channel RMSE: uw=0.4363, vw=0.4567, tw=0.4088, \n",
      "\n",
      "Epoch 41/200\n"
     ]
    },
    {
     "name": "stderr",
     "output_type": "stream",
     "text": [
      "                                                           \r"
     ]
    },
    {
     "name": "stdout",
     "output_type": "stream",
     "text": [
      "  Train Total Loss: 0.001394, Value Loss: 0.001394\n"
     ]
    },
    {
     "name": "stderr",
     "output_type": "stream",
     "text": [
      "                                                           \r"
     ]
    },
    {
     "name": "stdout",
     "output_type": "stream",
     "text": [
      "  Global Pearson Correlation: 0.8995\n",
      "  R² layer mean - uw: 0.8110\n",
      "  R² layer mean - vw: 0.7919\n",
      "  R² layer mean - tw: 0.8240\n",
      "  R² layer mean - qw: -170.6015\n",
      "  Saved R² plot to ./model_plots\\uvtr2_layer_epoch041.png\n",
      "  Saved scatter plot to ./model_plots\\uvtscatter_epoch041.png\n",
      "  Val Total Loss: 0.001862, Value Loss: 0.001862\n",
      "  Per-channel RMSE: uw=0.4319, vw=0.4487, tw=0.4137, \n",
      "\n",
      "Epoch 42/200\n"
     ]
    },
    {
     "name": "stderr",
     "output_type": "stream",
     "text": [
      "                                                           \r"
     ]
    },
    {
     "name": "stdout",
     "output_type": "stream",
     "text": [
      "  Train Total Loss: 0.001362, Value Loss: 0.001362\n"
     ]
    },
    {
     "name": "stderr",
     "output_type": "stream",
     "text": [
      "                                                           \r"
     ]
    },
    {
     "name": "stdout",
     "output_type": "stream",
     "text": [
      "  Global Pearson Correlation: 0.9018\n",
      "  R² layer mean - uw: 0.8093\n",
      "  R² layer mean - vw: 0.7869\n",
      "  R² layer mean - tw: 0.8333\n",
      "  R² layer mean - qw: -112.4854\n",
      "  Saved R² plot to ./model_plots\\uvtr2_layer_epoch042.png\n",
      "  Saved scatter plot to ./model_plots\\uvtscatter_epoch042.png\n",
      "  Val Total Loss: 0.001861, Value Loss: 0.001861\n",
      "  Per-channel RMSE: uw=0.4354, vw=0.4572, tw=0.4031, \n",
      "\n",
      "Epoch 43/200\n"
     ]
    },
    {
     "name": "stderr",
     "output_type": "stream",
     "text": [
      "                                                           \r"
     ]
    },
    {
     "name": "stdout",
     "output_type": "stream",
     "text": [
      "  Train Total Loss: 0.001377, Value Loss: 0.001377\n"
     ]
    },
    {
     "name": "stderr",
     "output_type": "stream",
     "text": [
      "                                                           \r"
     ]
    },
    {
     "name": "stdout",
     "output_type": "stream",
     "text": [
      "  Global Pearson Correlation: 0.9042\n",
      "  R² layer mean - uw: 0.8230\n",
      "  R² layer mean - vw: 0.7937\n",
      "  R² layer mean - tw: 0.8382\n",
      "  R² layer mean - qw: -111.4636\n",
      "  Saved R² plot to ./model_plots\\uvtr2_layer_epoch043.png\n",
      "  Saved scatter plot to ./model_plots\\uvtscatter_epoch043.png\n",
      "  Val Total Loss: 0.001782, Value Loss: 0.001782\n",
      "  Per-channel RMSE: uw=0.4189, vw=0.4498, tw=0.3967, \n",
      "  Saved best model: F:\\model\\model_save\\best_epoch043_val0.001782.pth\n",
      "\n",
      "Epoch 44/200\n"
     ]
    },
    {
     "name": "stderr",
     "output_type": "stream",
     "text": [
      "                                                           \r"
     ]
    },
    {
     "name": "stdout",
     "output_type": "stream",
     "text": [
      "  Train Total Loss: 0.001318, Value Loss: 0.001318\n"
     ]
    },
    {
     "name": "stderr",
     "output_type": "stream",
     "text": [
      "                                                           \r"
     ]
    },
    {
     "name": "stdout",
     "output_type": "stream",
     "text": [
      "  Global Pearson Correlation: 0.9055\n",
      "  R² layer mean - uw: 0.8213\n",
      "  R² layer mean - vw: 0.7921\n",
      "  R² layer mean - tw: 0.8409\n",
      "  R² layer mean - qw: -126.3876\n",
      "  Saved R² plot to ./model_plots\\uvtr2_layer_epoch044.png\n",
      "  Saved scatter plot to ./model_plots\\uvtscatter_epoch044.png\n",
      "  Val Total Loss: 0.001797, Value Loss: 0.001797\n",
      "  Per-channel RMSE: uw=0.4206, vw=0.4489, tw=0.3929, \n",
      "\n",
      "Epoch 45/200\n"
     ]
    },
    {
     "name": "stderr",
     "output_type": "stream",
     "text": [
      "                                                           \r"
     ]
    },
    {
     "name": "stdout",
     "output_type": "stream",
     "text": [
      "  Train Total Loss: 0.001282, Value Loss: 0.001282\n"
     ]
    },
    {
     "name": "stderr",
     "output_type": "stream",
     "text": [
      "                                                           \r"
     ]
    },
    {
     "name": "stdout",
     "output_type": "stream",
     "text": [
      "  Global Pearson Correlation: 0.9038\n",
      "  R² layer mean - uw: 0.8201\n",
      "  R² layer mean - vw: 0.7933\n",
      "  R² layer mean - tw: 0.8378\n",
      "  R² layer mean - qw: -105.5551\n",
      "  Saved R² plot to ./model_plots\\uvtr2_layer_epoch045.png\n",
      "  Saved scatter plot to ./model_plots\\uvtscatter_epoch045.png\n",
      "  Val Total Loss: 0.001798, Value Loss: 0.001798\n",
      "  Per-channel RMSE: uw=0.4209, vw=0.4495, tw=0.3956, \n",
      "\n",
      "Epoch 46/200\n"
     ]
    },
    {
     "name": "stderr",
     "output_type": "stream",
     "text": [
      "                                                           \r"
     ]
    },
    {
     "name": "stdout",
     "output_type": "stream",
     "text": [
      "  Train Total Loss: 0.001287, Value Loss: 0.001287\n"
     ]
    },
    {
     "name": "stderr",
     "output_type": "stream",
     "text": [
      "                                                           \r"
     ]
    },
    {
     "name": "stdout",
     "output_type": "stream",
     "text": [
      "  Global Pearson Correlation: 0.8997\n",
      "  R² layer mean - uw: 0.8098\n",
      "  R² layer mean - vw: 0.7802\n",
      "  R² layer mean - tw: 0.8282\n",
      "  R² layer mean - qw: -105.5647\n",
      "  Saved R² plot to ./model_plots\\uvtr2_layer_epoch046.png\n",
      "  Saved scatter plot to ./model_plots\\uvtscatter_epoch046.png\n",
      "  Val Total Loss: 0.001850, Value Loss: 0.001850\n",
      "  Per-channel RMSE: uw=0.4332, vw=0.4618, tw=0.4071, \n",
      "\n",
      "Epoch 47/200\n"
     ]
    },
    {
     "name": "stderr",
     "output_type": "stream",
     "text": [
      "                                                           \r"
     ]
    },
    {
     "name": "stdout",
     "output_type": "stream",
     "text": [
      "  Train Total Loss: 0.001309, Value Loss: 0.001309\n"
     ]
    },
    {
     "name": "stderr",
     "output_type": "stream",
     "text": [
      "                                                           \r"
     ]
    },
    {
     "name": "stdout",
     "output_type": "stream",
     "text": [
      "  Global Pearson Correlation: 0.9035\n",
      "  R² layer mean - uw: 0.8220\n",
      "  R² layer mean - vw: 0.7984\n",
      "  R² layer mean - tw: 0.8270\n",
      "  R² layer mean - qw: -89.4380\n",
      "  Saved R² plot to ./model_plots\\uvtr2_layer_epoch047.png\n",
      "  Saved scatter plot to ./model_plots\\uvtscatter_epoch047.png\n",
      "  Val Total Loss: 0.001807, Value Loss: 0.001807\n",
      "  Per-channel RMSE: uw=0.4200, vw=0.4428, tw=0.4105, \n",
      "\n",
      "Epoch 48/200\n"
     ]
    },
    {
     "name": "stderr",
     "output_type": "stream",
     "text": [
      "                                                           \r"
     ]
    },
    {
     "name": "stdout",
     "output_type": "stream",
     "text": [
      "  Train Total Loss: 0.001285, Value Loss: 0.001285\n"
     ]
    },
    {
     "name": "stderr",
     "output_type": "stream",
     "text": [
      "                                                           \r"
     ]
    },
    {
     "name": "stdout",
     "output_type": "stream",
     "text": [
      "  Global Pearson Correlation: 0.9041\n",
      "  R² layer mean - uw: 0.8148\n",
      "  R² layer mean - vw: 0.7958\n",
      "  R² layer mean - tw: 0.8277\n",
      "  R² layer mean - qw: -136.6955\n",
      "  Saved R² plot to ./model_plots\\uvtr2_layer_epoch048.png\n",
      "  Saved scatter plot to ./model_plots\\uvtscatter_epoch048.png\n",
      "  Val Total Loss: 0.001821, Value Loss: 0.001821\n",
      "  Per-channel RMSE: uw=0.4286, vw=0.4462, tw=0.4084, \n",
      "\n",
      "Epoch 49/200\n"
     ]
    },
    {
     "name": "stderr",
     "output_type": "stream",
     "text": [
      "                                                           \r"
     ]
    },
    {
     "name": "stdout",
     "output_type": "stream",
     "text": [
      "  Train Total Loss: 0.001263, Value Loss: 0.001263\n"
     ]
    },
    {
     "name": "stderr",
     "output_type": "stream",
     "text": [
      "                                                           \r"
     ]
    },
    {
     "name": "stdout",
     "output_type": "stream",
     "text": [
      "  Global Pearson Correlation: 0.9083\n",
      "  R² layer mean - uw: 0.8204\n",
      "  R² layer mean - vw: 0.8033\n",
      "  R² layer mean - tw: 0.8395\n",
      "  R² layer mean - qw: -88.9886\n",
      "  Saved R² plot to ./model_plots\\uvtr2_layer_epoch049.png\n",
      "  Saved scatter plot to ./model_plots\\uvtscatter_epoch049.png\n",
      "  Val Total Loss: 0.001757, Value Loss: 0.001757\n",
      "  Per-channel RMSE: uw=0.4197, vw=0.4355, tw=0.3946, \n",
      "  Saved best model: F:\\model\\model_save\\best_epoch049_val0.001757.pth\n",
      "\n",
      "Epoch 50/200\n"
     ]
    },
    {
     "name": "stderr",
     "output_type": "stream",
     "text": [
      "                                                           \r"
     ]
    },
    {
     "name": "stdout",
     "output_type": "stream",
     "text": [
      "  Train Total Loss: 0.001335, Value Loss: 0.001335\n"
     ]
    },
    {
     "name": "stderr",
     "output_type": "stream",
     "text": [
      "                                                           \r"
     ]
    },
    {
     "name": "stdout",
     "output_type": "stream",
     "text": [
      "  Global Pearson Correlation: 0.9087\n",
      "  R² layer mean - uw: 0.8251\n",
      "  R² layer mean - vw: 0.8078\n",
      "  R² layer mean - tw: 0.8397\n",
      "  R² layer mean - qw: -109.5039\n",
      "  Saved R² plot to ./model_plots\\uvtr2_layer_epoch050.png\n",
      "  Saved scatter plot to ./model_plots\\uvtscatter_epoch050.png\n",
      "  Val Total Loss: 0.001750, Value Loss: 0.001750\n",
      "  Per-channel RMSE: uw=0.4152, vw=0.4332, tw=0.3941, \n",
      "  Saved best model: F:\\model\\model_save\\best_epoch050_val0.001750.pth\n",
      "\n",
      "Epoch 51/200\n"
     ]
    },
    {
     "name": "stderr",
     "output_type": "stream",
     "text": [
      "                                                           \r"
     ]
    },
    {
     "name": "stdout",
     "output_type": "stream",
     "text": [
      "  Train Total Loss: 0.001238, Value Loss: 0.001238\n"
     ]
    },
    {
     "name": "stderr",
     "output_type": "stream",
     "text": [
      "                                                           \r"
     ]
    },
    {
     "name": "stdout",
     "output_type": "stream",
     "text": [
      "  Global Pearson Correlation: 0.9070\n",
      "  R² layer mean - uw: 0.8254\n",
      "  R² layer mean - vw: 0.8072\n",
      "  R² layer mean - tw: 0.8380\n",
      "  R² layer mean - qw: -89.3595\n",
      "  Saved R² plot to ./model_plots\\uvtr2_layer_epoch051.png\n",
      "  Saved scatter plot to ./model_plots\\uvtscatter_epoch051.png\n",
      "  Val Total Loss: 0.001748, Value Loss: 0.001748\n",
      "  Per-channel RMSE: uw=0.4164, vw=0.4334, tw=0.3970, \n",
      "  Saved best model: F:\\model\\model_save\\best_epoch051_val0.001748.pth\n",
      "\n",
      "Epoch 52/200\n"
     ]
    },
    {
     "name": "stderr",
     "output_type": "stream",
     "text": [
      "                                                           \r"
     ]
    },
    {
     "name": "stdout",
     "output_type": "stream",
     "text": [
      "  Train Total Loss: 0.001224, Value Loss: 0.001224\n"
     ]
    },
    {
     "name": "stderr",
     "output_type": "stream",
     "text": [
      "                                                           \r"
     ]
    },
    {
     "name": "stdout",
     "output_type": "stream",
     "text": [
      "  Global Pearson Correlation: 0.9103\n",
      "  R² layer mean - uw: 0.8268\n",
      "  R² layer mean - vw: 0.7894\n",
      "  R² layer mean - tw: 0.8273\n",
      "  R² layer mean - qw: -73.5404\n",
      "  Saved R² plot to ./model_plots\\uvtr2_layer_epoch052.png\n",
      "  Saved scatter plot to ./model_plots\\uvtscatter_epoch052.png\n",
      "  Val Total Loss: 0.001776, Value Loss: 0.001776\n",
      "  Per-channel RMSE: uw=0.4132, vw=0.4525, tw=0.4081, \n",
      "\n",
      "Epoch 53/200\n"
     ]
    },
    {
     "name": "stderr",
     "output_type": "stream",
     "text": [
      "                                                           \r"
     ]
    },
    {
     "name": "stdout",
     "output_type": "stream",
     "text": [
      "  Train Total Loss: 0.001208, Value Loss: 0.001208\n"
     ]
    },
    {
     "name": "stderr",
     "output_type": "stream",
     "text": [
      "                                                           \r"
     ]
    },
    {
     "name": "stdout",
     "output_type": "stream",
     "text": [
      "  Global Pearson Correlation: 0.9153\n",
      "  R² layer mean - uw: 0.8421\n",
      "  R² layer mean - vw: 0.8164\n",
      "  R² layer mean - tw: 0.8491\n",
      "  R² layer mean - qw: -74.5136\n",
      "  Saved R² plot to ./model_plots\\uvtr2_layer_epoch053.png\n",
      "  Saved scatter plot to ./model_plots\\uvtscatter_epoch053.png\n",
      "  Val Total Loss: 0.001647, Value Loss: 0.001647\n",
      "  Per-channel RMSE: uw=0.3946, vw=0.4233, tw=0.3837, \n",
      "  Saved best model: F:\\model\\model_save\\best_epoch053_val0.001647.pth\n",
      "\n",
      "Epoch 54/200\n"
     ]
    },
    {
     "name": "stderr",
     "output_type": "stream",
     "text": [
      "                                                           \r"
     ]
    },
    {
     "name": "stdout",
     "output_type": "stream",
     "text": [
      "  Train Total Loss: 0.001180, Value Loss: 0.001180\n"
     ]
    },
    {
     "name": "stderr",
     "output_type": "stream",
     "text": [
      "                                                           \r"
     ]
    },
    {
     "name": "stdout",
     "output_type": "stream",
     "text": [
      "  Global Pearson Correlation: 0.9134\n",
      "  R² layer mean - uw: 0.8419\n",
      "  R² layer mean - vw: 0.8113\n",
      "  R² layer mean - tw: 0.8509\n",
      "  R² layer mean - qw: -97.2721\n",
      "  Saved R² plot to ./model_plots\\uvtr2_layer_epoch054.png\n",
      "  Saved scatter plot to ./model_plots\\uvtscatter_epoch054.png\n",
      "  Val Total Loss: 0.001678, Value Loss: 0.001678\n",
      "  Per-channel RMSE: uw=0.3958, vw=0.4287, tw=0.3808, \n",
      "\n",
      "Epoch 55/200\n"
     ]
    },
    {
     "name": "stderr",
     "output_type": "stream",
     "text": [
      "                                                           \r"
     ]
    },
    {
     "name": "stdout",
     "output_type": "stream",
     "text": [
      "  Train Total Loss: 0.001188, Value Loss: 0.001188\n"
     ]
    },
    {
     "name": "stderr",
     "output_type": "stream",
     "text": [
      "                                                           \r"
     ]
    },
    {
     "name": "stdout",
     "output_type": "stream",
     "text": [
      "  Global Pearson Correlation: 0.9116\n",
      "  R² layer mean - uw: 0.8337\n",
      "  R² layer mean - vw: 0.8119\n",
      "  R² layer mean - tw: 0.8323\n",
      "  R² layer mean - qw: -92.5655\n",
      "  Saved R² plot to ./model_plots\\uvtr2_layer_epoch055.png\n",
      "  Saved scatter plot to ./model_plots\\uvtscatter_epoch055.png\n",
      "  Val Total Loss: 0.001733, Value Loss: 0.001733\n",
      "  Per-channel RMSE: uw=0.4065, vw=0.4290, tw=0.4063, \n",
      "\n",
      "Epoch 56/200\n"
     ]
    },
    {
     "name": "stderr",
     "output_type": "stream",
     "text": [
      "                                                           \r"
     ]
    },
    {
     "name": "stdout",
     "output_type": "stream",
     "text": [
      "  Train Total Loss: 0.001182, Value Loss: 0.001182\n"
     ]
    },
    {
     "name": "stderr",
     "output_type": "stream",
     "text": [
      "                                                           \r"
     ]
    },
    {
     "name": "stdout",
     "output_type": "stream",
     "text": [
      "  Global Pearson Correlation: 0.9128\n",
      "  R² layer mean - uw: 0.8335\n",
      "  R² layer mean - vw: 0.8051\n",
      "  R² layer mean - tw: 0.8515\n",
      "  R² layer mean - qw: -82.0155\n",
      "  Saved R² plot to ./model_plots\\uvtr2_layer_epoch056.png\n",
      "  Saved scatter plot to ./model_plots\\uvtscatter_epoch056.png\n",
      "  Val Total Loss: 0.001705, Value Loss: 0.001705\n",
      "  Per-channel RMSE: uw=0.4060, vw=0.4351, tw=0.3785, \n",
      "\n",
      "Epoch 57/200\n"
     ]
    },
    {
     "name": "stderr",
     "output_type": "stream",
     "text": [
      "                                                           \r"
     ]
    },
    {
     "name": "stdout",
     "output_type": "stream",
     "text": [
      "  Train Total Loss: 0.001180, Value Loss: 0.001180\n"
     ]
    },
    {
     "name": "stderr",
     "output_type": "stream",
     "text": [
      "                                                           \r"
     ]
    },
    {
     "name": "stdout",
     "output_type": "stream",
     "text": [
      "  Global Pearson Correlation: 0.9129\n",
      "  R² layer mean - uw: 0.8423\n",
      "  R² layer mean - vw: 0.8061\n",
      "  R² layer mean - tw: 0.8538\n",
      "  R² layer mean - qw: -74.4336\n",
      "  Saved R² plot to ./model_plots\\uvtr2_layer_epoch057.png\n",
      "  Saved scatter plot to ./model_plots\\uvtscatter_epoch057.png\n",
      "  Val Total Loss: 0.001675, Value Loss: 0.001675\n",
      "  Per-channel RMSE: uw=0.3959, vw=0.4364, tw=0.3774, \n",
      "\n",
      "Epoch 58/200\n"
     ]
    },
    {
     "name": "stderr",
     "output_type": "stream",
     "text": [
      "                                                           \r"
     ]
    },
    {
     "name": "stdout",
     "output_type": "stream",
     "text": [
      "  Train Total Loss: 0.001145, Value Loss: 0.001145\n"
     ]
    },
    {
     "name": "stderr",
     "output_type": "stream",
     "text": [
      "                                                           \r"
     ]
    },
    {
     "name": "stdout",
     "output_type": "stream",
     "text": [
      "  Global Pearson Correlation: 0.9109\n",
      "  R² layer mean - uw: 0.8330\n",
      "  R² layer mean - vw: 0.8046\n",
      "  R² layer mean - tw: 0.8506\n",
      "  R² layer mean - qw: -65.4935\n",
      "  Saved R² plot to ./model_plots\\uvtr2_layer_epoch058.png\n",
      "  Saved scatter plot to ./model_plots\\uvtscatter_epoch058.png\n",
      "  Val Total Loss: 0.001687, Value Loss: 0.001687\n",
      "  Per-channel RMSE: uw=0.4055, vw=0.4360, tw=0.3806, \n",
      "\n",
      "Epoch 59/200\n"
     ]
    },
    {
     "name": "stderr",
     "output_type": "stream",
     "text": [
      "                                                           \r"
     ]
    },
    {
     "name": "stdout",
     "output_type": "stream",
     "text": [
      "  Train Total Loss: 0.001135, Value Loss: 0.001135\n"
     ]
    },
    {
     "name": "stderr",
     "output_type": "stream",
     "text": [
      "                                                           \r"
     ]
    },
    {
     "name": "stdout",
     "output_type": "stream",
     "text": [
      "  Global Pearson Correlation: 0.9154\n",
      "  R² layer mean - uw: 0.8394\n",
      "  R² layer mean - vw: 0.8190\n",
      "  R² layer mean - tw: 0.8559\n",
      "  R² layer mean - qw: -82.8818\n",
      "  Saved R² plot to ./model_plots\\uvtr2_layer_epoch059.png\n",
      "  Saved scatter plot to ./model_plots\\uvtscatter_epoch059.png\n",
      "  Val Total Loss: 0.001653, Value Loss: 0.001653\n",
      "  Per-channel RMSE: uw=0.3990, vw=0.4213, tw=0.3742, \n",
      "\n",
      "Epoch 60/200\n"
     ]
    },
    {
     "name": "stderr",
     "output_type": "stream",
     "text": [
      "                                                           \r"
     ]
    },
    {
     "name": "stdout",
     "output_type": "stream",
     "text": [
      "  Train Total Loss: 0.000844, Value Loss: 0.000844\n"
     ]
    },
    {
     "name": "stderr",
     "output_type": "stream",
     "text": [
      "                                                           \r"
     ]
    },
    {
     "name": "stdout",
     "output_type": "stream",
     "text": [
      "  Global Pearson Correlation: 0.9330\n",
      "  R² layer mean - uw: 0.8763\n",
      "  R² layer mean - vw: 0.8532\n",
      "  R² layer mean - tw: 0.8818\n",
      "  R² layer mean - qw: -66.0289\n",
      "  Saved R² plot to ./model_plots\\uvtr2_layer_epoch060.png\n",
      "  Saved scatter plot to ./model_plots\\uvtscatter_epoch060.png\n",
      "  Val Total Loss: 0.001332, Value Loss: 0.001332\n",
      "  Per-channel RMSE: uw=0.3504, vw=0.3787, tw=0.3392, \n",
      "  Saved best model: F:\\model\\model_save\\best_epoch060_val0.001332.pth\n",
      "\n",
      "Epoch 61/200\n"
     ]
    },
    {
     "name": "stderr",
     "output_type": "stream",
     "text": [
      "                                                           \r"
     ]
    },
    {
     "name": "stdout",
     "output_type": "stream",
     "text": [
      "  Train Total Loss: 0.000720, Value Loss: 0.000720\n"
     ]
    },
    {
     "name": "stderr",
     "output_type": "stream",
     "text": [
      "                                                           \r"
     ]
    },
    {
     "name": "stdout",
     "output_type": "stream",
     "text": [
      "  Global Pearson Correlation: 0.9366\n",
      "  R² layer mean - uw: 0.8844\n",
      "  R² layer mean - vw: 0.8587\n",
      "  R² layer mean - tw: 0.8892\n",
      "  R² layer mean - qw: -63.4128\n",
      "  Saved R² plot to ./model_plots\\uvtr2_layer_epoch061.png\n",
      "  Saved scatter plot to ./model_plots\\uvtscatter_epoch061.png\n",
      "  Val Total Loss: 0.001268, Value Loss: 0.001268\n",
      "  Per-channel RMSE: uw=0.3375, vw=0.3717, tw=0.3280, \n",
      "  Saved best model: F:\\model\\model_save\\best_epoch061_val0.001268.pth\n",
      "\n",
      "Epoch 62/200\n"
     ]
    },
    {
     "name": "stderr",
     "output_type": "stream",
     "text": [
      "                                                           \r"
     ]
    },
    {
     "name": "stdout",
     "output_type": "stream",
     "text": [
      "  Train Total Loss: 0.000704, Value Loss: 0.000704\n"
     ]
    },
    {
     "name": "stderr",
     "output_type": "stream",
     "text": [
      "                                                           \r"
     ]
    },
    {
     "name": "stdout",
     "output_type": "stream",
     "text": [
      "  Global Pearson Correlation: 0.9363\n",
      "  R² layer mean - uw: 0.8842\n",
      "  R² layer mean - vw: 0.8585\n",
      "  R² layer mean - tw: 0.8887\n",
      "  R² layer mean - qw: -69.5845\n",
      "  Saved R² plot to ./model_plots\\uvtr2_layer_epoch062.png\n",
      "  Saved scatter plot to ./model_plots\\uvtscatter_epoch062.png\n",
      "  Val Total Loss: 0.001272, Value Loss: 0.001272\n",
      "  Per-channel RMSE: uw=0.3387, vw=0.3717, tw=0.3285, \n",
      "\n",
      "Epoch 63/200\n"
     ]
    },
    {
     "name": "stderr",
     "output_type": "stream",
     "text": [
      "                                                           \r"
     ]
    },
    {
     "name": "stdout",
     "output_type": "stream",
     "text": [
      "  Train Total Loss: 0.000696, Value Loss: 0.000696\n"
     ]
    },
    {
     "name": "stderr",
     "output_type": "stream",
     "text": [
      "                                                           \r"
     ]
    },
    {
     "name": "stdout",
     "output_type": "stream",
     "text": [
      "  Global Pearson Correlation: 0.9400\n",
      "  R² layer mean - uw: 0.8847\n",
      "  R² layer mean - vw: 0.8654\n",
      "  R² layer mean - tw: 0.8965\n",
      "  R² layer mean - qw: -62.6797\n",
      "  Saved R² plot to ./model_plots\\uvtr2_layer_epoch063.png\n",
      "  Saved scatter plot to ./model_plots\\uvtscatter_epoch063.png\n",
      "  Val Total Loss: 0.001226, Value Loss: 0.001226\n",
      "  Per-channel RMSE: uw=0.3376, vw=0.3621, tw=0.3168, \n",
      "  Saved best model: F:\\model\\model_save\\best_epoch063_val0.001226.pth\n",
      "\n",
      "Epoch 64/200\n"
     ]
    },
    {
     "name": "stderr",
     "output_type": "stream",
     "text": [
      "                                                           \r"
     ]
    },
    {
     "name": "stdout",
     "output_type": "stream",
     "text": [
      "  Train Total Loss: 0.000687, Value Loss: 0.000687\n"
     ]
    },
    {
     "name": "stderr",
     "output_type": "stream",
     "text": [
      "                                                           \r"
     ]
    },
    {
     "name": "stdout",
     "output_type": "stream",
     "text": [
      "  Global Pearson Correlation: 0.9369\n",
      "  R² layer mean - uw: 0.8819\n",
      "  R² layer mean - vw: 0.8601\n",
      "  R² layer mean - tw: 0.8909\n",
      "  R² layer mean - qw: -73.2716\n",
      "  Saved R² plot to ./model_plots\\uvtr2_layer_epoch064.png\n",
      "  Saved scatter plot to ./model_plots\\uvtscatter_epoch064.png\n",
      "  Val Total Loss: 0.001266, Value Loss: 0.001266\n",
      "  Per-channel RMSE: uw=0.3414, vw=0.3692, tw=0.3253, \n",
      "\n",
      "Epoch 65/200\n"
     ]
    },
    {
     "name": "stderr",
     "output_type": "stream",
     "text": [
      "                                                           \r"
     ]
    },
    {
     "name": "stdout",
     "output_type": "stream",
     "text": [
      "  Train Total Loss: 0.000681, Value Loss: 0.000681\n"
     ]
    },
    {
     "name": "stderr",
     "output_type": "stream",
     "text": [
      "                                                           \r"
     ]
    },
    {
     "name": "stdout",
     "output_type": "stream",
     "text": [
      "  Global Pearson Correlation: 0.9385\n",
      "  R² layer mean - uw: 0.8833\n",
      "  R² layer mean - vw: 0.8563\n",
      "  R² layer mean - tw: 0.8953\n",
      "  R² layer mean - qw: -68.7160\n",
      "  Saved R² plot to ./model_plots\\uvtr2_layer_epoch065.png\n",
      "  Saved scatter plot to ./model_plots\\uvtscatter_epoch065.png\n",
      "  Val Total Loss: 0.001268, Value Loss: 0.001268\n",
      "  Per-channel RMSE: uw=0.3396, vw=0.3759, tw=0.3187, \n",
      "\n",
      "Epoch 66/200\n"
     ]
    },
    {
     "name": "stderr",
     "output_type": "stream",
     "text": [
      "                                                           \r"
     ]
    },
    {
     "name": "stdout",
     "output_type": "stream",
     "text": [
      "  Train Total Loss: 0.000668, Value Loss: 0.000668\n"
     ]
    },
    {
     "name": "stderr",
     "output_type": "stream",
     "text": [
      "                                                           \r"
     ]
    },
    {
     "name": "stdout",
     "output_type": "stream",
     "text": [
      "  Global Pearson Correlation: 0.9383\n",
      "  R² layer mean - uw: 0.8827\n",
      "  R² layer mean - vw: 0.8583\n",
      "  R² layer mean - tw: 0.8943\n",
      "  R² layer mean - qw: -68.4944\n",
      "  Saved R² plot to ./model_plots\\uvtr2_layer_epoch066.png\n",
      "  Saved scatter plot to ./model_plots\\uvtscatter_epoch066.png\n",
      "  Val Total Loss: 0.001256, Value Loss: 0.001256\n",
      "  Per-channel RMSE: uw=0.3406, vw=0.3726, tw=0.3199, \n",
      "\n",
      "Epoch 67/200\n"
     ]
    },
    {
     "name": "stderr",
     "output_type": "stream",
     "text": [
      "                                                           \r"
     ]
    },
    {
     "name": "stdout",
     "output_type": "stream",
     "text": [
      "  Train Total Loss: 0.000659, Value Loss: 0.000659\n"
     ]
    },
    {
     "name": "stderr",
     "output_type": "stream",
     "text": [
      "                                                           \r"
     ]
    },
    {
     "name": "stdout",
     "output_type": "stream",
     "text": [
      "  Global Pearson Correlation: 0.9383\n",
      "  R² layer mean - uw: 0.8810\n",
      "  R² layer mean - vw: 0.8608\n",
      "  R² layer mean - tw: 0.8909\n",
      "  R² layer mean - qw: -71.8684\n",
      "  Saved R² plot to ./model_plots\\uvtr2_layer_epoch067.png\n",
      "  Saved scatter plot to ./model_plots\\uvtscatter_epoch067.png\n",
      "  Val Total Loss: 0.001267, Value Loss: 0.001267\n",
      "  Per-channel RMSE: uw=0.3425, vw=0.3683, tw=0.3256, \n",
      "\n",
      "Epoch 68/200\n"
     ]
    },
    {
     "name": "stderr",
     "output_type": "stream",
     "text": [
      "                                                           \r"
     ]
    },
    {
     "name": "stdout",
     "output_type": "stream",
     "text": [
      "  Train Total Loss: 0.000682, Value Loss: 0.000682\n"
     ]
    },
    {
     "name": "stderr",
     "output_type": "stream",
     "text": [
      "                                                           \r"
     ]
    },
    {
     "name": "stdout",
     "output_type": "stream",
     "text": [
      "  Global Pearson Correlation: 0.9382\n",
      "  R² layer mean - uw: 0.8830\n",
      "  R² layer mean - vw: 0.8616\n",
      "  R² layer mean - tw: 0.8945\n",
      "  R² layer mean - qw: -57.9736\n",
      "  Saved R² plot to ./model_plots\\uvtr2_layer_epoch068.png\n",
      "  Saved scatter plot to ./model_plots\\uvtscatter_epoch068.png\n",
      "  Val Total Loss: 0.001247, Value Loss: 0.001247\n",
      "  Per-channel RMSE: uw=0.3389, vw=0.3665, tw=0.3192, \n",
      "\n",
      "Epoch 69/200\n"
     ]
    },
    {
     "name": "stderr",
     "output_type": "stream",
     "text": [
      "                                                           \r"
     ]
    },
    {
     "name": "stdout",
     "output_type": "stream",
     "text": [
      "  Train Total Loss: 0.000688, Value Loss: 0.000688\n"
     ]
    },
    {
     "name": "stderr",
     "output_type": "stream",
     "text": [
      "                                                           \r"
     ]
    },
    {
     "name": "stdout",
     "output_type": "stream",
     "text": [
      "  Global Pearson Correlation: 0.9347\n",
      "  R² layer mean - uw: 0.8765\n",
      "  R² layer mean - vw: 0.8518\n",
      "  R² layer mean - tw: 0.8912\n",
      "  R² layer mean - qw: -61.9360\n",
      "  Saved R² plot to ./model_plots\\uvtr2_layer_epoch069.png\n",
      "  Saved scatter plot to ./model_plots\\uvtscatter_epoch069.png\n",
      "  Val Total Loss: 0.001296, Value Loss: 0.001296\n",
      "  Per-channel RMSE: uw=0.3491, vw=0.3814, tw=0.3243, \n",
      "\n",
      "Epoch 70/200\n"
     ]
    },
    {
     "name": "stderr",
     "output_type": "stream",
     "text": [
      "                                                           \r"
     ]
    },
    {
     "name": "stdout",
     "output_type": "stream",
     "text": [
      "  Train Total Loss: 0.000540, Value Loss: 0.000540\n"
     ]
    },
    {
     "name": "stderr",
     "output_type": "stream",
     "text": [
      "                                                           \r"
     ]
    },
    {
     "name": "stdout",
     "output_type": "stream",
     "text": [
      "  Global Pearson Correlation: 0.9463\n",
      "  R² layer mean - uw: 0.8997\n",
      "  R² layer mean - vw: 0.8775\n",
      "  R² layer mean - tw: 0.9085\n",
      "  R² layer mean - qw: -63.5825\n",
      "  Saved R² plot to ./model_plots\\uvtr2_layer_epoch070.png\n",
      "  Saved scatter plot to ./model_plots\\uvtscatter_epoch070.png\n",
      "  Val Total Loss: 0.001103, Value Loss: 0.001103\n",
      "  Per-channel RMSE: uw=0.3146, vw=0.3463, tw=0.2978, \n",
      "  Saved best model: F:\\model\\model_save\\best_epoch070_val0.001103.pth\n",
      "\n",
      "Epoch 71/200\n"
     ]
    },
    {
     "name": "stderr",
     "output_type": "stream",
     "text": [
      "                                                           \r"
     ]
    },
    {
     "name": "stdout",
     "output_type": "stream",
     "text": [
      "  Train Total Loss: 0.000486, Value Loss: 0.000486\n"
     ]
    },
    {
     "name": "stderr",
     "output_type": "stream",
     "text": [
      "                                                           \r"
     ]
    },
    {
     "name": "stdout",
     "output_type": "stream",
     "text": [
      "  Global Pearson Correlation: 0.9467\n",
      "  R² layer mean - uw: 0.9007\n",
      "  R² layer mean - vw: 0.8779\n",
      "  R² layer mean - tw: 0.9084\n",
      "  R² layer mean - qw: -58.9519\n",
      "  Saved R² plot to ./model_plots\\uvtr2_layer_epoch071.png\n",
      "  Saved scatter plot to ./model_plots\\uvtscatter_epoch071.png\n",
      "  Val Total Loss: 0.001102, Value Loss: 0.001102\n",
      "  Per-channel RMSE: uw=0.3136, vw=0.3451, tw=0.2979, \n",
      "  Saved best model: F:\\model\\model_save\\best_epoch071_val0.001102.pth\n",
      "\n",
      "Epoch 72/200\n"
     ]
    },
    {
     "name": "stderr",
     "output_type": "stream",
     "text": [
      "                                                           \r"
     ]
    },
    {
     "name": "stdout",
     "output_type": "stream",
     "text": [
      "  Train Total Loss: 0.000480, Value Loss: 0.000480\n"
     ]
    },
    {
     "name": "stderr",
     "output_type": "stream",
     "text": [
      "                                                           \r"
     ]
    },
    {
     "name": "stdout",
     "output_type": "stream",
     "text": [
      "  Global Pearson Correlation: 0.9476\n",
      "  R² layer mean - uw: 0.9022\n",
      "  R² layer mean - vw: 0.8828\n",
      "  R² layer mean - tw: 0.9105\n",
      "  R² layer mean - qw: -60.2556\n",
      "  Saved R² plot to ./model_plots\\uvtr2_layer_epoch072.png\n",
      "  Saved scatter plot to ./model_plots\\uvtscatter_epoch072.png\n",
      "  Val Total Loss: 0.001075, Value Loss: 0.001075\n",
      "  Per-channel RMSE: uw=0.3112, vw=0.3386, tw=0.2946, \n",
      "  Saved best model: F:\\model\\model_save\\best_epoch072_val0.001075.pth\n",
      "\n",
      "Epoch 73/200\n"
     ]
    },
    {
     "name": "stderr",
     "output_type": "stream",
     "text": [
      "                                                           \r"
     ]
    },
    {
     "name": "stdout",
     "output_type": "stream",
     "text": [
      "  Train Total Loss: 0.000463, Value Loss: 0.000463\n"
     ]
    },
    {
     "name": "stderr",
     "output_type": "stream",
     "text": [
      "                                                           \r"
     ]
    },
    {
     "name": "stdout",
     "output_type": "stream",
     "text": [
      "  Global Pearson Correlation: 0.9474\n",
      "  R² layer mean - uw: 0.9020\n",
      "  R² layer mean - vw: 0.8782\n",
      "  R² layer mean - tw: 0.9106\n",
      "  R² layer mean - qw: -64.1061\n",
      "  Saved R² plot to ./model_plots\\uvtr2_layer_epoch073.png\n",
      "  Saved scatter plot to ./model_plots\\uvtscatter_epoch073.png\n",
      "  Val Total Loss: 0.001089, Value Loss: 0.001089\n",
      "  Per-channel RMSE: uw=0.3113, vw=0.3443, tw=0.2942, \n",
      "\n",
      "Epoch 74/200\n"
     ]
    },
    {
     "name": "stderr",
     "output_type": "stream",
     "text": [
      "                                                           \r"
     ]
    },
    {
     "name": "stdout",
     "output_type": "stream",
     "text": [
      "  Train Total Loss: 0.000454, Value Loss: 0.000454\n"
     ]
    },
    {
     "name": "stderr",
     "output_type": "stream",
     "text": [
      "                                                           \r"
     ]
    },
    {
     "name": "stdout",
     "output_type": "stream",
     "text": [
      "  Global Pearson Correlation: 0.9480\n",
      "  R² layer mean - uw: 0.9047\n",
      "  R² layer mean - vw: 0.8806\n",
      "  R² layer mean - tw: 0.9116\n",
      "  R² layer mean - qw: -63.1243\n",
      "  Saved R² plot to ./model_plots\\uvtr2_layer_epoch074.png\n",
      "  Saved scatter plot to ./model_plots\\uvtscatter_epoch074.png\n",
      "  Val Total Loss: 0.001072, Value Loss: 0.001072\n",
      "  Per-channel RMSE: uw=0.3069, vw=0.3420, tw=0.2927, \n",
      "  Saved best model: F:\\model\\model_save\\best_epoch074_val0.001072.pth\n",
      "\n",
      "Epoch 75/200\n"
     ]
    },
    {
     "name": "stderr",
     "output_type": "stream",
     "text": [
      "                                                           \r"
     ]
    },
    {
     "name": "stdout",
     "output_type": "stream",
     "text": [
      "  Train Total Loss: 0.000454, Value Loss: 0.000454\n"
     ]
    },
    {
     "name": "stderr",
     "output_type": "stream",
     "text": [
      "                                                           \r"
     ]
    },
    {
     "name": "stdout",
     "output_type": "stream",
     "text": [
      "  Global Pearson Correlation: 0.9485\n",
      "  R² layer mean - uw: 0.9051\n",
      "  R² layer mean - vw: 0.8834\n",
      "  R² layer mean - tw: 0.9111\n",
      "  R² layer mean - qw: -58.6455\n",
      "  Saved R² plot to ./model_plots\\uvtr2_layer_epoch075.png\n",
      "  Saved scatter plot to ./model_plots\\uvtscatter_epoch075.png\n",
      "  Val Total Loss: 0.001058, Value Loss: 0.001058\n",
      "  Per-channel RMSE: uw=0.3063, vw=0.3377, tw=0.2938, \n",
      "  Saved best model: F:\\model\\model_save\\best_epoch075_val0.001058.pth\n",
      "\n",
      "Epoch 76/200\n"
     ]
    },
    {
     "name": "stderr",
     "output_type": "stream",
     "text": [
      "                                                           \r"
     ]
    },
    {
     "name": "stdout",
     "output_type": "stream",
     "text": [
      "  Train Total Loss: 0.000451, Value Loss: 0.000451\n"
     ]
    },
    {
     "name": "stderr",
     "output_type": "stream",
     "text": [
      "                                                           \r"
     ]
    },
    {
     "name": "stdout",
     "output_type": "stream",
     "text": [
      "  Global Pearson Correlation: 0.9476\n",
      "  R² layer mean - uw: 0.9033\n",
      "  R² layer mean - vw: 0.8805\n",
      "  R² layer mean - tw: 0.9105\n",
      "  R² layer mean - qw: -59.9021\n",
      "  Saved R² plot to ./model_plots\\uvtr2_layer_epoch076.png\n",
      "  Saved scatter plot to ./model_plots\\uvtscatter_epoch076.png\n",
      "  Val Total Loss: 0.001071, Value Loss: 0.001071\n",
      "  Per-channel RMSE: uw=0.3090, vw=0.3414, tw=0.2944, \n",
      "\n",
      "Epoch 77/200\n"
     ]
    },
    {
     "name": "stderr",
     "output_type": "stream",
     "text": [
      "                                                           \r"
     ]
    },
    {
     "name": "stdout",
     "output_type": "stream",
     "text": [
      "  Train Total Loss: 0.000453, Value Loss: 0.000453\n"
     ]
    },
    {
     "name": "stderr",
     "output_type": "stream",
     "text": [
      "                                                           \r"
     ]
    },
    {
     "name": "stdout",
     "output_type": "stream",
     "text": [
      "  Global Pearson Correlation: 0.9479\n",
      "  R² layer mean - uw: 0.9045\n",
      "  R² layer mean - vw: 0.8789\n",
      "  R² layer mean - tw: 0.9109\n",
      "  R² layer mean - qw: -59.5294\n",
      "  Saved R² plot to ./model_plots\\uvtr2_layer_epoch077.png\n",
      "  Saved scatter plot to ./model_plots\\uvtscatter_epoch077.png\n",
      "  Val Total Loss: 0.001078, Value Loss: 0.001078\n",
      "  Per-channel RMSE: uw=0.3072, vw=0.3442, tw=0.2939, \n",
      "\n",
      "Epoch 78/200\n"
     ]
    },
    {
     "name": "stderr",
     "output_type": "stream",
     "text": [
      "                                                           \r"
     ]
    },
    {
     "name": "stdout",
     "output_type": "stream",
     "text": [
      "  Train Total Loss: 0.000447, Value Loss: 0.000447\n"
     ]
    },
    {
     "name": "stderr",
     "output_type": "stream",
     "text": [
      "                                                           \r"
     ]
    },
    {
     "name": "stdout",
     "output_type": "stream",
     "text": [
      "  Global Pearson Correlation: 0.9478\n",
      "  R² layer mean - uw: 0.9026\n",
      "  R² layer mean - vw: 0.8817\n",
      "  R² layer mean - tw: 0.9105\n",
      "  R² layer mean - qw: -57.9331\n",
      "  Saved R² plot to ./model_plots\\uvtr2_layer_epoch078.png\n",
      "  Saved scatter plot to ./model_plots\\uvtscatter_epoch078.png\n",
      "  Val Total Loss: 0.001078, Value Loss: 0.001078\n",
      "  Per-channel RMSE: uw=0.3106, vw=0.3401, tw=0.2947, \n",
      "\n",
      "Epoch 79/200\n"
     ]
    },
    {
     "name": "stderr",
     "output_type": "stream",
     "text": [
      "                                                           \r"
     ]
    },
    {
     "name": "stdout",
     "output_type": "stream",
     "text": [
      "  Train Total Loss: 0.000439, Value Loss: 0.000439\n"
     ]
    },
    {
     "name": "stderr",
     "output_type": "stream",
     "text": [
      "                                                           \r"
     ]
    },
    {
     "name": "stdout",
     "output_type": "stream",
     "text": [
      "  Global Pearson Correlation: 0.9480\n",
      "  R² layer mean - uw: 0.9024\n",
      "  R² layer mean - vw: 0.8812\n",
      "  R² layer mean - tw: 0.9101\n",
      "  R² layer mean - qw: -56.0316\n",
      "  Saved R² plot to ./model_plots\\uvtr2_layer_epoch079.png\n",
      "  Saved scatter plot to ./model_plots\\uvtscatter_epoch079.png\n",
      "  Val Total Loss: 0.001074, Value Loss: 0.001074\n",
      "  Per-channel RMSE: uw=0.3105, vw=0.3410, tw=0.2948, \n",
      "\n",
      "Epoch 80/200\n"
     ]
    },
    {
     "name": "stderr",
     "output_type": "stream",
     "text": [
      "                                                           \r"
     ]
    },
    {
     "name": "stdout",
     "output_type": "stream",
     "text": [
      "  Train Total Loss: 0.000442, Value Loss: 0.000442\n"
     ]
    },
    {
     "name": "stderr",
     "output_type": "stream",
     "text": [
      "                                                           \r"
     ]
    },
    {
     "name": "stdout",
     "output_type": "stream",
     "text": [
      "  Global Pearson Correlation: 0.9485\n",
      "  R² layer mean - uw: 0.9052\n",
      "  R² layer mean - vw: 0.8808\n",
      "  R² layer mean - tw: 0.9108\n",
      "  R² layer mean - qw: -59.2336\n",
      "  Saved R² plot to ./model_plots\\uvtr2_layer_epoch080.png\n",
      "  Saved scatter plot to ./model_plots\\uvtscatter_epoch080.png\n",
      "  Val Total Loss: 0.001076, Value Loss: 0.001076\n",
      "  Per-channel RMSE: uw=0.3064, vw=0.3418, tw=0.2942, \n",
      "\n",
      "Epoch 81/200\n"
     ]
    },
    {
     "name": "stderr",
     "output_type": "stream",
     "text": [
      "                                                           \r"
     ]
    },
    {
     "name": "stdout",
     "output_type": "stream",
     "text": [
      "  Train Total Loss: 0.000440, Value Loss: 0.000440\n"
     ]
    },
    {
     "name": "stderr",
     "output_type": "stream",
     "text": [
      "                                                           \r"
     ]
    },
    {
     "name": "stdout",
     "output_type": "stream",
     "text": [
      "  Global Pearson Correlation: 0.9490\n",
      "  R² layer mean - uw: 0.9042\n",
      "  R² layer mean - vw: 0.8842\n",
      "  R² layer mean - tw: 0.9126\n",
      "  R² layer mean - qw: -56.1292\n",
      "  Saved R² plot to ./model_plots\\uvtr2_layer_epoch081.png\n",
      "  Saved scatter plot to ./model_plots\\uvtscatter_epoch081.png\n",
      "  Val Total Loss: 0.001052, Value Loss: 0.001052\n",
      "  Per-channel RMSE: uw=0.3072, vw=0.3362, tw=0.2910, \n",
      "  Saved best model: F:\\model\\model_save\\best_epoch081_val0.001052.pth\n",
      "\n",
      "Epoch 82/200\n"
     ]
    },
    {
     "name": "stderr",
     "output_type": "stream",
     "text": [
      "                                                           \r"
     ]
    },
    {
     "name": "stdout",
     "output_type": "stream",
     "text": [
      "  Train Total Loss: 0.000429, Value Loss: 0.000429\n"
     ]
    },
    {
     "name": "stderr",
     "output_type": "stream",
     "text": [
      "                                                           \r"
     ]
    },
    {
     "name": "stdout",
     "output_type": "stream",
     "text": [
      "  Global Pearson Correlation: 0.9493\n",
      "  R² layer mean - uw: 0.9056\n",
      "  R² layer mean - vw: 0.8848\n",
      "  R² layer mean - tw: 0.9125\n",
      "  R² layer mean - qw: -61.5522\n",
      "  Saved R² plot to ./model_plots\\uvtr2_layer_epoch082.png\n",
      "  Saved scatter plot to ./model_plots\\uvtscatter_epoch082.png\n",
      "  Val Total Loss: 0.001051, Value Loss: 0.001051\n",
      "  Per-channel RMSE: uw=0.3055, vw=0.3351, tw=0.2910, \n",
      "  Saved best model: F:\\model\\model_save\\best_epoch082_val0.001051.pth\n",
      "\n",
      "Epoch 83/200\n"
     ]
    },
    {
     "name": "stderr",
     "output_type": "stream",
     "text": [
      "                                                           \r"
     ]
    },
    {
     "name": "stdout",
     "output_type": "stream",
     "text": [
      "  Train Total Loss: 0.000423, Value Loss: 0.000423\n"
     ]
    },
    {
     "name": "stderr",
     "output_type": "stream",
     "text": [
      "                                                           \r"
     ]
    },
    {
     "name": "stdout",
     "output_type": "stream",
     "text": [
      "  Global Pearson Correlation: 0.9466\n",
      "  R² layer mean - uw: 0.8986\n",
      "  R² layer mean - vw: 0.8808\n",
      "  R² layer mean - tw: 0.9097\n",
      "  R² layer mean - qw: -54.1048\n",
      "  Saved R² plot to ./model_plots\\uvtr2_layer_epoch083.png\n",
      "  Saved scatter plot to ./model_plots\\uvtscatter_epoch083.png\n",
      "  Val Total Loss: 0.001090, Value Loss: 0.001090\n",
      "  Per-channel RMSE: uw=0.3175, vw=0.3416, tw=0.2962, \n",
      "\n",
      "Epoch 84/200\n"
     ]
    },
    {
     "name": "stderr",
     "output_type": "stream",
     "text": [
      "                                                           \r"
     ]
    },
    {
     "name": "stdout",
     "output_type": "stream",
     "text": [
      "  Train Total Loss: 0.000425, Value Loss: 0.000425\n"
     ]
    },
    {
     "name": "stderr",
     "output_type": "stream",
     "text": [
      "                                                           \r"
     ]
    },
    {
     "name": "stdout",
     "output_type": "stream",
     "text": [
      "  Global Pearson Correlation: 0.9488\n",
      "  R² layer mean - uw: 0.9060\n",
      "  R² layer mean - vw: 0.8815\n",
      "  R² layer mean - tw: 0.9105\n",
      "  R² layer mean - qw: -53.1314\n",
      "  Saved R² plot to ./model_plots\\uvtr2_layer_epoch084.png\n",
      "  Saved scatter plot to ./model_plots\\uvtscatter_epoch084.png\n",
      "  Val Total Loss: 0.001063, Value Loss: 0.001063\n",
      "  Per-channel RMSE: uw=0.3047, vw=0.3394, tw=0.2940, \n",
      "\n",
      "Epoch 85/200\n"
     ]
    },
    {
     "name": "stderr",
     "output_type": "stream",
     "text": [
      "                                                           \r"
     ]
    },
    {
     "name": "stdout",
     "output_type": "stream",
     "text": [
      "  Train Total Loss: 0.000424, Value Loss: 0.000424\n"
     ]
    },
    {
     "name": "stderr",
     "output_type": "stream",
     "text": [
      "                                                           \r"
     ]
    },
    {
     "name": "stdout",
     "output_type": "stream",
     "text": [
      "  Global Pearson Correlation: 0.9470\n",
      "  R² layer mean - uw: 0.9010\n",
      "  R² layer mean - vw: 0.8789\n",
      "  R² layer mean - tw: 0.9086\n",
      "  R² layer mean - qw: -52.8366\n",
      "  Saved R² plot to ./model_plots\\uvtr2_layer_epoch085.png\n",
      "  Saved scatter plot to ./model_plots\\uvtscatter_epoch085.png\n",
      "  Val Total Loss: 0.001086, Value Loss: 0.001086\n",
      "  Per-channel RMSE: uw=0.3129, vw=0.3439, tw=0.2976, \n",
      "\n",
      "Epoch 86/200\n"
     ]
    },
    {
     "name": "stderr",
     "output_type": "stream",
     "text": [
      "                                                           \r"
     ]
    },
    {
     "name": "stdout",
     "output_type": "stream",
     "text": [
      "  Train Total Loss: 0.000430, Value Loss: 0.000430\n"
     ]
    },
    {
     "name": "stderr",
     "output_type": "stream",
     "text": [
      "                                                           \r"
     ]
    },
    {
     "name": "stdout",
     "output_type": "stream",
     "text": [
      "  Global Pearson Correlation: 0.9484\n",
      "  R² layer mean - uw: 0.9044\n",
      "  R² layer mean - vw: 0.8820\n",
      "  R² layer mean - tw: 0.9126\n",
      "  R² layer mean - qw: -59.2789\n",
      "  Saved R² plot to ./model_plots\\uvtr2_layer_epoch086.png\n",
      "  Saved scatter plot to ./model_plots\\uvtscatter_epoch086.png\n",
      "  Val Total Loss: 0.001067, Value Loss: 0.001067\n",
      "  Per-channel RMSE: uw=0.3078, vw=0.3389, tw=0.2908, \n",
      "\n",
      "Epoch 87/200\n"
     ]
    },
    {
     "name": "stderr",
     "output_type": "stream",
     "text": [
      "                                                           \r"
     ]
    },
    {
     "name": "stdout",
     "output_type": "stream",
     "text": [
      "  Train Total Loss: 0.000426, Value Loss: 0.000426\n"
     ]
    },
    {
     "name": "stderr",
     "output_type": "stream",
     "text": [
      "                                                           \r"
     ]
    },
    {
     "name": "stdout",
     "output_type": "stream",
     "text": [
      "  Global Pearson Correlation: 0.9485\n",
      "  R² layer mean - uw: 0.9041\n",
      "  R² layer mean - vw: 0.8833\n",
      "  R² layer mean - tw: 0.9110\n",
      "  R² layer mean - qw: -52.3971\n",
      "  Saved R² plot to ./model_plots\\uvtr2_layer_epoch087.png\n",
      "  Saved scatter plot to ./model_plots\\uvtscatter_epoch087.png\n",
      "  Val Total Loss: 0.001061, Value Loss: 0.001061\n",
      "  Per-channel RMSE: uw=0.3082, vw=0.3373, tw=0.2935, \n",
      "\n",
      "Epoch 88/200\n"
     ]
    },
    {
     "name": "stderr",
     "output_type": "stream",
     "text": [
      "                                                           \r"
     ]
    },
    {
     "name": "stdout",
     "output_type": "stream",
     "text": [
      "  Train Total Loss: 0.000415, Value Loss: 0.000415\n"
     ]
    },
    {
     "name": "stderr",
     "output_type": "stream",
     "text": [
      "                                                           \r"
     ]
    },
    {
     "name": "stdout",
     "output_type": "stream",
     "text": [
      "  Global Pearson Correlation: 0.9497\n",
      "  R² layer mean - uw: 0.9061\n",
      "  R² layer mean - vw: 0.8857\n",
      "  R² layer mean - tw: 0.9139\n",
      "  R² layer mean - qw: -49.3682\n",
      "  Saved R² plot to ./model_plots\\uvtr2_layer_epoch088.png\n",
      "  Saved scatter plot to ./model_plots\\uvtscatter_epoch088.png\n",
      "  Val Total Loss: 0.001039, Value Loss: 0.001039\n",
      "  Per-channel RMSE: uw=0.3047, vw=0.3333, tw=0.2888, \n",
      "  Saved best model: F:\\model\\model_save\\best_epoch088_val0.001039.pth\n",
      "\n",
      "Epoch 89/200\n"
     ]
    },
    {
     "name": "stderr",
     "output_type": "stream",
     "text": [
      "                                                           \r"
     ]
    },
    {
     "name": "stdout",
     "output_type": "stream",
     "text": [
      "  Train Total Loss: 0.000416, Value Loss: 0.000416\n"
     ]
    },
    {
     "name": "stderr",
     "output_type": "stream",
     "text": [
      "                                                           \r"
     ]
    },
    {
     "name": "stdout",
     "output_type": "stream",
     "text": [
      "  Global Pearson Correlation: 0.9491\n",
      "  R² layer mean - uw: 0.9053\n",
      "  R² layer mean - vw: 0.8832\n",
      "  R² layer mean - tw: 0.9140\n",
      "  R² layer mean - qw: -58.4180\n",
      "  Saved R² plot to ./model_plots\\uvtr2_layer_epoch089.png\n",
      "  Saved scatter plot to ./model_plots\\uvtscatter_epoch089.png\n",
      "  Val Total Loss: 0.001052, Value Loss: 0.001052\n",
      "  Per-channel RMSE: uw=0.3057, vw=0.3371, tw=0.2890, \n",
      "\n",
      "Epoch 90/200\n"
     ]
    },
    {
     "name": "stderr",
     "output_type": "stream",
     "text": [
      "                                                           \r"
     ]
    },
    {
     "name": "stdout",
     "output_type": "stream",
     "text": [
      "  Train Total Loss: 0.000407, Value Loss: 0.000407\n"
     ]
    },
    {
     "name": "stderr",
     "output_type": "stream",
     "text": [
      "                                                           \r"
     ]
    },
    {
     "name": "stdout",
     "output_type": "stream",
     "text": [
      "  Global Pearson Correlation: 0.9491\n",
      "  R² layer mean - uw: 0.9047\n",
      "  R² layer mean - vw: 0.8864\n",
      "  R² layer mean - tw: 0.9126\n",
      "  R² layer mean - qw: -53.5109\n",
      "  Saved R² plot to ./model_plots\\uvtr2_layer_epoch090.png\n",
      "  Saved scatter plot to ./model_plots\\uvtscatter_epoch090.png\n",
      "  Val Total Loss: 0.001050, Value Loss: 0.001050\n",
      "  Per-channel RMSE: uw=0.3074, vw=0.3330, tw=0.2913, \n",
      "\n",
      "Epoch 91/200\n"
     ]
    },
    {
     "name": "stderr",
     "output_type": "stream",
     "text": [
      "                                                           \r"
     ]
    },
    {
     "name": "stdout",
     "output_type": "stream",
     "text": [
      "  Train Total Loss: 0.000401, Value Loss: 0.000401\n"
     ]
    },
    {
     "name": "stderr",
     "output_type": "stream",
     "text": [
      "                                                           \r"
     ]
    },
    {
     "name": "stdout",
     "output_type": "stream",
     "text": [
      "  Global Pearson Correlation: 0.9490\n",
      "  R² layer mean - uw: 0.9072\n",
      "  R² layer mean - vw: 0.8821\n",
      "  R² layer mean - tw: 0.9128\n",
      "  R² layer mean - qw: -54.9955\n",
      "  Saved R² plot to ./model_plots\\uvtr2_layer_epoch091.png\n",
      "  Saved scatter plot to ./model_plots\\uvtscatter_epoch091.png\n",
      "  Val Total Loss: 0.001054, Value Loss: 0.001054\n",
      "  Per-channel RMSE: uw=0.3028, vw=0.3385, tw=0.2906, \n",
      "\n",
      "Epoch 92/200\n"
     ]
    },
    {
     "name": "stderr",
     "output_type": "stream",
     "text": [
      "                                                           \r"
     ]
    },
    {
     "name": "stdout",
     "output_type": "stream",
     "text": [
      "  Train Total Loss: 0.000409, Value Loss: 0.000409\n"
     ]
    },
    {
     "name": "stderr",
     "output_type": "stream",
     "text": [
      "                                                           \r"
     ]
    },
    {
     "name": "stdout",
     "output_type": "stream",
     "text": [
      "  Global Pearson Correlation: 0.9489\n",
      "  R² layer mean - uw: 0.9061\n",
      "  R² layer mean - vw: 0.8815\n",
      "  R² layer mean - tw: 0.9122\n",
      "  R² layer mean - qw: -55.5532\n",
      "  Saved R² plot to ./model_plots\\uvtr2_layer_epoch092.png\n",
      "  Saved scatter plot to ./model_plots\\uvtscatter_epoch092.png\n",
      "  Val Total Loss: 0.001066, Value Loss: 0.001066\n",
      "  Per-channel RMSE: uw=0.3044, vw=0.3398, tw=0.2912, \n",
      "\n",
      "Epoch 93/200\n"
     ]
    },
    {
     "name": "stderr",
     "output_type": "stream",
     "text": [
      "                                                           \r"
     ]
    },
    {
     "name": "stdout",
     "output_type": "stream",
     "text": [
      "  Train Total Loss: 0.000395, Value Loss: 0.000395\n"
     ]
    },
    {
     "name": "stderr",
     "output_type": "stream",
     "text": [
      "                                                           \r"
     ]
    },
    {
     "name": "stdout",
     "output_type": "stream",
     "text": [
      "  Global Pearson Correlation: 0.9490\n",
      "  R² layer mean - uw: 0.9045\n",
      "  R² layer mean - vw: 0.8832\n",
      "  R² layer mean - tw: 0.9095\n",
      "  R² layer mean - qw: -52.3506\n",
      "  Saved R² plot to ./model_plots\\uvtr2_layer_epoch093.png\n",
      "  Saved scatter plot to ./model_plots\\uvtscatter_epoch093.png\n",
      "  Val Total Loss: 0.001068, Value Loss: 0.001068\n",
      "  Per-channel RMSE: uw=0.3077, vw=0.3377, tw=0.2961, \n",
      "\n",
      "Epoch 94/200\n"
     ]
    },
    {
     "name": "stderr",
     "output_type": "stream",
     "text": [
      "                                                           \r"
     ]
    },
    {
     "name": "stdout",
     "output_type": "stream",
     "text": [
      "  Train Total Loss: 0.000396, Value Loss: 0.000396\n"
     ]
    },
    {
     "name": "stderr",
     "output_type": "stream",
     "text": [
      "                                                           \r"
     ]
    },
    {
     "name": "stdout",
     "output_type": "stream",
     "text": [
      "  Global Pearson Correlation: 0.9486\n",
      "  R² layer mean - uw: 0.9037\n",
      "  R² layer mean - vw: 0.8826\n",
      "  R² layer mean - tw: 0.9131\n",
      "  R² layer mean - qw: -47.9289\n",
      "  Saved R² plot to ./model_plots\\uvtr2_layer_epoch094.png\n",
      "  Saved scatter plot to ./model_plots\\uvtscatter_epoch094.png\n",
      "  Val Total Loss: 0.001051, Value Loss: 0.001051\n",
      "  Per-channel RMSE: uw=0.3086, vw=0.3382, tw=0.2903, \n",
      "\n",
      "Epoch 95/200\n"
     ]
    },
    {
     "name": "stderr",
     "output_type": "stream",
     "text": [
      "                                                           \r"
     ]
    },
    {
     "name": "stdout",
     "output_type": "stream",
     "text": [
      "  Train Total Loss: 0.000333, Value Loss: 0.000333\n"
     ]
    },
    {
     "name": "stderr",
     "output_type": "stream",
     "text": [
      "                                                           \r"
     ]
    },
    {
     "name": "stdout",
     "output_type": "stream",
     "text": [
      "  Global Pearson Correlation: 0.9530\n",
      "  R² layer mean - uw: 0.9131\n",
      "  R² layer mean - vw: 0.8916\n",
      "  R² layer mean - tw: 0.9198\n",
      "  R² layer mean - qw: -49.3934\n",
      "  Saved R² plot to ./model_plots\\uvtr2_layer_epoch095.png\n",
      "  Saved scatter plot to ./model_plots\\uvtscatter_epoch095.png\n",
      "  Val Total Loss: 0.000978, Value Loss: 0.000978\n",
      "  Per-channel RMSE: uw=0.2932, vw=0.3254, tw=0.2787, \n",
      "  Saved best model: F:\\model\\model_save\\best_epoch095_val0.000978.pth\n",
      "\n",
      "Epoch 96/200\n"
     ]
    },
    {
     "name": "stderr",
     "output_type": "stream",
     "text": [
      "                                                           \r"
     ]
    },
    {
     "name": "stdout",
     "output_type": "stream",
     "text": [
      "  Train Total Loss: 0.000307, Value Loss: 0.000307\n"
     ]
    },
    {
     "name": "stderr",
     "output_type": "stream",
     "text": [
      "                                                           \r"
     ]
    },
    {
     "name": "stdout",
     "output_type": "stream",
     "text": [
      "  Global Pearson Correlation: 0.9536\n",
      "  R² layer mean - uw: 0.9128\n",
      "  R² layer mean - vw: 0.8927\n",
      "  R² layer mean - tw: 0.9198\n",
      "  R² layer mean - qw: -49.7516\n",
      "  Saved R² plot to ./model_plots\\uvtr2_layer_epoch096.png\n",
      "  Saved scatter plot to ./model_plots\\uvtscatter_epoch096.png\n",
      "  Val Total Loss: 0.000976, Value Loss: 0.000976\n",
      "  Per-channel RMSE: uw=0.2937, vw=0.3238, tw=0.2789, \n",
      "  Saved best model: F:\\model\\model_save\\best_epoch096_val0.000976.pth\n",
      "\n",
      "Epoch 97/200\n"
     ]
    },
    {
     "name": "stderr",
     "output_type": "stream",
     "text": [
      "                                                           \r"
     ]
    },
    {
     "name": "stdout",
     "output_type": "stream",
     "text": [
      "  Train Total Loss: 0.000307, Value Loss: 0.000307\n"
     ]
    },
    {
     "name": "stderr",
     "output_type": "stream",
     "text": [
      "                                                           \r"
     ]
    },
    {
     "name": "stdout",
     "output_type": "stream",
     "text": [
      "  Global Pearson Correlation: 0.9527\n",
      "  R² layer mean - uw: 0.9106\n",
      "  R² layer mean - vw: 0.8897\n",
      "  R² layer mean - tw: 0.9184\n",
      "  R² layer mean - qw: -49.2359\n",
      "  Saved R² plot to ./model_plots\\uvtr2_layer_epoch097.png\n",
      "  Saved scatter plot to ./model_plots\\uvtscatter_epoch097.png\n",
      "  Val Total Loss: 0.000989, Value Loss: 0.000989\n",
      "  Per-channel RMSE: uw=0.2970, vw=0.3281, tw=0.2811, \n",
      "\n",
      "Epoch 98/200\n"
     ]
    },
    {
     "name": "stderr",
     "output_type": "stream",
     "text": [
      "                                                           \r"
     ]
    },
    {
     "name": "stdout",
     "output_type": "stream",
     "text": [
      "  Train Total Loss: 0.000298, Value Loss: 0.000298\n"
     ]
    },
    {
     "name": "stderr",
     "output_type": "stream",
     "text": [
      "                                                           \r"
     ]
    },
    {
     "name": "stdout",
     "output_type": "stream",
     "text": [
      "  Global Pearson Correlation: 0.9527\n",
      "  R² layer mean - uw: 0.9136\n",
      "  R² layer mean - vw: 0.8905\n",
      "  R² layer mean - tw: 0.9203\n",
      "  R² layer mean - qw: -50.4024\n",
      "  Saved R² plot to ./model_plots\\uvtr2_layer_epoch098.png\n",
      "  Saved scatter plot to ./model_plots\\uvtscatter_epoch098.png\n",
      "  Val Total Loss: 0.000979, Value Loss: 0.000979\n",
      "  Per-channel RMSE: uw=0.2925, vw=0.3272, tw=0.2781, \n",
      "\n",
      "Epoch 99/200\n"
     ]
    },
    {
     "name": "stderr",
     "output_type": "stream",
     "text": [
      "                                                           \r"
     ]
    },
    {
     "name": "stdout",
     "output_type": "stream",
     "text": [
      "  Train Total Loss: 0.000303, Value Loss: 0.000303\n"
     ]
    },
    {
     "name": "stderr",
     "output_type": "stream",
     "text": [
      "                                                           \r"
     ]
    },
    {
     "name": "stdout",
     "output_type": "stream",
     "text": [
      "  Global Pearson Correlation: 0.9523\n",
      "  R² layer mean - uw: 0.9129\n",
      "  R² layer mean - vw: 0.8882\n",
      "  R² layer mean - tw: 0.9177\n",
      "  R² layer mean - qw: -49.7761\n",
      "  Saved R² plot to ./model_plots\\uvtr2_layer_epoch099.png\n",
      "  Saved scatter plot to ./model_plots\\uvtscatter_epoch099.png\n",
      "  Val Total Loss: 0.000994, Value Loss: 0.000994\n",
      "  Per-channel RMSE: uw=0.2937, vw=0.3308, tw=0.2825, \n",
      "\n",
      "Epoch 100/200\n"
     ]
    },
    {
     "name": "stderr",
     "output_type": "stream",
     "text": [
      "                                                           \r"
     ]
    },
    {
     "name": "stdout",
     "output_type": "stream",
     "text": [
      "  Train Total Loss: 0.000303, Value Loss: 0.000303\n"
     ]
    },
    {
     "name": "stderr",
     "output_type": "stream",
     "text": [
      "                                                           \r"
     ]
    },
    {
     "name": "stdout",
     "output_type": "stream",
     "text": [
      "  Global Pearson Correlation: 0.9538\n",
      "  R² layer mean - uw: 0.9144\n",
      "  R² layer mean - vw: 0.8926\n",
      "  R² layer mean - tw: 0.9206\n",
      "  R² layer mean - qw: -50.7327\n",
      "  Saved R² plot to ./model_plots\\uvtr2_layer_epoch100.png\n",
      "  Saved scatter plot to ./model_plots\\uvtscatter_epoch100.png\n",
      "  Val Total Loss: 0.000969, Value Loss: 0.000969\n",
      "  Per-channel RMSE: uw=0.2911, vw=0.3242, tw=0.2773, \n",
      "  Saved best model: F:\\model\\model_save\\best_epoch100_val0.000969.pth\n",
      "\n",
      "Epoch 101/200\n"
     ]
    },
    {
     "name": "stderr",
     "output_type": "stream",
     "text": [
      "                                                           \r"
     ]
    },
    {
     "name": "stdout",
     "output_type": "stream",
     "text": [
      "  Train Total Loss: 0.000298, Value Loss: 0.000298\n"
     ]
    },
    {
     "name": "stderr",
     "output_type": "stream",
     "text": [
      "                                                           \r"
     ]
    },
    {
     "name": "stdout",
     "output_type": "stream",
     "text": [
      "  Global Pearson Correlation: 0.9529\n",
      "  R² layer mean - uw: 0.9101\n",
      "  R² layer mean - vw: 0.8879\n",
      "  R² layer mean - tw: 0.9195\n",
      "  R² layer mean - qw: -48.1616\n",
      "  Saved R² plot to ./model_plots\\uvtr2_layer_epoch101.png\n",
      "  Saved scatter plot to ./model_plots\\uvtscatter_epoch101.png\n",
      "  Val Total Loss: 0.000997, Value Loss: 0.000997\n",
      "  Per-channel RMSE: uw=0.2981, vw=0.3308, tw=0.2791, \n",
      "\n",
      "Epoch 102/200\n"
     ]
    },
    {
     "name": "stderr",
     "output_type": "stream",
     "text": [
      "                                                           \r"
     ]
    },
    {
     "name": "stdout",
     "output_type": "stream",
     "text": [
      "  Train Total Loss: 0.000287, Value Loss: 0.000287\n"
     ]
    },
    {
     "name": "stderr",
     "output_type": "stream",
     "text": [
      "                                                           \r"
     ]
    },
    {
     "name": "stdout",
     "output_type": "stream",
     "text": [
      "  Global Pearson Correlation: 0.9541\n",
      "  R² layer mean - uw: 0.9149\n",
      "  R² layer mean - vw: 0.8921\n",
      "  R² layer mean - tw: 0.9209\n",
      "  R² layer mean - qw: -47.8245\n",
      "  Saved R² plot to ./model_plots\\uvtr2_layer_epoch102.png\n",
      "  Saved scatter plot to ./model_plots\\uvtscatter_epoch102.png\n",
      "  Val Total Loss: 0.000968, Value Loss: 0.000968\n",
      "  Per-channel RMSE: uw=0.2902, vw=0.3248, tw=0.2771, \n",
      "  Saved best model: F:\\model\\model_save\\best_epoch102_val0.000968.pth\n",
      "\n",
      "Epoch 103/200\n"
     ]
    },
    {
     "name": "stderr",
     "output_type": "stream",
     "text": [
      "                                                           \r"
     ]
    },
    {
     "name": "stdout",
     "output_type": "stream",
     "text": [
      "  Train Total Loss: 0.000297, Value Loss: 0.000297\n"
     ]
    },
    {
     "name": "stderr",
     "output_type": "stream",
     "text": [
      "                                                           \r"
     ]
    },
    {
     "name": "stdout",
     "output_type": "stream",
     "text": [
      "  Global Pearson Correlation: 0.9527\n",
      "  R² layer mean - uw: 0.9114\n",
      "  R² layer mean - vw: 0.8926\n",
      "  R² layer mean - tw: 0.9194\n",
      "  R² layer mean - qw: -51.5818\n",
      "  Saved R² plot to ./model_plots\\uvtr2_layer_epoch103.png\n",
      "  Saved scatter plot to ./model_plots\\uvtscatter_epoch103.png\n",
      "  Val Total Loss: 0.000980, Value Loss: 0.000980\n",
      "  Per-channel RMSE: uw=0.2963, vw=0.3236, tw=0.2794, \n",
      "\n",
      "Epoch 104/200\n"
     ]
    },
    {
     "name": "stderr",
     "output_type": "stream",
     "text": [
      "                                                           \r"
     ]
    },
    {
     "name": "stdout",
     "output_type": "stream",
     "text": [
      "  Train Total Loss: 0.000296, Value Loss: 0.000296\n"
     ]
    },
    {
     "name": "stderr",
     "output_type": "stream",
     "text": [
      "                                                           \r"
     ]
    },
    {
     "name": "stdout",
     "output_type": "stream",
     "text": [
      "  Global Pearson Correlation: 0.9536\n",
      "  R² layer mean - uw: 0.9151\n",
      "  R² layer mean - vw: 0.8933\n",
      "  R² layer mean - tw: 0.9202\n",
      "  R² layer mean - qw: -47.0357\n",
      "  Saved R² plot to ./model_plots\\uvtr2_layer_epoch104.png\n",
      "  Saved scatter plot to ./model_plots\\uvtscatter_epoch104.png\n",
      "  Val Total Loss: 0.000965, Value Loss: 0.000965\n",
      "  Per-channel RMSE: uw=0.2898, vw=0.3223, tw=0.2781, \n",
      "  Saved best model: F:\\model\\model_save\\best_epoch104_val0.000965.pth\n",
      "\n",
      "Epoch 105/200\n"
     ]
    },
    {
     "name": "stderr",
     "output_type": "stream",
     "text": [
      "                                                           \r"
     ]
    },
    {
     "name": "stdout",
     "output_type": "stream",
     "text": [
      "  Train Total Loss: 0.000281, Value Loss: 0.000281\n"
     ]
    },
    {
     "name": "stderr",
     "output_type": "stream",
     "text": [
      "                                                           \r"
     ]
    },
    {
     "name": "stdout",
     "output_type": "stream",
     "text": [
      "  Global Pearson Correlation: 0.9535\n",
      "  R² layer mean - uw: 0.9141\n",
      "  R² layer mean - vw: 0.8935\n",
      "  R² layer mean - tw: 0.9203\n",
      "  R² layer mean - qw: -47.6377\n",
      "  Saved R² plot to ./model_plots\\uvtr2_layer_epoch105.png\n",
      "  Saved scatter plot to ./model_plots\\uvtscatter_epoch105.png\n",
      "  Val Total Loss: 0.000967, Value Loss: 0.000967\n",
      "  Per-channel RMSE: uw=0.2914, vw=0.3222, tw=0.2781, \n",
      "\n",
      "Epoch 106/200\n"
     ]
    },
    {
     "name": "stderr",
     "output_type": "stream",
     "text": [
      "                                                           \r"
     ]
    },
    {
     "name": "stdout",
     "output_type": "stream",
     "text": [
      "  Train Total Loss: 0.000292, Value Loss: 0.000292\n"
     ]
    },
    {
     "name": "stderr",
     "output_type": "stream",
     "text": [
      "                                                           \r"
     ]
    },
    {
     "name": "stdout",
     "output_type": "stream",
     "text": [
      "  Global Pearson Correlation: 0.9537\n",
      "  R² layer mean - uw: 0.9134\n",
      "  R² layer mean - vw: 0.8942\n",
      "  R² layer mean - tw: 0.9213\n",
      "  R² layer mean - qw: -44.1724\n",
      "  Saved R² plot to ./model_plots\\uvtr2_layer_epoch106.png\n",
      "  Saved scatter plot to ./model_plots\\uvtscatter_epoch106.png\n",
      "  Val Total Loss: 0.000964, Value Loss: 0.000964\n",
      "  Per-channel RMSE: uw=0.2928, vw=0.3216, tw=0.2765, \n",
      "  Saved best model: F:\\model\\model_save\\best_epoch106_val0.000964.pth\n",
      "\n",
      "Epoch 107/200\n"
     ]
    },
    {
     "name": "stderr",
     "output_type": "stream",
     "text": [
      "                                                           \r"
     ]
    },
    {
     "name": "stdout",
     "output_type": "stream",
     "text": [
      "  Train Total Loss: 0.000287, Value Loss: 0.000287\n"
     ]
    },
    {
     "name": "stderr",
     "output_type": "stream",
     "text": [
      "                                                           \r"
     ]
    },
    {
     "name": "stdout",
     "output_type": "stream",
     "text": [
      "  Global Pearson Correlation: 0.9536\n",
      "  R² layer mean - uw: 0.9138\n",
      "  R² layer mean - vw: 0.8923\n",
      "  R² layer mean - tw: 0.9209\n",
      "  R² layer mean - qw: -47.6138\n",
      "  Saved R² plot to ./model_plots\\uvtr2_layer_epoch107.png\n",
      "  Saved scatter plot to ./model_plots\\uvtscatter_epoch107.png\n",
      "  Val Total Loss: 0.000969, Value Loss: 0.000969\n",
      "  Per-channel RMSE: uw=0.2920, vw=0.3245, tw=0.2773, \n",
      "\n",
      "Epoch 108/200\n"
     ]
    },
    {
     "name": "stderr",
     "output_type": "stream",
     "text": [
      "                                                           \r"
     ]
    },
    {
     "name": "stdout",
     "output_type": "stream",
     "text": [
      "  Train Total Loss: 0.000285, Value Loss: 0.000285\n"
     ]
    },
    {
     "name": "stderr",
     "output_type": "stream",
     "text": [
      "                                                           \r"
     ]
    },
    {
     "name": "stdout",
     "output_type": "stream",
     "text": [
      "  Global Pearson Correlation: 0.9538\n",
      "  R² layer mean - uw: 0.9148\n",
      "  R² layer mean - vw: 0.8927\n",
      "  R² layer mean - tw: 0.9206\n",
      "  R² layer mean - qw: -48.1125\n",
      "  Saved R² plot to ./model_plots\\uvtr2_layer_epoch108.png\n",
      "  Saved scatter plot to ./model_plots\\uvtscatter_epoch108.png\n",
      "  Val Total Loss: 0.000966, Value Loss: 0.000966\n",
      "  Per-channel RMSE: uw=0.2904, vw=0.3239, tw=0.2775, \n",
      "\n",
      "Epoch 109/200\n"
     ]
    },
    {
     "name": "stderr",
     "output_type": "stream",
     "text": [
      "                                                           \r"
     ]
    },
    {
     "name": "stdout",
     "output_type": "stream",
     "text": [
      "  Train Total Loss: 0.000290, Value Loss: 0.000290\n"
     ]
    },
    {
     "name": "stderr",
     "output_type": "stream",
     "text": [
      "                                                           \r"
     ]
    },
    {
     "name": "stdout",
     "output_type": "stream",
     "text": [
      "  Global Pearson Correlation: 0.9536\n",
      "  R² layer mean - uw: 0.9155\n",
      "  R² layer mean - vw: 0.8923\n",
      "  R² layer mean - tw: 0.9201\n",
      "  R² layer mean - qw: -44.6872\n",
      "  Saved R² plot to ./model_plots\\uvtr2_layer_epoch109.png\n",
      "  Saved scatter plot to ./model_plots\\uvtscatter_epoch109.png\n",
      "  Val Total Loss: 0.000965, Value Loss: 0.000965\n",
      "  Per-channel RMSE: uw=0.2891, vw=0.3242, tw=0.2784, \n",
      "\n",
      "Epoch 110/200\n"
     ]
    },
    {
     "name": "stderr",
     "output_type": "stream",
     "text": [
      "                                                           \r"
     ]
    },
    {
     "name": "stdout",
     "output_type": "stream",
     "text": [
      "  Train Total Loss: 0.000286, Value Loss: 0.000286\n"
     ]
    },
    {
     "name": "stderr",
     "output_type": "stream",
     "text": [
      "                                                           \r"
     ]
    },
    {
     "name": "stdout",
     "output_type": "stream",
     "text": [
      "  Global Pearson Correlation: 0.9532\n",
      "  R² layer mean - uw: 0.9147\n",
      "  R² layer mean - vw: 0.8918\n",
      "  R² layer mean - tw: 0.9204\n",
      "  R² layer mean - qw: -46.8618\n",
      "  Saved R² plot to ./model_plots\\uvtr2_layer_epoch110.png\n",
      "  Saved scatter plot to ./model_plots\\uvtscatter_epoch110.png\n",
      "  Val Total Loss: 0.000973, Value Loss: 0.000973\n",
      "  Per-channel RMSE: uw=0.2908, vw=0.3250, tw=0.2780, \n",
      "\n",
      "Epoch 111/200\n"
     ]
    },
    {
     "name": "stderr",
     "output_type": "stream",
     "text": [
      "                                                           \r"
     ]
    },
    {
     "name": "stdout",
     "output_type": "stream",
     "text": [
      "  Train Total Loss: 0.000279, Value Loss: 0.000279\n"
     ]
    },
    {
     "name": "stderr",
     "output_type": "stream",
     "text": [
      "                                                           \r"
     ]
    },
    {
     "name": "stdout",
     "output_type": "stream",
     "text": [
      "  Global Pearson Correlation: 0.9537\n",
      "  R² layer mean - uw: 0.9144\n",
      "  R² layer mean - vw: 0.8935\n",
      "  R² layer mean - tw: 0.9199\n",
      "  R² layer mean - qw: -47.0169\n",
      "  Saved R² plot to ./model_plots\\uvtr2_layer_epoch111.png\n",
      "  Saved scatter plot to ./model_plots\\uvtscatter_epoch111.png\n",
      "  Val Total Loss: 0.000963, Value Loss: 0.000963\n",
      "  Per-channel RMSE: uw=0.2909, vw=0.3225, tw=0.2787, \n",
      "  Saved best model: F:\\model\\model_save\\best_epoch111_val0.000963.pth\n",
      "\n",
      "Epoch 112/200\n"
     ]
    },
    {
     "name": "stderr",
     "output_type": "stream",
     "text": [
      "                                                           \r"
     ]
    },
    {
     "name": "stdout",
     "output_type": "stream",
     "text": [
      "  Train Total Loss: 0.000285, Value Loss: 0.000285\n"
     ]
    },
    {
     "name": "stderr",
     "output_type": "stream",
     "text": [
      "                                                           \r"
     ]
    },
    {
     "name": "stdout",
     "output_type": "stream",
     "text": [
      "  Global Pearson Correlation: 0.9536\n",
      "  R² layer mean - uw: 0.9132\n",
      "  R² layer mean - vw: 0.8900\n",
      "  R² layer mean - tw: 0.9193\n",
      "  R² layer mean - qw: -44.5463\n",
      "  Saved R² plot to ./model_plots\\uvtr2_layer_epoch112.png\n",
      "  Saved scatter plot to ./model_plots\\uvtscatter_epoch112.png\n",
      "  Val Total Loss: 0.000980, Value Loss: 0.000980\n",
      "  Per-channel RMSE: uw=0.2932, vw=0.3282, tw=0.2801, \n",
      "\n",
      "Epoch 113/200\n"
     ]
    },
    {
     "name": "stderr",
     "output_type": "stream",
     "text": [
      "                                                           \r"
     ]
    },
    {
     "name": "stdout",
     "output_type": "stream",
     "text": [
      "  Train Total Loss: 0.000273, Value Loss: 0.000273\n"
     ]
    },
    {
     "name": "stderr",
     "output_type": "stream",
     "text": [
      "                                                           \r"
     ]
    },
    {
     "name": "stdout",
     "output_type": "stream",
     "text": [
      "  Global Pearson Correlation: 0.9527\n",
      "  R² layer mean - uw: 0.9128\n",
      "  R² layer mean - vw: 0.8880\n",
      "  R² layer mean - tw: 0.9195\n",
      "  R² layer mean - qw: -43.5897\n",
      "  Saved R² plot to ./model_plots\\uvtr2_layer_epoch113.png\n",
      "  Saved scatter plot to ./model_plots\\uvtscatter_epoch113.png\n",
      "  Val Total Loss: 0.000989, Value Loss: 0.000989\n",
      "  Per-channel RMSE: uw=0.2941, vw=0.3316, tw=0.2800, \n",
      "\n",
      "Epoch 114/200\n"
     ]
    },
    {
     "name": "stderr",
     "output_type": "stream",
     "text": [
      "                                                           \r"
     ]
    },
    {
     "name": "stdout",
     "output_type": "stream",
     "text": [
      "  Train Total Loss: 0.000277, Value Loss: 0.000277\n"
     ]
    },
    {
     "name": "stderr",
     "output_type": "stream",
     "text": [
      "                                                           \r"
     ]
    },
    {
     "name": "stdout",
     "output_type": "stream",
     "text": [
      "  Global Pearson Correlation: 0.9542\n",
      "  R² layer mean - uw: 0.9149\n",
      "  R² layer mean - vw: 0.8944\n",
      "  R² layer mean - tw: 0.9213\n",
      "  R² layer mean - qw: -43.7311\n",
      "  Saved R² plot to ./model_plots\\uvtr2_layer_epoch114.png\n",
      "  Saved scatter plot to ./model_plots\\uvtscatter_epoch114.png\n",
      "  Val Total Loss: 0.000957, Value Loss: 0.000957\n",
      "  Per-channel RMSE: uw=0.2904, vw=0.3215, tw=0.2763, \n",
      "  Saved best model: F:\\model\\model_save\\best_epoch114_val0.000957.pth\n",
      "\n",
      "Epoch 115/200\n"
     ]
    },
    {
     "name": "stderr",
     "output_type": "stream",
     "text": [
      "                                                           \r"
     ]
    },
    {
     "name": "stdout",
     "output_type": "stream",
     "text": [
      "  Train Total Loss: 0.000278, Value Loss: 0.000278\n"
     ]
    },
    {
     "name": "stderr",
     "output_type": "stream",
     "text": [
      "                                                           \r"
     ]
    },
    {
     "name": "stdout",
     "output_type": "stream",
     "text": [
      "  Global Pearson Correlation: 0.9530\n",
      "  R² layer mean - uw: 0.9156\n",
      "  R² layer mean - vw: 0.8898\n",
      "  R² layer mean - tw: 0.9190\n",
      "  R² layer mean - qw: -45.0514\n",
      "  Saved R² plot to ./model_plots\\uvtr2_layer_epoch115.png\n",
      "  Saved scatter plot to ./model_plots\\uvtscatter_epoch115.png\n",
      "  Val Total Loss: 0.000980, Value Loss: 0.000980\n",
      "  Per-channel RMSE: uw=0.2889, vw=0.3283, tw=0.2802, \n",
      "\n",
      "Epoch 116/200\n"
     ]
    },
    {
     "name": "stderr",
     "output_type": "stream",
     "text": [
      "                                                           \r"
     ]
    },
    {
     "name": "stdout",
     "output_type": "stream",
     "text": [
      "  Train Total Loss: 0.000275, Value Loss: 0.000275\n"
     ]
    },
    {
     "name": "stderr",
     "output_type": "stream",
     "text": [
      "                                                           \r"
     ]
    },
    {
     "name": "stdout",
     "output_type": "stream",
     "text": [
      "  Global Pearson Correlation: 0.9543\n",
      "  R² layer mean - uw: 0.9163\n",
      "  R² layer mean - vw: 0.8949\n",
      "  R² layer mean - tw: 0.9204\n",
      "  R² layer mean - qw: -42.9996\n",
      "  Saved R² plot to ./model_plots\\uvtr2_layer_epoch116.png\n",
      "  Saved scatter plot to ./model_plots\\uvtscatter_epoch116.png\n",
      "  Val Total Loss: 0.000954, Value Loss: 0.000954\n",
      "  Per-channel RMSE: uw=0.2877, vw=0.3200, tw=0.2775, \n",
      "  Saved best model: F:\\model\\model_save\\best_epoch116_val0.000954.pth\n",
      "\n",
      "Epoch 117/200\n"
     ]
    },
    {
     "name": "stderr",
     "output_type": "stream",
     "text": [
      "                                                           \r"
     ]
    },
    {
     "name": "stdout",
     "output_type": "stream",
     "text": [
      "  Train Total Loss: 0.000270, Value Loss: 0.000270\n"
     ]
    },
    {
     "name": "stderr",
     "output_type": "stream",
     "text": [
      "                                                           \r"
     ]
    },
    {
     "name": "stdout",
     "output_type": "stream",
     "text": [
      "  Global Pearson Correlation: 0.9541\n",
      "  R² layer mean - uw: 0.9153\n",
      "  R² layer mean - vw: 0.8932\n",
      "  R² layer mean - tw: 0.9210\n",
      "  R² layer mean - qw: -43.4735\n",
      "  Saved R² plot to ./model_plots\\uvtr2_layer_epoch117.png\n",
      "  Saved scatter plot to ./model_plots\\uvtscatter_epoch117.png\n",
      "  Val Total Loss: 0.000963, Value Loss: 0.000963\n",
      "  Per-channel RMSE: uw=0.2897, vw=0.3231, tw=0.2769, \n",
      "\n",
      "Epoch 118/200\n"
     ]
    },
    {
     "name": "stderr",
     "output_type": "stream",
     "text": [
      "                                                           \r"
     ]
    },
    {
     "name": "stdout",
     "output_type": "stream",
     "text": [
      "  Train Total Loss: 0.000274, Value Loss: 0.000274\n"
     ]
    },
    {
     "name": "stderr",
     "output_type": "stream",
     "text": [
      "                                                           \r"
     ]
    },
    {
     "name": "stdout",
     "output_type": "stream",
     "text": [
      "  Global Pearson Correlation: 0.9539\n",
      "  R² layer mean - uw: 0.9155\n",
      "  R² layer mean - vw: 0.8944\n",
      "  R² layer mean - tw: 0.9211\n",
      "  R² layer mean - qw: -43.2118\n",
      "  Saved R² plot to ./model_plots\\uvtr2_layer_epoch118.png\n",
      "  Saved scatter plot to ./model_plots\\uvtscatter_epoch118.png\n",
      "  Val Total Loss: 0.000954, Value Loss: 0.000954\n",
      "  Per-channel RMSE: uw=0.2892, vw=0.3214, tw=0.2769, \n",
      "  Saved best model: F:\\model\\model_save\\best_epoch118_val0.000954.pth\n",
      "\n",
      "Epoch 119/200\n"
     ]
    },
    {
     "name": "stderr",
     "output_type": "stream",
     "text": [
      "                                                           \r"
     ]
    },
    {
     "name": "stdout",
     "output_type": "stream",
     "text": [
      "  Train Total Loss: 0.000263, Value Loss: 0.000263\n"
     ]
    },
    {
     "name": "stderr",
     "output_type": "stream",
     "text": [
      "                                                           \r"
     ]
    },
    {
     "name": "stdout",
     "output_type": "stream",
     "text": [
      "  Global Pearson Correlation: 0.9539\n",
      "  R² layer mean - uw: 0.9149\n",
      "  R² layer mean - vw: 0.8916\n",
      "  R² layer mean - tw: 0.9211\n",
      "  R² layer mean - qw: -42.7755\n",
      "  Saved R² plot to ./model_plots\\uvtr2_layer_epoch119.png\n",
      "  Saved scatter plot to ./model_plots\\uvtscatter_epoch119.png\n",
      "  Val Total Loss: 0.000964, Value Loss: 0.000964\n",
      "  Per-channel RMSE: uw=0.2900, vw=0.3254, tw=0.2765, \n",
      "\n",
      "Epoch 120/200\n"
     ]
    },
    {
     "name": "stderr",
     "output_type": "stream",
     "text": [
      "                                                           \r"
     ]
    },
    {
     "name": "stdout",
     "output_type": "stream",
     "text": [
      "  Train Total Loss: 0.000262, Value Loss: 0.000262\n"
     ]
    },
    {
     "name": "stderr",
     "output_type": "stream",
     "text": [
      "                                                           \r"
     ]
    },
    {
     "name": "stdout",
     "output_type": "stream",
     "text": [
      "  Global Pearson Correlation: 0.9543\n",
      "  R² layer mean - uw: 0.9155\n",
      "  R² layer mean - vw: 0.8951\n",
      "  R² layer mean - tw: 0.9211\n",
      "  R² layer mean - qw: -42.8547\n",
      "  Saved R² plot to ./model_plots\\uvtr2_layer_epoch120.png\n",
      "  Saved scatter plot to ./model_plots\\uvtscatter_epoch120.png\n",
      "  Val Total Loss: 0.000953, Value Loss: 0.000953\n",
      "  Per-channel RMSE: uw=0.2891, vw=0.3201, tw=0.2766, \n",
      "  Saved best model: F:\\model\\model_save\\best_epoch120_val0.000953.pth\n",
      "\n",
      "Epoch 121/200\n"
     ]
    },
    {
     "name": "stderr",
     "output_type": "stream",
     "text": [
      "                                                           \r"
     ]
    },
    {
     "name": "stdout",
     "output_type": "stream",
     "text": [
      "  Train Total Loss: 0.000266, Value Loss: 0.000266\n"
     ]
    },
    {
     "name": "stderr",
     "output_type": "stream",
     "text": [
      "                                                           \r"
     ]
    },
    {
     "name": "stdout",
     "output_type": "stream",
     "text": [
      "  Global Pearson Correlation: 0.9526\n",
      "  R² layer mean - uw: 0.9138\n",
      "  R² layer mean - vw: 0.8903\n",
      "  R² layer mean - tw: 0.9194\n",
      "  R² layer mean - qw: -46.4067\n",
      "  Saved R² plot to ./model_plots\\uvtr2_layer_epoch121.png\n",
      "  Saved scatter plot to ./model_plots\\uvtscatter_epoch121.png\n",
      "  Val Total Loss: 0.000983, Value Loss: 0.000983\n",
      "  Per-channel RMSE: uw=0.2918, vw=0.3274, tw=0.2797, \n",
      "\n",
      "Epoch 122/200\n"
     ]
    },
    {
     "name": "stderr",
     "output_type": "stream",
     "text": [
      "                                                           \r"
     ]
    },
    {
     "name": "stdout",
     "output_type": "stream",
     "text": [
      "  Train Total Loss: 0.000270, Value Loss: 0.000270\n"
     ]
    },
    {
     "name": "stderr",
     "output_type": "stream",
     "text": [
      "                                                           \r"
     ]
    },
    {
     "name": "stdout",
     "output_type": "stream",
     "text": [
      "  Global Pearson Correlation: 0.9547\n",
      "  R² layer mean - uw: 0.9163\n",
      "  R² layer mean - vw: 0.8955\n",
      "  R² layer mean - tw: 0.9215\n",
      "  R² layer mean - qw: -44.4997\n",
      "  Saved R² plot to ./model_plots\\uvtr2_layer_epoch122.png\n",
      "  Saved scatter plot to ./model_plots\\uvtscatter_epoch122.png\n",
      "  Val Total Loss: 0.000951, Value Loss: 0.000951\n",
      "  Per-channel RMSE: uw=0.2877, vw=0.3196, tw=0.2759, \n",
      "  Saved best model: F:\\model\\model_save\\best_epoch122_val0.000951.pth\n",
      "\n",
      "Epoch 123/200\n"
     ]
    },
    {
     "name": "stderr",
     "output_type": "stream",
     "text": [
      "                                                           \r"
     ]
    },
    {
     "name": "stdout",
     "output_type": "stream",
     "text": [
      "  Train Total Loss: 0.000265, Value Loss: 0.000265\n"
     ]
    },
    {
     "name": "stderr",
     "output_type": "stream",
     "text": [
      "                                                           \r"
     ]
    },
    {
     "name": "stdout",
     "output_type": "stream",
     "text": [
      "  Global Pearson Correlation: 0.9540\n",
      "  R² layer mean - uw: 0.9142\n",
      "  R² layer mean - vw: 0.8928\n",
      "  R² layer mean - tw: 0.9214\n",
      "  R² layer mean - qw: -42.4783\n",
      "  Saved R² plot to ./model_plots\\uvtr2_layer_epoch123.png\n",
      "  Saved scatter plot to ./model_plots\\uvtscatter_epoch123.png\n",
      "  Val Total Loss: 0.000964, Value Loss: 0.000964\n",
      "  Per-channel RMSE: uw=0.2914, vw=0.3240, tw=0.2763, \n",
      "\n",
      "Epoch 124/200\n"
     ]
    },
    {
     "name": "stderr",
     "output_type": "stream",
     "text": [
      "                                                           \r"
     ]
    },
    {
     "name": "stdout",
     "output_type": "stream",
     "text": [
      "  Train Total Loss: 0.000264, Value Loss: 0.000264\n"
     ]
    },
    {
     "name": "stderr",
     "output_type": "stream",
     "text": [
      "                                                           \r"
     ]
    },
    {
     "name": "stdout",
     "output_type": "stream",
     "text": [
      "  Global Pearson Correlation: 0.9546\n",
      "  R² layer mean - uw: 0.9139\n",
      "  R² layer mean - vw: 0.8943\n",
      "  R² layer mean - tw: 0.9213\n",
      "  R² layer mean - qw: -40.8989\n",
      "  Saved R² plot to ./model_plots\\uvtr2_layer_epoch124.png\n",
      "  Saved scatter plot to ./model_plots\\uvtscatter_epoch124.png\n",
      "  Val Total Loss: 0.000955, Value Loss: 0.000955\n",
      "  Per-channel RMSE: uw=0.2914, vw=0.3214, tw=0.2761, \n",
      "\n",
      "Epoch 125/200\n"
     ]
    },
    {
     "name": "stderr",
     "output_type": "stream",
     "text": [
      "                                                           \r"
     ]
    },
    {
     "name": "stdout",
     "output_type": "stream",
     "text": [
      "  Train Total Loss: 0.000264, Value Loss: 0.000264\n"
     ]
    },
    {
     "name": "stderr",
     "output_type": "stream",
     "text": [
      "                                                           \r"
     ]
    },
    {
     "name": "stdout",
     "output_type": "stream",
     "text": [
      "  Global Pearson Correlation: 0.9543\n",
      "  R² layer mean - uw: 0.9163\n",
      "  R² layer mean - vw: 0.8934\n",
      "  R² layer mean - tw: 0.9219\n",
      "  R² layer mean - qw: -40.9535\n",
      "  Saved R² plot to ./model_plots\\uvtr2_layer_epoch125.png\n",
      "  Saved scatter plot to ./model_plots\\uvtscatter_epoch125.png\n",
      "  Val Total Loss: 0.000955, Value Loss: 0.000955\n",
      "  Per-channel RMSE: uw=0.2879, vw=0.3226, tw=0.2753, \n",
      "\n",
      "Epoch 126/200\n"
     ]
    },
    {
     "name": "stderr",
     "output_type": "stream",
     "text": [
      "                                                           \r"
     ]
    },
    {
     "name": "stdout",
     "output_type": "stream",
     "text": [
      "  Train Total Loss: 0.000258, Value Loss: 0.000258\n"
     ]
    },
    {
     "name": "stderr",
     "output_type": "stream",
     "text": [
      "                                                           \r"
     ]
    },
    {
     "name": "stdout",
     "output_type": "stream",
     "text": [
      "  Global Pearson Correlation: 0.9542\n",
      "  R² layer mean - uw: 0.9173\n",
      "  R² layer mean - vw: 0.8924\n",
      "  R² layer mean - tw: 0.9206\n",
      "  R² layer mean - qw: -41.1979\n",
      "  Saved R² plot to ./model_plots\\uvtr2_layer_epoch126.png\n",
      "  Saved scatter plot to ./model_plots\\uvtscatter_epoch126.png\n",
      "  Val Total Loss: 0.000959, Value Loss: 0.000959\n",
      "  Per-channel RMSE: uw=0.2861, vw=0.3244, tw=0.2777, \n",
      "\n",
      "Epoch 127/200\n"
     ]
    },
    {
     "name": "stderr",
     "output_type": "stream",
     "text": [
      "                                                           \r"
     ]
    },
    {
     "name": "stdout",
     "output_type": "stream",
     "text": [
      "  Train Total Loss: 0.000271, Value Loss: 0.000271\n"
     ]
    },
    {
     "name": "stderr",
     "output_type": "stream",
     "text": [
      "                                                           \r"
     ]
    },
    {
     "name": "stdout",
     "output_type": "stream",
     "text": [
      "  Global Pearson Correlation: 0.9539\n",
      "  R² layer mean - uw: 0.9159\n",
      "  R² layer mean - vw: 0.8946\n",
      "  R² layer mean - tw: 0.9195\n",
      "  R² layer mean - qw: -40.0348\n",
      "  Saved R² plot to ./model_plots\\uvtr2_layer_epoch127.png\n",
      "  Saved scatter plot to ./model_plots\\uvtscatter_epoch127.png\n",
      "  Val Total Loss: 0.000955, Value Loss: 0.000955\n",
      "  Per-channel RMSE: uw=0.2883, vw=0.3205, tw=0.2796, \n",
      "\n",
      "Epoch 128/200\n"
     ]
    },
    {
     "name": "stderr",
     "output_type": "stream",
     "text": [
      "                                                           \r"
     ]
    },
    {
     "name": "stdout",
     "output_type": "stream",
     "text": [
      "  Train Total Loss: 0.000265, Value Loss: 0.000265\n"
     ]
    },
    {
     "name": "stderr",
     "output_type": "stream",
     "text": [
      "                                                           \r"
     ]
    },
    {
     "name": "stdout",
     "output_type": "stream",
     "text": [
      "  Global Pearson Correlation: 0.9539\n",
      "  R² layer mean - uw: 0.9157\n",
      "  R² layer mean - vw: 0.8936\n",
      "  R² layer mean - tw: 0.9216\n",
      "  R² layer mean - qw: -41.9771\n",
      "  Saved R² plot to ./model_plots\\uvtr2_layer_epoch128.png\n",
      "  Saved scatter plot to ./model_plots\\uvtscatter_epoch128.png\n",
      "  Val Total Loss: 0.000956, Value Loss: 0.000956\n",
      "  Per-channel RMSE: uw=0.2887, vw=0.3226, tw=0.2759, \n",
      "\n",
      "Epoch 129/200\n"
     ]
    },
    {
     "name": "stderr",
     "output_type": "stream",
     "text": [
      "                                                           \r"
     ]
    },
    {
     "name": "stdout",
     "output_type": "stream",
     "text": [
      "  Train Total Loss: 0.000237, Value Loss: 0.000237\n"
     ]
    },
    {
     "name": "stderr",
     "output_type": "stream",
     "text": [
      "                                                           \r"
     ]
    },
    {
     "name": "stdout",
     "output_type": "stream",
     "text": [
      "  Global Pearson Correlation: 0.9554\n",
      "  R² layer mean - uw: 0.9180\n",
      "  R² layer mean - vw: 0.8955\n",
      "  R² layer mean - tw: 0.9229\n",
      "  R² layer mean - qw: -40.0224\n",
      "  Saved R² plot to ./model_plots\\uvtr2_layer_epoch129.png\n",
      "  Saved scatter plot to ./model_plots\\uvtscatter_epoch129.png\n",
      "  Val Total Loss: 0.000934, Value Loss: 0.000934\n",
      "  Per-channel RMSE: uw=0.2849, vw=0.3197, tw=0.2736, \n",
      "  Saved best model: F:\\model\\model_save\\best_epoch129_val0.000934.pth\n",
      "\n",
      "Epoch 130/200\n"
     ]
    },
    {
     "name": "stderr",
     "output_type": "stream",
     "text": [
      "                                                           \r"
     ]
    },
    {
     "name": "stdout",
     "output_type": "stream",
     "text": [
      "  Train Total Loss: 0.000228, Value Loss: 0.000228\n"
     ]
    },
    {
     "name": "stderr",
     "output_type": "stream",
     "text": [
      "                                                           \r"
     ]
    },
    {
     "name": "stdout",
     "output_type": "stream",
     "text": [
      "  Global Pearson Correlation: 0.9559\n",
      "  R² layer mean - uw: 0.9182\n",
      "  R² layer mean - vw: 0.8979\n",
      "  R² layer mean - tw: 0.9236\n",
      "  R² layer mean - qw: -39.3900\n",
      "  Saved R² plot to ./model_plots\\uvtr2_layer_epoch130.png\n",
      "  Saved scatter plot to ./model_plots\\uvtscatter_epoch130.png\n",
      "  Val Total Loss: 0.000924, Value Loss: 0.000924\n",
      "  Per-channel RMSE: uw=0.2845, vw=0.3158, tw=0.2725, \n",
      "  Saved best model: F:\\model\\model_save\\best_epoch130_val0.000924.pth\n",
      "\n",
      "Epoch 131/200\n"
     ]
    },
    {
     "name": "stderr",
     "output_type": "stream",
     "text": [
      "                                                           \r"
     ]
    },
    {
     "name": "stdout",
     "output_type": "stream",
     "text": [
      "  Train Total Loss: 0.000222, Value Loss: 0.000222\n"
     ]
    },
    {
     "name": "stderr",
     "output_type": "stream",
     "text": [
      "                                                           \r"
     ]
    },
    {
     "name": "stdout",
     "output_type": "stream",
     "text": [
      "  Global Pearson Correlation: 0.9558\n",
      "  R² layer mean - uw: 0.9165\n",
      "  R² layer mean - vw: 0.8960\n",
      "  R² layer mean - tw: 0.9241\n",
      "  R² layer mean - qw: -40.5853\n",
      "  Saved R² plot to ./model_plots\\uvtr2_layer_epoch131.png\n",
      "  Saved scatter plot to ./model_plots\\uvtscatter_epoch131.png\n",
      "  Val Total Loss: 0.000934, Value Loss: 0.000934\n",
      "  Per-channel RMSE: uw=0.2875, vw=0.3190, tw=0.2716, \n",
      "\n",
      "Epoch 132/200\n"
     ]
    },
    {
     "name": "stderr",
     "output_type": "stream",
     "text": [
      "                                                           \r"
     ]
    },
    {
     "name": "stdout",
     "output_type": "stream",
     "text": [
      "  Train Total Loss: 0.000213, Value Loss: 0.000213\n"
     ]
    },
    {
     "name": "stderr",
     "output_type": "stream",
     "text": [
      "                                                           \r"
     ]
    },
    {
     "name": "stdout",
     "output_type": "stream",
     "text": [
      "  Global Pearson Correlation: 0.9559\n",
      "  R² layer mean - uw: 0.9188\n",
      "  R² layer mean - vw: 0.8985\n",
      "  R² layer mean - tw: 0.9233\n",
      "  R² layer mean - qw: -40.3302\n",
      "  Saved R² plot to ./model_plots\\uvtr2_layer_epoch132.png\n",
      "  Saved scatter plot to ./model_plots\\uvtscatter_epoch132.png\n",
      "  Val Total Loss: 0.000921, Value Loss: 0.000921\n",
      "  Per-channel RMSE: uw=0.2836, vw=0.3149, tw=0.2727, \n",
      "  Saved best model: F:\\model\\model_save\\best_epoch132_val0.000921.pth\n",
      "\n",
      "Epoch 133/200\n"
     ]
    },
    {
     "name": "stderr",
     "output_type": "stream",
     "text": [
      "                                                           \r"
     ]
    },
    {
     "name": "stdout",
     "output_type": "stream",
     "text": [
      "  Train Total Loss: 0.000214, Value Loss: 0.000214\n"
     ]
    },
    {
     "name": "stderr",
     "output_type": "stream",
     "text": [
      "                                                           \r"
     ]
    },
    {
     "name": "stdout",
     "output_type": "stream",
     "text": [
      "  Global Pearson Correlation: 0.9567\n",
      "  R² layer mean - uw: 0.9197\n",
      "  R² layer mean - vw: 0.8973\n",
      "  R² layer mean - tw: 0.9245\n",
      "  R² layer mean - qw: -39.3547\n",
      "  Saved R² plot to ./model_plots\\uvtr2_layer_epoch133.png\n",
      "  Saved scatter plot to ./model_plots\\uvtscatter_epoch133.png\n",
      "  Val Total Loss: 0.000919, Value Loss: 0.000919\n",
      "  Per-channel RMSE: uw=0.2817, vw=0.3168, tw=0.2705, \n",
      "  Saved best model: F:\\model\\model_save\\best_epoch133_val0.000919.pth\n",
      "\n",
      "Epoch 134/200\n"
     ]
    },
    {
     "name": "stderr",
     "output_type": "stream",
     "text": [
      "                                                           \r"
     ]
    },
    {
     "name": "stdout",
     "output_type": "stream",
     "text": [
      "  Train Total Loss: 0.000216, Value Loss: 0.000216\n"
     ]
    },
    {
     "name": "stderr",
     "output_type": "stream",
     "text": [
      "                                                           \r"
     ]
    },
    {
     "name": "stdout",
     "output_type": "stream",
     "text": [
      "  Global Pearson Correlation: 0.9558\n",
      "  R² layer mean - uw: 0.9182\n",
      "  R² layer mean - vw: 0.8962\n",
      "  R² layer mean - tw: 0.9245\n",
      "  R² layer mean - qw: -40.1356\n",
      "  Saved R² plot to ./model_plots\\uvtr2_layer_epoch134.png\n",
      "  Saved scatter plot to ./model_plots\\uvtscatter_epoch134.png\n",
      "  Val Total Loss: 0.000927, Value Loss: 0.000927\n",
      "  Per-channel RMSE: uw=0.2843, vw=0.3185, tw=0.2707, \n",
      "\n",
      "Epoch 135/200\n"
     ]
    },
    {
     "name": "stderr",
     "output_type": "stream",
     "text": [
      "                                                           \r"
     ]
    },
    {
     "name": "stdout",
     "output_type": "stream",
     "text": [
      "  Train Total Loss: 0.000219, Value Loss: 0.000219\n"
     ]
    },
    {
     "name": "stderr",
     "output_type": "stream",
     "text": [
      "                                                           \r"
     ]
    },
    {
     "name": "stdout",
     "output_type": "stream",
     "text": [
      "  Global Pearson Correlation: 0.9560\n",
      "  R² layer mean - uw: 0.9193\n",
      "  R² layer mean - vw: 0.8972\n",
      "  R² layer mean - tw: 0.9245\n",
      "  R² layer mean - qw: -40.6000\n",
      "  Saved R² plot to ./model_plots\\uvtr2_layer_epoch135.png\n",
      "  Saved scatter plot to ./model_plots\\uvtscatter_epoch135.png\n",
      "  Val Total Loss: 0.000920, Value Loss: 0.000920\n",
      "  Per-channel RMSE: uw=0.2827, vw=0.3168, tw=0.2705, \n",
      "\n",
      "Epoch 136/200\n"
     ]
    },
    {
     "name": "stderr",
     "output_type": "stream",
     "text": [
      "                                                           \r"
     ]
    },
    {
     "name": "stdout",
     "output_type": "stream",
     "text": [
      "  Train Total Loss: 0.000214, Value Loss: 0.000214\n"
     ]
    },
    {
     "name": "stderr",
     "output_type": "stream",
     "text": [
      "                                                           \r"
     ]
    },
    {
     "name": "stdout",
     "output_type": "stream",
     "text": [
      "  Global Pearson Correlation: 0.9562\n",
      "  R² layer mean - uw: 0.9196\n",
      "  R² layer mean - vw: 0.8970\n",
      "  R² layer mean - tw: 0.9251\n",
      "  R² layer mean - qw: -41.0758\n",
      "  Saved R² plot to ./model_plots\\uvtr2_layer_epoch136.png\n",
      "  Saved scatter plot to ./model_plots\\uvtscatter_epoch136.png\n",
      "  Val Total Loss: 0.000918, Value Loss: 0.000918\n",
      "  Per-channel RMSE: uw=0.2821, vw=0.3171, tw=0.2696, \n",
      "  Saved best model: F:\\model\\model_save\\best_epoch136_val0.000918.pth\n",
      "\n",
      "Epoch 137/200\n"
     ]
    },
    {
     "name": "stderr",
     "output_type": "stream",
     "text": [
      "                                                           \r"
     ]
    },
    {
     "name": "stdout",
     "output_type": "stream",
     "text": [
      "  Train Total Loss: 0.000210, Value Loss: 0.000210\n"
     ]
    },
    {
     "name": "stderr",
     "output_type": "stream",
     "text": [
      "                                                           \r"
     ]
    },
    {
     "name": "stdout",
     "output_type": "stream",
     "text": [
      "  Global Pearson Correlation: 0.9562\n",
      "  R² layer mean - uw: 0.9195\n",
      "  R² layer mean - vw: 0.8977\n",
      "  R² layer mean - tw: 0.9251\n",
      "  R² layer mean - qw: -39.5815\n",
      "  Saved R² plot to ./model_plots\\uvtr2_layer_epoch137.png\n",
      "  Saved scatter plot to ./model_plots\\uvtscatter_epoch137.png\n",
      "  Val Total Loss: 0.000920, Value Loss: 0.000920\n",
      "  Per-channel RMSE: uw=0.2824, vw=0.3163, tw=0.2698, \n",
      "\n",
      "Epoch 138/200\n"
     ]
    },
    {
     "name": "stderr",
     "output_type": "stream",
     "text": [
      "                                                           \r"
     ]
    },
    {
     "name": "stdout",
     "output_type": "stream",
     "text": [
      "  Train Total Loss: 0.000210, Value Loss: 0.000210\n"
     ]
    },
    {
     "name": "stderr",
     "output_type": "stream",
     "text": [
      "                                                           \r"
     ]
    },
    {
     "name": "stdout",
     "output_type": "stream",
     "text": [
      "  Global Pearson Correlation: 0.9559\n",
      "  R² layer mean - uw: 0.9188\n",
      "  R² layer mean - vw: 0.8967\n",
      "  R² layer mean - tw: 0.9247\n",
      "  R² layer mean - qw: -39.3070\n",
      "  Saved R² plot to ./model_plots\\uvtr2_layer_epoch138.png\n",
      "  Saved scatter plot to ./model_plots\\uvtscatter_epoch138.png\n",
      "  Val Total Loss: 0.000924, Value Loss: 0.000924\n",
      "  Per-channel RMSE: uw=0.2837, vw=0.3178, tw=0.2704, \n",
      "\n",
      "Epoch 139/200\n"
     ]
    },
    {
     "name": "stderr",
     "output_type": "stream",
     "text": [
      "                                                           \r"
     ]
    },
    {
     "name": "stdout",
     "output_type": "stream",
     "text": [
      "  Train Total Loss: 0.000217, Value Loss: 0.000217\n"
     ]
    },
    {
     "name": "stderr",
     "output_type": "stream",
     "text": [
      "                                                           \r"
     ]
    },
    {
     "name": "stdout",
     "output_type": "stream",
     "text": [
      "  Global Pearson Correlation: 0.9561\n",
      "  R² layer mean - uw: 0.9194\n",
      "  R² layer mean - vw: 0.8958\n",
      "  R² layer mean - tw: 0.9244\n",
      "  R² layer mean - qw: -41.1266\n",
      "  Saved R² plot to ./model_plots\\uvtr2_layer_epoch139.png\n",
      "  Saved scatter plot to ./model_plots\\uvtscatter_epoch139.png\n",
      "  Val Total Loss: 0.000924, Value Loss: 0.000924\n",
      "  Per-channel RMSE: uw=0.2825, vw=0.3190, tw=0.2707, \n",
      "\n",
      "Epoch 140/200\n"
     ]
    },
    {
     "name": "stderr",
     "output_type": "stream",
     "text": [
      "                                                           \r"
     ]
    },
    {
     "name": "stdout",
     "output_type": "stream",
     "text": [
      "  Train Total Loss: 0.000212, Value Loss: 0.000212\n"
     ]
    },
    {
     "name": "stderr",
     "output_type": "stream",
     "text": [
      "                                                           \r"
     ]
    },
    {
     "name": "stdout",
     "output_type": "stream",
     "text": [
      "  Global Pearson Correlation: 0.9560\n",
      "  R² layer mean - uw: 0.9192\n",
      "  R² layer mean - vw: 0.8982\n",
      "  R² layer mean - tw: 0.9251\n",
      "  R² layer mean - qw: -39.8889\n",
      "  Saved R² plot to ./model_plots\\uvtr2_layer_epoch140.png\n",
      "  Saved scatter plot to ./model_plots\\uvtscatter_epoch140.png\n",
      "  Val Total Loss: 0.000917, Value Loss: 0.000917\n",
      "  Per-channel RMSE: uw=0.2828, vw=0.3153, tw=0.2697, \n",
      "  Saved best model: F:\\model\\model_save\\best_epoch140_val0.000917.pth\n",
      "\n",
      "Epoch 141/200\n"
     ]
    },
    {
     "name": "stderr",
     "output_type": "stream",
     "text": [
      "                                                           \r"
     ]
    },
    {
     "name": "stdout",
     "output_type": "stream",
     "text": [
      "  Train Total Loss: 0.000215, Value Loss: 0.000215\n"
     ]
    },
    {
     "name": "stderr",
     "output_type": "stream",
     "text": [
      "                                                           \r"
     ]
    },
    {
     "name": "stdout",
     "output_type": "stream",
     "text": [
      "  Global Pearson Correlation: 0.9562\n",
      "  R² layer mean - uw: 0.9199\n",
      "  R² layer mean - vw: 0.8966\n",
      "  R² layer mean - tw: 0.9248\n",
      "  R² layer mean - qw: -38.2280\n",
      "  Saved R² plot to ./model_plots\\uvtr2_layer_epoch141.png\n",
      "  Saved scatter plot to ./model_plots\\uvtscatter_epoch141.png\n",
      "  Val Total Loss: 0.000921, Value Loss: 0.000921\n",
      "  Per-channel RMSE: uw=0.2816, vw=0.3179, tw=0.2703, \n",
      "\n",
      "Epoch 142/200\n"
     ]
    },
    {
     "name": "stderr",
     "output_type": "stream",
     "text": [
      "                                                           \r"
     ]
    },
    {
     "name": "stdout",
     "output_type": "stream",
     "text": [
      "  Train Total Loss: 0.000215, Value Loss: 0.000215\n"
     ]
    },
    {
     "name": "stderr",
     "output_type": "stream",
     "text": [
      "                                                           \r"
     ]
    },
    {
     "name": "stdout",
     "output_type": "stream",
     "text": [
      "  Global Pearson Correlation: 0.9561\n",
      "  R² layer mean - uw: 0.9188\n",
      "  R² layer mean - vw: 0.8966\n",
      "  R² layer mean - tw: 0.9245\n",
      "  R² layer mean - qw: -39.5980\n",
      "  Saved R² plot to ./model_plots\\uvtr2_layer_epoch142.png\n",
      "  Saved scatter plot to ./model_plots\\uvtscatter_epoch142.png\n",
      "  Val Total Loss: 0.000922, Value Loss: 0.000922\n",
      "  Per-channel RMSE: uw=0.2836, vw=0.3177, tw=0.2707, \n",
      "\n",
      "Epoch 143/200\n"
     ]
    },
    {
     "name": "stderr",
     "output_type": "stream",
     "text": [
      "                                                           \r"
     ]
    },
    {
     "name": "stdout",
     "output_type": "stream",
     "text": [
      "  Train Total Loss: 0.000205, Value Loss: 0.000205\n"
     ]
    },
    {
     "name": "stderr",
     "output_type": "stream",
     "text": [
      "                                                           \r"
     ]
    },
    {
     "name": "stdout",
     "output_type": "stream",
     "text": [
      "  Global Pearson Correlation: 0.9568\n",
      "  R² layer mean - uw: 0.9205\n",
      "  R² layer mean - vw: 0.8979\n",
      "  R² layer mean - tw: 0.9259\n",
      "  R² layer mean - qw: -38.0389\n",
      "  Saved R² plot to ./model_plots\\uvtr2_layer_epoch143.png\n",
      "  Saved scatter plot to ./model_plots\\uvtscatter_epoch143.png\n",
      "  Val Total Loss: 0.000910, Value Loss: 0.000910\n",
      "  Per-channel RMSE: uw=0.2805, vw=0.3159, tw=0.2681, \n",
      "  Saved best model: F:\\model\\model_save\\best_epoch143_val0.000910.pth\n",
      "\n",
      "Epoch 144/200\n"
     ]
    },
    {
     "name": "stderr",
     "output_type": "stream",
     "text": [
      "                                                           \r"
     ]
    },
    {
     "name": "stdout",
     "output_type": "stream",
     "text": [
      "  Train Total Loss: 0.000191, Value Loss: 0.000191\n"
     ]
    },
    {
     "name": "stderr",
     "output_type": "stream",
     "text": [
      "                                                           \r"
     ]
    },
    {
     "name": "stdout",
     "output_type": "stream",
     "text": [
      "  Global Pearson Correlation: 0.9568\n",
      "  R² layer mean - uw: 0.9198\n",
      "  R² layer mean - vw: 0.8986\n",
      "  R² layer mean - tw: 0.9262\n",
      "  R² layer mean - qw: -39.1712\n",
      "  Saved R² plot to ./model_plots\\uvtr2_layer_epoch144.png\n",
      "  Saved scatter plot to ./model_plots\\uvtscatter_epoch144.png\n",
      "  Val Total Loss: 0.000909, Value Loss: 0.000909\n",
      "  Per-channel RMSE: uw=0.2818, vw=0.3149, tw=0.2677, \n",
      "  Saved best model: F:\\model\\model_save\\best_epoch144_val0.000909.pth\n",
      "\n",
      "Epoch 145/200\n"
     ]
    },
    {
     "name": "stderr",
     "output_type": "stream",
     "text": [
      "                                                           \r"
     ]
    },
    {
     "name": "stdout",
     "output_type": "stream",
     "text": [
      "  Train Total Loss: 0.000194, Value Loss: 0.000194\n"
     ]
    },
    {
     "name": "stderr",
     "output_type": "stream",
     "text": [
      "                                                           \r"
     ]
    },
    {
     "name": "stdout",
     "output_type": "stream",
     "text": [
      "  Global Pearson Correlation: 0.9565\n",
      "  R² layer mean - uw: 0.9201\n",
      "  R² layer mean - vw: 0.8982\n",
      "  R² layer mean - tw: 0.9254\n",
      "  R² layer mean - qw: -39.0880\n",
      "  Saved R² plot to ./model_plots\\uvtr2_layer_epoch145.png\n",
      "  Saved scatter plot to ./model_plots\\uvtscatter_epoch145.png\n",
      "  Val Total Loss: 0.000911, Value Loss: 0.000911\n",
      "  Per-channel RMSE: uw=0.2812, vw=0.3154, tw=0.2691, \n",
      "\n",
      "Epoch 146/200\n"
     ]
    },
    {
     "name": "stderr",
     "output_type": "stream",
     "text": [
      "                                                           \r"
     ]
    },
    {
     "name": "stdout",
     "output_type": "stream",
     "text": [
      "  Train Total Loss: 0.000189, Value Loss: 0.000189\n"
     ]
    },
    {
     "name": "stderr",
     "output_type": "stream",
     "text": [
      "                                                           \r"
     ]
    },
    {
     "name": "stdout",
     "output_type": "stream",
     "text": [
      "  Global Pearson Correlation: 0.9569\n",
      "  R² layer mean - uw: 0.9203\n",
      "  R² layer mean - vw: 0.8986\n",
      "  R² layer mean - tw: 0.9257\n",
      "  R² layer mean - qw: -38.8353\n",
      "  Saved R² plot to ./model_plots\\uvtr2_layer_epoch146.png\n",
      "  Saved scatter plot to ./model_plots\\uvtscatter_epoch146.png\n",
      "  Val Total Loss: 0.000908, Value Loss: 0.000908\n",
      "  Per-channel RMSE: uw=0.2810, vw=0.3148, tw=0.2686, \n",
      "  Saved best model: F:\\model\\model_save\\best_epoch146_val0.000908.pth\n",
      "\n",
      "Epoch 147/200\n"
     ]
    },
    {
     "name": "stderr",
     "output_type": "stream",
     "text": [
      "                                                           \r"
     ]
    },
    {
     "name": "stdout",
     "output_type": "stream",
     "text": [
      "  Train Total Loss: 0.000186, Value Loss: 0.000186\n"
     ]
    },
    {
     "name": "stderr",
     "output_type": "stream",
     "text": [
      "                                                           \r"
     ]
    },
    {
     "name": "stdout",
     "output_type": "stream",
     "text": [
      "  Global Pearson Correlation: 0.9566\n",
      "  R² layer mean - uw: 0.9206\n",
      "  R² layer mean - vw: 0.8972\n",
      "  R² layer mean - tw: 0.9254\n",
      "  R² layer mean - qw: -38.6587\n",
      "  Saved R² plot to ./model_plots\\uvtr2_layer_epoch147.png\n",
      "  Saved scatter plot to ./model_plots\\uvtscatter_epoch147.png\n",
      "  Val Total Loss: 0.000913, Value Loss: 0.000913\n",
      "  Per-channel RMSE: uw=0.2805, vw=0.3172, tw=0.2691, \n",
      "\n",
      "Epoch 148/200\n"
     ]
    },
    {
     "name": "stderr",
     "output_type": "stream",
     "text": [
      "                                                           \r"
     ]
    },
    {
     "name": "stdout",
     "output_type": "stream",
     "text": [
      "  Train Total Loss: 0.000192, Value Loss: 0.000192\n"
     ]
    },
    {
     "name": "stderr",
     "output_type": "stream",
     "text": [
      "                                                           \r"
     ]
    },
    {
     "name": "stdout",
     "output_type": "stream",
     "text": [
      "  Global Pearson Correlation: 0.9567\n",
      "  R² layer mean - uw: 0.9200\n",
      "  R² layer mean - vw: 0.8986\n",
      "  R² layer mean - tw: 0.9261\n",
      "  R² layer mean - qw: -40.1295\n",
      "  Saved R² plot to ./model_plots\\uvtr2_layer_epoch148.png\n",
      "  Saved scatter plot to ./model_plots\\uvtscatter_epoch148.png\n",
      "  Val Total Loss: 0.000908, Value Loss: 0.000908\n",
      "  Per-channel RMSE: uw=0.2814, vw=0.3149, tw=0.2679, \n",
      "\n",
      "Epoch 149/200\n"
     ]
    },
    {
     "name": "stderr",
     "output_type": "stream",
     "text": [
      "                                                           \r"
     ]
    },
    {
     "name": "stdout",
     "output_type": "stream",
     "text": [
      "  Train Total Loss: 0.000193, Value Loss: 0.000193\n"
     ]
    },
    {
     "name": "stderr",
     "output_type": "stream",
     "text": [
      "                                                           \r"
     ]
    },
    {
     "name": "stdout",
     "output_type": "stream",
     "text": [
      "  Global Pearson Correlation: 0.9566\n",
      "  R² layer mean - uw: 0.9202\n",
      "  R² layer mean - vw: 0.8986\n",
      "  R² layer mean - tw: 0.9255\n",
      "  R² layer mean - qw: -39.6168\n",
      "  Saved R² plot to ./model_plots\\uvtr2_layer_epoch149.png\n",
      "  Saved scatter plot to ./model_plots\\uvtscatter_epoch149.png\n",
      "  Val Total Loss: 0.000911, Value Loss: 0.000911\n",
      "  Per-channel RMSE: uw=0.2813, vw=0.3148, tw=0.2691, \n",
      "\n",
      "Epoch 150/200\n"
     ]
    },
    {
     "name": "stderr",
     "output_type": "stream",
     "text": [
      "                                                           \r"
     ]
    },
    {
     "name": "stdout",
     "output_type": "stream",
     "text": [
      "  Train Total Loss: 0.000189, Value Loss: 0.000189\n"
     ]
    },
    {
     "name": "stderr",
     "output_type": "stream",
     "text": [
      "                                                           \r"
     ]
    },
    {
     "name": "stdout",
     "output_type": "stream",
     "text": [
      "  Global Pearson Correlation: 0.9569\n",
      "  R² layer mean - uw: 0.9200\n",
      "  R² layer mean - vw: 0.8984\n",
      "  R² layer mean - tw: 0.9258\n",
      "  R² layer mean - qw: -40.6563\n",
      "  Saved R² plot to ./model_plots\\uvtr2_layer_epoch150.png\n",
      "  Saved scatter plot to ./model_plots\\uvtscatter_epoch150.png\n",
      "  Val Total Loss: 0.000909, Value Loss: 0.000909\n",
      "  Per-channel RMSE: uw=0.2814, vw=0.3151, tw=0.2683, \n",
      "\n",
      "Epoch 151/200\n"
     ]
    },
    {
     "name": "stderr",
     "output_type": "stream",
     "text": [
      "                                                           \r"
     ]
    },
    {
     "name": "stdout",
     "output_type": "stream",
     "text": [
      "  Train Total Loss: 0.000193, Value Loss: 0.000193\n"
     ]
    },
    {
     "name": "stderr",
     "output_type": "stream",
     "text": [
      "                                                           \r"
     ]
    },
    {
     "name": "stdout",
     "output_type": "stream",
     "text": [
      "  Global Pearson Correlation: 0.9568\n",
      "  R² layer mean - uw: 0.9204\n",
      "  R² layer mean - vw: 0.8982\n",
      "  R² layer mean - tw: 0.9264\n",
      "  R² layer mean - qw: -40.1568\n",
      "  Saved R² plot to ./model_plots\\uvtr2_layer_epoch151.png\n",
      "  Saved scatter plot to ./model_plots\\uvtscatter_epoch151.png\n",
      "  Val Total Loss: 0.000908, Value Loss: 0.000908\n",
      "  Per-channel RMSE: uw=0.2808, vw=0.3155, tw=0.2673, \n",
      "  Saved best model: F:\\model\\model_save\\best_epoch151_val0.000908.pth\n",
      "\n",
      "Epoch 152/200\n"
     ]
    },
    {
     "name": "stderr",
     "output_type": "stream",
     "text": [
      "                                                           \r"
     ]
    },
    {
     "name": "stdout",
     "output_type": "stream",
     "text": [
      "  Train Total Loss: 0.000189, Value Loss: 0.000189\n"
     ]
    },
    {
     "name": "stderr",
     "output_type": "stream",
     "text": [
      "                                                           \r"
     ]
    },
    {
     "name": "stdout",
     "output_type": "stream",
     "text": [
      "  Global Pearson Correlation: 0.9566\n",
      "  R² layer mean - uw: 0.9202\n",
      "  R² layer mean - vw: 0.8976\n",
      "  R² layer mean - tw: 0.9260\n",
      "  R² layer mean - qw: -38.6647\n",
      "  Saved R² plot to ./model_plots\\uvtr2_layer_epoch152.png\n",
      "  Saved scatter plot to ./model_plots\\uvtscatter_epoch152.png\n",
      "  Val Total Loss: 0.000910, Value Loss: 0.000910\n",
      "  Per-channel RMSE: uw=0.2810, vw=0.3164, tw=0.2680, \n",
      "\n",
      "Epoch 153/200\n"
     ]
    },
    {
     "name": "stderr",
     "output_type": "stream",
     "text": [
      "                                                           \r"
     ]
    },
    {
     "name": "stdout",
     "output_type": "stream",
     "text": [
      "  Train Total Loss: 0.000187, Value Loss: 0.000187\n"
     ]
    },
    {
     "name": "stderr",
     "output_type": "stream",
     "text": [
      "                                                           \r"
     ]
    },
    {
     "name": "stdout",
     "output_type": "stream",
     "text": [
      "  Global Pearson Correlation: 0.9568\n",
      "  R² layer mean - uw: 0.9193\n",
      "  R² layer mean - vw: 0.8978\n",
      "  R² layer mean - tw: 0.9261\n",
      "  R² layer mean - qw: -39.2073\n",
      "  Saved R² plot to ./model_plots\\uvtr2_layer_epoch153.png\n",
      "  Saved scatter plot to ./model_plots\\uvtscatter_epoch153.png\n",
      "  Val Total Loss: 0.000911, Value Loss: 0.000911\n",
      "  Per-channel RMSE: uw=0.2827, vw=0.3162, tw=0.2679, \n",
      "\n",
      "Epoch 154/200\n"
     ]
    },
    {
     "name": "stderr",
     "output_type": "stream",
     "text": [
      "                                                           \r"
     ]
    },
    {
     "name": "stdout",
     "output_type": "stream",
     "text": [
      "  Train Total Loss: 0.000184, Value Loss: 0.000184\n"
     ]
    },
    {
     "name": "stderr",
     "output_type": "stream",
     "text": [
      "                                                           \r"
     ]
    },
    {
     "name": "stdout",
     "output_type": "stream",
     "text": [
      "  Global Pearson Correlation: 0.9568\n",
      "  R² layer mean - uw: 0.9206\n",
      "  R² layer mean - vw: 0.8986\n",
      "  R² layer mean - tw: 0.9264\n",
      "  R² layer mean - qw: -38.8963\n",
      "  Saved R² plot to ./model_plots\\uvtr2_layer_epoch154.png\n",
      "  Saved scatter plot to ./model_plots\\uvtscatter_epoch154.png\n",
      "  Val Total Loss: 0.000905, Value Loss: 0.000905\n",
      "  Per-channel RMSE: uw=0.2805, vw=0.3149, tw=0.2674, \n",
      "  Saved best model: F:\\model\\model_save\\best_epoch154_val0.000905.pth\n",
      "\n",
      "Epoch 155/200\n"
     ]
    },
    {
     "name": "stderr",
     "output_type": "stream",
     "text": [
      "                                                           \r"
     ]
    },
    {
     "name": "stdout",
     "output_type": "stream",
     "text": [
      "  Train Total Loss: 0.000184, Value Loss: 0.000184\n"
     ]
    },
    {
     "name": "stderr",
     "output_type": "stream",
     "text": [
      "                                                           \r"
     ]
    },
    {
     "name": "stdout",
     "output_type": "stream",
     "text": [
      "  Global Pearson Correlation: 0.9567\n",
      "  R² layer mean - uw: 0.9199\n",
      "  R² layer mean - vw: 0.8973\n",
      "  R² layer mean - tw: 0.9259\n",
      "  R² layer mean - qw: -38.5824\n",
      "  Saved R² plot to ./model_plots\\uvtr2_layer_epoch155.png\n",
      "  Saved scatter plot to ./model_plots\\uvtscatter_epoch155.png\n",
      "  Val Total Loss: 0.000912, Value Loss: 0.000912\n",
      "  Per-channel RMSE: uw=0.2816, vw=0.3171, tw=0.2682, \n",
      "\n",
      "Epoch 156/200\n"
     ]
    },
    {
     "name": "stderr",
     "output_type": "stream",
     "text": [
      "                                                           \r"
     ]
    },
    {
     "name": "stdout",
     "output_type": "stream",
     "text": [
      "  Train Total Loss: 0.000187, Value Loss: 0.000187\n"
     ]
    },
    {
     "name": "stderr",
     "output_type": "stream",
     "text": [
      "                                                           \r"
     ]
    },
    {
     "name": "stdout",
     "output_type": "stream",
     "text": [
      "  Global Pearson Correlation: 0.9567\n",
      "  R² layer mean - uw: 0.9207\n",
      "  R² layer mean - vw: 0.8989\n",
      "  R² layer mean - tw: 0.9264\n",
      "  R² layer mean - qw: -37.6665\n",
      "  Saved R² plot to ./model_plots\\uvtr2_layer_epoch156.png\n",
      "  Saved scatter plot to ./model_plots\\uvtscatter_epoch156.png\n",
      "  Val Total Loss: 0.000904, Value Loss: 0.000904\n",
      "  Per-channel RMSE: uw=0.2801, vw=0.3143, tw=0.2673, \n",
      "  Saved best model: F:\\model\\model_save\\best_epoch156_val0.000904.pth\n",
      "\n",
      "Epoch 157/200\n"
     ]
    },
    {
     "name": "stderr",
     "output_type": "stream",
     "text": [
      "                                                           \r"
     ]
    },
    {
     "name": "stdout",
     "output_type": "stream",
     "text": [
      "  Train Total Loss: 0.000186, Value Loss: 0.000186\n"
     ]
    },
    {
     "name": "stderr",
     "output_type": "stream",
     "text": [
      "                                                           \r"
     ]
    },
    {
     "name": "stdout",
     "output_type": "stream",
     "text": [
      "  Global Pearson Correlation: 0.9572\n",
      "  R² layer mean - uw: 0.9208\n",
      "  R² layer mean - vw: 0.8988\n",
      "  R² layer mean - tw: 0.9263\n",
      "  R² layer mean - qw: -38.5069\n",
      "  Saved R² plot to ./model_plots\\uvtr2_layer_epoch157.png\n",
      "  Saved scatter plot to ./model_plots\\uvtscatter_epoch157.png\n",
      "  Val Total Loss: 0.000902, Value Loss: 0.000902\n",
      "  Per-channel RMSE: uw=0.2801, vw=0.3144, tw=0.2674, \n",
      "  Saved best model: F:\\model\\model_save\\best_epoch157_val0.000902.pth\n",
      "\n",
      "Epoch 158/200\n"
     ]
    },
    {
     "name": "stderr",
     "output_type": "stream",
     "text": [
      "                                                           \r"
     ]
    },
    {
     "name": "stdout",
     "output_type": "stream",
     "text": [
      "  Train Total Loss: 0.000181, Value Loss: 0.000181\n"
     ]
    },
    {
     "name": "stderr",
     "output_type": "stream",
     "text": [
      "                                                           \r"
     ]
    },
    {
     "name": "stdout",
     "output_type": "stream",
     "text": [
      "  Global Pearson Correlation: 0.9569\n",
      "  R² layer mean - uw: 0.9211\n",
      "  R² layer mean - vw: 0.8974\n",
      "  R² layer mean - tw: 0.9268\n",
      "  R² layer mean - qw: -38.2074\n",
      "  Saved R² plot to ./model_plots\\uvtr2_layer_epoch158.png\n",
      "  Saved scatter plot to ./model_plots\\uvtscatter_epoch158.png\n",
      "  Val Total Loss: 0.000905, Value Loss: 0.000905\n",
      "  Per-channel RMSE: uw=0.2795, vw=0.3168, tw=0.2666, \n",
      "\n",
      "Epoch 159/200\n"
     ]
    },
    {
     "name": "stderr",
     "output_type": "stream",
     "text": [
      "                                                           \r"
     ]
    },
    {
     "name": "stdout",
     "output_type": "stream",
     "text": [
      "  Train Total Loss: 0.000183, Value Loss: 0.000183\n"
     ]
    },
    {
     "name": "stderr",
     "output_type": "stream",
     "text": [
      "                                                           \r"
     ]
    },
    {
     "name": "stdout",
     "output_type": "stream",
     "text": [
      "  Global Pearson Correlation: 0.9566\n",
      "  R² layer mean - uw: 0.9201\n",
      "  R² layer mean - vw: 0.8978\n",
      "  R² layer mean - tw: 0.9258\n",
      "  R² layer mean - qw: -38.6334\n",
      "  Saved R² plot to ./model_plots\\uvtr2_layer_epoch159.png\n",
      "  Saved scatter plot to ./model_plots\\uvtscatter_epoch159.png\n",
      "  Val Total Loss: 0.000910, Value Loss: 0.000910\n",
      "  Per-channel RMSE: uw=0.2812, vw=0.3162, tw=0.2685, \n",
      "\n",
      "Epoch 160/200\n"
     ]
    },
    {
     "name": "stderr",
     "output_type": "stream",
     "text": [
      "                                                           \r"
     ]
    },
    {
     "name": "stdout",
     "output_type": "stream",
     "text": [
      "  Train Total Loss: 0.000186, Value Loss: 0.000186\n"
     ]
    },
    {
     "name": "stderr",
     "output_type": "stream",
     "text": [
      "                                                           \r"
     ]
    },
    {
     "name": "stdout",
     "output_type": "stream",
     "text": [
      "  Global Pearson Correlation: 0.9568\n",
      "  R² layer mean - uw: 0.9205\n",
      "  R² layer mean - vw: 0.8979\n",
      "  R² layer mean - tw: 0.9260\n",
      "  R² layer mean - qw: -37.8013\n",
      "  Saved R² plot to ./model_plots\\uvtr2_layer_epoch160.png\n",
      "  Saved scatter plot to ./model_plots\\uvtscatter_epoch160.png\n",
      "  Val Total Loss: 0.000907, Value Loss: 0.000907\n",
      "  Per-channel RMSE: uw=0.2805, vw=0.3161, tw=0.2680, \n",
      "\n",
      "Epoch 161/200\n"
     ]
    },
    {
     "name": "stderr",
     "output_type": "stream",
     "text": [
      "                                                           \r"
     ]
    },
    {
     "name": "stdout",
     "output_type": "stream",
     "text": [
      "  Train Total Loss: 0.000183, Value Loss: 0.000183\n"
     ]
    },
    {
     "name": "stderr",
     "output_type": "stream",
     "text": [
      "                                                           \r"
     ]
    },
    {
     "name": "stdout",
     "output_type": "stream",
     "text": [
      "  Global Pearson Correlation: 0.9569\n",
      "  R² layer mean - uw: 0.9209\n",
      "  R² layer mean - vw: 0.8986\n",
      "  R² layer mean - tw: 0.9260\n",
      "  R² layer mean - qw: -37.9622\n",
      "  Saved R² plot to ./model_plots\\uvtr2_layer_epoch161.png\n",
      "  Saved scatter plot to ./model_plots\\uvtscatter_epoch161.png\n",
      "  Val Total Loss: 0.000904, Value Loss: 0.000904\n",
      "  Per-channel RMSE: uw=0.2798, vw=0.3149, tw=0.2680, \n",
      "\n",
      "Epoch 162/200\n"
     ]
    },
    {
     "name": "stderr",
     "output_type": "stream",
     "text": [
      "                                                           \r"
     ]
    },
    {
     "name": "stdout",
     "output_type": "stream",
     "text": [
      "  Train Total Loss: 0.000181, Value Loss: 0.000181\n"
     ]
    },
    {
     "name": "stderr",
     "output_type": "stream",
     "text": [
      "                                                           \r"
     ]
    },
    {
     "name": "stdout",
     "output_type": "stream",
     "text": [
      "  Global Pearson Correlation: 0.9570\n",
      "  R² layer mean - uw: 0.9206\n",
      "  R² layer mean - vw: 0.8987\n",
      "  R² layer mean - tw: 0.9267\n",
      "  R² layer mean - qw: -37.1078\n",
      "  Saved R² plot to ./model_plots\\uvtr2_layer_epoch162.png\n",
      "  Saved scatter plot to ./model_plots\\uvtscatter_epoch162.png\n",
      "  Val Total Loss: 0.000902, Value Loss: 0.000902\n",
      "  Per-channel RMSE: uw=0.2804, vw=0.3145, tw=0.2667, \n",
      "\n",
      "Epoch 163/200\n"
     ]
    },
    {
     "name": "stderr",
     "output_type": "stream",
     "text": [
      "                                                           \r"
     ]
    },
    {
     "name": "stdout",
     "output_type": "stream",
     "text": [
      "  Train Total Loss: 0.000181, Value Loss: 0.000181\n"
     ]
    },
    {
     "name": "stderr",
     "output_type": "stream",
     "text": [
      "                                                           \r"
     ]
    },
    {
     "name": "stdout",
     "output_type": "stream",
     "text": [
      "  Global Pearson Correlation: 0.9569\n",
      "  R² layer mean - uw: 0.9206\n",
      "  R² layer mean - vw: 0.8982\n",
      "  R² layer mean - tw: 0.9260\n",
      "  R² layer mean - qw: -37.4649\n",
      "  Saved R² plot to ./model_plots\\uvtr2_layer_epoch163.png\n",
      "  Saved scatter plot to ./model_plots\\uvtscatter_epoch163.png\n",
      "  Val Total Loss: 0.000907, Value Loss: 0.000907\n",
      "  Per-channel RMSE: uw=0.2804, vw=0.3153, tw=0.2680, \n",
      "\n",
      "Epoch 164/200\n"
     ]
    },
    {
     "name": "stderr",
     "output_type": "stream",
     "text": [
      "                                                           \r"
     ]
    },
    {
     "name": "stdout",
     "output_type": "stream",
     "text": [
      "  Train Total Loss: 0.000184, Value Loss: 0.000184\n"
     ]
    },
    {
     "name": "stderr",
     "output_type": "stream",
     "text": [
      "                                                           \r"
     ]
    },
    {
     "name": "stdout",
     "output_type": "stream",
     "text": [
      "  Global Pearson Correlation: 0.9571\n",
      "  R² layer mean - uw: 0.9209\n",
      "  R² layer mean - vw: 0.8979\n",
      "  R² layer mean - tw: 0.9266\n",
      "  R² layer mean - qw: -36.8504\n",
      "  Saved R² plot to ./model_plots\\uvtr2_layer_epoch164.png\n",
      "  Saved scatter plot to ./model_plots\\uvtscatter_epoch164.png\n",
      "  Val Total Loss: 0.000905, Value Loss: 0.000905\n",
      "  Per-channel RMSE: uw=0.2798, vw=0.3160, tw=0.2669, \n",
      "\n",
      "Epoch 165/200\n"
     ]
    },
    {
     "name": "stderr",
     "output_type": "stream",
     "text": [
      "                                                           \r"
     ]
    },
    {
     "name": "stdout",
     "output_type": "stream",
     "text": [
      "  Train Total Loss: 0.000174, Value Loss: 0.000174\n"
     ]
    },
    {
     "name": "stderr",
     "output_type": "stream",
     "text": [
      "                                                           \r"
     ]
    },
    {
     "name": "stdout",
     "output_type": "stream",
     "text": [
      "  Global Pearson Correlation: 0.9573\n",
      "  R² layer mean - uw: 0.9217\n",
      "  R² layer mean - vw: 0.8991\n",
      "  R² layer mean - tw: 0.9272\n",
      "  R² layer mean - qw: -37.8516\n",
      "  Saved R² plot to ./model_plots\\uvtr2_layer_epoch165.png\n",
      "  Saved scatter plot to ./model_plots\\uvtscatter_epoch165.png\n",
      "  Val Total Loss: 0.000897, Value Loss: 0.000897\n",
      "  Per-channel RMSE: uw=0.2784, vw=0.3140, tw=0.2657, \n",
      "  Saved best model: F:\\model\\model_save\\best_epoch165_val0.000897.pth\n",
      "\n",
      "Epoch 166/200\n"
     ]
    },
    {
     "name": "stderr",
     "output_type": "stream",
     "text": [
      "                                                           \r"
     ]
    },
    {
     "name": "stdout",
     "output_type": "stream",
     "text": [
      "  Train Total Loss: 0.000177, Value Loss: 0.000177\n"
     ]
    },
    {
     "name": "stderr",
     "output_type": "stream",
     "text": [
      "                                                           \r"
     ]
    },
    {
     "name": "stdout",
     "output_type": "stream",
     "text": [
      "  Global Pearson Correlation: 0.9567\n",
      "  R² layer mean - uw: 0.9202\n",
      "  R² layer mean - vw: 0.8979\n",
      "  R² layer mean - tw: 0.9261\n",
      "  R² layer mean - qw: -37.4232\n",
      "  Saved R² plot to ./model_plots\\uvtr2_layer_epoch166.png\n",
      "  Saved scatter plot to ./model_plots\\uvtscatter_epoch166.png\n",
      "  Val Total Loss: 0.000909, Value Loss: 0.000909\n",
      "  Per-channel RMSE: uw=0.2811, vw=0.3159, tw=0.2679, \n",
      "\n",
      "Epoch 167/200\n"
     ]
    },
    {
     "name": "stderr",
     "output_type": "stream",
     "text": [
      "                                                           \r"
     ]
    },
    {
     "name": "stdout",
     "output_type": "stream",
     "text": [
      "  Train Total Loss: 0.000174, Value Loss: 0.000174\n"
     ]
    },
    {
     "name": "stderr",
     "output_type": "stream",
     "text": [
      "                                                           \r"
     ]
    },
    {
     "name": "stdout",
     "output_type": "stream",
     "text": [
      "  Global Pearson Correlation: 0.9569\n",
      "  R² layer mean - uw: 0.9210\n",
      "  R² layer mean - vw: 0.8978\n",
      "  R² layer mean - tw: 0.9269\n",
      "  R² layer mean - qw: -39.3885\n",
      "  Saved R² plot to ./model_plots\\uvtr2_layer_epoch167.png\n",
      "  Saved scatter plot to ./model_plots\\uvtscatter_epoch167.png\n",
      "  Val Total Loss: 0.000903, Value Loss: 0.000903\n",
      "  Per-channel RMSE: uw=0.2797, vw=0.3161, tw=0.2664, \n",
      "\n",
      "Epoch 168/200\n"
     ]
    },
    {
     "name": "stderr",
     "output_type": "stream",
     "text": [
      "                                                           \r"
     ]
    },
    {
     "name": "stdout",
     "output_type": "stream",
     "text": [
      "  Train Total Loss: 0.000170, Value Loss: 0.000170\n"
     ]
    },
    {
     "name": "stderr",
     "output_type": "stream",
     "text": [
      "                                                           \r"
     ]
    },
    {
     "name": "stdout",
     "output_type": "stream",
     "text": [
      "  Global Pearson Correlation: 0.9573\n",
      "  R² layer mean - uw: 0.9219\n",
      "  R² layer mean - vw: 0.9000\n",
      "  R² layer mean - tw: 0.9269\n",
      "  R² layer mean - qw: -38.0058\n",
      "  Saved R² plot to ./model_plots\\uvtr2_layer_epoch168.png\n",
      "  Saved scatter plot to ./model_plots\\uvtscatter_epoch168.png\n",
      "  Val Total Loss: 0.000894, Value Loss: 0.000894\n",
      "  Per-channel RMSE: uw=0.2780, vw=0.3125, tw=0.2664, \n",
      "  Saved best model: F:\\model\\model_save\\best_epoch168_val0.000894.pth\n",
      "\n",
      "Epoch 169/200\n"
     ]
    },
    {
     "name": "stderr",
     "output_type": "stream",
     "text": [
      "                                                           \r"
     ]
    },
    {
     "name": "stdout",
     "output_type": "stream",
     "text": [
      "  Train Total Loss: 0.000176, Value Loss: 0.000176\n"
     ]
    },
    {
     "name": "stderr",
     "output_type": "stream",
     "text": [
      "                                                           \r"
     ]
    },
    {
     "name": "stdout",
     "output_type": "stream",
     "text": [
      "  Global Pearson Correlation: 0.9571\n",
      "  R² layer mean - uw: 0.9206\n",
      "  R² layer mean - vw: 0.8980\n",
      "  R² layer mean - tw: 0.9262\n",
      "  R² layer mean - qw: -38.2777\n",
      "  Saved R² plot to ./model_plots\\uvtr2_layer_epoch169.png\n",
      "  Saved scatter plot to ./model_plots\\uvtscatter_epoch169.png\n",
      "  Val Total Loss: 0.000906, Value Loss: 0.000906\n",
      "  Per-channel RMSE: uw=0.2804, vw=0.3157, tw=0.2677, \n",
      "\n",
      "Epoch 170/200\n"
     ]
    },
    {
     "name": "stderr",
     "output_type": "stream",
     "text": [
      "                                                           \r"
     ]
    },
    {
     "name": "stdout",
     "output_type": "stream",
     "text": [
      "  Train Total Loss: 0.000170, Value Loss: 0.000170\n"
     ]
    },
    {
     "name": "stderr",
     "output_type": "stream",
     "text": [
      "                                                           \r"
     ]
    },
    {
     "name": "stdout",
     "output_type": "stream",
     "text": [
      "  Global Pearson Correlation: 0.9572\n",
      "  R² layer mean - uw: 0.9210\n",
      "  R² layer mean - vw: 0.8986\n",
      "  R² layer mean - tw: 0.9260\n",
      "  R² layer mean - qw: -36.5163\n",
      "  Saved R² plot to ./model_plots\\uvtr2_layer_epoch170.png\n",
      "  Saved scatter plot to ./model_plots\\uvtscatter_epoch170.png\n",
      "  Val Total Loss: 0.000903, Value Loss: 0.000903\n",
      "  Per-channel RMSE: uw=0.2797, vw=0.3150, tw=0.2681, \n",
      "\n",
      "Epoch 171/200\n"
     ]
    },
    {
     "name": "stderr",
     "output_type": "stream",
     "text": [
      "                                                           \r"
     ]
    },
    {
     "name": "stdout",
     "output_type": "stream",
     "text": [
      "  Train Total Loss: 0.000171, Value Loss: 0.000171\n"
     ]
    },
    {
     "name": "stderr",
     "output_type": "stream",
     "text": [
      "                                                           \r"
     ]
    },
    {
     "name": "stdout",
     "output_type": "stream",
     "text": [
      "  Global Pearson Correlation: 0.9570\n",
      "  R² layer mean - uw: 0.9211\n",
      "  R² layer mean - vw: 0.8989\n",
      "  R² layer mean - tw: 0.9264\n",
      "  R² layer mean - qw: -37.3894\n",
      "  Saved R² plot to ./model_plots\\uvtr2_layer_epoch171.png\n",
      "  Saved scatter plot to ./model_plots\\uvtscatter_epoch171.png\n",
      "  Val Total Loss: 0.000902, Value Loss: 0.000902\n",
      "  Per-channel RMSE: uw=0.2795, vw=0.3144, tw=0.2673, \n",
      "\n",
      "Epoch 172/200\n"
     ]
    },
    {
     "name": "stderr",
     "output_type": "stream",
     "text": [
      "                                                           \r"
     ]
    },
    {
     "name": "stdout",
     "output_type": "stream",
     "text": [
      "  Train Total Loss: 0.000176, Value Loss: 0.000176\n"
     ]
    },
    {
     "name": "stderr",
     "output_type": "stream",
     "text": [
      "                                                           \r"
     ]
    },
    {
     "name": "stdout",
     "output_type": "stream",
     "text": [
      "  Global Pearson Correlation: 0.9574\n",
      "  R² layer mean - uw: 0.9221\n",
      "  R² layer mean - vw: 0.8996\n",
      "  R² layer mean - tw: 0.9275\n",
      "  R² layer mean - qw: -37.4824\n",
      "  Saved R² plot to ./model_plots\\uvtr2_layer_epoch172.png\n",
      "  Saved scatter plot to ./model_plots\\uvtscatter_epoch172.png\n",
      "  Val Total Loss: 0.000893, Value Loss: 0.000893\n",
      "  Per-channel RMSE: uw=0.2777, vw=0.3132, tw=0.2653, \n",
      "  Saved best model: F:\\model\\model_save\\best_epoch172_val0.000893.pth\n",
      "\n",
      "Epoch 173/200\n"
     ]
    },
    {
     "name": "stderr",
     "output_type": "stream",
     "text": [
      "                                                           \r"
     ]
    },
    {
     "name": "stdout",
     "output_type": "stream",
     "text": [
      "  Train Total Loss: 0.000175, Value Loss: 0.000175\n"
     ]
    },
    {
     "name": "stderr",
     "output_type": "stream",
     "text": [
      "                                                           \r"
     ]
    },
    {
     "name": "stdout",
     "output_type": "stream",
     "text": [
      "  Global Pearson Correlation: 0.9572\n",
      "  R² layer mean - uw: 0.9218\n",
      "  R² layer mean - vw: 0.8988\n",
      "  R² layer mean - tw: 0.9268\n",
      "  R² layer mean - qw: -37.1940\n",
      "  Saved R² plot to ./model_plots\\uvtr2_layer_epoch173.png\n",
      "  Saved scatter plot to ./model_plots\\uvtscatter_epoch173.png\n",
      "  Val Total Loss: 0.000900, Value Loss: 0.000900\n",
      "  Per-channel RMSE: uw=0.2783, vw=0.3147, tw=0.2666, \n",
      "\n",
      "Epoch 174/200\n"
     ]
    },
    {
     "name": "stderr",
     "output_type": "stream",
     "text": [
      "                                                           \r"
     ]
    },
    {
     "name": "stdout",
     "output_type": "stream",
     "text": [
      "  Train Total Loss: 0.000174, Value Loss: 0.000174\n"
     ]
    },
    {
     "name": "stderr",
     "output_type": "stream",
     "text": [
      "                                                           \r"
     ]
    },
    {
     "name": "stdout",
     "output_type": "stream",
     "text": [
      "  Global Pearson Correlation: 0.9573\n",
      "  R² layer mean - uw: 0.9211\n",
      "  R² layer mean - vw: 0.8994\n",
      "  R² layer mean - tw: 0.9276\n",
      "  R² layer mean - qw: -37.3620\n",
      "  Saved R² plot to ./model_plots\\uvtr2_layer_epoch174.png\n",
      "  Saved scatter plot to ./model_plots\\uvtscatter_epoch174.png\n",
      "  Val Total Loss: 0.000896, Value Loss: 0.000896\n",
      "  Per-channel RMSE: uw=0.2796, vw=0.3135, tw=0.2651, \n",
      "\n",
      "Epoch 175/200\n"
     ]
    },
    {
     "name": "stderr",
     "output_type": "stream",
     "text": [
      "                                                           \r"
     ]
    },
    {
     "name": "stdout",
     "output_type": "stream",
     "text": [
      "  Train Total Loss: 0.000172, Value Loss: 0.000172\n"
     ]
    },
    {
     "name": "stderr",
     "output_type": "stream",
     "text": [
      "                                                           \r"
     ]
    },
    {
     "name": "stdout",
     "output_type": "stream",
     "text": [
      "  Global Pearson Correlation: 0.9569\n",
      "  R² layer mean - uw: 0.9209\n",
      "  R² layer mean - vw: 0.8985\n",
      "  R² layer mean - tw: 0.9263\n",
      "  R² layer mean - qw: -36.7494\n",
      "  Saved R² plot to ./model_plots\\uvtr2_layer_epoch175.png\n",
      "  Saved scatter plot to ./model_plots\\uvtscatter_epoch175.png\n",
      "  Val Total Loss: 0.000904, Value Loss: 0.000904\n",
      "  Per-channel RMSE: uw=0.2797, vw=0.3148, tw=0.2673, \n",
      "\n",
      "Epoch 176/200\n"
     ]
    },
    {
     "name": "stderr",
     "output_type": "stream",
     "text": [
      "                                                           \r"
     ]
    },
    {
     "name": "stdout",
     "output_type": "stream",
     "text": [
      "  Train Total Loss: 0.000172, Value Loss: 0.000172\n"
     ]
    },
    {
     "name": "stderr",
     "output_type": "stream",
     "text": [
      "                                                           \r"
     ]
    },
    {
     "name": "stdout",
     "output_type": "stream",
     "text": [
      "  Global Pearson Correlation: 0.9572\n",
      "  R² layer mean - uw: 0.9212\n",
      "  R² layer mean - vw: 0.8984\n",
      "  R² layer mean - tw: 0.9265\n",
      "  R² layer mean - qw: -37.0127\n",
      "  Saved R² plot to ./model_plots\\uvtr2_layer_epoch176.png\n",
      "  Saved scatter plot to ./model_plots\\uvtscatter_epoch176.png\n",
      "  Val Total Loss: 0.000903, Value Loss: 0.000903\n",
      "  Per-channel RMSE: uw=0.2794, vw=0.3152, tw=0.2671, \n",
      "\n",
      "Epoch 177/200\n"
     ]
    },
    {
     "name": "stderr",
     "output_type": "stream",
     "text": [
      "                                                           \r"
     ]
    },
    {
     "name": "stdout",
     "output_type": "stream",
     "text": [
      "  Train Total Loss: 0.000171, Value Loss: 0.000171\n"
     ]
    },
    {
     "name": "stderr",
     "output_type": "stream",
     "text": [
      "                                                           \r"
     ]
    },
    {
     "name": "stdout",
     "output_type": "stream",
     "text": [
      "  Global Pearson Correlation: 0.9574\n",
      "  R² layer mean - uw: 0.9216\n",
      "  R² layer mean - vw: 0.9001\n",
      "  R² layer mean - tw: 0.9273\n",
      "  R² layer mean - qw: -38.2669\n",
      "  Saved R² plot to ./model_plots\\uvtr2_layer_epoch177.png\n",
      "  Saved scatter plot to ./model_plots\\uvtscatter_epoch177.png\n",
      "  Val Total Loss: 0.000893, Value Loss: 0.000893\n",
      "  Per-channel RMSE: uw=0.2784, vw=0.3124, tw=0.2656, \n",
      "\n",
      "Epoch 178/200\n"
     ]
    },
    {
     "name": "stderr",
     "output_type": "stream",
     "text": [
      "                                                           \r"
     ]
    },
    {
     "name": "stdout",
     "output_type": "stream",
     "text": [
      "  Train Total Loss: 0.000174, Value Loss: 0.000174\n"
     ]
    },
    {
     "name": "stderr",
     "output_type": "stream",
     "text": [
      "                                                           \r"
     ]
    },
    {
     "name": "stdout",
     "output_type": "stream",
     "text": [
      "  Global Pearson Correlation: 0.9569\n",
      "  R² layer mean - uw: 0.9210\n",
      "  R² layer mean - vw: 0.8989\n",
      "  R² layer mean - tw: 0.9263\n",
      "  R² layer mean - qw: -37.0775\n",
      "  Saved R² plot to ./model_plots\\uvtr2_layer_epoch178.png\n",
      "  Saved scatter plot to ./model_plots\\uvtscatter_epoch178.png\n",
      "  Val Total Loss: 0.000901, Value Loss: 0.000901\n",
      "  Per-channel RMSE: uw=0.2795, vw=0.3143, tw=0.2673, \n",
      "\n",
      "Epoch 179/200\n"
     ]
    },
    {
     "name": "stderr",
     "output_type": "stream",
     "text": [
      "                                                           \r"
     ]
    },
    {
     "name": "stdout",
     "output_type": "stream",
     "text": [
      "  Train Total Loss: 0.000170, Value Loss: 0.000170\n"
     ]
    },
    {
     "name": "stderr",
     "output_type": "stream",
     "text": [
      "                                                           "
     ]
    },
    {
     "name": "stdout",
     "output_type": "stream",
     "text": [
      "  Global Pearson Correlation: 0.9574\n",
      "  R² layer mean - uw: 0.9217\n",
      "  R² layer mean - vw: 0.8992\n",
      "  R² layer mean - tw: 0.9269\n",
      "  R² layer mean - qw: -36.7770\n",
      "  Saved R² plot to ./model_plots\\uvtr2_layer_epoch179.png\n",
      "  Saved scatter plot to ./model_plots\\uvtscatter_epoch179.png\n",
      "  Val Total Loss: 0.000897, Value Loss: 0.000897\n",
      "  Per-channel RMSE: uw=0.2783, vw=0.3138, tw=0.2663, \n",
      "\n",
      "Epoch 180/200\n",
      "  Saved scatter plot to ./model_plots\\uvtscatter_epoch179.png\n",
      "  Val Total Loss: 0.000897, Value Loss: 0.000897\n",
      "  Per-channel RMSE: uw=0.2783, vw=0.3138, tw=0.2663, \n",
      "\n",
      "Epoch 180/200\n"
     ]
    },
    {
     "name": "stderr",
     "output_type": "stream",
     "text": [
      "                                                           \r"
     ]
    },
    {
     "name": "stdout",
     "output_type": "stream",
     "text": [
      "  Train Total Loss: 0.000171, Value Loss: 0.000171\n"
     ]
    },
    {
     "name": "stderr",
     "output_type": "stream",
     "text": [
      "                                                           "
     ]
    },
    {
     "name": "stdout",
     "output_type": "stream",
     "text": [
      "  Global Pearson Correlation: 0.9570\n",
      "  R² layer mean - uw: 0.9211\n",
      "  R² layer mean - vw: 0.8981\n",
      "  R² layer mean - tw: 0.9266\n",
      "  R² layer mean - qw: -36.9686\n",
      "  Saved R² plot to ./model_plots\\uvtr2_layer_epoch180.png\n",
      "  Saved scatter plot to ./model_plots\\uvtscatter_epoch180.png\n",
      "  Val Total Loss: 0.000904, Value Loss: 0.000904\n",
      "  Per-channel RMSE: uw=0.2795, vw=0.3158, tw=0.2668, \n",
      "\n",
      "Epoch 181/200\n",
      "  Saved scatter plot to ./model_plots\\uvtscatter_epoch180.png\n",
      "  Val Total Loss: 0.000904, Value Loss: 0.000904\n",
      "  Per-channel RMSE: uw=0.2795, vw=0.3158, tw=0.2668, \n",
      "\n",
      "Epoch 181/200\n"
     ]
    },
    {
     "name": "stderr",
     "output_type": "stream",
     "text": [
      "                                                           \r"
     ]
    },
    {
     "name": "stdout",
     "output_type": "stream",
     "text": [
      "  Train Total Loss: 0.000166, Value Loss: 0.000166\n"
     ]
    },
    {
     "name": "stderr",
     "output_type": "stream",
     "text": [
      "                                                           "
     ]
    },
    {
     "name": "stdout",
     "output_type": "stream",
     "text": [
      "  Global Pearson Correlation: 0.9573\n",
      "  R² layer mean - uw: 0.9215\n",
      "  R² layer mean - vw: 0.9002\n",
      "  R² layer mean - tw: 0.9270\n",
      "  R² layer mean - qw: -37.0676\n",
      "  Saved R² plot to ./model_plots\\uvtr2_layer_epoch181.png\n",
      "  Saved R² plot to ./model_plots\\uvtr2_layer_epoch181.png\n",
      "  Saved scatter plot to ./model_plots\\uvtscatter_epoch181.png\n",
      "  Val Total Loss: 0.000894, Value Loss: 0.000894\n",
      "  Per-channel RMSE: uw=0.2789, vw=0.3122, tw=0.2662, \n",
      "\n",
      "Epoch 182/200\n",
      "  Saved scatter plot to ./model_plots\\uvtscatter_epoch181.png\n",
      "  Val Total Loss: 0.000894, Value Loss: 0.000894\n",
      "  Per-channel RMSE: uw=0.2789, vw=0.3122, tw=0.2662, \n",
      "\n",
      "Epoch 182/200\n"
     ]
    },
    {
     "name": "stderr",
     "output_type": "stream",
     "text": [
      "                                                           \r"
     ]
    },
    {
     "name": "stdout",
     "output_type": "stream",
     "text": [
      "  Train Total Loss: 0.000172, Value Loss: 0.000172\n"
     ]
    },
    {
     "name": "stderr",
     "output_type": "stream",
     "text": [
      "                                                           "
     ]
    },
    {
     "name": "stdout",
     "output_type": "stream",
     "text": [
      "  Global Pearson Correlation: 0.9573\n",
      "  R² layer mean - uw: 0.9215\n",
      "  R² layer mean - vw: 0.8997\n",
      "  R² layer mean - tw: 0.9269\n",
      "  R² layer mean - qw: -38.2483\n",
      "  Saved R² plot to ./model_plots\\uvtr2_layer_epoch182.png\n",
      "  Saved scatter plot to ./model_plots\\uvtscatter_epoch182.png\n",
      "  Val Total Loss: 0.000896, Value Loss: 0.000896\n",
      "  Per-channel RMSE: uw=0.2787, vw=0.3131, tw=0.2662, \n",
      "\n",
      "Epoch 183/200\n",
      "  Saved scatter plot to ./model_plots\\uvtscatter_epoch182.png\n",
      "  Val Total Loss: 0.000896, Value Loss: 0.000896\n",
      "  Per-channel RMSE: uw=0.2787, vw=0.3131, tw=0.2662, \n",
      "\n",
      "Epoch 183/200\n"
     ]
    },
    {
     "name": "stderr",
     "output_type": "stream",
     "text": [
      "                                                           \r"
     ]
    },
    {
     "name": "stdout",
     "output_type": "stream",
     "text": [
      "  Train Total Loss: 0.000168, Value Loss: 0.000168\n"
     ]
    },
    {
     "name": "stderr",
     "output_type": "stream",
     "text": [
      "                                                           "
     ]
    },
    {
     "name": "stdout",
     "output_type": "stream",
     "text": [
      "  Global Pearson Correlation: 0.9573\n",
      "  R² layer mean - uw: 0.9217\n",
      "  R² layer mean - vw: 0.8988\n",
      "  R² layer mean - tw: 0.9272\n",
      "  R² layer mean - qw: -38.4675\n",
      "  Saved R² plot to ./model_plots\\uvtr2_layer_epoch183.png\n",
      "  Saved scatter plot to ./model_plots\\uvtscatter_epoch183.png\n",
      "  Val Total Loss: 0.000897, Value Loss: 0.000897\n",
      "  Per-channel RMSE: uw=0.2784, vw=0.3145, tw=0.2658, \n",
      "\n",
      "Epoch 184/200\n",
      "  Saved scatter plot to ./model_plots\\uvtscatter_epoch183.png\n",
      "  Val Total Loss: 0.000897, Value Loss: 0.000897\n",
      "  Per-channel RMSE: uw=0.2784, vw=0.3145, tw=0.2658, \n",
      "\n",
      "Epoch 184/200\n"
     ]
    },
    {
     "name": "stderr",
     "output_type": "stream",
     "text": [
      "                                                           \r"
     ]
    },
    {
     "name": "stdout",
     "output_type": "stream",
     "text": [
      "  Train Total Loss: 0.000163, Value Loss: 0.000163\n"
     ]
    },
    {
     "name": "stderr",
     "output_type": "stream",
     "text": [
      "                                                           "
     ]
    },
    {
     "name": "stdout",
     "output_type": "stream",
     "text": [
      "  Global Pearson Correlation: 0.9575\n",
      "  R² layer mean - uw: 0.9217\n",
      "  R² layer mean - vw: 0.8992\n",
      "  R² layer mean - tw: 0.9274\n",
      "  R² layer mean - qw: -36.7188\n",
      "  Saved R² plot to ./model_plots\\uvtr2_layer_epoch184.png\n",
      "  Saved scatter plot to ./model_plots\\uvtscatter_epoch184.png\n",
      "  Val Total Loss: 0.000896, Value Loss: 0.000896\n",
      "  Per-channel RMSE: uw=0.2784, vw=0.3138, tw=0.2655, \n",
      "\n",
      "Epoch 185/200\n",
      "  Saved scatter plot to ./model_plots\\uvtscatter_epoch184.png\n",
      "  Val Total Loss: 0.000896, Value Loss: 0.000896\n",
      "  Per-channel RMSE: uw=0.2784, vw=0.3138, tw=0.2655, \n",
      "\n",
      "Epoch 185/200\n"
     ]
    },
    {
     "name": "stderr",
     "output_type": "stream",
     "text": [
      "                                                           \r"
     ]
    },
    {
     "name": "stdout",
     "output_type": "stream",
     "text": [
      "  Train Total Loss: 0.000165, Value Loss: 0.000165\n"
     ]
    },
    {
     "name": "stderr",
     "output_type": "stream",
     "text": [
      "                                                           "
     ]
    },
    {
     "name": "stdout",
     "output_type": "stream",
     "text": [
      "  Global Pearson Correlation: 0.9573\n",
      "  R² layer mean - uw: 0.9218\n",
      "  R² layer mean - vw: 0.8993\n",
      "  R² layer mean - tw: 0.9267\n",
      "  R² layer mean - qw: -37.3737\n",
      "  Saved R² plot to ./model_plots\\uvtr2_layer_epoch185.png\n",
      "  Saved scatter plot to ./model_plots\\uvtscatter_epoch185.png\n",
      "  Val Total Loss: 0.000896, Value Loss: 0.000896\n",
      "  Per-channel RMSE: uw=0.2782, vw=0.3136, tw=0.2666, \n",
      "\n",
      "Epoch 186/200\n",
      "  Saved scatter plot to ./model_plots\\uvtscatter_epoch185.png\n",
      "  Val Total Loss: 0.000896, Value Loss: 0.000896\n",
      "  Per-channel RMSE: uw=0.2782, vw=0.3136, tw=0.2666, \n",
      "\n",
      "Epoch 186/200\n"
     ]
    },
    {
     "name": "stderr",
     "output_type": "stream",
     "text": [
      "                                                           \r"
     ]
    },
    {
     "name": "stdout",
     "output_type": "stream",
     "text": [
      "  Train Total Loss: 0.000167, Value Loss: 0.000167\n"
     ]
    },
    {
     "name": "stderr",
     "output_type": "stream",
     "text": [
      "                                                           "
     ]
    },
    {
     "name": "stdout",
     "output_type": "stream",
     "text": [
      "  Global Pearson Correlation: 0.9574\n",
      "  R² layer mean - uw: 0.9212\n",
      "  R² layer mean - vw: 0.8996\n",
      "  R² layer mean - tw: 0.9269\n",
      "  R² layer mean - qw: -37.3894\n",
      "  Saved R² plot to ./model_plots\\uvtr2_layer_epoch186.png\n",
      "  Saved scatter plot to ./model_plots\\uvtscatter_epoch186.png\n",
      "  Val Total Loss: 0.000897, Value Loss: 0.000897\n",
      "  Per-channel RMSE: uw=0.2792, vw=0.3131, tw=0.2664, \n",
      "\n",
      "Epoch 187/200\n",
      "  Saved scatter plot to ./model_plots\\uvtscatter_epoch186.png\n",
      "  Val Total Loss: 0.000897, Value Loss: 0.000897\n",
      "  Per-channel RMSE: uw=0.2792, vw=0.3131, tw=0.2664, \n",
      "\n",
      "Epoch 187/200\n"
     ]
    },
    {
     "name": "stderr",
     "output_type": "stream",
     "text": [
      "                                                           \r"
     ]
    },
    {
     "name": "stdout",
     "output_type": "stream",
     "text": [
      "  Train Total Loss: 0.000170, Value Loss: 0.000170\n"
     ]
    },
    {
     "name": "stderr",
     "output_type": "stream",
     "text": [
      "                                                           "
     ]
    },
    {
     "name": "stdout",
     "output_type": "stream",
     "text": [
      "  Global Pearson Correlation: 0.9574\n",
      "  R² layer mean - uw: 0.9220\n",
      "  R² layer mean - vw: 0.8999\n",
      "  R² layer mean - tw: 0.9274\n",
      "  R² layer mean - qw: -37.1521\n",
      "  Saved R² plot to ./model_plots\\uvtr2_layer_epoch187.png\n",
      "  Saved scatter plot to ./model_plots\\uvtscatter_epoch187.png\n",
      "  Val Total Loss: 0.000892, Value Loss: 0.000892\n",
      "  Per-channel RMSE: uw=0.2777, vw=0.3127, tw=0.2654, \n",
      "  Saved scatter plot to ./model_plots\\uvtscatter_epoch187.png\n",
      "  Val Total Loss: 0.000892, Value Loss: 0.000892\n",
      "  Per-channel RMSE: uw=0.2777, vw=0.3127, tw=0.2654, \n",
      "  Saved best model: F:\\model\\model_save\\best_epoch187_val0.000892.pth\n",
      "\n",
      "Epoch 188/200\n",
      "  Saved best model: F:\\model\\model_save\\best_epoch187_val0.000892.pth\n",
      "\n",
      "Epoch 188/200\n"
     ]
    },
    {
     "name": "stderr",
     "output_type": "stream",
     "text": [
      "                                                           \r"
     ]
    },
    {
     "name": "stdout",
     "output_type": "stream",
     "text": [
      "  Train Total Loss: 0.000166, Value Loss: 0.000166\n"
     ]
    },
    {
     "name": "stderr",
     "output_type": "stream",
     "text": [
      "                                                           "
     ]
    },
    {
     "name": "stdout",
     "output_type": "stream",
     "text": [
      "  Global Pearson Correlation: 0.9571\n",
      "  R² layer mean - uw: 0.9207\n",
      "  R² layer mean - vw: 0.8994\n",
      "  R² layer mean - tw: 0.9262\n",
      "  R² layer mean - qw: -38.2693\n",
      "  Saved R² plot to ./model_plots\\uvtr2_layer_epoch188.png\n",
      "  Saved scatter plot to ./model_plots\\uvtscatter_epoch188.png\n",
      "  Val Total Loss: 0.000902, Value Loss: 0.000902\n",
      "  Per-channel RMSE: uw=0.2802, vw=0.3135, tw=0.2676, \n",
      "\n",
      "Epoch 189/200\n",
      "  Saved scatter plot to ./model_plots\\uvtscatter_epoch188.png\n",
      "  Val Total Loss: 0.000902, Value Loss: 0.000902\n",
      "  Per-channel RMSE: uw=0.2802, vw=0.3135, tw=0.2676, \n",
      "\n",
      "Epoch 189/200\n"
     ]
    },
    {
     "name": "stderr",
     "output_type": "stream",
     "text": [
      "                                                           \r"
     ]
    },
    {
     "name": "stdout",
     "output_type": "stream",
     "text": [
      "  Train Total Loss: 0.000168, Value Loss: 0.000168\n"
     ]
    },
    {
     "name": "stderr",
     "output_type": "stream",
     "text": [
      "                                                           "
     ]
    },
    {
     "name": "stdout",
     "output_type": "stream",
     "text": [
      "  Global Pearson Correlation: 0.9573\n",
      "  R² layer mean - uw: 0.9213\n",
      "  R² layer mean - vw: 0.8997\n",
      "  R² layer mean - tw: 0.9271\n",
      "  R² layer mean - qw: -37.1365\n",
      "  Saved R² plot to ./model_plots\\uvtr2_layer_epoch189.png\n",
      "  Saved scatter plot to ./model_plots\\uvtscatter_epoch189.png\n",
      "  Val Total Loss: 0.000896, Value Loss: 0.000896\n",
      "  Per-channel RMSE: uw=0.2792, vw=0.3129, tw=0.2660, \n",
      "\n",
      "Epoch 190/200\n",
      "  Saved scatter plot to ./model_plots\\uvtscatter_epoch189.png\n",
      "  Val Total Loss: 0.000896, Value Loss: 0.000896\n",
      "  Per-channel RMSE: uw=0.2792, vw=0.3129, tw=0.2660, \n",
      "\n",
      "Epoch 190/200\n"
     ]
    },
    {
     "name": "stderr",
     "output_type": "stream",
     "text": [
      "                                                           \r"
     ]
    },
    {
     "name": "stdout",
     "output_type": "stream",
     "text": [
      "  Train Total Loss: 0.000168, Value Loss: 0.000168\n"
     ]
    },
    {
     "name": "stderr",
     "output_type": "stream",
     "text": [
      "                                                           "
     ]
    },
    {
     "name": "stdout",
     "output_type": "stream",
     "text": [
      "  Global Pearson Correlation: 0.9573\n",
      "  R² layer mean - uw: 0.9210\n",
      "  R² layer mean - vw: 0.8988\n",
      "  R² layer mean - tw: 0.9263\n",
      "  R² layer mean - qw: -38.6853\n",
      "  Saved R² plot to ./model_plots\\uvtr2_layer_epoch190.png\n",
      "  Saved scatter plot to ./model_plots\\uvtscatter_epoch190.png\n",
      "  Val Total Loss: 0.000902, Value Loss: 0.000902\n",
      "  Per-channel RMSE: uw=0.2797, vw=0.3144, tw=0.2674, \n",
      "\n",
      "Epoch 191/200\n",
      "  Saved scatter plot to ./model_plots\\uvtscatter_epoch190.png\n",
      "  Val Total Loss: 0.000902, Value Loss: 0.000902\n",
      "  Per-channel RMSE: uw=0.2797, vw=0.3144, tw=0.2674, \n",
      "\n",
      "Epoch 191/200\n"
     ]
    },
    {
     "name": "stderr",
     "output_type": "stream",
     "text": [
      "                                                           \r"
     ]
    },
    {
     "name": "stdout",
     "output_type": "stream",
     "text": [
      "  Train Total Loss: 0.000163, Value Loss: 0.000163\n"
     ]
    },
    {
     "name": "stderr",
     "output_type": "stream",
     "text": [
      "                                                           "
     ]
    },
    {
     "name": "stdout",
     "output_type": "stream",
     "text": [
      "  Global Pearson Correlation: 0.9570\n",
      "  R² layer mean - uw: 0.9206\n",
      "  R² layer mean - vw: 0.8983\n",
      "  R² layer mean - tw: 0.9259\n",
      "  R² layer mean - qw: -35.9137\n",
      "  Saved R² plot to ./model_plots\\uvtr2_layer_epoch191.png\n",
      "  Saved scatter plot to ./model_plots\\uvtscatter_epoch191.png\n",
      "  Val Total Loss: 0.000905, Value Loss: 0.000905\n",
      "  Per-channel RMSE: uw=0.2803, vw=0.3153, tw=0.2682, \n",
      "\n",
      "Epoch 192/200\n",
      "  Saved scatter plot to ./model_plots\\uvtscatter_epoch191.png\n",
      "  Val Total Loss: 0.000905, Value Loss: 0.000905\n",
      "  Per-channel RMSE: uw=0.2803, vw=0.3153, tw=0.2682, \n",
      "\n",
      "Epoch 192/200\n"
     ]
    },
    {
     "name": "stderr",
     "output_type": "stream",
     "text": [
      "                                                           \r"
     ]
    },
    {
     "name": "stdout",
     "output_type": "stream",
     "text": [
      "  Train Total Loss: 0.000160, Value Loss: 0.000160\n"
     ]
    },
    {
     "name": "stderr",
     "output_type": "stream",
     "text": [
      "                                                           "
     ]
    },
    {
     "name": "stdout",
     "output_type": "stream",
     "text": [
      "  Global Pearson Correlation: 0.9574\n",
      "  R² layer mean - uw: 0.9218\n",
      "  R² layer mean - vw: 0.8996\n",
      "  R² layer mean - tw: 0.9273\n",
      "  R² layer mean - qw: -37.1228\n",
      "  Saved R² plot to ./model_plots\\uvtr2_layer_epoch192.png\n",
      "  Saved scatter plot to ./model_plots\\uvtscatter_epoch192.png\n",
      "  Val Total Loss: 0.000894, Value Loss: 0.000894\n",
      "  Per-channel RMSE: uw=0.2782, vw=0.3133, tw=0.2656, \n",
      "\n",
      "Epoch 193/200\n",
      "  Saved scatter plot to ./model_plots\\uvtscatter_epoch192.png\n",
      "  Val Total Loss: 0.000894, Value Loss: 0.000894\n",
      "  Per-channel RMSE: uw=0.2782, vw=0.3133, tw=0.2656, \n",
      "\n",
      "Epoch 193/200\n"
     ]
    },
    {
     "name": "stderr",
     "output_type": "stream",
     "text": [
      "                                                           \r"
     ]
    },
    {
     "name": "stdout",
     "output_type": "stream",
     "text": [
      "  Train Total Loss: 0.000165, Value Loss: 0.000165\n"
     ]
    },
    {
     "name": "stderr",
     "output_type": "stream",
     "text": [
      "                                                           "
     ]
    },
    {
     "name": "stdout",
     "output_type": "stream",
     "text": [
      "  Global Pearson Correlation: 0.9572\n",
      "  R² layer mean - uw: 0.9215\n",
      "  R² layer mean - vw: 0.8993\n",
      "  R² layer mean - tw: 0.9271\n",
      "  R² layer mean - qw: -37.4001\n",
      "  Saved R² plot to ./model_plots\\uvtr2_layer_epoch193.png\n",
      "  Saved scatter plot to ./model_plots\\uvtscatter_epoch193.png\n",
      "  Val Total Loss: 0.000897, Value Loss: 0.000897\n",
      "  Per-channel RMSE: uw=0.2788, vw=0.3136, tw=0.2659, \n",
      "\n",
      "Epoch 194/200\n",
      "  Saved scatter plot to ./model_plots\\uvtscatter_epoch193.png\n",
      "  Val Total Loss: 0.000897, Value Loss: 0.000897\n",
      "  Per-channel RMSE: uw=0.2788, vw=0.3136, tw=0.2659, \n",
      "\n",
      "Epoch 194/200\n"
     ]
    },
    {
     "name": "stderr",
     "output_type": "stream",
     "text": [
      "                                                           \r"
     ]
    },
    {
     "name": "stdout",
     "output_type": "stream",
     "text": [
      "  Train Total Loss: 0.000165, Value Loss: 0.000165\n"
     ]
    },
    {
     "name": "stderr",
     "output_type": "stream",
     "text": [
      "                                                           "
     ]
    },
    {
     "name": "stdout",
     "output_type": "stream",
     "text": [
      "  Global Pearson Correlation: 0.9573\n",
      "  R² layer mean - uw: 0.9215\n",
      "  R² layer mean - vw: 0.8993\n",
      "  R² layer mean - tw: 0.9273\n",
      "  R² layer mean - qw: -37.8388\n",
      "  Saved R² plot to ./model_plots\\uvtr2_layer_epoch194.png\n",
      "  Saved scatter plot to ./model_plots\\uvtscatter_epoch194.png\n",
      "  Val Total Loss: 0.000896, Value Loss: 0.000896\n",
      "  Per-channel RMSE: uw=0.2787, vw=0.3136, tw=0.2656, \n",
      "\n",
      "Epoch 195/200\n",
      "  Saved scatter plot to ./model_plots\\uvtscatter_epoch194.png\n",
      "  Val Total Loss: 0.000896, Value Loss: 0.000896\n",
      "  Per-channel RMSE: uw=0.2787, vw=0.3136, tw=0.2656, \n",
      "\n",
      "Epoch 195/200\n"
     ]
    },
    {
     "name": "stderr",
     "output_type": "stream",
     "text": [
      "                                                           \r"
     ]
    },
    {
     "name": "stdout",
     "output_type": "stream",
     "text": [
      "  Train Total Loss: 0.000163, Value Loss: 0.000163\n"
     ]
    },
    {
     "name": "stderr",
     "output_type": "stream",
     "text": [
      "                                                           "
     ]
    },
    {
     "name": "stdout",
     "output_type": "stream",
     "text": [
      "  Global Pearson Correlation: 0.9574\n",
      "  R² layer mean - uw: 0.9217\n",
      "  R² layer mean - vw: 0.9003\n",
      "  R² layer mean - tw: 0.9272\n",
      "  R² layer mean - qw: -37.7448\n",
      "  Saved R² plot to ./model_plots\\uvtr2_layer_epoch195.png\n",
      "  Saved scatter plot to ./model_plots\\uvtscatter_epoch195.png\n",
      "  Val Total Loss: 0.000892, Value Loss: 0.000892\n",
      "  Per-channel RMSE: uw=0.2785, vw=0.3120, tw=0.2658, \n",
      "  Saved scatter plot to ./model_plots\\uvtscatter_epoch195.png\n",
      "  Val Total Loss: 0.000892, Value Loss: 0.000892\n",
      "  Per-channel RMSE: uw=0.2785, vw=0.3120, tw=0.2658, \n",
      "  Saved best model: F:\\model\\model_save\\best_epoch195_val0.000892.pth\n",
      "\n",
      "Epoch 196/200\n",
      "  Saved best model: F:\\model\\model_save\\best_epoch195_val0.000892.pth\n",
      "\n",
      "Epoch 196/200\n"
     ]
    },
    {
     "name": "stderr",
     "output_type": "stream",
     "text": [
      "                                                           \r"
     ]
    },
    {
     "name": "stdout",
     "output_type": "stream",
     "text": [
      "  Train Total Loss: 0.000167, Value Loss: 0.000167\n"
     ]
    },
    {
     "name": "stderr",
     "output_type": "stream",
     "text": [
      "                                                           "
     ]
    },
    {
     "name": "stdout",
     "output_type": "stream",
     "text": [
      "  Global Pearson Correlation: 0.9576\n",
      "  R² layer mean - uw: 0.9215\n",
      "  R² layer mean - vw: 0.8998\n",
      "  R² layer mean - tw: 0.9272\n",
      "  R² layer mean - qw: -37.1658\n",
      "  Saved R² plot to ./model_plots\\uvtr2_layer_epoch196.png\n",
      "  Saved scatter plot to ./model_plots\\uvtscatter_epoch196.png\n",
      "  Val Total Loss: 0.000894, Value Loss: 0.000894\n",
      "  Per-channel RMSE: uw=0.2788, vw=0.3129, tw=0.2658, \n",
      "\n",
      "Epoch 197/200\n",
      "  Saved scatter plot to ./model_plots\\uvtscatter_epoch196.png\n",
      "  Val Total Loss: 0.000894, Value Loss: 0.000894\n",
      "  Per-channel RMSE: uw=0.2788, vw=0.3129, tw=0.2658, \n",
      "\n",
      "Epoch 197/200\n"
     ]
    },
    {
     "name": "stderr",
     "output_type": "stream",
     "text": [
      "                                                           \r"
     ]
    },
    {
     "name": "stdout",
     "output_type": "stream",
     "text": [
      "  Train Total Loss: 0.000166, Value Loss: 0.000166\n"
     ]
    },
    {
     "name": "stderr",
     "output_type": "stream",
     "text": [
      "                                                           "
     ]
    },
    {
     "name": "stdout",
     "output_type": "stream",
     "text": [
      "  Global Pearson Correlation: 0.9571\n",
      "  R² layer mean - uw: 0.9214\n",
      "  R² layer mean - vw: 0.8987\n",
      "  R² layer mean - tw: 0.9267\n",
      "  R² layer mean - qw: -38.4745\n",
      "  Saved R² plot to ./model_plots\\uvtr2_layer_epoch197.png\n",
      "  Saved scatter plot to ./model_plots\\uvtscatter_epoch197.png\n",
      "  Val Total Loss: 0.000902, Value Loss: 0.000902\n",
      "  Per-channel RMSE: uw=0.2790, vw=0.3147, tw=0.2667, \n",
      "\n",
      "Epoch 198/200\n",
      "  Saved scatter plot to ./model_plots\\uvtscatter_epoch197.png\n",
      "  Val Total Loss: 0.000902, Value Loss: 0.000902\n",
      "  Per-channel RMSE: uw=0.2790, vw=0.3147, tw=0.2667, \n",
      "\n",
      "Epoch 198/200\n"
     ]
    },
    {
     "name": "stderr",
     "output_type": "stream",
     "text": [
      "                                                           \r"
     ]
    },
    {
     "name": "stdout",
     "output_type": "stream",
     "text": [
      "  Train Total Loss: 0.000166, Value Loss: 0.000166\n"
     ]
    },
    {
     "name": "stderr",
     "output_type": "stream",
     "text": [
      "                                                           "
     ]
    },
    {
     "name": "stdout",
     "output_type": "stream",
     "text": [
      "  Global Pearson Correlation: 0.9573\n",
      "  R² layer mean - uw: 0.9216\n",
      "  R² layer mean - vw: 0.8983\n",
      "  R² layer mean - tw: 0.9273\n",
      "  R² layer mean - qw: -36.8050\n",
      "  Saved R² plot to ./model_plots\\uvtr2_layer_epoch198.png\n",
      "  Saved scatter plot to ./model_plots\\uvtscatter_epoch198.png\n",
      "  Val Total Loss: 0.000899, Value Loss: 0.000899\n",
      "  Per-channel RMSE: uw=0.2786, vw=0.3154, tw=0.2656, \n",
      "\n",
      "Epoch 199/200\n",
      "  Saved scatter plot to ./model_plots\\uvtscatter_epoch198.png\n",
      "  Val Total Loss: 0.000899, Value Loss: 0.000899\n",
      "  Per-channel RMSE: uw=0.2786, vw=0.3154, tw=0.2656, \n",
      "\n",
      "Epoch 199/200\n"
     ]
    },
    {
     "name": "stderr",
     "output_type": "stream",
     "text": [
      "                                                           \r"
     ]
    },
    {
     "name": "stdout",
     "output_type": "stream",
     "text": [
      "  Train Total Loss: 0.000166, Value Loss: 0.000166\n"
     ]
    },
    {
     "name": "stderr",
     "output_type": "stream",
     "text": [
      "                                                           "
     ]
    },
    {
     "name": "stdout",
     "output_type": "stream",
     "text": [
      "  Global Pearson Correlation: 0.9572\n",
      "  R² layer mean - uw: 0.9212\n",
      "  R² layer mean - vw: 0.8984\n",
      "  R² layer mean - tw: 0.9265\n",
      "  R² layer mean - qw: -37.4790\n",
      "  Saved R² plot to ./model_plots\\uvtr2_layer_epoch199.png\n",
      "  Saved scatter plot to ./model_plots\\uvtscatter_epoch199.png\n",
      "  Val Total Loss: 0.000902, Value Loss: 0.000902\n",
      "  Per-channel RMSE: uw=0.2791, vw=0.3152, tw=0.2671, \n",
      "\n",
      "Epoch 200/200\n",
      "  Saved scatter plot to ./model_plots\\uvtscatter_epoch199.png\n",
      "  Val Total Loss: 0.000902, Value Loss: 0.000902\n",
      "  Per-channel RMSE: uw=0.2791, vw=0.3152, tw=0.2671, \n",
      "\n",
      "Epoch 200/200\n"
     ]
    },
    {
     "name": "stderr",
     "output_type": "stream",
     "text": [
      "                                                           \r"
     ]
    },
    {
     "name": "stdout",
     "output_type": "stream",
     "text": [
      "  Train Total Loss: 0.000169, Value Loss: 0.000169\n"
     ]
    },
    {
     "name": "stderr",
     "output_type": "stream",
     "text": [
      "                                                           "
     ]
    },
    {
     "name": "stdout",
     "output_type": "stream",
     "text": [
      "  Global Pearson Correlation: 0.9575\n",
      "  R² layer mean - uw: 0.9216\n",
      "  R² layer mean - vw: 0.9000\n",
      "  R² layer mean - tw: 0.9271\n",
      "  R² layer mean - qw: -37.7145\n",
      "  Saved R² plot to ./model_plots\\uvtr2_layer_epoch200.png\n",
      "  Saved scatter plot to ./model_plots\\uvtscatter_epoch200.png\n",
      "  Val Total Loss: 0.000893, Value Loss: 0.000893\n",
      "  Per-channel RMSE: uw=0.2784, vw=0.3126, tw=0.2660, \n",
      "\n",
      "===== Final Evaluation on Test Set =====\n",
      "  Saved scatter plot to ./model_plots\\uvtscatter_epoch200.png\n",
      "  Val Total Loss: 0.000893, Value Loss: 0.000893\n",
      "  Per-channel RMSE: uw=0.2784, vw=0.3126, tw=0.2660, \n",
      "\n",
      "===== Final Evaluation on Test Set =====\n"
     ]
    },
    {
     "name": "stderr",
     "output_type": "stream",
     "text": [
      "Test Inference: 100%|██████████| 54/54 [00:05<00:00, 10.42it/s]"
     ]
    },
    {
     "name": "stdout",
     "output_type": "stream",
     "text": [
      "\n",
      "Training complete. Final model saved to:\n",
      "  F:\\model\\model_save\\unet1d_40km_0807.pth\n"
     ]
    },
    {
     "name": "stderr",
     "output_type": "stream",
     "text": [
      "\n"
     ]
    }
   ],
   "source": [
    "# ---------------------------------------------------------------------------- #\n",
    "# 配置与参数\n",
    "# ---------------------------------------------------------------------------- #\n",
    "INPUT_FOLDERS = {\n",
    "    'u': r'Y:/meso-unet/40km/2025-01-05/mean_u',\n",
    "    'v': r'Y:/meso-unet/40km/2025-01-05/mean_v',\n",
    "    't': r'Y:/meso-unet/40km/2025-01-05/mean_t',\n",
    "    'q': r'Y:/meso-unet/40km/2025-01-05/mean_q',\n",
    "    'wz': r'Y:/meso-unet/40km/2025-01-05/mean_wz',\n",
    "}\n",
    "TARGET_FOLDERS = {\n",
    "    'uw': r'Y:/meso-unet/40km/2025-01-05/uw',\n",
    "    'vw': r'Y:/meso-unet/40km/2025-01-05/vw',\n",
    "    'tw': r'Y:/meso-unet/40km/2025-01-05/tw',\n",
    "    'qw': r'Y:/meso-unet/40km/2025-01-05/qw'\n",
    "}\n",
    "TERRAIN_PATH = r'F:/data/terrain/zs.npy'\n",
    "STD_PATH = r'F:/data/terrain/std.npy'\n",
    "TARGET_STATS_PATH = \"./json/target_stats_40km-1.json\"\n",
    "INPUT_STATS_PATH = \"./json/input_stats_40km-1.json\"\n",
    "IN_CHANNELS = 7\n",
    "OUT_CHANNELS = 4\n",
    "DEPTH = 64 \n",
    "HEIGHT, WIDTH = 20, 20\n",
    "BASE_CHANNELS = 128\n",
    "BATCH_SIZE = 128\n",
    "NUM_WORKERS = 0\n",
    "LR = 1e-4\n",
    "NUM_EPOCHS = 200\n",
    "TRAIN_VAL_SPLIT = 0.8\n",
    "MAX_SAMPLES = 100000\n",
    "DEVICE = torch.device('cuda' if torch.cuda.is_available() else 'cpu')\n",
    "CHECKPOINT_DIR = Path(r'F:/model/model_save')\n",
    "CHECKPOINT_DIR.mkdir(parents=True, exist_ok=True)\n",
    "\n",
    "PATIENCE_ES = 20\n",
    "DZ = 0.1\n",
    "LAMBDA_GRAD = 0.1\n",
    "CHANNELS = ['uw', 'vw', 'tw', 'qw']\n",
    "# ---------------------------------------------------------------------------- #\n",
    "# 2) 统计函数：计算目标字段全局均值与标准差\n",
    "# ---------------------------------------------------------------------------- #\n",
    "def compute_target_stats_layerwise(keys, target_folders, depth=64):\n",
    "    \"\"\"\n",
    "    每个目标变量按高度层计算均值和标准差。\n",
    "    返回 dict: means[var] 和 stds[var] 为 shape=(depth,) 的列表\n",
    "    \"\"\"\n",
    "    means = {}\n",
    "    stds = {}\n",
    "    for tgt, folder in target_folders.items():\n",
    "        folder = Path(folder)\n",
    "        sum_layer = np.zeros(depth)\n",
    "        sumsq_layer = np.zeros(depth)\n",
    "        count_layer = 0\n",
    "        for key in tqdm(keys, desc=f\"Target stats (layerwise) - {tgt}\"):\n",
    "            arr3d = np.load(folder / f\"{key}.npy\", mmap_mode='r')[:, :, :depth]\n",
    "            flat = arr3d.reshape(-1, depth)\n",
    "            sum_layer += flat.sum(axis=0)\n",
    "            sumsq_layer += (flat ** 2).sum(axis=0)\n",
    "            count_layer += flat.shape[0]\n",
    "        μ = sum_layer / count_layer\n",
    "        σ = np.sqrt(sumsq_layer / count_layer - μ ** 2)\n",
    "        stds[tgt] = np.where(σ < 1e-3, 1e-3, σ).astype(np.float32).tolist()\n",
    "        means[tgt] = μ.astype(np.float32).tolist()\n",
    "    return means, stds\n",
    "\n",
    "\n",
    "# ---------------------------------------------------------------------------- #\n",
    "# 统计函数：计算输入字段的全局均值与标准差（按高度分层）\n",
    "# ---------------------------------------------------------------------------- #\n",
    "def compute_input_stats(keys, input_folders, depth=DEPTH):\n",
    "    \"\"\"\n",
    "    计算训练集 input 各变量、各高度层的均值与 std，用于标准化。\n",
    "    返回 dict: means[var]: shape(depth,), stds[var]: shape(depth,)\n",
    "    \"\"\"\n",
    "    sums = {var: np.zeros(depth, dtype=np.float64) for var in input_folders}\n",
    "    sumsqs = {var: np.zeros(depth, dtype=np.float64) for var in input_folders}\n",
    "    counts = {var: 0 for var in input_folders}\n",
    "    for var, folder in input_folders.items():\n",
    "        folder = Path(folder)\n",
    "        for key in tqdm(keys, desc=f\"Input stats {var}\"):\n",
    "            arr3d = np.load(folder / f\"{key}.npy\", mmap_mode='r').astype(np.float32)  # (H,W,51)\n",
    "            arr = arr3d[:, :, :depth]  # (100,100,depth)\n",
    "            arr_flat = arr.reshape(-1, depth)  # (100*100, depth)\n",
    "            sums[var] += arr_flat.sum(axis=0)\n",
    "            sumsqs[var] += (arr_flat**2).sum(axis=0)\n",
    "            counts[var] += arr_flat.shape[0]\n",
    "    means = {}\n",
    "    stds = {}\n",
    "    for var in input_folders:\n",
    "        μ = sums[var] / counts[var]  # shape (depth,)\n",
    "        σ = np.sqrt(sumsqs[var] / counts[var] - μ**2)\n",
    "        σ = np.where(σ < 1e-3, 1e-3, σ)\n",
    "        means[var] = μ.astype(np.float32).tolist()\n",
    "        stds[var] = σ.astype(np.float32).tolist()\n",
    "    return means, stds\n",
    "\n",
    "# ---------------------------------------------------------------------------- #\n",
    "# 3) Dataset 定义：加载 memmap，加上全局归一化\n",
    "# ---------------------------------------------------------------------------- #\n",
    "class VerticalProfileDataset(Dataset):\n",
    "    def __init__(self, keys, input_folders, target_folders,\n",
    "                 terrain_path, std_path,\n",
    "                 input_means, input_stds,\n",
    "                 target_means, target_stds,\n",
    "                 max_samples=100000):\n",
    "        \"\"\"\n",
    "        input_means/stds: dict var -> list of length DEPTH\n",
    "        target_means/stds: dict tgt -> float\n",
    "        \"\"\"\n",
    "        self.keys = keys\n",
    "        self.in_folders = {k: Path(v) for k, v in input_folders.items()}\n",
    "        self.tg_folders = {k: Path(v) for k, v in target_folders.items()}\n",
    "\n",
    "        # 预加载 memmap：input 和 target\n",
    "        self.input_data = {var: {} for var in input_folders}\n",
    "        self.target_data = {tgt: {} for tgt in target_folders}\n",
    "        for var in input_folders:\n",
    "            folder = self.in_folders[var]\n",
    "            for key in keys:\n",
    "                path = folder / f\"{key}.npy\"\n",
    "                try:\n",
    "                    arr = np.load(path, mmap_mode='r').astype(np.float32)\n",
    "                except Exception as e:\n",
    "                    raise RuntimeError(f\"Load input npy failed: {path}\") from e\n",
    "                self.input_data[var][key] = arr  # shape (H,W,51)\n",
    "        for tgt in target_folders:\n",
    "            folder = self.tg_folders[tgt]\n",
    "            for key in keys:\n",
    "                path = folder / f\"{key}.npy\"\n",
    "                try:\n",
    "                    arr = np.load(path, mmap_mode='r').astype(np.float32)\n",
    "                except Exception as e:\n",
    "                    raise RuntimeError(f\"Load target npy failed: {path}\") from e\n",
    "                self.target_data[tgt][key] = arr  # shape (H,W,51)\n",
    "\n",
    "        # 载入地形与地形std，并做全局归一化\n",
    "        terrain = np.load(terrain_path).astype(np.float32)  # (H,W)\n",
    "        terrain_std = np.load(std_path).astype(np.float32)  # (H,W)\n",
    "        t_mean = float(np.mean(terrain))\n",
    "        t_std = float(np.std(terrain)); t_std = max(t_std, 1e-3)\n",
    "        ts_mean = float(np.mean(terrain_std))\n",
    "        ts_std = float(np.std(terrain_std)); ts_std = max(ts_std, 1e-3)\n",
    "        self.terrain = (terrain - t_mean) / t_std\n",
    "        self.terrain_std = (terrain_std - ts_mean) / ts_std\n",
    "\n",
    "        # 保存 input/target 归一化参数\n",
    "        self.input_means = {var: np.array(input_means[var], dtype=np.float32) for var in input_means}\n",
    "        self.input_stds = {var: np.array(input_stds[var], dtype=np.float32) for var in input_stds}\n",
    "        self.target_means = {var: np.array(target_means[var], dtype=np.float32) for var in target_means}\n",
    "        self.target_stds = {var: np.array(target_stds[var], dtype=np.float32) for var in target_stds}\n",
    "\n",
    "        # self.target_means = target_means\n",
    "        # self.target_stds = target_stds\n",
    "\n",
    "        # 生成所有可能的位置索引 (key, i, j)\n",
    "        self.locations = []\n",
    "        for key in keys:\n",
    "            for i in range(HEIGHT):\n",
    "                for j in range(WIDTH):\n",
    "                    self.locations.append((key, i, j))\n",
    "        random.shuffle(self.locations)\n",
    "        self.locations = self.locations[:max_samples]\n",
    "        print(f\"Created dataset with {len(self.locations)} vertical profiles\")\n",
    "\n",
    "    def __len__(self):\n",
    "        return len(self.locations)\n",
    "\n",
    "    def __getitem__(self, idx):\n",
    "        key, i, j = self.locations[idx]\n",
    "\n",
    "        # 加载输入变量 (u, v, t, q, wz)，并按全局分层归一化\n",
    "        input_arrays = []\n",
    "        for var in ['u', 'v', 't', 'q', 'wz']:\n",
    "            arr3d = self.input_data[var][key]\n",
    "            arr = arr3d[i, j, :DEPTH].astype(np.float32)\n",
    "            mean = self.input_means[var]\n",
    "            std = self.input_stds[var]\n",
    "            arr_norm = (arr - mean) / std\n",
    "            input_arrays.append(arr_norm)\n",
    "\n",
    "        # 添加地形和地形标准差\n",
    "        terrain_val = float(self.terrain[i, j])\n",
    "        std_val = float(self.terrain_std[i, j])\n",
    "        input_arrays.append(np.full(DEPTH, terrain_val, dtype=np.float32))\n",
    "        input_arrays.append(np.full(DEPTH, std_val, dtype=np.float32))\n",
    "\n",
    "        x = torch.tensor(np.stack(input_arrays, axis=0), dtype=torch.float32)\n",
    "\n",
    "        # 加载目标变量并归一化\n",
    "        target_arrays = []\n",
    "        for tgt in CHANNELS:\n",
    "            arr3d = self.target_data[tgt][key]\n",
    "            arr = arr3d[i, j, :DEPTH].astype(np.float32)\n",
    "            μ = np.array(self.target_means[tgt], dtype=np.float32)  # shape (64,)\n",
    "            σ = np.array(self.target_stds[tgt], dtype=np.float32)\n",
    "            arr_norm = (arr - μ) / σ\n",
    "            target_arrays.append(arr_norm)\n",
    "        y = torch.tensor(np.stack(target_arrays, axis=0), dtype=torch.float32)\n",
    "        return x, y\n",
    "\n",
    "# ---------------------------------------------------------------------------- #\n",
    "# 4) 1D U-Net 模块\n",
    "# ---------------------------------------------------------------------------- #\n",
    "class DoubleConv1D(nn.Module):\n",
    "    def __init__(self, in_ch, out_ch):\n",
    "        super().__init__()\n",
    "        self.double_conv = nn.Sequential(\n",
    "            nn.Conv1d(in_ch, out_ch, 3, padding=1, bias=False),\n",
    "            nn.BatchNorm1d(out_ch),\n",
    "            nn.ReLU(inplace=True),\n",
    "            nn.Conv1d(out_ch, out_ch, 3, padding=1, bias=False),\n",
    "            nn.BatchNorm1d(out_ch),\n",
    "            nn.ReLU(inplace=True),\n",
    "        )\n",
    "\n",
    "    def forward(self, x):\n",
    "        return self.double_conv(x)\n",
    "\n",
    "class Down1D(nn.Module):\n",
    "    def __init__(self, in_ch, out_ch):\n",
    "        super().__init__()\n",
    "        self.seq = nn.Sequential(\n",
    "            nn.MaxPool1d(2),\n",
    "            DoubleConv1D(in_ch, out_ch)\n",
    "        )\n",
    "\n",
    "    def forward(self, x):\n",
    "        return self.seq(x)\n",
    "\n",
    "class Up1D(nn.Module):\n",
    "    def __init__(self, in_ch, out_ch):\n",
    "        super().__init__()\n",
    "        self.up = nn.ConvTranspose1d(in_ch, out_ch, kernel_size=2, stride=2)\n",
    "        self.conv = DoubleConv1D(out_ch * 2, out_ch)\n",
    "\n",
    "    def forward(self, x1, x2):\n",
    "        x1 = self.up(x1)\n",
    "        diff = x2.size(2) - x1.size(2)\n",
    "        if diff > 0:\n",
    "            pad_left = diff // 2\n",
    "            pad_right = diff - pad_left\n",
    "            x1 = nn.functional.pad(x1, [pad_left, pad_right])\n",
    "        elif diff < 0:\n",
    "            crop = -diff\n",
    "            crop_left = crop // 2\n",
    "            crop_right = crop - crop_left\n",
    "            x1 = x1[:, :, crop_left: x1.size(2)-crop_right]\n",
    "        x = torch.cat([x2, x1], dim=1)\n",
    "        return self.conv(x)\n",
    "\n",
    "class OutConv1D(nn.Module):\n",
    "    def __init__(self, in_ch, out_ch):\n",
    "        super().__init__()\n",
    "        self.conv = nn.Conv1d(in_ch, out_ch, 1)\n",
    "\n",
    "    def forward(self, x):\n",
    "        return self.conv(x)\n",
    "\n",
    "class UNet1D(nn.Module):\n",
    "    def __init__(self, in_c, out_c, base=64):\n",
    "        super().__init__()\n",
    "        self.inc = DoubleConv1D(in_c, base)\n",
    "        self.down1 = Down1D(base, base * 2)\n",
    "        self.down2 = Down1D(base * 2, base * 4)\n",
    "        self.down3 = Down1D(base * 4, base * 8)\n",
    "\n",
    "        self.bottleneck = DoubleConv1D(base * 8, base * 16)\n",
    "\n",
    "        self.up3 = Up1D(base * 16, base * 8)\n",
    "        self.up2 = Up1D(base * 8, base * 4)\n",
    "        self.up1 = Up1D(base * 4, base * 2)\n",
    "        self.up0 = Up1D(base * 2, base)\n",
    "\n",
    "        self.outc = OutConv1D(base, out_c)\n",
    "\n",
    "    def forward(self, x):\n",
    "        x1 = self.inc(x)\n",
    "        x2 = self.down1(x1)\n",
    "        x3 = self.down2(x2)\n",
    "        x4 = self.down3(x3)\n",
    "        x5 = self.bottleneck(x4)\n",
    "        x = self.up3(x5, x4)\n",
    "        x = self.up2(x, x3)\n",
    "        x = self.up1(x, x2)\n",
    "        x = self.up0(x, x1)\n",
    "        return self.outc(x)\n",
    "\n",
    "# ---------------------------------------------------------------------------- #\n",
    "# 5) 损失函数：加权MSE + 梯度损失\n",
    "# ---------------------------------------------------------------------------- #\n",
    "def compute_rmse_per_channel(pred, target):\n",
    "    \"\"\"\n",
    "    pred, target: torch.Tensor, shape (B, C, L)\n",
    "    返回 numpy array, shape (C,), per-channel RMSE averaged over batch和长度\n",
    "    \"\"\"\n",
    "    with torch.no_grad():\n",
    "        diff2 = (pred - target).cpu().numpy() ** 2\n",
    "    sum_sq = diff2.sum(axis=(0, 2))\n",
    "    B, C, L = diff2.shape\n",
    "    rmse = np.sqrt(sum_sq / (B * L))\n",
    "    return rmse\n",
    "\n",
    "def weighted_huber_loss(pred, target, weight, delta=1.0):\n",
    "    \"\"\"\n",
    "    pred, target: shape (B, C, L)\n",
    "    weight: shape (C,)\n",
    "    delta: float, Huber loss 的阈值参数\n",
    "    \"\"\"\n",
    "    abs_diff = torch.abs(pred - target)\n",
    "    quadratic = torch.minimum(abs_diff, torch.tensor(delta, device=pred.device))\n",
    "    linear = abs_diff - quadratic\n",
    "    loss = 0.5 * quadratic ** 2 + delta * linear\n",
    "    loss = loss * weight.view(1, -1, 1)  # 每个通道加权\n",
    "    return loss.mean()\n",
    "\n",
    "\n",
    "# ---------------------------------------------------------------------------- #\n",
    "# 6) 训练与验证函数\n",
    "# ---------------------------------------------------------------------------- #\n",
    "def train_one_epoch(model, loader, optimizer, device, loss_weights):\n",
    "    model.train()\n",
    "    running_loss = 0.0\n",
    "    running_value_loss = 0.0\n",
    "    for x_batch, y_batch in tqdm(loader, desc=\"Training\", leave=False):\n",
    "        x_batch = x_batch.to(device)\n",
    "        y_batch = y_batch.to(device)\n",
    "        optimizer.zero_grad()\n",
    "        outputs = model(x_batch)\n",
    "        value_loss = weighted_huber_loss(outputs, y_batch, loss_weights, delta=1.0)\n",
    "        loss = value_loss\n",
    "        loss.backward()\n",
    "        optimizer.step()\n",
    "        running_loss += loss.item() * x_batch.size(0)\n",
    "        running_value_loss += value_loss.item() * x_batch.size(0)\n",
    "    epoch_loss = running_loss / len(loader.dataset)\n",
    "    epoch_value = running_value_loss / len(loader.dataset)\n",
    "    return epoch_loss, epoch_value\n",
    "\n",
    "def plot_scatter_per_channel(preds, trues, channel_names, epoch, save_dir, max_samples=500000):\n",
    "    \"\"\"\n",
    "    preds, trues: numpy arrays, shape [N, C, L]\n",
    "    \"\"\"\n",
    "    os.makedirs(save_dir, exist_ok=True)\n",
    "    save_path = os.path.join(save_dir, f'uvtscatter_epoch{epoch:03d}.png')\n",
    "    \n",
    "    C = preds.shape[1]\n",
    "    fig, axes = plt.subplots(1, C, figsize=(5 * C, 5), dpi=150)\n",
    "    if C == 1:\n",
    "        axes = [axes]\n",
    "\n",
    "    for c in range(C):\n",
    "        ax = axes[c]\n",
    "        pred_flat = preds[:, c, :].reshape(-1)\n",
    "        true_flat = trues[:, c, :].reshape(-1)\n",
    "\n",
    "        # 随机采样以提高效率\n",
    "        if len(pred_flat) > max_samples:\n",
    "            idx = np.random.choice(len(pred_flat), max_samples, replace=False)\n",
    "            pred_flat = pred_flat[idx]\n",
    "            true_flat = true_flat[idx]\n",
    "\n",
    "        # 相关统计\n",
    "        rmse = np.sqrt(np.mean((pred_flat - true_flat)**2))\n",
    "        corr = pearsonr(pred_flat, true_flat)[0]\n",
    "        bias = np.mean(pred_flat - true_flat)\n",
    "        slope, intercept = np.polyfit(true_flat, pred_flat, 1)\n",
    "\n",
    "        ax.hexbin(true_flat, pred_flat, gridsize=100, cmap='Spectral_r', bins='log', linewidths=0.2, mincnt=1)\n",
    "        ax.plot([-1, 1], [-1, 1], 'r--', lw=1.2, alpha=0.6)\n",
    "        ax.axhline(0, color='gray', linestyle='--', lw=0.5)\n",
    "        ax.axvline(0, color='gray', linestyle='--', lw=0.5)\n",
    "\n",
    "        ax.set_title(f\"{channel_names[c]}\\nRMSE={rmse:.3f}, Corr={corr:.3f}, Bias={bias:.3f}\", fontsize=10)\n",
    "        ax.set_xlabel(\"Truth\")\n",
    "        ax.set_ylabel(\"Pred\")\n",
    "\n",
    "    plt.suptitle(f\"Scatter of Prediction vs Truth (Epoch {epoch})\", fontsize=14)\n",
    "    plt.tight_layout()\n",
    "    plt.savefig(save_path, bbox_inches='tight')\n",
    "    plt.close()\n",
    "    print(f\"  Saved scatter plot to {save_path}\")\n",
    "\n",
    "def plot_r2_profile_per_layer(r2_by_layer, channel_names, epoch, save_dir):\n",
    "    \"\"\"\n",
    "    绘制每个通道的R²随高度变化的图\n",
    "    r2_by_layer: numpy array, shape [C, L]\n",
    "    \"\"\"\n",
    "    os.makedirs(save_dir, exist_ok=True)\n",
    "    save_path = os.path.join(save_dir, f\"uvtr2_layer_epoch{epoch:03d}.png\")\n",
    "\n",
    "    plt.figure(figsize=(6, 6), dpi=200)\n",
    "    z_levels = list(range(r2_by_layer.shape[1]))[::-1]  # 63 -> 0\n",
    "\n",
    "    for idx, ch in enumerate(channel_names):\n",
    "        plt.plot(r2_by_layer[idx][::-1], z_levels, label=ch, linewidth=2)\n",
    "\n",
    "    plt.xlabel(r'$R^2$', fontsize=12)\n",
    "    plt.ylabel('Height Level', fontsize=12)\n",
    "    plt.title(f'Validation $R^2$ per Layer (Epoch {epoch})', fontsize=14)\n",
    "    plt.grid(True, linestyle='--', alpha=0.6)\n",
    "    plt.legend(loc='upper center', bbox_to_anchor=(0.5, -0.08),\n",
    "               ncol=len(channel_names), frameon=False, fontsize=10)\n",
    "    plt.xlim(0, 1)\n",
    "    plt.xticks(fontsize=10)\n",
    "    plt.yticks(fontsize=10)\n",
    "    plt.tight_layout()\n",
    "    plt.savefig(save_path, bbox_inches='tight')\n",
    "    plt.close()\n",
    "    print(f\"  Saved R² plot to {save_path}\")\n",
    "\n",
    "def validate_one_epoch(model, loader, device, loss_weights, epoch=None, writer=None, save_plot_dir=None):\n",
    "    model.eval()\n",
    "    running_loss = 0.0\n",
    "    running_value_loss = 0.0\n",
    "    sum_sq = np.zeros(OUT_CHANNELS, dtype=np.float64)\n",
    "    total_count = 0\n",
    "\n",
    "    # 收集所有预测和真实值\n",
    "    all_preds = []\n",
    "    all_trues = []\n",
    "\n",
    "    with torch.no_grad():\n",
    "        for x_batch, y_batch in tqdm(loader, desc=\"Validation\", leave=False):\n",
    "            x_batch = x_batch.to(device)\n",
    "            y_batch = y_batch.to(device)\n",
    "            outputs = model(x_batch)\n",
    "\n",
    "            value_loss = weighted_huber_loss(outputs, y_batch, loss_weights, delta=1.0)\n",
    "            loss = value_loss\n",
    "\n",
    "            running_loss += loss.item() * x_batch.size(0)\n",
    "            running_value_loss += value_loss.item() * x_batch.size(0)\n",
    "\n",
    "            diff2 = (outputs - y_batch).cpu().numpy() ** 2\n",
    "            B, C, L = diff2.shape\n",
    "            sum_sq += diff2.sum(axis=(0, 2))\n",
    "            total_count += B * L\n",
    "\n",
    "            all_preds.append(outputs.cpu())\n",
    "            all_trues.append(y_batch.cpu())\n",
    "\n",
    "    overall_loss = running_loss / len(loader.dataset)\n",
    "    overall_value = running_value_loss / len(loader.dataset)\n",
    "    per_channel_rmse = np.sqrt(sum_sq / total_count)\n",
    "\n",
    "    # ===== 计算 R² 和 Pearson 散点相关系数 ===== #\n",
    "    all_preds = torch.cat(all_preds, dim=0).numpy()  # shape (N, C, L)\n",
    "    all_trues = torch.cat(all_trues, dim=0).numpy()\n",
    "\n",
    "    def compute_r2_per_layer(pred, true):\n",
    "        B, C, L = pred.shape\n",
    "        r2_layers = np.empty((C, L))\n",
    "        for c in range(C):\n",
    "            for l in range(L):\n",
    "                y_true = true[:, c, l]\n",
    "                y_pred = pred[:, c, l]\n",
    "                ss_res = np.sum((y_true - y_pred) ** 2)\n",
    "                ss_tot = np.sum((y_true - np.mean(y_true)) ** 2)\n",
    "                r2_layers[c, l] = 1 - ss_res / ss_tot if ss_tot > 0 else np.nan\n",
    "        return r2_layers\n",
    "\n",
    "    def compute_global_corr(pred, true):\n",
    "        return np.corrcoef(pred.reshape(-1), true.reshape(-1))[0, 1]\n",
    "\n",
    "    r2_by_layer = compute_r2_per_layer(all_preds, all_trues)  # shape (4, 64)\n",
    "    global_corr = compute_global_corr(all_preds, all_trues)\n",
    "\n",
    "    print(f\"  Global Pearson Correlation: {global_corr:.4f}\")\n",
    "    for idx, ch in enumerate(CHANNELS):\n",
    "        print(f\"  R² layer mean - {ch}: {np.nanmean(r2_by_layer[idx]):.4f}\")\n",
    "\n",
    "\n",
    "    if save_plot_dir and epoch is not None:\n",
    "        \n",
    "        os.makedirs(save_plot_dir, exist_ok=True)\n",
    "        plot_r2_profile_per_layer(r2_by_layer, CHANNELS, epoch, save_plot_dir)\n",
    "        plot_scatter_per_channel(all_preds, all_trues, CHANNELS, epoch, save_plot_dir)\n",
    "\n",
    "    return overall_loss, overall_value, per_channel_rmse\n",
    "\n",
    "\n",
    "# ---------------------------------------------------------------------------- #\\\n",
    "Path(\"./model_plots\").mkdir(parents=True, exist_ok=True)\n",
    "writer = SummaryWriter(log_dir=f\"runs/unet1d_exp_{datetime.now().strftime('%m%d_%H%M')}\")\n",
    "\n",
    "# 7) 主流程\n",
    "# ---------------------------------------------------------------------------- #\n",
    "if __name__ == \"__main__\":\n",
    "\n",
    "    def denormalize(y_norm, mean, std):\n",
    "        return y_norm * std + mean\n",
    "    def visualize_profile_comparison(x_batch, y_true, y_pred, target_means, target_stds, idx=0):\n",
    "        \"\"\"\n",
    "        可视化第 idx 个样本的每个通道 profile，预测 vs 观测\n",
    "        \"\"\"\n",
    "        B, C, L = y_true.shape\n",
    "        fig, axs = plt.subplots(1, C, figsize=(16, 4))\n",
    "        z = np.arange(L)\n",
    "\n",
    "        for c in range(C):\n",
    "            ch = CHANNELS[c]\n",
    "            mean = np.array(target_means[ch])\n",
    "            std = np.array(target_stds[ch])\n",
    "\n",
    "            true_profile = denormalize(y_true[idx, c], mean, std)\n",
    "            pred_profile = denormalize(y_pred[idx, c], mean, std)\n",
    "\n",
    "            axs[c].plot(true_profile, z, label='Truth', color='black')\n",
    "            axs[c].plot(pred_profile, z, label='Pred', color='red', linestyle='--')\n",
    "            axs[c].invert_yaxis()\n",
    "            axs[c].set_title(ch)\n",
    "            axs[c].set_xlabel('Value')\n",
    "            axs[c].set_ylabel('Height')\n",
    "\n",
    "        plt.suptitle(f\"Profile Comparison for Sample {idx}\")\n",
    "        plt.legend()\n",
    "        plt.tight_layout()\n",
    "        plt.show()\n",
    "\n",
    "    # 获取所有样本 keys\n",
    "    all_keys = sorted([p.stem for p in Path(INPUT_FOLDERS['u']).glob(\"*.npy\")])\n",
    "    random.shuffle(all_keys)\n",
    "    n_train = int(len(all_keys) * TRAIN_VAL_SPLIT)\n",
    "    # 获取所有样本 keys\n",
    "    all_keys = sorted([p.stem for p in Path(INPUT_FOLDERS['u']).glob(\"*.npy\")])\n",
    "    random.shuffle(all_keys)\n",
    "\n",
    "    n_total = len(all_keys)\n",
    "    n_train = int(n_total * 0.7)\n",
    "    n_val = int(n_total * 0.15)\n",
    "    n_test = n_total - n_train - n_val\n",
    "\n",
    "    train_keys = all_keys[:n_train]\n",
    "    val_keys = all_keys[n_train:n_train + n_val]\n",
    "    test_keys = all_keys[n_train + n_val:]\n",
    "\n",
    "    print(f\"Total samples: {n_total}, Train: {len(train_keys)}, Val: {len(val_keys)}, Test: {len(test_keys)}\")\n",
    "    # 1) 计算并加载 target 统计量\n",
    "    if Path(TARGET_STATS_PATH).exists():\n",
    "        with open(TARGET_STATS_PATH) as f:\n",
    "            stats = json.load(f)\n",
    "        target_means = stats['means']\n",
    "        target_stds = stats['stds']\n",
    "        print(\"Loaded existing target stats\")\n",
    "    else:\n",
    "        means, stds = compute_target_stats_layerwise(train_keys, TARGET_FOLDERS, depth=DEPTH)\n",
    "        stats = {\"means\": means, \"stds\": stds}\n",
    "        with open(TARGET_STATS_PATH, \"w\") as f:\n",
    "            json.dump(stats, f, indent=2)\n",
    "        target_means = means\n",
    "        target_stds = stds\n",
    "        print(f\"Saved target stats to {TARGET_STATS_PATH}\")\n",
    "\n",
    "    # 2) 计算并加载 input 统计量\n",
    "    if Path(INPUT_STATS_PATH).exists():\n",
    "        with open(INPUT_STATS_PATH) as f:\n",
    "            input_stats = json.load(f)\n",
    "        input_means = input_stats['means']\n",
    "        input_stds = input_stats['stds']\n",
    "        print(\"Loaded existing input stats\")\n",
    "    else:\n",
    "        means_in, stds_in = compute_input_stats(train_keys, INPUT_FOLDERS, depth=DEPTH)\n",
    "        input_stats = {\"means\": means_in, \"stds\": stds_in}\n",
    "        with open(INPUT_STATS_PATH, \"w\") as f:\n",
    "            json.dump(input_stats, f, indent=2)\n",
    "        input_means = means_in\n",
    "        input_stds = stds_in\n",
    "        print(f\"Saved input stats to {INPUT_STATS_PATH}\")\n",
    "\n",
    "    # 3) 创建 Dataset\n",
    "    train_ds = VerticalProfileDataset(\n",
    "        train_keys, INPUT_FOLDERS, TARGET_FOLDERS,\n",
    "        TERRAIN_PATH, STD_PATH,\n",
    "        input_means, input_stds,\n",
    "        target_means, target_stds,\n",
    "        max_samples=MAX_SAMPLES\n",
    "    )\n",
    "    val_ds = VerticalProfileDataset(\n",
    "        val_keys, INPUT_FOLDERS, TARGET_FOLDERS,\n",
    "        TERRAIN_PATH, STD_PATH,\n",
    "        input_means, input_stds,\n",
    "        target_means, target_stds,\n",
    "        max_samples=int(MAX_SAMPLES * 0.15)\n",
    "    )\n",
    "    test_ds = VerticalProfileDataset(\n",
    "        test_keys, INPUT_FOLDERS, TARGET_FOLDERS,\n",
    "        TERRAIN_PATH, STD_PATH,\n",
    "        input_means, input_stds,\n",
    "        target_means, target_stds,\n",
    "        max_samples=int(MAX_SAMPLES * 0.15)\n",
    "    )\n",
    "\n",
    "    print(f\"Train samples: {len(train_ds)}, Validation samples: {len(val_ds)}\")\n",
    "\n",
    "    # 4) DataLoader\n",
    "    train_loader = DataLoader(train_ds, batch_size=BATCH_SIZE, shuffle=True,\n",
    "                            num_workers=NUM_WORKERS, pin_memory=True)\n",
    "    val_loader = DataLoader(val_ds, batch_size=BATCH_SIZE, shuffle=False,\n",
    "                            num_workers=NUM_WORKERS, pin_memory=True)\n",
    "    test_loader = DataLoader(test_ds, batch_size=BATCH_SIZE, shuffle=False,\n",
    "                            num_workers=NUM_WORKERS, pin_memory=True)\n",
    "\n",
    "    # 5) 初始化模型、优化器、日志\n",
    "    model = UNet1D(IN_CHANNELS, OUT_CHANNELS, base=BASE_CHANNELS).to(DEVICE)\n",
    "    optimizer = optim.Adam(model.parameters(), lr=LR, weight_decay=1e-5)\n",
    "    scheduler = optim.lr_scheduler.ReduceLROnPlateau(optimizer, 'min', patience=5, factor=0.5)\n",
    "    writer = SummaryWriter(log_dir=\"runs/unet1d_experiment\")\n",
    "\n",
    "    total_params = sum(p.numel() for p in model.parameters()) / 1e6\n",
    "    print(f\"Model initialized on {DEVICE}, total parameters: {total_params:.2f}M\")\n",
    "\n",
    "    inverse_std = 1.0 / np.array([np.mean(target_stds[ch]) for ch in CHANNELS])\n",
    "    norm_weights = inverse_std / np.max(inverse_std)\n",
    "    LOSS_WEIGHTS = torch.tensor(norm_weights, dtype=torch.float32).to(DEVICE)\n",
    "\n",
    "    print(f\"Auto-calculated LOSS_WEIGHTS: {LOSS_WEIGHTS}\")\n",
    "\n",
    "    # 6) 训练循环（无梯度损失）\n",
    "    best_val_loss = float('inf')\n",
    "    epochs_no_improve = 0\n",
    "\n",
    "    for epoch in range(1, NUM_EPOCHS + 1):\n",
    "        print(f\"\\nEpoch {epoch}/{NUM_EPOCHS}\")\n",
    "\n",
    "        train_loss, train_value_loss = train_one_epoch(model, train_loader, optimizer, DEVICE, LOSS_WEIGHTS)\n",
    "\n",
    "        print(f\"  Train Total Loss: {train_loss:.6f}, Value Loss: {train_value_loss:.6f}\")\n",
    "\n",
    "        # 验证阶段，包含 R² 和相关系数\n",
    "        val_loss, val_value_loss, per_channel_rmse = validate_one_epoch(\n",
    "            model, val_loader, DEVICE, LOSS_WEIGHTS,\n",
    "            epoch=epoch,\n",
    "            writer=writer,\n",
    "            save_plot_dir=\"./model_plots\"\n",
    "        )\n",
    "        # 打印 RMSE\n",
    "        print(f\"  Val Total Loss: {val_loss:.6f}, Value Loss: {val_value_loss:.6f}\")\n",
    "        print(f\"  Per-channel RMSE: uw={per_channel_rmse[0]:.4f}, vw={per_channel_rmse[1]:.4f}, tw={per_channel_rmse[2]:.4f}, \")\n",
    "        # Tensorboard 写入（Loss 和 RMSE）\n",
    "        writer.add_scalar('Loss/train_total', train_loss, epoch)\n",
    "        writer.add_scalar('Loss/train_value', train_value_loss, epoch)\n",
    "        writer.add_scalar('Loss/val_total', val_loss, epoch)\n",
    "        writer.add_scalar('Loss/val_value', val_value_loss, epoch)\n",
    "        for idx, ch in enumerate(CHANNELS):\n",
    "            writer.add_scalar(f'RMSE/val_{ch}', per_channel_rmse[idx], epoch)\n",
    "\n",
    "        scheduler.step(val_loss)\n",
    "\n",
    "        # 保存最佳模型\n",
    "        if val_loss < best_val_loss:\n",
    "            best_val_loss = val_loss\n",
    "            epochs_no_improve = 0\n",
    "            ckpt_path = CHECKPOINT_DIR / f\"best_epoch{epoch:03d}_val{val_loss:.6f}.pth\"\n",
    "            torch.save({\n",
    "                'epoch': epoch,\n",
    "                'model_state_dict': model.state_dict(),\n",
    "                'optimizer_state_dict': optimizer.state_dict(),\n",
    "                'val_loss': val_loss,\n",
    "                'input_stats': {\"means\": input_means, \"stds\": input_stds},\n",
    "                'target_stats': {\"means\": target_means, \"stds\": target_stds},\n",
    "            }, ckpt_path)\n",
    "            print(f\"  Saved best model: {ckpt_path}\")\n",
    "        else:\n",
    "            epochs_no_improve += 1\n",
    "            if epochs_no_improve >= PATIENCE_ES:\n",
    "                print(f\"Early stopping at epoch {epoch} (no improvement in {PATIENCE_ES} epochs)\")\n",
    "                break\n",
    "\n",
    "    print(\"\\n===== Final Evaluation on Test Set =====\")\n",
    "    model.eval()\n",
    "    all_preds, all_targets = [], []\n",
    "\n",
    "    with torch.no_grad():\n",
    "        for batch in tqdm(test_loader, desc=\"Test Inference\"):\n",
    "            inputs, targets = batch\n",
    "            inputs = inputs.to(DEVICE)\n",
    "            targets = targets.to(DEVICE)\n",
    "\n",
    "            outputs = model(inputs)\n",
    "            all_preds.append(outputs)\n",
    "            all_targets.append(targets)\n",
    "\n",
    "    all_preds = torch.cat(all_preds, dim=0)  # [N, C, Z]\n",
    "    all_targets = torch.cat(all_targets, dim=0)\n",
    "\n",
    "    # 7) 保存最终模型\n",
    "    final_path = CHECKPOINT_DIR / \"unet1d_40km_0807.pth\"\n",
    "    torch.save({\n",
    "        'model_state_dict': model.state_dict(),\n",
    "        'input_stats': {\"means\": input_means, \"stds\": input_stds},\n",
    "        'target_stats': {\"means\": target_means, \"stds\": target_stds},\n",
    "    }, final_path)\n",
    "    print(f\"\\nTraining complete. Final model saved to:\\n  {final_path}\")\n",
    "\n",
    "    writer.close()\n",
    "\n"
   ]
  },
  {
   "cell_type": "code",
   "execution_count": null,
   "id": "26aef5bb",
   "metadata": {},
   "outputs": [
    {
     "name": "stdout",
     "output_type": "stream",
     "text": [
      "Total samples: 469, Train: 328, Val: 70, Test: 71\n",
      "Loaded existing target stats\n",
      "Loaded existing input stats\n",
      "Created dataset with 100000 vertical profiles\n",
      "Created dataset with 15000 vertical profiles\n",
      "Created dataset with 15000 vertical profiles\n",
      "Train samples: 100000, Validation samples: 15000\n",
      "Model initialized on cuda, total parameters: 43.25M\n",
      "Auto-calculated LOSS_WEIGHTS: tensor([0.0158, 0.0404, 0.0183, 1.0000], device='cuda:0')\n",
      "\n",
      "Epoch 1/200\n"
     ]
    },
    {
     "name": "stderr",
     "output_type": "stream",
     "text": [
      "                                                           \r"
     ]
    },
    {
     "name": "stdout",
     "output_type": "stream",
     "text": [
      "  Train Total Loss: 0.003819, Value Loss: 0.003819\n"
     ]
    },
    {
     "name": "stderr",
     "output_type": "stream",
     "text": [
      "                                                             \r"
     ]
    },
    {
     "name": "stdout",
     "output_type": "stream",
     "text": [
      "  Global Pearson Correlation: 0.5662\n",
      "  R² layer mean - uw: 0.3433\n",
      "  R² layer mean - vw: 0.2599\n",
      "  R² layer mean - tw: 0.3192\n",
      "  R² layer mean - qw: -5.7947\n",
      "  Saved R² plot to ./model_plots1\\uvtr2_layer_epoch001.png\n",
      "  Saved scatter plot to ./model_plots1\\uvtscatter_epoch001.png\n",
      "  Val Total Loss: 0.003745, Value Loss: 0.003745\n",
      "  Per-channel RMSE: uw=0.8834, vw=0.9457, tw=0.8855, \n",
      "  Saved best model: F:\\model\\model_save\\best_epoch001_val0.003745.pth\n",
      "\n",
      "Epoch 2/200\n"
     ]
    },
    {
     "name": "stderr",
     "output_type": "stream",
     "text": [
      "                                                           \r"
     ]
    },
    {
     "name": "stdout",
     "output_type": "stream",
     "text": [
      "  Train Total Loss: 0.003212, Value Loss: 0.003212\n"
     ]
    },
    {
     "name": "stderr",
     "output_type": "stream",
     "text": [
      "                                                             \r"
     ]
    },
    {
     "name": "stdout",
     "output_type": "stream",
     "text": [
      "  Global Pearson Correlation: 0.6080\n",
      "  R² layer mean - uw: 0.3646\n",
      "  R² layer mean - vw: 0.3019\n",
      "  R² layer mean - tw: 0.2988\n",
      "  R² layer mean - qw: -5.1133\n",
      "  Saved R² plot to ./model_plots1\\uvtr2_layer_epoch002.png\n",
      "  Saved scatter plot to ./model_plots1\\uvtscatter_epoch002.png\n",
      "  Val Total Loss: 0.003862, Value Loss: 0.003862\n",
      "  Per-channel RMSE: uw=0.8712, vw=0.9183, tw=0.8985, \n",
      "\n",
      "Epoch 3/200\n"
     ]
    },
    {
     "name": "stderr",
     "output_type": "stream",
     "text": [
      "                                                           \r"
     ]
    },
    {
     "name": "stdout",
     "output_type": "stream",
     "text": [
      "  Train Total Loss: 0.002950, Value Loss: 0.002950\n"
     ]
    },
    {
     "name": "stderr",
     "output_type": "stream",
     "text": [
      "                                                             \r"
     ]
    },
    {
     "name": "stdout",
     "output_type": "stream",
     "text": [
      "  Global Pearson Correlation: 0.6603\n",
      "  R² layer mean - uw: 0.4791\n",
      "  R² layer mean - vw: 0.4014\n",
      "  R² layer mean - tw: 0.4354\n",
      "  R² layer mean - qw: -2.4267\n",
      "  Saved R² plot to ./model_plots1\\uvtr2_layer_epoch003.png\n",
      "  Saved scatter plot to ./model_plots1\\uvtscatter_epoch003.png\n",
      "  Val Total Loss: 0.003366, Value Loss: 0.003366\n",
      "  Per-channel RMSE: uw=0.7870, vw=0.8503, tw=0.8065, \n",
      "  Saved best model: F:\\model\\model_save\\best_epoch003_val0.003366.pth\n",
      "\n",
      "Epoch 4/200\n"
     ]
    },
    {
     "name": "stderr",
     "output_type": "stream",
     "text": [
      "                                                           \r"
     ]
    },
    {
     "name": "stdout",
     "output_type": "stream",
     "text": [
      "  Train Total Loss: 0.002767, Value Loss: 0.002767\n"
     ]
    },
    {
     "name": "stderr",
     "output_type": "stream",
     "text": [
      "                                                             \r"
     ]
    },
    {
     "name": "stdout",
     "output_type": "stream",
     "text": [
      "  Global Pearson Correlation: 0.7145\n",
      "  R² layer mean - uw: 0.5622\n",
      "  R² layer mean - vw: 0.4705\n",
      "  R² layer mean - tw: 0.5123\n",
      "  R² layer mean - qw: -1.7210\n",
      "  Saved R² plot to ./model_plots1\\uvtr2_layer_epoch004.png\n",
      "  Saved scatter plot to ./model_plots1\\uvtscatter_epoch004.png\n",
      "  Val Total Loss: 0.003106, Value Loss: 0.003106\n",
      "  Per-channel RMSE: uw=0.7226, vw=0.8021, tw=0.7508, \n",
      "  Saved best model: F:\\model\\model_save\\best_epoch004_val0.003106.pth\n",
      "\n",
      "Epoch 5/200\n"
     ]
    },
    {
     "name": "stderr",
     "output_type": "stream",
     "text": [
      "                                                           \r"
     ]
    },
    {
     "name": "stdout",
     "output_type": "stream",
     "text": [
      "  Train Total Loss: 0.002634, Value Loss: 0.002634\n"
     ]
    },
    {
     "name": "stderr",
     "output_type": "stream",
     "text": [
      "                                                             \r"
     ]
    },
    {
     "name": "stdout",
     "output_type": "stream",
     "text": [
      "  Global Pearson Correlation: 0.7454\n",
      "  R² layer mean - uw: 0.5905\n",
      "  R² layer mean - vw: 0.5192\n",
      "  R² layer mean - tw: 0.5518\n",
      "  R² layer mean - qw: -0.9501\n",
      "  Saved R² plot to ./model_plots1\\uvtr2_layer_epoch005.png\n",
      "  Saved scatter plot to ./model_plots1\\uvtscatter_epoch005.png\n",
      "  Val Total Loss: 0.002975, Value Loss: 0.002975\n",
      "  Per-channel RMSE: uw=0.6982, vw=0.7635, tw=0.7190, \n",
      "  Saved best model: F:\\model\\model_save\\best_epoch005_val0.002975.pth\n",
      "\n",
      "Epoch 6/200\n"
     ]
    },
    {
     "name": "stderr",
     "output_type": "stream",
     "text": [
      "                                                           \r"
     ]
    },
    {
     "name": "stdout",
     "output_type": "stream",
     "text": [
      "  Train Total Loss: 0.002537, Value Loss: 0.002537\n"
     ]
    },
    {
     "name": "stderr",
     "output_type": "stream",
     "text": [
      "                                                             \r"
     ]
    },
    {
     "name": "stdout",
     "output_type": "stream",
     "text": [
      "  Global Pearson Correlation: 0.7582\n",
      "  R² layer mean - uw: 0.6053\n",
      "  R² layer mean - vw: 0.5368\n",
      "  R² layer mean - tw: 0.5872\n",
      "  R² layer mean - qw: -0.6495\n",
      "  Saved R² plot to ./model_plots1\\uvtr2_layer_epoch006.png\n",
      "  Saved scatter plot to ./model_plots1\\uvtscatter_epoch006.png\n",
      "  Val Total Loss: 0.002854, Value Loss: 0.002854\n",
      "  Per-channel RMSE: uw=0.6834, vw=0.7491, tw=0.6899, \n",
      "  Saved best model: F:\\model\\model_save\\best_epoch006_val0.002854.pth\n",
      "\n",
      "Epoch 7/200\n"
     ]
    },
    {
     "name": "stderr",
     "output_type": "stream",
     "text": [
      "                                                           \r"
     ]
    },
    {
     "name": "stdout",
     "output_type": "stream",
     "text": [
      "  Train Total Loss: 0.002410, Value Loss: 0.002410\n"
     ]
    },
    {
     "name": "stderr",
     "output_type": "stream",
     "text": [
      "                                                             \r"
     ]
    },
    {
     "name": "stdout",
     "output_type": "stream",
     "text": [
      "  Global Pearson Correlation: 0.7729\n",
      "  R² layer mean - uw: 0.6179\n",
      "  R² layer mean - vw: 0.5632\n",
      "  R² layer mean - tw: 0.6102\n",
      "  R² layer mean - qw: -1.1954\n",
      "  Saved R² plot to ./model_plots1\\uvtr2_layer_epoch007.png\n",
      "  Saved scatter plot to ./model_plots1\\uvtscatter_epoch007.png\n",
      "  Val Total Loss: 0.002769, Value Loss: 0.002769\n",
      "  Per-channel RMSE: uw=0.6749, vw=0.7268, tw=0.6708, \n",
      "  Saved best model: F:\\model\\model_save\\best_epoch007_val0.002769.pth\n",
      "\n",
      "Epoch 8/200\n"
     ]
    },
    {
     "name": "stderr",
     "output_type": "stream",
     "text": [
      "                                                           \r"
     ]
    },
    {
     "name": "stdout",
     "output_type": "stream",
     "text": [
      "  Train Total Loss: 0.002322, Value Loss: 0.002322\n"
     ]
    },
    {
     "name": "stderr",
     "output_type": "stream",
     "text": [
      "                                                             \r"
     ]
    },
    {
     "name": "stdout",
     "output_type": "stream",
     "text": [
      "  Global Pearson Correlation: 0.7827\n",
      "  R² layer mean - uw: 0.6405\n",
      "  R² layer mean - vw: 0.5743\n",
      "  R² layer mean - tw: 0.6248\n",
      "  R² layer mean - qw: -0.1677\n",
      "  Saved R² plot to ./model_plots1\\uvtr2_layer_epoch008.png\n",
      "  Saved scatter plot to ./model_plots1\\uvtscatter_epoch008.png\n",
      "  Val Total Loss: 0.002705, Value Loss: 0.002705\n",
      "  Per-channel RMSE: uw=0.6527, vw=0.7166, tw=0.6577, \n",
      "  Saved best model: F:\\model\\model_save\\best_epoch008_val0.002705.pth\n",
      "\n",
      "Epoch 9/200\n"
     ]
    },
    {
     "name": "stderr",
     "output_type": "stream",
     "text": [
      "                                                           \r"
     ]
    },
    {
     "name": "stdout",
     "output_type": "stream",
     "text": [
      "  Train Total Loss: 0.002245, Value Loss: 0.002245\n"
     ]
    },
    {
     "name": "stderr",
     "output_type": "stream",
     "text": [
      "                                                             \r"
     ]
    },
    {
     "name": "stdout",
     "output_type": "stream",
     "text": [
      "  Global Pearson Correlation: 0.7895\n",
      "  R² layer mean - uw: 0.6355\n",
      "  R² layer mean - vw: 0.5839\n",
      "  R² layer mean - tw: 0.6106\n",
      "  R² layer mean - qw: -0.1840\n",
      "  Saved R² plot to ./model_plots1\\uvtr2_layer_epoch009.png\n",
      "  Saved scatter plot to ./model_plots1\\uvtscatter_epoch009.png\n",
      "  Val Total Loss: 0.002737, Value Loss: 0.002737\n",
      "  Per-channel RMSE: uw=0.6584, vw=0.7119, tw=0.6699, \n",
      "\n",
      "Epoch 10/200\n"
     ]
    },
    {
     "name": "stderr",
     "output_type": "stream",
     "text": [
      "                                                           \r"
     ]
    },
    {
     "name": "stdout",
     "output_type": "stream",
     "text": [
      "  Train Total Loss: 0.002176, Value Loss: 0.002176\n"
     ]
    },
    {
     "name": "stderr",
     "output_type": "stream",
     "text": [
      "                                                             \r"
     ]
    },
    {
     "name": "stdout",
     "output_type": "stream",
     "text": [
      "  Global Pearson Correlation: 0.8034\n",
      "  R² layer mean - uw: 0.6826\n",
      "  R² layer mean - vw: 0.6104\n",
      "  R² layer mean - tw: 0.6430\n",
      "  R² layer mean - qw: -0.5264\n",
      "  Saved R² plot to ./model_plots1\\uvtr2_layer_epoch010.png\n",
      "  Saved scatter plot to ./model_plots1\\uvtscatter_epoch010.png\n",
      "  Val Total Loss: 0.002574, Value Loss: 0.002574\n",
      "  Per-channel RMSE: uw=0.6126, vw=0.6852, tw=0.6421, \n",
      "  Saved best model: F:\\model\\model_save\\best_epoch010_val0.002574.pth\n",
      "\n",
      "Epoch 11/200\n"
     ]
    },
    {
     "name": "stderr",
     "output_type": "stream",
     "text": [
      "                                                           \r"
     ]
    },
    {
     "name": "stdout",
     "output_type": "stream",
     "text": [
      "  Train Total Loss: 0.002117, Value Loss: 0.002117\n"
     ]
    },
    {
     "name": "stderr",
     "output_type": "stream",
     "text": [
      "                                                             \r"
     ]
    },
    {
     "name": "stdout",
     "output_type": "stream",
     "text": [
      "  Global Pearson Correlation: 0.8081\n",
      "  R² layer mean - uw: 0.6776\n",
      "  R² layer mean - vw: 0.5928\n",
      "  R² layer mean - tw: 0.6494\n",
      "  R² layer mean - qw: 0.0901\n",
      "  Saved R² plot to ./model_plots1\\uvtr2_layer_epoch011.png\n",
      "  Saved scatter plot to ./model_plots1\\uvtscatter_epoch011.png\n",
      "  Val Total Loss: 0.002525, Value Loss: 0.002525\n",
      "  Per-channel RMSE: uw=0.6182, vw=0.7031, tw=0.6364, \n",
      "  Saved best model: F:\\model\\model_save\\best_epoch011_val0.002525.pth\n",
      "\n",
      "Epoch 12/200\n"
     ]
    },
    {
     "name": "stderr",
     "output_type": "stream",
     "text": [
      "                                                           \r"
     ]
    },
    {
     "name": "stdout",
     "output_type": "stream",
     "text": [
      "  Train Total Loss: 0.002043, Value Loss: 0.002043\n"
     ]
    },
    {
     "name": "stderr",
     "output_type": "stream",
     "text": [
      "                                                             \r"
     ]
    },
    {
     "name": "stdout",
     "output_type": "stream",
     "text": [
      "  Global Pearson Correlation: 0.8190\n",
      "  R² layer mean - uw: 0.6849\n",
      "  R² layer mean - vw: 0.6266\n",
      "  R² layer mean - tw: 0.6797\n",
      "  R² layer mean - qw: 0.1987\n",
      "  Saved R² plot to ./model_plots1\\uvtr2_layer_epoch012.png\n",
      "  Saved scatter plot to ./model_plots1\\uvtscatter_epoch012.png\n",
      "  Val Total Loss: 0.002446, Value Loss: 0.002446\n",
      "  Per-channel RMSE: uw=0.6104, vw=0.6718, tw=0.6081, \n",
      "  Saved best model: F:\\model\\model_save\\best_epoch012_val0.002446.pth\n",
      "\n",
      "Epoch 13/200\n"
     ]
    },
    {
     "name": "stderr",
     "output_type": "stream",
     "text": [
      "                                                           \r"
     ]
    },
    {
     "name": "stdout",
     "output_type": "stream",
     "text": [
      "  Train Total Loss: 0.001990, Value Loss: 0.001990\n"
     ]
    },
    {
     "name": "stderr",
     "output_type": "stream",
     "text": [
      "                                                             \r"
     ]
    },
    {
     "name": "stdout",
     "output_type": "stream",
     "text": [
      "  Global Pearson Correlation: 0.8138\n",
      "  R² layer mean - uw: 0.7040\n",
      "  R² layer mean - vw: 0.6156\n",
      "  R² layer mean - tw: 0.6650\n",
      "  R² layer mean - qw: 0.2786\n",
      "  Saved R² plot to ./model_plots1\\uvtr2_layer_epoch013.png\n",
      "  Saved scatter plot to ./model_plots1\\uvtscatter_epoch013.png\n",
      "  Val Total Loss: 0.002508, Value Loss: 0.002508\n",
      "  Per-channel RMSE: uw=0.5919, vw=0.6829, tw=0.6218, \n",
      "\n",
      "Epoch 14/200\n"
     ]
    },
    {
     "name": "stderr",
     "output_type": "stream",
     "text": [
      "                                                           \r"
     ]
    },
    {
     "name": "stdout",
     "output_type": "stream",
     "text": [
      "  Train Total Loss: 0.001941, Value Loss: 0.001941\n"
     ]
    },
    {
     "name": "stderr",
     "output_type": "stream",
     "text": [
      "                                                             \r"
     ]
    },
    {
     "name": "stdout",
     "output_type": "stream",
     "text": [
      "  Global Pearson Correlation: 0.8306\n",
      "  R² layer mean - uw: 0.7005\n",
      "  R² layer mean - vw: 0.6565\n",
      "  R² layer mean - tw: 0.7015\n",
      "  R² layer mean - qw: 0.3630\n",
      "  Saved R² plot to ./model_plots1\\uvtr2_layer_epoch014.png\n",
      "  Saved scatter plot to ./model_plots1\\uvtscatter_epoch014.png\n",
      "  Val Total Loss: 0.002335, Value Loss: 0.002335\n",
      "  Per-channel RMSE: uw=0.5955, vw=0.6439, tw=0.5870, \n",
      "  Saved best model: F:\\model\\model_save\\best_epoch014_val0.002335.pth\n",
      "\n",
      "Epoch 15/200\n"
     ]
    },
    {
     "name": "stderr",
     "output_type": "stream",
     "text": [
      "                                                           \r"
     ]
    },
    {
     "name": "stdout",
     "output_type": "stream",
     "text": [
      "  Train Total Loss: 0.001893, Value Loss: 0.001893\n"
     ]
    },
    {
     "name": "stderr",
     "output_type": "stream",
     "text": [
      "                                                             \r"
     ]
    },
    {
     "name": "stdout",
     "output_type": "stream",
     "text": [
      "  Global Pearson Correlation: 0.7872\n",
      "  R² layer mean - uw: 0.6436\n",
      "  R² layer mean - vw: 0.5999\n",
      "  R² layer mean - tw: 0.6186\n",
      "  R² layer mean - qw: 0.0411\n",
      "  Saved R² plot to ./model_plots1\\uvtr2_layer_epoch015.png\n",
      "  Saved scatter plot to ./model_plots1\\uvtscatter_epoch015.png\n",
      "  Val Total Loss: 0.002542, Value Loss: 0.002542\n",
      "  Per-channel RMSE: uw=0.6496, vw=0.6959, tw=0.6634, \n",
      "\n",
      "Epoch 16/200\n"
     ]
    },
    {
     "name": "stderr",
     "output_type": "stream",
     "text": [
      "                                                           \r"
     ]
    },
    {
     "name": "stdout",
     "output_type": "stream",
     "text": [
      "  Train Total Loss: 0.001856, Value Loss: 0.001856\n"
     ]
    },
    {
     "name": "stderr",
     "output_type": "stream",
     "text": [
      "                                                             \r"
     ]
    },
    {
     "name": "stdout",
     "output_type": "stream",
     "text": [
      "  Global Pearson Correlation: 0.8351\n",
      "  R² layer mean - uw: 0.7126\n",
      "  R² layer mean - vw: 0.6609\n",
      "  R² layer mean - tw: 0.7063\n",
      "  R² layer mean - qw: 0.3985\n",
      "  Saved R² plot to ./model_plots1\\uvtr2_layer_epoch016.png\n",
      "  Saved scatter plot to ./model_plots1\\uvtscatter_epoch016.png\n",
      "  Val Total Loss: 0.002297, Value Loss: 0.002297\n",
      "  Per-channel RMSE: uw=0.5829, vw=0.6405, tw=0.5820, \n",
      "  Saved best model: F:\\model\\model_save\\best_epoch016_val0.002297.pth\n",
      "\n",
      "Epoch 17/200\n"
     ]
    },
    {
     "name": "stderr",
     "output_type": "stream",
     "text": [
      "                                                           \r"
     ]
    },
    {
     "name": "stdout",
     "output_type": "stream",
     "text": [
      "  Train Total Loss: 0.001811, Value Loss: 0.001811\n"
     ]
    },
    {
     "name": "stderr",
     "output_type": "stream",
     "text": [
      "                                                             \r"
     ]
    },
    {
     "name": "stdout",
     "output_type": "stream",
     "text": [
      "  Global Pearson Correlation: 0.8259\n",
      "  R² layer mean - uw: 0.7111\n",
      "  R² layer mean - vw: 0.6504\n",
      "  R² layer mean - tw: 0.6342\n",
      "  R² layer mean - qw: 0.4705\n",
      "  Saved R² plot to ./model_plots1\\uvtr2_layer_epoch017.png\n",
      "  Saved scatter plot to ./model_plots1\\uvtscatter_epoch017.png\n",
      "  Val Total Loss: 0.002514, Value Loss: 0.002514\n",
      "  Per-channel RMSE: uw=0.5829, vw=0.6509, tw=0.6515, \n",
      "\n",
      "Epoch 18/200\n"
     ]
    },
    {
     "name": "stderr",
     "output_type": "stream",
     "text": [
      "                                                           \r"
     ]
    },
    {
     "name": "stdout",
     "output_type": "stream",
     "text": [
      "  Train Total Loss: 0.001756, Value Loss: 0.001756\n"
     ]
    },
    {
     "name": "stderr",
     "output_type": "stream",
     "text": [
      "                                                             \r"
     ]
    },
    {
     "name": "stdout",
     "output_type": "stream",
     "text": [
      "  Global Pearson Correlation: 0.8567\n",
      "  R² layer mean - uw: 0.7569\n",
      "  R² layer mean - vw: 0.6995\n",
      "  R² layer mean - tw: 0.7430\n",
      "  R² layer mean - qw: 0.4937\n",
      "  Saved R² plot to ./model_plots1\\uvtr2_layer_epoch018.png\n",
      "  Saved scatter plot to ./model_plots1\\uvtscatter_epoch018.png\n",
      "  Val Total Loss: 0.002109, Value Loss: 0.002109\n",
      "  Per-channel RMSE: uw=0.5352, vw=0.6025, tw=0.5442, \n",
      "  Saved best model: F:\\model\\model_save\\best_epoch018_val0.002109.pth\n",
      "\n",
      "Epoch 19/200\n"
     ]
    },
    {
     "name": "stderr",
     "output_type": "stream",
     "text": [
      "                                                           \r"
     ]
    },
    {
     "name": "stdout",
     "output_type": "stream",
     "text": [
      "  Train Total Loss: 0.001731, Value Loss: 0.001731\n"
     ]
    },
    {
     "name": "stderr",
     "output_type": "stream",
     "text": [
      "                                                             \r"
     ]
    },
    {
     "name": "stdout",
     "output_type": "stream",
     "text": [
      "  Global Pearson Correlation: 0.8486\n",
      "  R² layer mean - uw: 0.7405\n",
      "  R² layer mean - vw: 0.6904\n",
      "  R² layer mean - tw: 0.7206\n",
      "  R² layer mean - qw: 0.4844\n",
      "  Saved R² plot to ./model_plots1\\uvtr2_layer_epoch019.png\n",
      "  Saved scatter plot to ./model_plots1\\uvtscatter_epoch019.png\n",
      "  Val Total Loss: 0.002158, Value Loss: 0.002158\n",
      "  Per-channel RMSE: uw=0.5536, vw=0.6107, tw=0.5671, \n",
      "\n",
      "Epoch 20/200\n"
     ]
    },
    {
     "name": "stderr",
     "output_type": "stream",
     "text": [
      "                                                           \r"
     ]
    },
    {
     "name": "stdout",
     "output_type": "stream",
     "text": [
      "  Train Total Loss: 0.001675, Value Loss: 0.001675\n"
     ]
    },
    {
     "name": "stderr",
     "output_type": "stream",
     "text": [
      "                                                             \r"
     ]
    },
    {
     "name": "stdout",
     "output_type": "stream",
     "text": [
      "  Global Pearson Correlation: 0.8508\n",
      "  R² layer mean - uw: 0.7247\n",
      "  R² layer mean - vw: 0.6662\n",
      "  R² layer mean - tw: 0.7209\n",
      "  R² layer mean - qw: 0.5108\n",
      "  Saved R² plot to ./model_plots1\\uvtr2_layer_epoch020.png\n",
      "  Saved scatter plot to ./model_plots1\\uvtscatter_epoch020.png\n",
      "  Val Total Loss: 0.002210, Value Loss: 0.002210\n",
      "  Per-channel RMSE: uw=0.5711, vw=0.6346, tw=0.5676, \n",
      "\n",
      "Epoch 21/200\n"
     ]
    },
    {
     "name": "stderr",
     "output_type": "stream",
     "text": [
      "                                                           \r"
     ]
    },
    {
     "name": "stdout",
     "output_type": "stream",
     "text": [
      "  Train Total Loss: 0.001652, Value Loss: 0.001652\n"
     ]
    },
    {
     "name": "stderr",
     "output_type": "stream",
     "text": [
      "                                                             \r"
     ]
    },
    {
     "name": "stdout",
     "output_type": "stream",
     "text": [
      "  Global Pearson Correlation: 0.8568\n",
      "  R² layer mean - uw: 0.7569\n",
      "  R² layer mean - vw: 0.7050\n",
      "  R² layer mean - tw: 0.7361\n",
      "  R² layer mean - qw: 0.5289\n",
      "  Saved R² plot to ./model_plots1\\uvtr2_layer_epoch021.png\n",
      "  Saved scatter plot to ./model_plots1\\uvtscatter_epoch021.png\n",
      "  Val Total Loss: 0.002090, Value Loss: 0.002090\n",
      "  Per-channel RMSE: uw=0.5362, vw=0.5965, tw=0.5520, \n",
      "  Saved best model: F:\\model\\model_save\\best_epoch021_val0.002090.pth\n",
      "\n",
      "Epoch 22/200\n"
     ]
    },
    {
     "name": "stderr",
     "output_type": "stream",
     "text": [
      "                                                           \r"
     ]
    },
    {
     "name": "stdout",
     "output_type": "stream",
     "text": [
      "  Train Total Loss: 0.001612, Value Loss: 0.001612\n"
     ]
    },
    {
     "name": "stderr",
     "output_type": "stream",
     "text": [
      "                                                             \r"
     ]
    },
    {
     "name": "stdout",
     "output_type": "stream",
     "text": [
      "  Global Pearson Correlation: 0.8567\n",
      "  R² layer mean - uw: 0.7334\n",
      "  R² layer mean - vw: 0.7076\n",
      "  R² layer mean - tw: 0.7418\n",
      "  R² layer mean - qw: 0.5148\n",
      "  Saved R² plot to ./model_plots1\\uvtr2_layer_epoch022.png\n",
      "  Saved scatter plot to ./model_plots1\\uvtscatter_epoch022.png\n",
      "  Val Total Loss: 0.002084, Value Loss: 0.002084\n",
      "  Per-channel RMSE: uw=0.5644, vw=0.5945, tw=0.5458, \n",
      "  Saved best model: F:\\model\\model_save\\best_epoch022_val0.002084.pth\n",
      "\n",
      "Epoch 23/200\n"
     ]
    },
    {
     "name": "stderr",
     "output_type": "stream",
     "text": [
      "                                                           \r"
     ]
    },
    {
     "name": "stdout",
     "output_type": "stream",
     "text": [
      "  Train Total Loss: 0.001576, Value Loss: 0.001576\n"
     ]
    },
    {
     "name": "stderr",
     "output_type": "stream",
     "text": [
      "                                                             \r"
     ]
    },
    {
     "name": "stdout",
     "output_type": "stream",
     "text": [
      "  Global Pearson Correlation: 0.8550\n",
      "  R² layer mean - uw: 0.7496\n",
      "  R² layer mean - vw: 0.6987\n",
      "  R² layer mean - tw: 0.7326\n",
      "  R² layer mean - qw: 0.4993\n",
      "  Saved R² plot to ./model_plots1\\uvtr2_layer_epoch023.png\n",
      "  Saved scatter plot to ./model_plots1\\uvtscatter_epoch023.png\n",
      "  Val Total Loss: 0.002139, Value Loss: 0.002139\n",
      "  Per-channel RMSE: uw=0.5434, vw=0.6018, tw=0.5549, \n",
      "\n",
      "Epoch 24/200\n"
     ]
    },
    {
     "name": "stderr",
     "output_type": "stream",
     "text": [
      "                                                           \r"
     ]
    },
    {
     "name": "stdout",
     "output_type": "stream",
     "text": [
      "  Train Total Loss: 0.001553, Value Loss: 0.001553\n"
     ]
    },
    {
     "name": "stderr",
     "output_type": "stream",
     "text": [
      "                                                             \r"
     ]
    },
    {
     "name": "stdout",
     "output_type": "stream",
     "text": [
      "  Global Pearson Correlation: 0.8614\n",
      "  R² layer mean - uw: 0.7622\n",
      "  R² layer mean - vw: 0.7037\n",
      "  R² layer mean - tw: 0.7603\n",
      "  R² layer mean - qw: 0.5529\n",
      "  Saved R² plot to ./model_plots1\\uvtr2_layer_epoch024.png\n",
      "  Saved scatter plot to ./model_plots1\\uvtscatter_epoch024.png\n",
      "  Val Total Loss: 0.002069, Value Loss: 0.002069\n",
      "  Per-channel RMSE: uw=0.5308, vw=0.5985, tw=0.5257, \n",
      "  Saved best model: F:\\model\\model_save\\best_epoch024_val0.002069.pth\n",
      "\n",
      "Epoch 25/200\n"
     ]
    },
    {
     "name": "stderr",
     "output_type": "stream",
     "text": [
      "                                                           \r"
     ]
    },
    {
     "name": "stdout",
     "output_type": "stream",
     "text": [
      "  Train Total Loss: 0.001544, Value Loss: 0.001544\n"
     ]
    },
    {
     "name": "stderr",
     "output_type": "stream",
     "text": [
      "                                                             \r"
     ]
    },
    {
     "name": "stdout",
     "output_type": "stream",
     "text": [
      "  Global Pearson Correlation: 0.8572\n",
      "  R² layer mean - uw: 0.7580\n",
      "  R² layer mean - vw: 0.7045\n",
      "  R² layer mean - tw: 0.7182\n",
      "  R² layer mean - qw: 0.3864\n",
      "  Saved R² plot to ./model_plots1\\uvtr2_layer_epoch025.png\n",
      "  Saved scatter plot to ./model_plots1\\uvtscatter_epoch025.png\n",
      "  Val Total Loss: 0.002175, Value Loss: 0.002175\n",
      "  Per-channel RMSE: uw=0.5350, vw=0.5956, tw=0.5702, \n",
      "\n",
      "Epoch 26/200\n"
     ]
    },
    {
     "name": "stderr",
     "output_type": "stream",
     "text": [
      "                                                           \r"
     ]
    },
    {
     "name": "stdout",
     "output_type": "stream",
     "text": [
      "  Train Total Loss: 0.001491, Value Loss: 0.001491\n"
     ]
    },
    {
     "name": "stderr",
     "output_type": "stream",
     "text": [
      "                                                             \r"
     ]
    },
    {
     "name": "stdout",
     "output_type": "stream",
     "text": [
      "  Global Pearson Correlation: 0.8751\n",
      "  R² layer mean - uw: 0.7808\n",
      "  R² layer mean - vw: 0.7433\n",
      "  R² layer mean - tw: 0.7592\n",
      "  R² layer mean - qw: 0.4457\n",
      "  Saved R² plot to ./model_plots1\\uvtr2_layer_epoch026.png\n",
      "  Saved scatter plot to ./model_plots1\\uvtscatter_epoch026.png\n",
      "  Val Total Loss: 0.001949, Value Loss: 0.001949\n",
      "  Per-channel RMSE: uw=0.5087, vw=0.5564, tw=0.5267, \n",
      "  Saved best model: F:\\model\\model_save\\best_epoch026_val0.001949.pth\n",
      "\n",
      "Epoch 27/200\n"
     ]
    },
    {
     "name": "stderr",
     "output_type": "stream",
     "text": [
      "                                                           \r"
     ]
    },
    {
     "name": "stdout",
     "output_type": "stream",
     "text": [
      "  Train Total Loss: 0.001471, Value Loss: 0.001471\n"
     ]
    },
    {
     "name": "stderr",
     "output_type": "stream",
     "text": [
      "                                                             \r"
     ]
    },
    {
     "name": "stdout",
     "output_type": "stream",
     "text": [
      "  Global Pearson Correlation: 0.8748\n",
      "  R² layer mean - uw: 0.7805\n",
      "  R² layer mean - vw: 0.7381\n",
      "  R² layer mean - tw: 0.7745\n",
      "  R² layer mean - qw: 0.5138\n",
      "  Saved R² plot to ./model_plots1\\uvtr2_layer_epoch027.png\n",
      "  Saved scatter plot to ./model_plots1\\uvtscatter_epoch027.png\n",
      "  Val Total Loss: 0.001924, Value Loss: 0.001924\n",
      "  Per-channel RMSE: uw=0.5090, vw=0.5613, tw=0.5099, \n",
      "  Saved best model: F:\\model\\model_save\\best_epoch027_val0.001924.pth\n",
      "\n",
      "Epoch 28/200\n"
     ]
    },
    {
     "name": "stderr",
     "output_type": "stream",
     "text": [
      "                                                           \r"
     ]
    },
    {
     "name": "stdout",
     "output_type": "stream",
     "text": [
      "  Train Total Loss: 0.001448, Value Loss: 0.001448\n"
     ]
    },
    {
     "name": "stderr",
     "output_type": "stream",
     "text": [
      "                                                             \r"
     ]
    },
    {
     "name": "stdout",
     "output_type": "stream",
     "text": [
      "  Global Pearson Correlation: 0.8722\n",
      "  R² layer mean - uw: 0.7818\n",
      "  R² layer mean - vw: 0.7310\n",
      "  R² layer mean - tw: 0.7715\n",
      "  R² layer mean - qw: 0.5001\n",
      "  Saved R² plot to ./model_plots1\\uvtr2_layer_epoch028.png\n",
      "  Saved scatter plot to ./model_plots1\\uvtscatter_epoch028.png\n",
      "  Val Total Loss: 0.001940, Value Loss: 0.001940\n",
      "  Per-channel RMSE: uw=0.5086, vw=0.5704, tw=0.5130, \n",
      "\n",
      "Epoch 29/200\n"
     ]
    },
    {
     "name": "stderr",
     "output_type": "stream",
     "text": [
      "                                                           \r"
     ]
    },
    {
     "name": "stdout",
     "output_type": "stream",
     "text": [
      "  Train Total Loss: 0.001455, Value Loss: 0.001455\n"
     ]
    },
    {
     "name": "stderr",
     "output_type": "stream",
     "text": [
      "                                                             \r"
     ]
    },
    {
     "name": "stdout",
     "output_type": "stream",
     "text": [
      "  Global Pearson Correlation: 0.8745\n",
      "  R² layer mean - uw: 0.7737\n",
      "  R² layer mean - vw: 0.7345\n",
      "  R² layer mean - tw: 0.7661\n",
      "  R² layer mean - qw: 0.5662\n",
      "  Saved R² plot to ./model_plots1\\uvtr2_layer_epoch029.png\n",
      "  Saved scatter plot to ./model_plots1\\uvtscatter_epoch029.png\n",
      "  Val Total Loss: 0.001946, Value Loss: 0.001946\n",
      "  Per-channel RMSE: uw=0.5163, vw=0.5655, tw=0.5192, \n",
      "\n",
      "Epoch 30/200\n"
     ]
    },
    {
     "name": "stderr",
     "output_type": "stream",
     "text": [
      "                                                           \r"
     ]
    },
    {
     "name": "stdout",
     "output_type": "stream",
     "text": [
      "  Train Total Loss: 0.001411, Value Loss: 0.001411\n"
     ]
    },
    {
     "name": "stderr",
     "output_type": "stream",
     "text": [
      "                                                             \r"
     ]
    },
    {
     "name": "stdout",
     "output_type": "stream",
     "text": [
      "  Global Pearson Correlation: 0.8757\n",
      "  R² layer mean - uw: 0.7675\n",
      "  R² layer mean - vw: 0.7261\n",
      "  R² layer mean - tw: 0.7643\n",
      "  R² layer mean - qw: 0.5682\n",
      "  Saved R² plot to ./model_plots1\\uvtr2_layer_epoch030.png\n",
      "  Saved scatter plot to ./model_plots1\\uvtscatter_epoch030.png\n",
      "  Val Total Loss: 0.001961, Value Loss: 0.001961\n",
      "  Per-channel RMSE: uw=0.5241, vw=0.5738, tw=0.5208, \n",
      "\n",
      "Epoch 31/200\n"
     ]
    },
    {
     "name": "stderr",
     "output_type": "stream",
     "text": [
      "                                                           \r"
     ]
    },
    {
     "name": "stdout",
     "output_type": "stream",
     "text": [
      "  Train Total Loss: 0.001401, Value Loss: 0.001401\n"
     ]
    },
    {
     "name": "stderr",
     "output_type": "stream",
     "text": [
      "                                                             \r"
     ]
    },
    {
     "name": "stdout",
     "output_type": "stream",
     "text": [
      "  Global Pearson Correlation: 0.8681\n",
      "  R² layer mean - uw: 0.7578\n",
      "  R² layer mean - vw: 0.7406\n",
      "  R² layer mean - tw: 0.7615\n",
      "  R² layer mean - qw: 0.5653\n",
      "  Saved R² plot to ./model_plots1\\uvtr2_layer_epoch031.png\n",
      "  Saved scatter plot to ./model_plots1\\uvtscatter_epoch031.png\n",
      "  Val Total Loss: 0.001960, Value Loss: 0.001960\n",
      "  Per-channel RMSE: uw=0.5369, vw=0.5577, tw=0.5244, \n",
      "\n",
      "Epoch 32/200\n"
     ]
    },
    {
     "name": "stderr",
     "output_type": "stream",
     "text": [
      "                                                           \r"
     ]
    },
    {
     "name": "stdout",
     "output_type": "stream",
     "text": [
      "  Train Total Loss: 0.001386, Value Loss: 0.001386\n"
     ]
    },
    {
     "name": "stderr",
     "output_type": "stream",
     "text": [
      "                                                             \r"
     ]
    },
    {
     "name": "stdout",
     "output_type": "stream",
     "text": [
      "  Global Pearson Correlation: 0.8757\n",
      "  R² layer mean - uw: 0.7785\n",
      "  R² layer mean - vw: 0.7319\n",
      "  R² layer mean - tw: 0.7887\n",
      "  R² layer mean - qw: 0.5854\n",
      "  Saved R² plot to ./model_plots1\\uvtr2_layer_epoch032.png\n",
      "  Saved scatter plot to ./model_plots1\\uvtscatter_epoch032.png\n",
      "  Val Total Loss: 0.001917, Value Loss: 0.001917\n",
      "  Per-channel RMSE: uw=0.5128, vw=0.5690, tw=0.4936, \n",
      "  Saved best model: F:\\model\\model_save\\best_epoch032_val0.001917.pth\n",
      "\n",
      "Epoch 33/200\n"
     ]
    },
    {
     "name": "stderr",
     "output_type": "stream",
     "text": [
      "                                                           \r"
     ]
    },
    {
     "name": "stdout",
     "output_type": "stream",
     "text": [
      "  Train Total Loss: 0.001362, Value Loss: 0.001362\n"
     ]
    },
    {
     "name": "stderr",
     "output_type": "stream",
     "text": [
      "                                                             \r"
     ]
    },
    {
     "name": "stdout",
     "output_type": "stream",
     "text": [
      "  Global Pearson Correlation: 0.8823\n",
      "  R² layer mean - uw: 0.8009\n",
      "  R² layer mean - vw: 0.7474\n",
      "  R² layer mean - tw: 0.7822\n",
      "  R² layer mean - qw: 0.5600\n",
      "  Saved R² plot to ./model_plots1\\uvtr2_layer_epoch033.png\n",
      "  Saved scatter plot to ./model_plots1\\uvtscatter_epoch033.png\n",
      "  Val Total Loss: 0.001876, Value Loss: 0.001876\n",
      "  Per-channel RMSE: uw=0.4849, vw=0.5512, tw=0.5014, \n",
      "  Saved best model: F:\\model\\model_save\\best_epoch033_val0.001876.pth\n",
      "\n",
      "Epoch 34/200\n"
     ]
    },
    {
     "name": "stderr",
     "output_type": "stream",
     "text": [
      "                                                           \r"
     ]
    },
    {
     "name": "stdout",
     "output_type": "stream",
     "text": [
      "  Train Total Loss: 0.001352, Value Loss: 0.001352\n"
     ]
    },
    {
     "name": "stderr",
     "output_type": "stream",
     "text": [
      "                                                             \r"
     ]
    },
    {
     "name": "stdout",
     "output_type": "stream",
     "text": [
      "  Global Pearson Correlation: 0.8840\n",
      "  R² layer mean - uw: 0.7993\n",
      "  R² layer mean - vw: 0.7524\n",
      "  R² layer mean - tw: 0.7923\n",
      "  R² layer mean - qw: 0.5779\n",
      "  Saved R² plot to ./model_plots1\\uvtr2_layer_epoch034.png\n",
      "  Saved scatter plot to ./model_plots1\\uvtscatter_epoch034.png\n",
      "  Val Total Loss: 0.001833, Value Loss: 0.001833\n",
      "  Per-channel RMSE: uw=0.4868, vw=0.5455, tw=0.4892, \n",
      "  Saved best model: F:\\model\\model_save\\best_epoch034_val0.001833.pth\n",
      "\n",
      "Epoch 35/200\n"
     ]
    },
    {
     "name": "stderr",
     "output_type": "stream",
     "text": [
      "                                                           \r"
     ]
    },
    {
     "name": "stdout",
     "output_type": "stream",
     "text": [
      "  Train Total Loss: 0.001336, Value Loss: 0.001336\n"
     ]
    },
    {
     "name": "stderr",
     "output_type": "stream",
     "text": [
      "                                                             \r"
     ]
    },
    {
     "name": "stdout",
     "output_type": "stream",
     "text": [
      "  Global Pearson Correlation: 0.8871\n",
      "  R² layer mean - uw: 0.8045\n",
      "  R² layer mean - vw: 0.7590\n",
      "  R² layer mean - tw: 0.7940\n",
      "  R² layer mean - qw: 0.5829\n",
      "  Saved R² plot to ./model_plots1\\uvtr2_layer_epoch035.png\n",
      "  Saved scatter plot to ./model_plots1\\uvtscatter_epoch035.png\n",
      "  Val Total Loss: 0.001788, Value Loss: 0.001788\n",
      "  Per-channel RMSE: uw=0.4804, vw=0.5378, tw=0.4871, \n",
      "  Saved best model: F:\\model\\model_save\\best_epoch035_val0.001788.pth\n",
      "\n",
      "Epoch 36/200\n"
     ]
    },
    {
     "name": "stderr",
     "output_type": "stream",
     "text": [
      "                                                           \r"
     ]
    },
    {
     "name": "stdout",
     "output_type": "stream",
     "text": [
      "  Train Total Loss: 0.001311, Value Loss: 0.001311\n"
     ]
    },
    {
     "name": "stderr",
     "output_type": "stream",
     "text": [
      "                                                             \r"
     ]
    },
    {
     "name": "stdout",
     "output_type": "stream",
     "text": [
      "  Global Pearson Correlation: 0.8885\n",
      "  R² layer mean - uw: 0.8011\n",
      "  R² layer mean - vw: 0.7685\n",
      "  R² layer mean - tw: 0.7983\n",
      "  R² layer mean - qw: 0.5976\n",
      "  Saved R² plot to ./model_plots1\\uvtr2_layer_epoch036.png\n",
      "  Saved scatter plot to ./model_plots1\\uvtscatter_epoch036.png\n",
      "  Val Total Loss: 0.001774, Value Loss: 0.001774\n",
      "  Per-channel RMSE: uw=0.4853, vw=0.5278, tw=0.4821, \n",
      "  Saved best model: F:\\model\\model_save\\best_epoch036_val0.001774.pth\n",
      "\n",
      "Epoch 37/200\n"
     ]
    },
    {
     "name": "stderr",
     "output_type": "stream",
     "text": [
      "                                                           \r"
     ]
    },
    {
     "name": "stdout",
     "output_type": "stream",
     "text": [
      "  Train Total Loss: 0.001286, Value Loss: 0.001286\n"
     ]
    },
    {
     "name": "stderr",
     "output_type": "stream",
     "text": [
      "                                                             \r"
     ]
    },
    {
     "name": "stdout",
     "output_type": "stream",
     "text": [
      "  Global Pearson Correlation: 0.8852\n",
      "  R² layer mean - uw: 0.7943\n",
      "  R² layer mean - vw: 0.7600\n",
      "  R² layer mean - tw: 0.7954\n",
      "  R² layer mean - qw: 0.5890\n",
      "  Saved R² plot to ./model_plots1\\uvtr2_layer_epoch037.png\n",
      "  Saved scatter plot to ./model_plots1\\uvtscatter_epoch037.png\n",
      "  Val Total Loss: 0.001808, Value Loss: 0.001808\n",
      "  Per-channel RMSE: uw=0.4920, vw=0.5380, tw=0.4853, \n",
      "\n",
      "Epoch 38/200\n"
     ]
    },
    {
     "name": "stderr",
     "output_type": "stream",
     "text": [
      "                                                           \r"
     ]
    },
    {
     "name": "stdout",
     "output_type": "stream",
     "text": [
      "  Train Total Loss: 0.001290, Value Loss: 0.001290\n"
     ]
    },
    {
     "name": "stderr",
     "output_type": "stream",
     "text": [
      "                                                             \r"
     ]
    },
    {
     "name": "stdout",
     "output_type": "stream",
     "text": [
      "  Global Pearson Correlation: 0.8849\n",
      "  R² layer mean - uw: 0.7888\n",
      "  R² layer mean - vw: 0.7605\n",
      "  R² layer mean - tw: 0.7904\n",
      "  R² layer mean - qw: 0.5591\n",
      "  Saved R² plot to ./model_plots1\\uvtr2_layer_epoch038.png\n",
      "  Saved scatter plot to ./model_plots1\\uvtscatter_epoch038.png\n",
      "  Val Total Loss: 0.001812, Value Loss: 0.001812\n",
      "  Per-channel RMSE: uw=0.4991, vw=0.5372, tw=0.4913, \n",
      "\n",
      "Epoch 39/200\n"
     ]
    },
    {
     "name": "stderr",
     "output_type": "stream",
     "text": [
      "                                                           \r"
     ]
    },
    {
     "name": "stdout",
     "output_type": "stream",
     "text": [
      "  Train Total Loss: 0.001278, Value Loss: 0.001278\n"
     ]
    },
    {
     "name": "stderr",
     "output_type": "stream",
     "text": [
      "                                                             \r"
     ]
    },
    {
     "name": "stdout",
     "output_type": "stream",
     "text": [
      "  Global Pearson Correlation: 0.8875\n",
      "  R² layer mean - uw: 0.7998\n",
      "  R² layer mean - vw: 0.7625\n",
      "  R² layer mean - tw: 0.7967\n",
      "  R² layer mean - qw: 0.5720\n",
      "  Saved R² plot to ./model_plots1\\uvtr2_layer_epoch039.png\n",
      "  Saved scatter plot to ./model_plots1\\uvtscatter_epoch039.png\n",
      "  Val Total Loss: 0.001796, Value Loss: 0.001796\n",
      "  Per-channel RMSE: uw=0.4868, vw=0.5356, tw=0.4840, \n",
      "\n",
      "Epoch 40/200\n"
     ]
    },
    {
     "name": "stderr",
     "output_type": "stream",
     "text": [
      "                                                           \r"
     ]
    },
    {
     "name": "stdout",
     "output_type": "stream",
     "text": [
      "  Train Total Loss: 0.001272, Value Loss: 0.001272\n"
     ]
    },
    {
     "name": "stderr",
     "output_type": "stream",
     "text": [
      "                                                             \r"
     ]
    },
    {
     "name": "stdout",
     "output_type": "stream",
     "text": [
      "  Global Pearson Correlation: 0.8915\n",
      "  R² layer mean - uw: 0.8119\n",
      "  R² layer mean - vw: 0.7648\n",
      "  R² layer mean - tw: 0.8058\n",
      "  R² layer mean - qw: 0.4768\n",
      "  Saved R² plot to ./model_plots1\\uvtr2_layer_epoch040.png\n",
      "  Saved scatter plot to ./model_plots1\\uvtscatter_epoch040.png\n",
      "  Val Total Loss: 0.001749, Value Loss: 0.001749\n",
      "  Per-channel RMSE: uw=0.4705, vw=0.5308, tw=0.4731, \n",
      "  Saved best model: F:\\model\\model_save\\best_epoch040_val0.001749.pth\n",
      "\n",
      "Epoch 41/200\n"
     ]
    },
    {
     "name": "stderr",
     "output_type": "stream",
     "text": [
      "                                                           \r"
     ]
    },
    {
     "name": "stdout",
     "output_type": "stream",
     "text": [
      "  Train Total Loss: 0.001268, Value Loss: 0.001268\n"
     ]
    },
    {
     "name": "stderr",
     "output_type": "stream",
     "text": [
      "                                                             \r"
     ]
    },
    {
     "name": "stdout",
     "output_type": "stream",
     "text": [
      "  Global Pearson Correlation: 0.8862\n",
      "  R² layer mean - uw: 0.7987\n",
      "  R² layer mean - vw: 0.7614\n",
      "  R² layer mean - tw: 0.7959\n",
      "  R² layer mean - qw: 0.5523\n",
      "  Saved R² plot to ./model_plots1\\uvtr2_layer_epoch041.png\n",
      "  Saved scatter plot to ./model_plots1\\uvtscatter_epoch041.png\n",
      "  Val Total Loss: 0.001819, Value Loss: 0.001819\n",
      "  Per-channel RMSE: uw=0.4872, vw=0.5354, tw=0.4851, \n",
      "\n",
      "Epoch 42/200\n"
     ]
    },
    {
     "name": "stderr",
     "output_type": "stream",
     "text": [
      "                                                           \r"
     ]
    },
    {
     "name": "stdout",
     "output_type": "stream",
     "text": [
      "  Train Total Loss: 0.001244, Value Loss: 0.001244\n"
     ]
    },
    {
     "name": "stderr",
     "output_type": "stream",
     "text": [
      "                                                             \r"
     ]
    },
    {
     "name": "stdout",
     "output_type": "stream",
     "text": [
      "  Global Pearson Correlation: 0.8932\n",
      "  R² layer mean - uw: 0.8061\n",
      "  R² layer mean - vw: 0.7751\n",
      "  R² layer mean - tw: 0.8071\n",
      "  R² layer mean - qw: 0.5813\n",
      "  Saved R² plot to ./model_plots1\\uvtr2_layer_epoch042.png\n",
      "  Saved scatter plot to ./model_plots1\\uvtscatter_epoch042.png\n",
      "  Val Total Loss: 0.001722, Value Loss: 0.001722\n",
      "  Per-channel RMSE: uw=0.4784, vw=0.5200, tw=0.4714, \n",
      "  Saved best model: F:\\model\\model_save\\best_epoch042_val0.001722.pth\n",
      "\n",
      "Epoch 43/200\n"
     ]
    },
    {
     "name": "stderr",
     "output_type": "stream",
     "text": [
      "                                                           \r"
     ]
    },
    {
     "name": "stdout",
     "output_type": "stream",
     "text": [
      "  Train Total Loss: 0.001258, Value Loss: 0.001258\n"
     ]
    },
    {
     "name": "stderr",
     "output_type": "stream",
     "text": [
      "                                                             \r"
     ]
    },
    {
     "name": "stdout",
     "output_type": "stream",
     "text": [
      "  Global Pearson Correlation: 0.8948\n",
      "  R² layer mean - uw: 0.8141\n",
      "  R² layer mean - vw: 0.7834\n",
      "  R² layer mean - tw: 0.8011\n",
      "  R² layer mean - qw: 0.5803\n",
      "  Saved R² plot to ./model_plots1\\uvtr2_layer_epoch043.png\n",
      "  Saved scatter plot to ./model_plots1\\uvtscatter_epoch043.png\n",
      "  Val Total Loss: 0.001700, Value Loss: 0.001700\n",
      "  Per-channel RMSE: uw=0.4686, vw=0.5100, tw=0.4786, \n",
      "  Saved best model: F:\\model\\model_save\\best_epoch043_val0.001700.pth\n",
      "\n",
      "Epoch 44/200\n"
     ]
    },
    {
     "name": "stderr",
     "output_type": "stream",
     "text": [
      "                                                           \r"
     ]
    },
    {
     "name": "stdout",
     "output_type": "stream",
     "text": [
      "  Train Total Loss: 0.001206, Value Loss: 0.001206\n"
     ]
    },
    {
     "name": "stderr",
     "output_type": "stream",
     "text": [
      "                                                             \r"
     ]
    },
    {
     "name": "stdout",
     "output_type": "stream",
     "text": [
      "  Global Pearson Correlation: 0.8897\n",
      "  R² layer mean - uw: 0.8033\n",
      "  R² layer mean - vw: 0.7589\n",
      "  R² layer mean - tw: 0.7993\n",
      "  R² layer mean - qw: 0.5973\n",
      "  Saved R² plot to ./model_plots1\\uvtr2_layer_epoch044.png\n",
      "  Saved scatter plot to ./model_plots1\\uvtscatter_epoch044.png\n",
      "  Val Total Loss: 0.001779, Value Loss: 0.001779\n",
      "  Per-channel RMSE: uw=0.4830, vw=0.5389, tw=0.4811, \n",
      "\n",
      "Epoch 45/200\n"
     ]
    },
    {
     "name": "stderr",
     "output_type": "stream",
     "text": [
      "                                                           \r"
     ]
    },
    {
     "name": "stdout",
     "output_type": "stream",
     "text": [
      "  Train Total Loss: 0.001206, Value Loss: 0.001206\n"
     ]
    },
    {
     "name": "stderr",
     "output_type": "stream",
     "text": [
      "                                                             \r"
     ]
    },
    {
     "name": "stdout",
     "output_type": "stream",
     "text": [
      "  Global Pearson Correlation: 0.8893\n",
      "  R² layer mean - uw: 0.7981\n",
      "  R² layer mean - vw: 0.7708\n",
      "  R² layer mean - tw: 0.7951\n",
      "  R² layer mean - qw: 0.5566\n",
      "  Saved R² plot to ./model_plots1\\uvtr2_layer_epoch045.png\n",
      "  Saved scatter plot to ./model_plots1\\uvtscatter_epoch045.png\n",
      "  Val Total Loss: 0.001763, Value Loss: 0.001763\n",
      "  Per-channel RMSE: uw=0.4873, vw=0.5247, tw=0.4858, \n",
      "\n",
      "Epoch 46/200\n"
     ]
    },
    {
     "name": "stderr",
     "output_type": "stream",
     "text": [
      "                                                           \r"
     ]
    },
    {
     "name": "stdout",
     "output_type": "stream",
     "text": [
      "  Train Total Loss: 0.001200, Value Loss: 0.001200\n"
     ]
    },
    {
     "name": "stderr",
     "output_type": "stream",
     "text": [
      "                                                             \r"
     ]
    },
    {
     "name": "stdout",
     "output_type": "stream",
     "text": [
      "  Global Pearson Correlation: 0.8891\n",
      "  R² layer mean - uw: 0.8028\n",
      "  R² layer mean - vw: 0.7607\n",
      "  R² layer mean - tw: 0.7982\n",
      "  R² layer mean - qw: 0.5728\n",
      "  Saved R² plot to ./model_plots1\\uvtr2_layer_epoch046.png\n",
      "  Saved scatter plot to ./model_plots1\\uvtscatter_epoch046.png\n",
      "  Val Total Loss: 0.001753, Value Loss: 0.001753\n",
      "  Per-channel RMSE: uw=0.4816, vw=0.5356, tw=0.4819, \n",
      "\n",
      "Epoch 47/200\n"
     ]
    },
    {
     "name": "stderr",
     "output_type": "stream",
     "text": [
      "                                                           \r"
     ]
    },
    {
     "name": "stdout",
     "output_type": "stream",
     "text": [
      "  Train Total Loss: 0.001205, Value Loss: 0.001205\n"
     ]
    },
    {
     "name": "stderr",
     "output_type": "stream",
     "text": [
      "                                                             \r"
     ]
    },
    {
     "name": "stdout",
     "output_type": "stream",
     "text": [
      "  Global Pearson Correlation: 0.8950\n",
      "  R² layer mean - uw: 0.8089\n",
      "  R² layer mean - vw: 0.7770\n",
      "  R² layer mean - tw: 0.8126\n",
      "  R² layer mean - qw: 0.5730\n",
      "  Saved R² plot to ./model_plots1\\uvtr2_layer_epoch047.png\n",
      "  Saved scatter plot to ./model_plots1\\uvtscatter_epoch047.png\n",
      "  Val Total Loss: 0.001726, Value Loss: 0.001726\n",
      "  Per-channel RMSE: uw=0.4756, vw=0.5177, tw=0.4646, \n",
      "\n",
      "Epoch 48/200\n"
     ]
    },
    {
     "name": "stderr",
     "output_type": "stream",
     "text": [
      "                                                           \r"
     ]
    },
    {
     "name": "stdout",
     "output_type": "stream",
     "text": [
      "  Train Total Loss: 0.001185, Value Loss: 0.001185\n"
     ]
    },
    {
     "name": "stderr",
     "output_type": "stream",
     "text": [
      "                                                             \r"
     ]
    },
    {
     "name": "stdout",
     "output_type": "stream",
     "text": [
      "  Global Pearson Correlation: 0.8973\n",
      "  R² layer mean - uw: 0.8177\n",
      "  R² layer mean - vw: 0.7833\n",
      "  R² layer mean - tw: 0.8128\n",
      "  R² layer mean - qw: 0.5843\n",
      "  Saved R² plot to ./model_plots1\\uvtr2_layer_epoch048.png\n",
      "  Saved scatter plot to ./model_plots1\\uvtscatter_epoch048.png\n",
      "  Val Total Loss: 0.001666, Value Loss: 0.001666\n",
      "  Per-channel RMSE: uw=0.4641, vw=0.5113, tw=0.4646, \n",
      "  Saved best model: F:\\model\\model_save\\best_epoch048_val0.001666.pth\n",
      "\n",
      "Epoch 49/200\n"
     ]
    },
    {
     "name": "stderr",
     "output_type": "stream",
     "text": [
      "                                                           \r"
     ]
    },
    {
     "name": "stdout",
     "output_type": "stream",
     "text": [
      "  Train Total Loss: 0.001179, Value Loss: 0.001179\n"
     ]
    },
    {
     "name": "stderr",
     "output_type": "stream",
     "text": [
      "                                                             \r"
     ]
    },
    {
     "name": "stdout",
     "output_type": "stream",
     "text": [
      "  Global Pearson Correlation: 0.8972\n",
      "  R² layer mean - uw: 0.8098\n",
      "  R² layer mean - vw: 0.7723\n",
      "  R² layer mean - tw: 0.8168\n",
      "  R² layer mean - qw: 0.5815\n",
      "  Saved R² plot to ./model_plots1\\uvtr2_layer_epoch049.png\n",
      "  Saved scatter plot to ./model_plots1\\uvtscatter_epoch049.png\n",
      "  Val Total Loss: 0.001698, Value Loss: 0.001698\n",
      "  Per-channel RMSE: uw=0.4730, vw=0.5225, tw=0.4595, \n",
      "\n",
      "Epoch 50/200\n"
     ]
    },
    {
     "name": "stderr",
     "output_type": "stream",
     "text": [
      "                                                           \r"
     ]
    },
    {
     "name": "stdout",
     "output_type": "stream",
     "text": [
      "  Train Total Loss: 0.001164, Value Loss: 0.001164\n"
     ]
    },
    {
     "name": "stderr",
     "output_type": "stream",
     "text": [
      "                                                             \r"
     ]
    },
    {
     "name": "stdout",
     "output_type": "stream",
     "text": [
      "  Global Pearson Correlation: 0.8740\n",
      "  R² layer mean - uw: 0.7734\n",
      "  R² layer mean - vw: 0.7394\n",
      "  R² layer mean - tw: 0.7735\n",
      "  R² layer mean - qw: 0.5741\n",
      "  Saved R² plot to ./model_plots1\\uvtr2_layer_epoch050.png\n",
      "  Saved scatter plot to ./model_plots1\\uvtscatter_epoch050.png\n",
      "  Val Total Loss: 0.001920, Value Loss: 0.001920\n",
      "  Per-channel RMSE: uw=0.5169, vw=0.5601, tw=0.5110, \n",
      "\n",
      "Epoch 51/200\n"
     ]
    },
    {
     "name": "stderr",
     "output_type": "stream",
     "text": [
      "                                                           \r"
     ]
    },
    {
     "name": "stdout",
     "output_type": "stream",
     "text": [
      "  Train Total Loss: 0.001174, Value Loss: 0.001174\n"
     ]
    },
    {
     "name": "stderr",
     "output_type": "stream",
     "text": [
      "                                                             \r"
     ]
    },
    {
     "name": "stdout",
     "output_type": "stream",
     "text": [
      "  Global Pearson Correlation: 0.8937\n",
      "  R² layer mean - uw: 0.8127\n",
      "  R² layer mean - vw: 0.7712\n",
      "  R² layer mean - tw: 0.8106\n",
      "  R² layer mean - qw: 0.5794\n",
      "  Saved R² plot to ./model_plots1\\uvtr2_layer_epoch051.png\n",
      "  Saved scatter plot to ./model_plots1\\uvtscatter_epoch051.png\n",
      "  Val Total Loss: 0.001711, Value Loss: 0.001711\n",
      "  Per-channel RMSE: uw=0.4701, vw=0.5248, tw=0.4671, \n",
      "\n",
      "Epoch 52/200\n"
     ]
    },
    {
     "name": "stderr",
     "output_type": "stream",
     "text": [
      "                                                           \r"
     ]
    },
    {
     "name": "stdout",
     "output_type": "stream",
     "text": [
      "  Train Total Loss: 0.001139, Value Loss: 0.001139\n"
     ]
    },
    {
     "name": "stderr",
     "output_type": "stream",
     "text": [
      "                                                             \r"
     ]
    },
    {
     "name": "stdout",
     "output_type": "stream",
     "text": [
      "  Global Pearson Correlation: 0.8960\n",
      "  R² layer mean - uw: 0.8136\n",
      "  R² layer mean - vw: 0.7768\n",
      "  R² layer mean - tw: 0.8098\n",
      "  R² layer mean - qw: 0.5460\n",
      "  Saved R² plot to ./model_plots1\\uvtr2_layer_epoch052.png\n",
      "  Saved scatter plot to ./model_plots1\\uvtscatter_epoch052.png\n",
      "  Val Total Loss: 0.001705, Value Loss: 0.001705\n",
      "  Per-channel RMSE: uw=0.4687, vw=0.5196, tw=0.4682, \n",
      "\n",
      "Epoch 53/200\n"
     ]
    },
    {
     "name": "stderr",
     "output_type": "stream",
     "text": [
      "                                                           \r"
     ]
    },
    {
     "name": "stdout",
     "output_type": "stream",
     "text": [
      "  Train Total Loss: 0.001139, Value Loss: 0.001139\n"
     ]
    },
    {
     "name": "stderr",
     "output_type": "stream",
     "text": [
      "                                                             \r"
     ]
    },
    {
     "name": "stdout",
     "output_type": "stream",
     "text": [
      "  Global Pearson Correlation: 0.8974\n",
      "  R² layer mean - uw: 0.8186\n",
      "  R² layer mean - vw: 0.7801\n",
      "  R² layer mean - tw: 0.8064\n",
      "  R² layer mean - qw: 0.5834\n",
      "  Saved R² plot to ./model_plots1\\uvtr2_layer_epoch053.png\n",
      "  Saved scatter plot to ./model_plots1\\uvtscatter_epoch053.png\n",
      "  Val Total Loss: 0.001704, Value Loss: 0.001704\n",
      "  Per-channel RMSE: uw=0.4639, vw=0.5142, tw=0.4723, \n",
      "\n",
      "Epoch 54/200\n"
     ]
    },
    {
     "name": "stderr",
     "output_type": "stream",
     "text": [
      "                                                           \r"
     ]
    },
    {
     "name": "stdout",
     "output_type": "stream",
     "text": [
      "  Train Total Loss: 0.001131, Value Loss: 0.001131\n"
     ]
    },
    {
     "name": "stderr",
     "output_type": "stream",
     "text": [
      "                                                             \r"
     ]
    },
    {
     "name": "stdout",
     "output_type": "stream",
     "text": [
      "  Global Pearson Correlation: 0.9003\n",
      "  R² layer mean - uw: 0.8274\n",
      "  R² layer mean - vw: 0.7894\n",
      "  R² layer mean - tw: 0.8145\n",
      "  R² layer mean - qw: 0.5881\n",
      "  Saved R² plot to ./model_plots1\\uvtr2_layer_epoch054.png\n",
      "  Saved scatter plot to ./model_plots1\\uvtscatter_epoch054.png\n",
      "  Val Total Loss: 0.001646, Value Loss: 0.001646\n",
      "  Per-channel RMSE: uw=0.4512, vw=0.5028, tw=0.4623, \n",
      "  Saved best model: F:\\model\\model_save\\best_epoch054_val0.001646.pth\n",
      "\n",
      "Epoch 55/200\n"
     ]
    },
    {
     "name": "stderr",
     "output_type": "stream",
     "text": [
      "                                                           \r"
     ]
    },
    {
     "name": "stdout",
     "output_type": "stream",
     "text": [
      "  Train Total Loss: 0.001135, Value Loss: 0.001135\n"
     ]
    },
    {
     "name": "stderr",
     "output_type": "stream",
     "text": [
      "                                                             \r"
     ]
    },
    {
     "name": "stdout",
     "output_type": "stream",
     "text": [
      "  Global Pearson Correlation: 0.9024\n",
      "  R² layer mean - uw: 0.8198\n",
      "  R² layer mean - vw: 0.7928\n",
      "  R² layer mean - tw: 0.8246\n",
      "  R² layer mean - qw: 0.6058\n",
      "  Saved R² plot to ./model_plots1\\uvtr2_layer_epoch055.png\n",
      "  Saved scatter plot to ./model_plots1\\uvtscatter_epoch055.png\n",
      "  Val Total Loss: 0.001616, Value Loss: 0.001616\n",
      "  Per-channel RMSE: uw=0.4608, vw=0.4989, tw=0.4495, \n",
      "  Saved best model: F:\\model\\model_save\\best_epoch055_val0.001616.pth\n",
      "\n",
      "Epoch 56/200\n"
     ]
    },
    {
     "name": "stderr",
     "output_type": "stream",
     "text": [
      "                                                           \r"
     ]
    },
    {
     "name": "stdout",
     "output_type": "stream",
     "text": [
      "  Train Total Loss: 0.001121, Value Loss: 0.001121\n"
     ]
    },
    {
     "name": "stderr",
     "output_type": "stream",
     "text": [
      "                                                             \r"
     ]
    },
    {
     "name": "stdout",
     "output_type": "stream",
     "text": [
      "  Global Pearson Correlation: 0.8985\n",
      "  R² layer mean - uw: 0.8195\n",
      "  R² layer mean - vw: 0.7820\n",
      "  R² layer mean - tw: 0.8206\n",
      "  R² layer mean - qw: 0.5845\n",
      "  Saved R² plot to ./model_plots1\\uvtr2_layer_epoch056.png\n",
      "  Saved scatter plot to ./model_plots1\\uvtscatter_epoch056.png\n",
      "  Val Total Loss: 0.001665, Value Loss: 0.001665\n",
      "  Per-channel RMSE: uw=0.4619, vw=0.5112, tw=0.4549, \n",
      "\n",
      "Epoch 57/200\n"
     ]
    },
    {
     "name": "stderr",
     "output_type": "stream",
     "text": [
      "                                                           \r"
     ]
    },
    {
     "name": "stdout",
     "output_type": "stream",
     "text": [
      "  Train Total Loss: 0.001110, Value Loss: 0.001110\n"
     ]
    },
    {
     "name": "stderr",
     "output_type": "stream",
     "text": [
      "                                                             \r"
     ]
    },
    {
     "name": "stdout",
     "output_type": "stream",
     "text": [
      "  Global Pearson Correlation: 0.8981\n",
      "  R² layer mean - uw: 0.8215\n",
      "  R² layer mean - vw: 0.7779\n",
      "  R² layer mean - tw: 0.8195\n",
      "  R² layer mean - qw: 0.5721\n",
      "  Saved R² plot to ./model_plots1\\uvtr2_layer_epoch057.png\n",
      "  Saved scatter plot to ./model_plots1\\uvtscatter_epoch057.png\n",
      "  Val Total Loss: 0.001679, Value Loss: 0.001679\n",
      "  Per-channel RMSE: uw=0.4594, vw=0.5153, tw=0.4561, \n",
      "\n",
      "Epoch 58/200\n"
     ]
    },
    {
     "name": "stderr",
     "output_type": "stream",
     "text": [
      "                                                           \r"
     ]
    },
    {
     "name": "stdout",
     "output_type": "stream",
     "text": [
      "  Train Total Loss: 0.001096, Value Loss: 0.001096\n"
     ]
    },
    {
     "name": "stderr",
     "output_type": "stream",
     "text": [
      "                                                             \r"
     ]
    },
    {
     "name": "stdout",
     "output_type": "stream",
     "text": [
      "  Global Pearson Correlation: 0.9010\n",
      "  R² layer mean - uw: 0.8233\n",
      "  R² layer mean - vw: 0.7880\n",
      "  R² layer mean - tw: 0.8139\n",
      "  R² layer mean - qw: 0.5947\n",
      "  Saved R² plot to ./model_plots1\\uvtr2_layer_epoch058.png\n",
      "  Saved scatter plot to ./model_plots1\\uvtscatter_epoch058.png\n",
      "  Val Total Loss: 0.001644, Value Loss: 0.001644\n",
      "  Per-channel RMSE: uw=0.4563, vw=0.5043, tw=0.4632, \n",
      "\n",
      "Epoch 59/200\n"
     ]
    },
    {
     "name": "stderr",
     "output_type": "stream",
     "text": [
      "                                                           \r"
     ]
    },
    {
     "name": "stdout",
     "output_type": "stream",
     "text": [
      "  Train Total Loss: 0.001099, Value Loss: 0.001099\n"
     ]
    },
    {
     "name": "stderr",
     "output_type": "stream",
     "text": [
      "                                                             \r"
     ]
    },
    {
     "name": "stdout",
     "output_type": "stream",
     "text": [
      "  Global Pearson Correlation: 0.8957\n",
      "  R² layer mean - uw: 0.8145\n",
      "  R² layer mean - vw: 0.7786\n",
      "  R² layer mean - tw: 0.8103\n",
      "  R² layer mean - qw: 0.5806\n",
      "  Saved R² plot to ./model_plots1\\uvtr2_layer_epoch059.png\n",
      "  Saved scatter plot to ./model_plots1\\uvtscatter_epoch059.png\n",
      "  Val Total Loss: 0.001709, Value Loss: 0.001709\n",
      "  Per-channel RMSE: uw=0.4679, vw=0.5154, tw=0.4675, \n",
      "\n",
      "Epoch 60/200\n"
     ]
    },
    {
     "name": "stderr",
     "output_type": "stream",
     "text": [
      "                                                           \r"
     ]
    },
    {
     "name": "stdout",
     "output_type": "stream",
     "text": [
      "  Train Total Loss: 0.001110, Value Loss: 0.001110\n"
     ]
    },
    {
     "name": "stderr",
     "output_type": "stream",
     "text": [
      "                                                             \r"
     ]
    },
    {
     "name": "stdout",
     "output_type": "stream",
     "text": [
      "  Global Pearson Correlation: 0.9041\n",
      "  R² layer mean - uw: 0.8318\n",
      "  R² layer mean - vw: 0.7923\n",
      "  R² layer mean - tw: 0.8265\n",
      "  R² layer mean - qw: 0.6142\n",
      "  Saved R² plot to ./model_plots1\\uvtr2_layer_epoch060.png\n",
      "  Saved scatter plot to ./model_plots1\\uvtscatter_epoch060.png\n",
      "  Val Total Loss: 0.001597, Value Loss: 0.001597\n",
      "  Per-channel RMSE: uw=0.4450, vw=0.4991, tw=0.4470, \n",
      "  Saved best model: F:\\model\\model_save\\best_epoch060_val0.001597.pth\n",
      "\n",
      "Epoch 61/200\n"
     ]
    },
    {
     "name": "stderr",
     "output_type": "stream",
     "text": [
      "                                                           \r"
     ]
    },
    {
     "name": "stdout",
     "output_type": "stream",
     "text": [
      "  Train Total Loss: 0.001080, Value Loss: 0.001080\n"
     ]
    },
    {
     "name": "stderr",
     "output_type": "stream",
     "text": [
      "                                                             \r"
     ]
    },
    {
     "name": "stdout",
     "output_type": "stream",
     "text": [
      "  Global Pearson Correlation: 0.9055\n",
      "  R² layer mean - uw: 0.8329\n",
      "  R² layer mean - vw: 0.8004\n",
      "  R² layer mean - tw: 0.8257\n",
      "  R² layer mean - qw: 0.5711\n",
      "  Saved R² plot to ./model_plots1\\uvtr2_layer_epoch061.png\n",
      "  Saved scatter plot to ./model_plots1\\uvtscatter_epoch061.png\n",
      "  Val Total Loss: 0.001586, Value Loss: 0.001586\n",
      "  Per-channel RMSE: uw=0.4439, vw=0.4893, tw=0.4481, \n",
      "  Saved best model: F:\\model\\model_save\\best_epoch061_val0.001586.pth\n",
      "\n",
      "Epoch 62/200\n"
     ]
    },
    {
     "name": "stderr",
     "output_type": "stream",
     "text": [
      "                                                           \r"
     ]
    },
    {
     "name": "stdout",
     "output_type": "stream",
     "text": [
      "  Train Total Loss: 0.001080, Value Loss: 0.001080\n"
     ]
    },
    {
     "name": "stderr",
     "output_type": "stream",
     "text": [
      "                                                             \r"
     ]
    },
    {
     "name": "stdout",
     "output_type": "stream",
     "text": [
      "  Global Pearson Correlation: 0.8991\n",
      "  R² layer mean - uw: 0.8137\n",
      "  R² layer mean - vw: 0.7858\n",
      "  R² layer mean - tw: 0.8074\n",
      "  R² layer mean - qw: 0.5960\n",
      "  Saved R² plot to ./model_plots1\\uvtr2_layer_epoch062.png\n",
      "  Saved scatter plot to ./model_plots1\\uvtscatter_epoch062.png\n",
      "  Val Total Loss: 0.001669, Value Loss: 0.001669\n",
      "  Per-channel RMSE: uw=0.4687, vw=0.5068, tw=0.4709, \n",
      "\n",
      "Epoch 63/200\n"
     ]
    },
    {
     "name": "stderr",
     "output_type": "stream",
     "text": [
      "                                                           \r"
     ]
    },
    {
     "name": "stdout",
     "output_type": "stream",
     "text": [
      "  Train Total Loss: 0.001078, Value Loss: 0.001078\n"
     ]
    },
    {
     "name": "stderr",
     "output_type": "stream",
     "text": [
      "                                                             \r"
     ]
    },
    {
     "name": "stdout",
     "output_type": "stream",
     "text": [
      "  Global Pearson Correlation: 0.9024\n",
      "  R² layer mean - uw: 0.8172\n",
      "  R² layer mean - vw: 0.7967\n",
      "  R² layer mean - tw: 0.8200\n",
      "  R² layer mean - qw: 0.5877\n",
      "  Saved R² plot to ./model_plots1\\uvtr2_layer_epoch063.png\n",
      "  Saved scatter plot to ./model_plots1\\uvtscatter_epoch063.png\n",
      "  Val Total Loss: 0.001607, Value Loss: 0.001607\n",
      "  Per-channel RMSE: uw=0.4652, vw=0.4937, tw=0.4555, \n",
      "\n",
      "Epoch 64/200\n"
     ]
    },
    {
     "name": "stderr",
     "output_type": "stream",
     "text": [
      "                                                           \r"
     ]
    },
    {
     "name": "stdout",
     "output_type": "stream",
     "text": [
      "  Train Total Loss: 0.001066, Value Loss: 0.001066\n"
     ]
    },
    {
     "name": "stderr",
     "output_type": "stream",
     "text": [
      "                                                             \r"
     ]
    },
    {
     "name": "stdout",
     "output_type": "stream",
     "text": [
      "  Global Pearson Correlation: 0.8999\n",
      "  R² layer mean - uw: 0.8243\n",
      "  R² layer mean - vw: 0.7844\n",
      "  R² layer mean - tw: 0.8214\n",
      "  R² layer mean - qw: 0.6017\n",
      "  Saved R² plot to ./model_plots1\\uvtr2_layer_epoch064.png\n",
      "  Saved scatter plot to ./model_plots1\\uvtscatter_epoch064.png\n",
      "  Val Total Loss: 0.001652, Value Loss: 0.001652\n",
      "  Per-channel RMSE: uw=0.4551, vw=0.5099, tw=0.4537, \n",
      "\n",
      "Epoch 65/200\n"
     ]
    },
    {
     "name": "stderr",
     "output_type": "stream",
     "text": [
      "                                                           \r"
     ]
    },
    {
     "name": "stdout",
     "output_type": "stream",
     "text": [
      "  Train Total Loss: 0.001077, Value Loss: 0.001077\n"
     ]
    },
    {
     "name": "stderr",
     "output_type": "stream",
     "text": [
      "                                                             \r"
     ]
    },
    {
     "name": "stdout",
     "output_type": "stream",
     "text": [
      "  Global Pearson Correlation: 0.9078\n",
      "  R² layer mean - uw: 0.8321\n",
      "  R² layer mean - vw: 0.8067\n",
      "  R² layer mean - tw: 0.8302\n",
      "  R² layer mean - qw: 0.5854\n",
      "  Saved R² plot to ./model_plots1\\uvtr2_layer_epoch065.png\n",
      "  Saved scatter plot to ./model_plots1\\uvtscatter_epoch065.png\n",
      "  Val Total Loss: 0.001572, Value Loss: 0.001572\n",
      "  Per-channel RMSE: uw=0.4444, vw=0.4811, tw=0.4423, \n",
      "  Saved best model: F:\\model\\model_save\\best_epoch065_val0.001572.pth\n",
      "\n",
      "Epoch 66/200\n"
     ]
    },
    {
     "name": "stderr",
     "output_type": "stream",
     "text": [
      "                                                           \r"
     ]
    },
    {
     "name": "stdout",
     "output_type": "stream",
     "text": [
      "  Train Total Loss: 0.001069, Value Loss: 0.001069\n"
     ]
    },
    {
     "name": "stderr",
     "output_type": "stream",
     "text": [
      "                                                             \r"
     ]
    },
    {
     "name": "stdout",
     "output_type": "stream",
     "text": [
      "  Global Pearson Correlation: 0.9016\n",
      "  R² layer mean - uw: 0.8271\n",
      "  R² layer mean - vw: 0.7883\n",
      "  R² layer mean - tw: 0.8222\n",
      "  R² layer mean - qw: 0.5576\n",
      "  Saved R² plot to ./model_plots1\\uvtr2_layer_epoch066.png\n",
      "  Saved scatter plot to ./model_plots1\\uvtscatter_epoch066.png\n",
      "  Val Total Loss: 0.001634, Value Loss: 0.001634\n",
      "  Per-channel RMSE: uw=0.4516, vw=0.5044, tw=0.4525, \n",
      "\n",
      "Epoch 67/200\n"
     ]
    },
    {
     "name": "stderr",
     "output_type": "stream",
     "text": [
      "                                                           \r"
     ]
    },
    {
     "name": "stdout",
     "output_type": "stream",
     "text": [
      "  Train Total Loss: 0.001058, Value Loss: 0.001058\n"
     ]
    },
    {
     "name": "stderr",
     "output_type": "stream",
     "text": [
      "                                                             \r"
     ]
    },
    {
     "name": "stdout",
     "output_type": "stream",
     "text": [
      "  Global Pearson Correlation: 0.9034\n",
      "  R² layer mean - uw: 0.8254\n",
      "  R² layer mean - vw: 0.7894\n",
      "  R² layer mean - tw: 0.8238\n",
      "  R² layer mean - qw: 0.5997\n",
      "  Saved R² plot to ./model_plots1\\uvtr2_layer_epoch067.png\n",
      "  Saved scatter plot to ./model_plots1\\uvtscatter_epoch067.png\n",
      "  Val Total Loss: 0.001615, Value Loss: 0.001615\n",
      "  Per-channel RMSE: uw=0.4537, vw=0.5028, tw=0.4507, \n",
      "\n",
      "Epoch 68/200\n"
     ]
    },
    {
     "name": "stderr",
     "output_type": "stream",
     "text": [
      "                                                           \r"
     ]
    },
    {
     "name": "stdout",
     "output_type": "stream",
     "text": [
      "  Train Total Loss: 0.001051, Value Loss: 0.001051\n"
     ]
    },
    {
     "name": "stderr",
     "output_type": "stream",
     "text": [
      "                                                             \r"
     ]
    },
    {
     "name": "stdout",
     "output_type": "stream",
     "text": [
      "  Global Pearson Correlation: 0.9031\n",
      "  R² layer mean - uw: 0.8205\n",
      "  R² layer mean - vw: 0.7997\n",
      "  R² layer mean - tw: 0.8226\n",
      "  R² layer mean - qw: 0.6083\n",
      "  Saved R² plot to ./model_plots1\\uvtr2_layer_epoch068.png\n",
      "  Saved scatter plot to ./model_plots1\\uvtscatter_epoch068.png\n",
      "  Val Total Loss: 0.001602, Value Loss: 0.001602\n",
      "  Per-channel RMSE: uw=0.4600, vw=0.4901, tw=0.4522, \n",
      "\n",
      "Epoch 69/200\n"
     ]
    },
    {
     "name": "stderr",
     "output_type": "stream",
     "text": [
      "                                                           \r"
     ]
    },
    {
     "name": "stdout",
     "output_type": "stream",
     "text": [
      "  Train Total Loss: 0.001038, Value Loss: 0.001038\n"
     ]
    },
    {
     "name": "stderr",
     "output_type": "stream",
     "text": [
      "                                                             \r"
     ]
    },
    {
     "name": "stdout",
     "output_type": "stream",
     "text": [
      "  Global Pearson Correlation: 0.9021\n",
      "  R² layer mean - uw: 0.8279\n",
      "  R² layer mean - vw: 0.7947\n",
      "  R² layer mean - tw: 0.8154\n",
      "  R² layer mean - qw: 0.6014\n",
      "  Saved R² plot to ./model_plots1\\uvtr2_layer_epoch069.png\n",
      "  Saved scatter plot to ./model_plots1\\uvtscatter_epoch069.png\n",
      "  Val Total Loss: 0.001622, Value Loss: 0.001622\n",
      "  Per-channel RMSE: uw=0.4505, vw=0.4963, tw=0.4610, \n",
      "\n",
      "Epoch 70/200\n"
     ]
    },
    {
     "name": "stderr",
     "output_type": "stream",
     "text": [
      "                                                           \r"
     ]
    },
    {
     "name": "stdout",
     "output_type": "stream",
     "text": [
      "  Train Total Loss: 0.001037, Value Loss: 0.001037\n"
     ]
    },
    {
     "name": "stderr",
     "output_type": "stream",
     "text": [
      "                                                             \r"
     ]
    },
    {
     "name": "stdout",
     "output_type": "stream",
     "text": [
      "  Global Pearson Correlation: 0.9037\n",
      "  R² layer mean - uw: 0.8320\n",
      "  R² layer mean - vw: 0.7939\n",
      "  R² layer mean - tw: 0.8225\n",
      "  R² layer mean - qw: 0.5942\n",
      "  Saved R² plot to ./model_plots1\\uvtr2_layer_epoch070.png\n",
      "  Saved scatter plot to ./model_plots1\\uvtscatter_epoch070.png\n",
      "  Val Total Loss: 0.001599, Value Loss: 0.001599\n",
      "  Per-channel RMSE: uw=0.4452, vw=0.4967, tw=0.4522, \n",
      "\n",
      "Epoch 71/200\n"
     ]
    },
    {
     "name": "stderr",
     "output_type": "stream",
     "text": [
      "                                                           \r"
     ]
    },
    {
     "name": "stdout",
     "output_type": "stream",
     "text": [
      "  Train Total Loss: 0.001030, Value Loss: 0.001030\n"
     ]
    },
    {
     "name": "stderr",
     "output_type": "stream",
     "text": [
      "                                                             \r"
     ]
    },
    {
     "name": "stdout",
     "output_type": "stream",
     "text": [
      "  Global Pearson Correlation: 0.8978\n",
      "  R² layer mean - uw: 0.8074\n",
      "  R² layer mean - vw: 0.7770\n",
      "  R² layer mean - tw: 0.8299\n",
      "  R² layer mean - qw: 0.6004\n",
      "  Saved R² plot to ./model_plots1\\uvtr2_layer_epoch071.png\n",
      "  Saved scatter plot to ./model_plots1\\uvtscatter_epoch071.png\n",
      "  Val Total Loss: 0.001674, Value Loss: 0.001674\n",
      "  Per-channel RMSE: uw=0.4761, vw=0.5192, tw=0.4427, \n",
      "\n",
      "Epoch 72/200\n"
     ]
    },
    {
     "name": "stderr",
     "output_type": "stream",
     "text": [
      "                                                           \r"
     ]
    },
    {
     "name": "stdout",
     "output_type": "stream",
     "text": [
      "  Train Total Loss: 0.000818, Value Loss: 0.000818\n"
     ]
    },
    {
     "name": "stderr",
     "output_type": "stream",
     "text": [
      "                                                             \r"
     ]
    },
    {
     "name": "stdout",
     "output_type": "stream",
     "text": [
      "  Global Pearson Correlation: 0.9253\n",
      "  R² layer mean - uw: 0.8602\n",
      "  R² layer mean - vw: 0.8392\n",
      "  R² layer mean - tw: 0.8631\n",
      "  R² layer mean - qw: 0.6270\n",
      "  Saved R² plot to ./model_plots1\\uvtr2_layer_epoch072.png\n",
      "  Saved scatter plot to ./model_plots1\\uvtscatter_epoch072.png\n",
      "  Val Total Loss: 0.001318, Value Loss: 0.001318\n",
      "  Per-channel RMSE: uw=0.4061, vw=0.4387, tw=0.3972, \n",
      "  Saved best model: F:\\model\\model_save\\best_epoch072_val0.001318.pth\n",
      "\n",
      "Epoch 73/200\n"
     ]
    },
    {
     "name": "stderr",
     "output_type": "stream",
     "text": [
      "                                                           \r"
     ]
    },
    {
     "name": "stdout",
     "output_type": "stream",
     "text": [
      "  Train Total Loss: 0.000752, Value Loss: 0.000752\n"
     ]
    },
    {
     "name": "stderr",
     "output_type": "stream",
     "text": [
      "                                                             \r"
     ]
    },
    {
     "name": "stdout",
     "output_type": "stream",
     "text": [
      "  Global Pearson Correlation: 0.9262\n",
      "  R² layer mean - uw: 0.8670\n",
      "  R² layer mean - vw: 0.8405\n",
      "  R² layer mean - tw: 0.8644\n",
      "  R² layer mean - qw: 0.6182\n",
      "  Saved R² plot to ./model_plots1\\uvtr2_layer_epoch073.png\n",
      "  Saved scatter plot to ./model_plots1\\uvtscatter_epoch073.png\n",
      "  Val Total Loss: 0.001305, Value Loss: 0.001305\n",
      "  Per-channel RMSE: uw=0.3957, vw=0.4366, tw=0.3951, \n",
      "  Saved best model: F:\\model\\model_save\\best_epoch073_val0.001305.pth\n",
      "\n",
      "Epoch 74/200\n"
     ]
    },
    {
     "name": "stderr",
     "output_type": "stream",
     "text": [
      "                                                           \r"
     ]
    },
    {
     "name": "stdout",
     "output_type": "stream",
     "text": [
      "  Train Total Loss: 0.000753, Value Loss: 0.000753\n"
     ]
    },
    {
     "name": "stderr",
     "output_type": "stream",
     "text": [
      "                                                             \r"
     ]
    },
    {
     "name": "stdout",
     "output_type": "stream",
     "text": [
      "  Global Pearson Correlation: 0.9240\n",
      "  R² layer mean - uw: 0.8610\n",
      "  R² layer mean - vw: 0.8352\n",
      "  R² layer mean - tw: 0.8542\n",
      "  R² layer mean - qw: 0.6323\n",
      "  Saved R² plot to ./model_plots1\\uvtr2_layer_epoch074.png\n",
      "  Saved scatter plot to ./model_plots1\\uvtscatter_epoch074.png\n",
      "  Val Total Loss: 0.001346, Value Loss: 0.001346\n",
      "  Per-channel RMSE: uw=0.4040, vw=0.4442, tw=0.4100, \n",
      "\n",
      "Epoch 75/200\n"
     ]
    },
    {
     "name": "stderr",
     "output_type": "stream",
     "text": [
      "                                                           \r"
     ]
    },
    {
     "name": "stdout",
     "output_type": "stream",
     "text": [
      "  Train Total Loss: 0.000746, Value Loss: 0.000746\n"
     ]
    },
    {
     "name": "stderr",
     "output_type": "stream",
     "text": [
      "                                                             \r"
     ]
    },
    {
     "name": "stdout",
     "output_type": "stream",
     "text": [
      "  Global Pearson Correlation: 0.9254\n",
      "  R² layer mean - uw: 0.8661\n",
      "  R² layer mean - vw: 0.8404\n",
      "  R² layer mean - tw: 0.8620\n",
      "  R² layer mean - qw: 0.6366\n",
      "  Saved R² plot to ./model_plots1\\uvtr2_layer_epoch075.png\n",
      "  Saved scatter plot to ./model_plots1\\uvtscatter_epoch075.png\n",
      "  Val Total Loss: 0.001315, Value Loss: 0.001315\n",
      "  Per-channel RMSE: uw=0.3973, vw=0.4376, tw=0.3988, \n",
      "\n",
      "Epoch 76/200\n"
     ]
    },
    {
     "name": "stderr",
     "output_type": "stream",
     "text": [
      "                                                           \r"
     ]
    },
    {
     "name": "stdout",
     "output_type": "stream",
     "text": [
      "  Train Total Loss: 0.000741, Value Loss: 0.000741\n"
     ]
    },
    {
     "name": "stderr",
     "output_type": "stream",
     "text": [
      "                                                             \r"
     ]
    },
    {
     "name": "stdout",
     "output_type": "stream",
     "text": [
      "  Global Pearson Correlation: 0.9259\n",
      "  R² layer mean - uw: 0.8652\n",
      "  R² layer mean - vw: 0.8431\n",
      "  R² layer mean - tw: 0.8622\n",
      "  R² layer mean - qw: 0.6244\n",
      "  Saved R² plot to ./model_plots1\\uvtr2_layer_epoch076.png\n",
      "  Saved scatter plot to ./model_plots1\\uvtscatter_epoch076.png\n",
      "  Val Total Loss: 0.001303, Value Loss: 0.001303\n",
      "  Per-channel RMSE: uw=0.3985, vw=0.4331, tw=0.3984, \n",
      "  Saved best model: F:\\model\\model_save\\best_epoch076_val0.001303.pth\n",
      "\n",
      "Epoch 77/200\n"
     ]
    },
    {
     "name": "stderr",
     "output_type": "stream",
     "text": [
      "                                                           \r"
     ]
    },
    {
     "name": "stdout",
     "output_type": "stream",
     "text": [
      "  Train Total Loss: 0.000725, Value Loss: 0.000725\n"
     ]
    },
    {
     "name": "stderr",
     "output_type": "stream",
     "text": [
      "                                                             \r"
     ]
    },
    {
     "name": "stdout",
     "output_type": "stream",
     "text": [
      "  Global Pearson Correlation: 0.9262\n",
      "  R² layer mean - uw: 0.8645\n",
      "  R² layer mean - vw: 0.8421\n",
      "  R² layer mean - tw: 0.8623\n",
      "  R² layer mean - qw: 0.6419\n",
      "  Saved R² plot to ./model_plots1\\uvtr2_layer_epoch077.png\n",
      "  Saved scatter plot to ./model_plots1\\uvtscatter_epoch077.png\n",
      "  Val Total Loss: 0.001303, Value Loss: 0.001303\n",
      "  Per-channel RMSE: uw=0.3998, vw=0.4338, tw=0.3983, \n",
      "  Saved best model: F:\\model\\model_save\\best_epoch077_val0.001303.pth\n",
      "\n",
      "Epoch 78/200\n"
     ]
    },
    {
     "name": "stderr",
     "output_type": "stream",
     "text": [
      "                                                           \r"
     ]
    },
    {
     "name": "stdout",
     "output_type": "stream",
     "text": [
      "  Train Total Loss: 0.000722, Value Loss: 0.000722\n"
     ]
    },
    {
     "name": "stderr",
     "output_type": "stream",
     "text": [
      "                                                             \r"
     ]
    },
    {
     "name": "stdout",
     "output_type": "stream",
     "text": [
      "  Global Pearson Correlation: 0.9275\n",
      "  R² layer mean - uw: 0.8683\n",
      "  R² layer mean - vw: 0.8433\n",
      "  R² layer mean - tw: 0.8676\n",
      "  R² layer mean - qw: 0.6387\n",
      "  Saved R² plot to ./model_plots1\\uvtr2_layer_epoch078.png\n",
      "  Saved scatter plot to ./model_plots1\\uvtscatter_epoch078.png\n",
      "  Val Total Loss: 0.001283, Value Loss: 0.001283\n",
      "  Per-channel RMSE: uw=0.3938, vw=0.4324, tw=0.3905, \n",
      "  Saved best model: F:\\model\\model_save\\best_epoch078_val0.001283.pth\n",
      "\n",
      "Epoch 79/200\n"
     ]
    },
    {
     "name": "stderr",
     "output_type": "stream",
     "text": [
      "                                                           \r"
     ]
    },
    {
     "name": "stdout",
     "output_type": "stream",
     "text": [
      "  Train Total Loss: 0.000715, Value Loss: 0.000715\n"
     ]
    },
    {
     "name": "stderr",
     "output_type": "stream",
     "text": [
      "                                                             \r"
     ]
    },
    {
     "name": "stdout",
     "output_type": "stream",
     "text": [
      "  Global Pearson Correlation: 0.9275\n",
      "  R² layer mean - uw: 0.8646\n",
      "  R² layer mean - vw: 0.8419\n",
      "  R² layer mean - tw: 0.8683\n",
      "  R² layer mean - qw: 0.6450\n",
      "  Saved R² plot to ./model_plots1\\uvtr2_layer_epoch079.png\n",
      "  Saved scatter plot to ./model_plots1\\uvtscatter_epoch079.png\n",
      "  Val Total Loss: 0.001287, Value Loss: 0.001287\n",
      "  Per-channel RMSE: uw=0.3995, vw=0.4349, tw=0.3896, \n",
      "\n",
      "Epoch 80/200\n"
     ]
    },
    {
     "name": "stderr",
     "output_type": "stream",
     "text": [
      "                                                           \r"
     ]
    },
    {
     "name": "stdout",
     "output_type": "stream",
     "text": [
      "  Train Total Loss: 0.000706, Value Loss: 0.000706\n"
     ]
    },
    {
     "name": "stderr",
     "output_type": "stream",
     "text": [
      "                                                             \r"
     ]
    },
    {
     "name": "stdout",
     "output_type": "stream",
     "text": [
      "  Global Pearson Correlation: 0.9281\n",
      "  R² layer mean - uw: 0.8691\n",
      "  R² layer mean - vw: 0.8472\n",
      "  R² layer mean - tw: 0.8669\n",
      "  R² layer mean - qw: 0.6331\n",
      "  Saved R² plot to ./model_plots1\\uvtr2_layer_epoch080.png\n",
      "  Saved scatter plot to ./model_plots1\\uvtscatter_epoch080.png\n",
      "  Val Total Loss: 0.001278, Value Loss: 0.001278\n",
      "  Per-channel RMSE: uw=0.3928, vw=0.4283, tw=0.3917, \n",
      "  Saved best model: F:\\model\\model_save\\best_epoch080_val0.001278.pth\n",
      "\n",
      "Epoch 81/200\n"
     ]
    },
    {
     "name": "stderr",
     "output_type": "stream",
     "text": [
      "                                                           \r"
     ]
    },
    {
     "name": "stdout",
     "output_type": "stream",
     "text": [
      "  Train Total Loss: 0.000711, Value Loss: 0.000711\n"
     ]
    },
    {
     "name": "stderr",
     "output_type": "stream",
     "text": [
      "                                                             \r"
     ]
    },
    {
     "name": "stdout",
     "output_type": "stream",
     "text": [
      "  Global Pearson Correlation: 0.9281\n",
      "  R² layer mean - uw: 0.8715\n",
      "  R² layer mean - vw: 0.8446\n",
      "  R² layer mean - tw: 0.8625\n",
      "  R² layer mean - qw: 0.6401\n",
      "  Saved R² plot to ./model_plots1\\uvtr2_layer_epoch081.png\n",
      "  Saved scatter plot to ./model_plots1\\uvtscatter_epoch081.png\n",
      "  Val Total Loss: 0.001281, Value Loss: 0.001281\n",
      "  Per-channel RMSE: uw=0.3893, vw=0.4315, tw=0.3981, \n",
      "\n",
      "Epoch 82/200\n"
     ]
    },
    {
     "name": "stderr",
     "output_type": "stream",
     "text": [
      "                                                           \r"
     ]
    },
    {
     "name": "stdout",
     "output_type": "stream",
     "text": [
      "  Train Total Loss: 0.000707, Value Loss: 0.000707\n"
     ]
    },
    {
     "name": "stderr",
     "output_type": "stream",
     "text": [
      "                                                             \r"
     ]
    },
    {
     "name": "stdout",
     "output_type": "stream",
     "text": [
      "  Global Pearson Correlation: 0.9278\n",
      "  R² layer mean - uw: 0.8682\n",
      "  R² layer mean - vw: 0.8432\n",
      "  R² layer mean - tw: 0.8689\n",
      "  R² layer mean - qw: 0.6472\n",
      "  Saved R² plot to ./model_plots1\\uvtr2_layer_epoch082.png\n",
      "  Saved scatter plot to ./model_plots1\\uvtscatter_epoch082.png\n",
      "  Val Total Loss: 0.001278, Value Loss: 0.001278\n",
      "  Per-channel RMSE: uw=0.3943, vw=0.4333, tw=0.3887, \n",
      "\n",
      "Epoch 83/200\n"
     ]
    },
    {
     "name": "stderr",
     "output_type": "stream",
     "text": [
      "                                                           \r"
     ]
    },
    {
     "name": "stdout",
     "output_type": "stream",
     "text": [
      "  Train Total Loss: 0.000695, Value Loss: 0.000695\n"
     ]
    },
    {
     "name": "stderr",
     "output_type": "stream",
     "text": [
      "                                                             \r"
     ]
    },
    {
     "name": "stdout",
     "output_type": "stream",
     "text": [
      "  Global Pearson Correlation: 0.9284\n",
      "  R² layer mean - uw: 0.8685\n",
      "  R² layer mean - vw: 0.8496\n",
      "  R² layer mean - tw: 0.8662\n",
      "  R² layer mean - qw: 0.6484\n",
      "  Saved R² plot to ./model_plots1\\uvtr2_layer_epoch083.png\n",
      "  Saved scatter plot to ./model_plots1\\uvtscatter_epoch083.png\n",
      "  Val Total Loss: 0.001267, Value Loss: 0.001267\n",
      "  Per-channel RMSE: uw=0.3933, vw=0.4238, tw=0.3925, \n",
      "  Saved best model: F:\\model\\model_save\\best_epoch083_val0.001267.pth\n",
      "\n",
      "Epoch 84/200\n"
     ]
    },
    {
     "name": "stderr",
     "output_type": "stream",
     "text": [
      "                                                           \r"
     ]
    },
    {
     "name": "stdout",
     "output_type": "stream",
     "text": [
      "  Train Total Loss: 0.000689, Value Loss: 0.000689\n"
     ]
    },
    {
     "name": "stderr",
     "output_type": "stream",
     "text": [
      "                                                             \r"
     ]
    },
    {
     "name": "stdout",
     "output_type": "stream",
     "text": [
      "  Global Pearson Correlation: 0.9270\n",
      "  R² layer mean - uw: 0.8695\n",
      "  R² layer mean - vw: 0.8434\n",
      "  R² layer mean - tw: 0.8639\n",
      "  R² layer mean - qw: 0.6391\n",
      "  Saved R² plot to ./model_plots1\\uvtr2_layer_epoch084.png\n",
      "  Saved scatter plot to ./model_plots1\\uvtscatter_epoch084.png\n",
      "  Val Total Loss: 0.001295, Value Loss: 0.001295\n",
      "  Per-channel RMSE: uw=0.3921, vw=0.4328, tw=0.3960, \n",
      "\n",
      "Epoch 85/200\n"
     ]
    },
    {
     "name": "stderr",
     "output_type": "stream",
     "text": [
      "                                                           \r"
     ]
    },
    {
     "name": "stdout",
     "output_type": "stream",
     "text": [
      "  Train Total Loss: 0.000688, Value Loss: 0.000688\n"
     ]
    },
    {
     "name": "stderr",
     "output_type": "stream",
     "text": [
      "                                                             \r"
     ]
    },
    {
     "name": "stdout",
     "output_type": "stream",
     "text": [
      "  Global Pearson Correlation: 0.9275\n",
      "  R² layer mean - uw: 0.8685\n",
      "  R² layer mean - vw: 0.8426\n",
      "  R² layer mean - tw: 0.8668\n",
      "  R² layer mean - qw: 0.6426\n",
      "  Saved R² plot to ./model_plots1\\uvtr2_layer_epoch085.png\n",
      "  Saved scatter plot to ./model_plots1\\uvtscatter_epoch085.png\n",
      "  Val Total Loss: 0.001288, Value Loss: 0.001288\n",
      "  Per-channel RMSE: uw=0.3934, vw=0.4344, tw=0.3918, \n",
      "\n",
      "Epoch 86/200\n"
     ]
    },
    {
     "name": "stderr",
     "output_type": "stream",
     "text": [
      "                                                           \r"
     ]
    },
    {
     "name": "stdout",
     "output_type": "stream",
     "text": [
      "  Train Total Loss: 0.000686, Value Loss: 0.000686\n"
     ]
    },
    {
     "name": "stderr",
     "output_type": "stream",
     "text": [
      "                                                             \r"
     ]
    },
    {
     "name": "stdout",
     "output_type": "stream",
     "text": [
      "  Global Pearson Correlation: 0.9286\n",
      "  R² layer mean - uw: 0.8715\n",
      "  R² layer mean - vw: 0.8424\n",
      "  R² layer mean - tw: 0.8679\n",
      "  R² layer mean - qw: 0.6552\n",
      "  Saved R² plot to ./model_plots1\\uvtr2_layer_epoch086.png\n",
      "  Saved scatter plot to ./model_plots1\\uvtscatter_epoch086.png\n",
      "  Val Total Loss: 0.001262, Value Loss: 0.001262\n",
      "  Per-channel RMSE: uw=0.3891, vw=0.4343, tw=0.3902, \n",
      "  Saved best model: F:\\model\\model_save\\best_epoch086_val0.001262.pth\n",
      "\n",
      "Epoch 87/200\n"
     ]
    },
    {
     "name": "stderr",
     "output_type": "stream",
     "text": [
      "                                                           \r"
     ]
    },
    {
     "name": "stdout",
     "output_type": "stream",
     "text": [
      "  Train Total Loss: 0.000675, Value Loss: 0.000675\n"
     ]
    },
    {
     "name": "stderr",
     "output_type": "stream",
     "text": [
      "                                                             \r"
     ]
    },
    {
     "name": "stdout",
     "output_type": "stream",
     "text": [
      "  Global Pearson Correlation: 0.9301\n",
      "  R² layer mean - uw: 0.8737\n",
      "  R² layer mean - vw: 0.8489\n",
      "  R² layer mean - tw: 0.8716\n",
      "  R² layer mean - qw: 0.6529\n",
      "  Saved R² plot to ./model_plots1\\uvtr2_layer_epoch087.png\n",
      "  Saved scatter plot to ./model_plots1\\uvtscatter_epoch087.png\n",
      "  Val Total Loss: 0.001250, Value Loss: 0.001250\n",
      "  Per-channel RMSE: uw=0.3858, vw=0.4254, tw=0.3848, \n",
      "  Saved best model: F:\\model\\model_save\\best_epoch087_val0.001250.pth\n",
      "\n",
      "Epoch 88/200\n"
     ]
    },
    {
     "name": "stderr",
     "output_type": "stream",
     "text": [
      "                                                           \r"
     ]
    },
    {
     "name": "stdout",
     "output_type": "stream",
     "text": [
      "  Train Total Loss: 0.000684, Value Loss: 0.000684\n"
     ]
    },
    {
     "name": "stderr",
     "output_type": "stream",
     "text": [
      "                                                             \r"
     ]
    },
    {
     "name": "stdout",
     "output_type": "stream",
     "text": [
      "  Global Pearson Correlation: 0.9270\n",
      "  R² layer mean - uw: 0.8664\n",
      "  R² layer mean - vw: 0.8433\n",
      "  R² layer mean - tw: 0.8681\n",
      "  R² layer mean - qw: 0.6487\n",
      "  Saved R² plot to ./model_plots1\\uvtr2_layer_epoch088.png\n",
      "  Saved scatter plot to ./model_plots1\\uvtscatter_epoch088.png\n",
      "  Val Total Loss: 0.001291, Value Loss: 0.001291\n",
      "  Per-channel RMSE: uw=0.3973, vw=0.4330, tw=0.3898, \n",
      "\n",
      "Epoch 89/200\n"
     ]
    },
    {
     "name": "stderr",
     "output_type": "stream",
     "text": [
      "                                                           \r"
     ]
    },
    {
     "name": "stdout",
     "output_type": "stream",
     "text": [
      "  Train Total Loss: 0.000683, Value Loss: 0.000683\n"
     ]
    },
    {
     "name": "stderr",
     "output_type": "stream",
     "text": [
      "                                                             \r"
     ]
    },
    {
     "name": "stdout",
     "output_type": "stream",
     "text": [
      "  Global Pearson Correlation: 0.9305\n",
      "  R² layer mean - uw: 0.8724\n",
      "  R² layer mean - vw: 0.8530\n",
      "  R² layer mean - tw: 0.8714\n",
      "  R² layer mean - qw: 0.6563\n",
      "  Saved R² plot to ./model_plots1\\uvtr2_layer_epoch089.png\n",
      "  Saved scatter plot to ./model_plots1\\uvtscatter_epoch089.png\n",
      "  Val Total Loss: 0.001239, Value Loss: 0.001239\n",
      "  Per-channel RMSE: uw=0.3878, vw=0.4197, tw=0.3850, \n",
      "  Saved best model: F:\\model\\model_save\\best_epoch089_val0.001239.pth\n",
      "\n",
      "Epoch 90/200\n"
     ]
    },
    {
     "name": "stderr",
     "output_type": "stream",
     "text": [
      "                                                           \r"
     ]
    },
    {
     "name": "stdout",
     "output_type": "stream",
     "text": [
      "  Train Total Loss: 0.000670, Value Loss: 0.000670\n"
     ]
    },
    {
     "name": "stderr",
     "output_type": "stream",
     "text": [
      "                                                             \r"
     ]
    },
    {
     "name": "stdout",
     "output_type": "stream",
     "text": [
      "  Global Pearson Correlation: 0.9291\n",
      "  R² layer mean - uw: 0.8741\n",
      "  R² layer mean - vw: 0.8467\n",
      "  R² layer mean - tw: 0.8671\n",
      "  R² layer mean - qw: 0.6386\n",
      "  Saved R² plot to ./model_plots1\\uvtr2_layer_epoch090.png\n",
      "  Saved scatter plot to ./model_plots1\\uvtscatter_epoch090.png\n",
      "  Val Total Loss: 0.001264, Value Loss: 0.001264\n",
      "  Per-channel RMSE: uw=0.3850, vw=0.4285, tw=0.3914, \n",
      "\n",
      "Epoch 91/200\n"
     ]
    },
    {
     "name": "stderr",
     "output_type": "stream",
     "text": [
      "                                                           \r"
     ]
    },
    {
     "name": "stdout",
     "output_type": "stream",
     "text": [
      "  Train Total Loss: 0.000670, Value Loss: 0.000670\n"
     ]
    },
    {
     "name": "stderr",
     "output_type": "stream",
     "text": [
      "                                                             \r"
     ]
    },
    {
     "name": "stdout",
     "output_type": "stream",
     "text": [
      "  Global Pearson Correlation: 0.9281\n",
      "  R² layer mean - uw: 0.8712\n",
      "  R² layer mean - vw: 0.8469\n",
      "  R² layer mean - tw: 0.8653\n",
      "  R² layer mean - qw: 0.6472\n",
      "  Saved R² plot to ./model_plots1\\uvtr2_layer_epoch091.png\n",
      "  Saved scatter plot to ./model_plots1\\uvtscatter_epoch091.png\n",
      "  Val Total Loss: 0.001273, Value Loss: 0.001273\n",
      "  Per-channel RMSE: uw=0.3898, vw=0.4282, tw=0.3940, \n",
      "\n",
      "Epoch 92/200\n"
     ]
    },
    {
     "name": "stderr",
     "output_type": "stream",
     "text": [
      "                                                           \r"
     ]
    },
    {
     "name": "stdout",
     "output_type": "stream",
     "text": [
      "  Train Total Loss: 0.000671, Value Loss: 0.000671\n"
     ]
    },
    {
     "name": "stderr",
     "output_type": "stream",
     "text": [
      "                                                             \r"
     ]
    },
    {
     "name": "stdout",
     "output_type": "stream",
     "text": [
      "  Global Pearson Correlation: 0.9302\n",
      "  R² layer mean - uw: 0.8729\n",
      "  R² layer mean - vw: 0.8504\n",
      "  R² layer mean - tw: 0.8719\n",
      "  R² layer mean - qw: 0.6484\n",
      "  Saved R² plot to ./model_plots1\\uvtr2_layer_epoch092.png\n",
      "  Saved scatter plot to ./model_plots1\\uvtscatter_epoch092.png\n",
      "  Val Total Loss: 0.001245, Value Loss: 0.001245\n",
      "  Per-channel RMSE: uw=0.3871, vw=0.4229, tw=0.3842, \n",
      "\n",
      "Epoch 93/200\n"
     ]
    },
    {
     "name": "stderr",
     "output_type": "stream",
     "text": [
      "                                                           \r"
     ]
    },
    {
     "name": "stdout",
     "output_type": "stream",
     "text": [
      "  Train Total Loss: 0.000665, Value Loss: 0.000665\n"
     ]
    },
    {
     "name": "stderr",
     "output_type": "stream",
     "text": [
      "                                                             \r"
     ]
    },
    {
     "name": "stdout",
     "output_type": "stream",
     "text": [
      "  Global Pearson Correlation: 0.9284\n",
      "  R² layer mean - uw: 0.8703\n",
      "  R² layer mean - vw: 0.8455\n",
      "  R² layer mean - tw: 0.8694\n",
      "  R² layer mean - qw: 0.6553\n",
      "  Saved R² plot to ./model_plots1\\uvtr2_layer_epoch093.png\n",
      "  Saved scatter plot to ./model_plots1\\uvtscatter_epoch093.png\n",
      "  Val Total Loss: 0.001268, Value Loss: 0.001268\n",
      "  Per-channel RMSE: uw=0.3911, vw=0.4303, tw=0.3881, \n",
      "\n",
      "Epoch 94/200\n"
     ]
    },
    {
     "name": "stderr",
     "output_type": "stream",
     "text": [
      "                                                           \r"
     ]
    },
    {
     "name": "stdout",
     "output_type": "stream",
     "text": [
      "  Train Total Loss: 0.000664, Value Loss: 0.000664\n"
     ]
    },
    {
     "name": "stderr",
     "output_type": "stream",
     "text": [
      "                                                             \r"
     ]
    },
    {
     "name": "stdout",
     "output_type": "stream",
     "text": [
      "  Global Pearson Correlation: 0.9301\n",
      "  R² layer mean - uw: 0.8733\n",
      "  R² layer mean - vw: 0.8511\n",
      "  R² layer mean - tw: 0.8707\n",
      "  R² layer mean - qw: 0.6522\n",
      "  Saved R² plot to ./model_plots1\\uvtr2_layer_epoch094.png\n",
      "  Saved scatter plot to ./model_plots1\\uvtscatter_epoch094.png\n",
      "  Val Total Loss: 0.001246, Value Loss: 0.001246\n",
      "  Per-channel RMSE: uw=0.3869, vw=0.4224, tw=0.3861, \n",
      "\n",
      "Epoch 95/200\n"
     ]
    },
    {
     "name": "stderr",
     "output_type": "stream",
     "text": [
      "                                                           \r"
     ]
    },
    {
     "name": "stdout",
     "output_type": "stream",
     "text": [
      "  Train Total Loss: 0.000663, Value Loss: 0.000663\n"
     ]
    },
    {
     "name": "stderr",
     "output_type": "stream",
     "text": [
      "                                                             \r"
     ]
    },
    {
     "name": "stdout",
     "output_type": "stream",
     "text": [
      "  Global Pearson Correlation: 0.9296\n",
      "  R² layer mean - uw: 0.8722\n",
      "  R² layer mean - vw: 0.8498\n",
      "  R² layer mean - tw: 0.8689\n",
      "  R² layer mean - qw: 0.6498\n",
      "  Saved R² plot to ./model_plots1\\uvtr2_layer_epoch095.png\n",
      "  Saved scatter plot to ./model_plots1\\uvtscatter_epoch095.png\n",
      "  Val Total Loss: 0.001251, Value Loss: 0.001251\n",
      "  Per-channel RMSE: uw=0.3886, vw=0.4244, tw=0.3887, \n",
      "\n",
      "Epoch 96/200\n"
     ]
    },
    {
     "name": "stderr",
     "output_type": "stream",
     "text": [
      "                                                           \r"
     ]
    },
    {
     "name": "stdout",
     "output_type": "stream",
     "text": [
      "  Train Total Loss: 0.000548, Value Loss: 0.000548\n"
     ]
    },
    {
     "name": "stderr",
     "output_type": "stream",
     "text": [
      "                                                             \r"
     ]
    },
    {
     "name": "stdout",
     "output_type": "stream",
     "text": [
      "  Global Pearson Correlation: 0.9382\n",
      "  R² layer mean - uw: 0.8891\n",
      "  R² layer mean - vw: 0.8662\n",
      "  R² layer mean - tw: 0.8847\n",
      "  R² layer mean - qw: 0.6690\n",
      "  Saved R² plot to ./model_plots1\\uvtr2_layer_epoch096.png\n",
      "  Saved scatter plot to ./model_plots1\\uvtscatter_epoch096.png\n",
      "  Val Total Loss: 0.001119, Value Loss: 0.001119\n",
      "  Per-channel RMSE: uw=0.3614, vw=0.4002, tw=0.3647, \n",
      "  Saved best model: F:\\model\\model_save\\best_epoch096_val0.001119.pth\n",
      "\n",
      "Epoch 97/200\n"
     ]
    },
    {
     "name": "stderr",
     "output_type": "stream",
     "text": [
      "                                                           \r"
     ]
    },
    {
     "name": "stdout",
     "output_type": "stream",
     "text": [
      "  Train Total Loss: 0.000515, Value Loss: 0.000515\n"
     ]
    },
    {
     "name": "stderr",
     "output_type": "stream",
     "text": [
      "                                                             \r"
     ]
    },
    {
     "name": "stdout",
     "output_type": "stream",
     "text": [
      "  Global Pearson Correlation: 0.9389\n",
      "  R² layer mean - uw: 0.8901\n",
      "  R² layer mean - vw: 0.8681\n",
      "  R² layer mean - tw: 0.8857\n",
      "  R² layer mean - qw: 0.6723\n",
      "  Saved R² plot to ./model_plots1\\uvtr2_layer_epoch097.png\n",
      "  Saved scatter plot to ./model_plots1\\uvtscatter_epoch097.png\n",
      "  Val Total Loss: 0.001107, Value Loss: 0.001107\n",
      "  Per-channel RMSE: uw=0.3598, vw=0.3970, tw=0.3629, \n",
      "  Saved best model: F:\\model\\model_save\\best_epoch097_val0.001107.pth\n",
      "\n",
      "Epoch 98/200\n"
     ]
    },
    {
     "name": "stderr",
     "output_type": "stream",
     "text": [
      "                                                           \r"
     ]
    },
    {
     "name": "stdout",
     "output_type": "stream",
     "text": [
      "  Train Total Loss: 0.000504, Value Loss: 0.000504\n"
     ]
    },
    {
     "name": "stderr",
     "output_type": "stream",
     "text": [
      "                                                             \r"
     ]
    },
    {
     "name": "stdout",
     "output_type": "stream",
     "text": [
      "  Global Pearson Correlation: 0.9383\n",
      "  R² layer mean - uw: 0.8867\n",
      "  R² layer mean - vw: 0.8652\n",
      "  R² layer mean - tw: 0.8821\n",
      "  R² layer mean - qw: 0.6686\n",
      "  Saved R² plot to ./model_plots1\\uvtr2_layer_epoch098.png\n",
      "  Saved scatter plot to ./model_plots1\\uvtscatter_epoch098.png\n",
      "  Val Total Loss: 0.001126, Value Loss: 0.001126\n",
      "  Per-channel RMSE: uw=0.3654, vw=0.4017, tw=0.3687, \n",
      "\n",
      "Epoch 99/200\n"
     ]
    },
    {
     "name": "stderr",
     "output_type": "stream",
     "text": [
      "                                                           \r"
     ]
    },
    {
     "name": "stdout",
     "output_type": "stream",
     "text": [
      "  Train Total Loss: 0.000504, Value Loss: 0.000504\n"
     ]
    },
    {
     "name": "stderr",
     "output_type": "stream",
     "text": [
      "                                                             \r"
     ]
    },
    {
     "name": "stdout",
     "output_type": "stream",
     "text": [
      "  Global Pearson Correlation: 0.9393\n",
      "  R² layer mean - uw: 0.8883\n",
      "  R² layer mean - vw: 0.8698\n",
      "  R² layer mean - tw: 0.8875\n",
      "  R² layer mean - qw: 0.6762\n",
      "  Saved R² plot to ./model_plots1\\uvtr2_layer_epoch099.png\n",
      "  Saved scatter plot to ./model_plots1\\uvtscatter_epoch099.png\n",
      "  Val Total Loss: 0.001098, Value Loss: 0.001098\n",
      "  Per-channel RMSE: uw=0.3631, vw=0.3945, tw=0.3602, \n",
      "  Saved best model: F:\\model\\model_save\\best_epoch099_val0.001098.pth\n",
      "\n",
      "Epoch 100/200\n"
     ]
    },
    {
     "name": "stderr",
     "output_type": "stream",
     "text": [
      "                                                           \r"
     ]
    },
    {
     "name": "stdout",
     "output_type": "stream",
     "text": [
      "  Train Total Loss: 0.000494, Value Loss: 0.000494\n"
     ]
    },
    {
     "name": "stderr",
     "output_type": "stream",
     "text": [
      "                                                             \r"
     ]
    },
    {
     "name": "stdout",
     "output_type": "stream",
     "text": [
      "  Global Pearson Correlation: 0.9399\n",
      "  R² layer mean - uw: 0.8916\n",
      "  R² layer mean - vw: 0.8700\n",
      "  R² layer mean - tw: 0.8867\n",
      "  R² layer mean - qw: 0.6719\n",
      "  Saved R² plot to ./model_plots1\\uvtr2_layer_epoch100.png\n",
      "  Saved scatter plot to ./model_plots1\\uvtscatter_epoch100.png\n",
      "  Val Total Loss: 0.001096, Value Loss: 0.001096\n",
      "  Per-channel RMSE: uw=0.3572, vw=0.3940, tw=0.3613, \n",
      "  Saved best model: F:\\model\\model_save\\best_epoch100_val0.001096.pth\n",
      "\n",
      "Epoch 101/200\n"
     ]
    },
    {
     "name": "stderr",
     "output_type": "stream",
     "text": [
      "                                                           \r"
     ]
    },
    {
     "name": "stdout",
     "output_type": "stream",
     "text": [
      "  Train Total Loss: 0.000503, Value Loss: 0.000503\n"
     ]
    },
    {
     "name": "stderr",
     "output_type": "stream",
     "text": [
      "                                                             \r"
     ]
    },
    {
     "name": "stdout",
     "output_type": "stream",
     "text": [
      "  Global Pearson Correlation: 0.9399\n",
      "  R² layer mean - uw: 0.8918\n",
      "  R² layer mean - vw: 0.8690\n",
      "  R² layer mean - tw: 0.8884\n",
      "  R² layer mean - qw: 0.6600\n",
      "  Saved R² plot to ./model_plots1\\uvtr2_layer_epoch101.png\n",
      "  Saved scatter plot to ./model_plots1\\uvtscatter_epoch101.png\n",
      "  Val Total Loss: 0.001096, Value Loss: 0.001096\n",
      "  Per-channel RMSE: uw=0.3571, vw=0.3957, tw=0.3586, \n",
      "  Saved best model: F:\\model\\model_save\\best_epoch101_val0.001096.pth\n",
      "\n",
      "Epoch 102/200\n"
     ]
    },
    {
     "name": "stderr",
     "output_type": "stream",
     "text": [
      "                                                           \r"
     ]
    },
    {
     "name": "stdout",
     "output_type": "stream",
     "text": [
      "  Train Total Loss: 0.000487, Value Loss: 0.000487\n"
     ]
    },
    {
     "name": "stderr",
     "output_type": "stream",
     "text": [
      "                                                             \r"
     ]
    },
    {
     "name": "stdout",
     "output_type": "stream",
     "text": [
      "  Global Pearson Correlation: 0.9400\n",
      "  R² layer mean - uw: 0.8921\n",
      "  R² layer mean - vw: 0.8700\n",
      "  R² layer mean - tw: 0.8863\n",
      "  R² layer mean - qw: 0.6725\n",
      "  Saved R² plot to ./model_plots1\\uvtr2_layer_epoch102.png\n",
      "  Saved scatter plot to ./model_plots1\\uvtscatter_epoch102.png\n",
      "  Val Total Loss: 0.001089, Value Loss: 0.001089\n",
      "  Per-channel RMSE: uw=0.3562, vw=0.3938, tw=0.3620, \n",
      "  Saved best model: F:\\model\\model_save\\best_epoch102_val0.001089.pth\n",
      "\n",
      "Epoch 103/200\n"
     ]
    },
    {
     "name": "stderr",
     "output_type": "stream",
     "text": [
      "                                                           \r"
     ]
    },
    {
     "name": "stdout",
     "output_type": "stream",
     "text": [
      "  Train Total Loss: 0.000489, Value Loss: 0.000489\n"
     ]
    },
    {
     "name": "stderr",
     "output_type": "stream",
     "text": [
      "                                                             \r"
     ]
    },
    {
     "name": "stdout",
     "output_type": "stream",
     "text": [
      "  Global Pearson Correlation: 0.9387\n",
      "  R² layer mean - uw: 0.8890\n",
      "  R² layer mean - vw: 0.8669\n",
      "  R² layer mean - tw: 0.8861\n",
      "  R² layer mean - qw: 0.6744\n",
      "  Saved R² plot to ./model_plots1\\uvtr2_layer_epoch103.png\n",
      "  Saved scatter plot to ./model_plots1\\uvtscatter_epoch103.png\n",
      "  Val Total Loss: 0.001111, Value Loss: 0.001111\n",
      "  Per-channel RMSE: uw=0.3617, vw=0.3988, tw=0.3624, \n",
      "\n",
      "Epoch 104/200\n"
     ]
    },
    {
     "name": "stderr",
     "output_type": "stream",
     "text": [
      "                                                           \r"
     ]
    },
    {
     "name": "stdout",
     "output_type": "stream",
     "text": [
      "  Train Total Loss: 0.000491, Value Loss: 0.000491\n"
     ]
    },
    {
     "name": "stderr",
     "output_type": "stream",
     "text": [
      "                                                             \r"
     ]
    },
    {
     "name": "stdout",
     "output_type": "stream",
     "text": [
      "  Global Pearson Correlation: 0.9387\n",
      "  R² layer mean - uw: 0.8916\n",
      "  R² layer mean - vw: 0.8676\n",
      "  R² layer mean - tw: 0.8824\n",
      "  R² layer mean - qw: 0.6675\n",
      "  Saved R² plot to ./model_plots1\\uvtr2_layer_epoch104.png\n",
      "  Saved scatter plot to ./model_plots1\\uvtscatter_epoch104.png\n",
      "  Val Total Loss: 0.001107, Value Loss: 0.001107\n",
      "  Per-channel RMSE: uw=0.3572, vw=0.3979, tw=0.3681, \n",
      "\n",
      "Epoch 105/200\n"
     ]
    },
    {
     "name": "stderr",
     "output_type": "stream",
     "text": [
      "                                                           \r"
     ]
    },
    {
     "name": "stdout",
     "output_type": "stream",
     "text": [
      "  Train Total Loss: 0.000484, Value Loss: 0.000484\n"
     ]
    },
    {
     "name": "stderr",
     "output_type": "stream",
     "text": [
      "                                                             \r"
     ]
    },
    {
     "name": "stdout",
     "output_type": "stream",
     "text": [
      "  Global Pearson Correlation: 0.9392\n",
      "  R² layer mean - uw: 0.8898\n",
      "  R² layer mean - vw: 0.8690\n",
      "  R² layer mean - tw: 0.8829\n",
      "  R² layer mean - qw: 0.6705\n",
      "  Saved R² plot to ./model_plots1\\uvtr2_layer_epoch105.png\n",
      "  Saved scatter plot to ./model_plots1\\uvtscatter_epoch105.png\n",
      "  Val Total Loss: 0.001110, Value Loss: 0.001110\n",
      "  Per-channel RMSE: uw=0.3607, vw=0.3957, tw=0.3675, \n",
      "\n",
      "Epoch 106/200\n"
     ]
    },
    {
     "name": "stderr",
     "output_type": "stream",
     "text": [
      "                                                           \r"
     ]
    },
    {
     "name": "stdout",
     "output_type": "stream",
     "text": [
      "  Train Total Loss: 0.000478, Value Loss: 0.000478\n"
     ]
    },
    {
     "name": "stderr",
     "output_type": "stream",
     "text": [
      "                                                             \r"
     ]
    },
    {
     "name": "stdout",
     "output_type": "stream",
     "text": [
      "  Global Pearson Correlation: 0.9398\n",
      "  R² layer mean - uw: 0.8925\n",
      "  R² layer mean - vw: 0.8688\n",
      "  R² layer mean - tw: 0.8876\n",
      "  R² layer mean - qw: 0.6563\n",
      "  Saved R² plot to ./model_plots1\\uvtr2_layer_epoch106.png\n",
      "  Saved scatter plot to ./model_plots1\\uvtscatter_epoch106.png\n",
      "  Val Total Loss: 0.001092, Value Loss: 0.001092\n",
      "  Per-channel RMSE: uw=0.3560, vw=0.3958, tw=0.3599, \n",
      "\n",
      "Epoch 107/200\n"
     ]
    },
    {
     "name": "stderr",
     "output_type": "stream",
     "text": [
      "                                                           \r"
     ]
    },
    {
     "name": "stdout",
     "output_type": "stream",
     "text": [
      "  Train Total Loss: 0.000476, Value Loss: 0.000476\n"
     ]
    },
    {
     "name": "stderr",
     "output_type": "stream",
     "text": [
      "                                                             \r"
     ]
    },
    {
     "name": "stdout",
     "output_type": "stream",
     "text": [
      "  Global Pearson Correlation: 0.9403\n",
      "  R² layer mean - uw: 0.8930\n",
      "  R² layer mean - vw: 0.8703\n",
      "  R² layer mean - tw: 0.8885\n",
      "  R² layer mean - qw: 0.6778\n",
      "  Saved R² plot to ./model_plots1\\uvtr2_layer_epoch107.png\n",
      "  Saved scatter plot to ./model_plots1\\uvtscatter_epoch107.png\n",
      "  Val Total Loss: 0.001088, Value Loss: 0.001088\n",
      "  Per-channel RMSE: uw=0.3551, vw=0.3939, tw=0.3585, \n",
      "  Saved best model: F:\\model\\model_save\\best_epoch107_val0.001088.pth\n",
      "\n",
      "Epoch 108/200\n"
     ]
    },
    {
     "name": "stderr",
     "output_type": "stream",
     "text": [
      "                                                           \r"
     ]
    },
    {
     "name": "stdout",
     "output_type": "stream",
     "text": [
      "  Train Total Loss: 0.000478, Value Loss: 0.000478\n"
     ]
    },
    {
     "name": "stderr",
     "output_type": "stream",
     "text": [
      "                                                             \r"
     ]
    },
    {
     "name": "stdout",
     "output_type": "stream",
     "text": [
      "  Global Pearson Correlation: 0.9405\n",
      "  R² layer mean - uw: 0.8925\n",
      "  R² layer mean - vw: 0.8715\n",
      "  R² layer mean - tw: 0.8887\n",
      "  R² layer mean - qw: 0.6697\n",
      "  Saved R² plot to ./model_plots1\\uvtr2_layer_epoch108.png\n",
      "  Saved scatter plot to ./model_plots1\\uvtscatter_epoch108.png\n",
      "  Val Total Loss: 0.001084, Value Loss: 0.001084\n",
      "  Per-channel RMSE: uw=0.3559, vw=0.3920, tw=0.3582, \n",
      "  Saved best model: F:\\model\\model_save\\best_epoch108_val0.001084.pth\n",
      "\n",
      "Epoch 109/200\n"
     ]
    },
    {
     "name": "stderr",
     "output_type": "stream",
     "text": [
      "                                                           \r"
     ]
    },
    {
     "name": "stdout",
     "output_type": "stream",
     "text": [
      "  Train Total Loss: 0.000474, Value Loss: 0.000474\n"
     ]
    },
    {
     "name": "stderr",
     "output_type": "stream",
     "text": [
      "                                                             \r"
     ]
    },
    {
     "name": "stdout",
     "output_type": "stream",
     "text": [
      "  Global Pearson Correlation: 0.9399\n",
      "  R² layer mean - uw: 0.8908\n",
      "  R² layer mean - vw: 0.8710\n",
      "  R² layer mean - tw: 0.8875\n",
      "  R² layer mean - qw: 0.6723\n",
      "  Saved R² plot to ./model_plots1\\uvtr2_layer_epoch109.png\n",
      "  Saved scatter plot to ./model_plots1\\uvtscatter_epoch109.png\n",
      "  Val Total Loss: 0.001087, Value Loss: 0.001087\n",
      "  Per-channel RMSE: uw=0.3585, vw=0.3925, tw=0.3601, \n",
      "\n",
      "Epoch 110/200\n"
     ]
    },
    {
     "name": "stderr",
     "output_type": "stream",
     "text": [
      "                                                           \r"
     ]
    },
    {
     "name": "stdout",
     "output_type": "stream",
     "text": [
      "  Train Total Loss: 0.000473, Value Loss: 0.000473\n"
     ]
    },
    {
     "name": "stderr",
     "output_type": "stream",
     "text": [
      "                                                             \r"
     ]
    },
    {
     "name": "stdout",
     "output_type": "stream",
     "text": [
      "  Global Pearson Correlation: 0.9394\n",
      "  R² layer mean - uw: 0.8878\n",
      "  R² layer mean - vw: 0.8695\n",
      "  R² layer mean - tw: 0.8858\n",
      "  R² layer mean - qw: 0.6719\n",
      "  Saved R² plot to ./model_plots1\\uvtr2_layer_epoch110.png\n",
      "  Saved scatter plot to ./model_plots1\\uvtscatter_epoch110.png\n",
      "  Val Total Loss: 0.001094, Value Loss: 0.001094\n",
      "  Per-channel RMSE: uw=0.3639, vw=0.3947, tw=0.3628, \n",
      "\n",
      "Epoch 111/200\n"
     ]
    },
    {
     "name": "stderr",
     "output_type": "stream",
     "text": [
      "                                                           \r"
     ]
    },
    {
     "name": "stdout",
     "output_type": "stream",
     "text": [
      "  Train Total Loss: 0.000468, Value Loss: 0.000468\n"
     ]
    },
    {
     "name": "stderr",
     "output_type": "stream",
     "text": [
      "                                                             \r"
     ]
    },
    {
     "name": "stdout",
     "output_type": "stream",
     "text": [
      "  Global Pearson Correlation: 0.9392\n",
      "  R² layer mean - uw: 0.8904\n",
      "  R² layer mean - vw: 0.8683\n",
      "  R² layer mean - tw: 0.8869\n",
      "  R² layer mean - qw: 0.6734\n",
      "  Saved R² plot to ./model_plots1\\uvtr2_layer_epoch111.png\n",
      "  Saved scatter plot to ./model_plots1\\uvtscatter_epoch111.png\n",
      "  Val Total Loss: 0.001098, Value Loss: 0.001098\n",
      "  Per-channel RMSE: uw=0.3593, vw=0.3969, tw=0.3610, \n",
      "\n",
      "Epoch 112/200\n"
     ]
    },
    {
     "name": "stderr",
     "output_type": "stream",
     "text": [
      "                                                           \r"
     ]
    },
    {
     "name": "stdout",
     "output_type": "stream",
     "text": [
      "  Train Total Loss: 0.000471, Value Loss: 0.000471\n"
     ]
    },
    {
     "name": "stderr",
     "output_type": "stream",
     "text": [
      "                                                             \r"
     ]
    },
    {
     "name": "stdout",
     "output_type": "stream",
     "text": [
      "  Global Pearson Correlation: 0.9410\n",
      "  R² layer mean - uw: 0.8949\n",
      "  R² layer mean - vw: 0.8699\n",
      "  R² layer mean - tw: 0.8891\n",
      "  R² layer mean - qw: 0.6639\n",
      "  Saved R² plot to ./model_plots1\\uvtr2_layer_epoch112.png\n",
      "  Saved scatter plot to ./model_plots1\\uvtscatter_epoch112.png\n",
      "  Val Total Loss: 0.001083, Value Loss: 0.001083\n",
      "  Per-channel RMSE: uw=0.3519, vw=0.3945, tw=0.3576, \n",
      "  Saved best model: F:\\model\\model_save\\best_epoch112_val0.001083.pth\n",
      "\n",
      "Epoch 113/200\n"
     ]
    },
    {
     "name": "stderr",
     "output_type": "stream",
     "text": [
      "                                                           \r"
     ]
    },
    {
     "name": "stdout",
     "output_type": "stream",
     "text": [
      "  Train Total Loss: 0.000466, Value Loss: 0.000466\n"
     ]
    },
    {
     "name": "stderr",
     "output_type": "stream",
     "text": [
      "                                                             \r"
     ]
    },
    {
     "name": "stdout",
     "output_type": "stream",
     "text": [
      "  Global Pearson Correlation: 0.9408\n",
      "  R² layer mean - uw: 0.8943\n",
      "  R² layer mean - vw: 0.8714\n",
      "  R² layer mean - tw: 0.8885\n",
      "  R² layer mean - qw: 0.6728\n",
      "  Saved R² plot to ./model_plots1\\uvtr2_layer_epoch113.png\n",
      "  Saved scatter plot to ./model_plots1\\uvtscatter_epoch113.png\n",
      "  Val Total Loss: 0.001083, Value Loss: 0.001083\n",
      "  Per-channel RMSE: uw=0.3527, vw=0.3922, tw=0.3585, \n",
      "  Saved best model: F:\\model\\model_save\\best_epoch113_val0.001083.pth\n",
      "\n",
      "Epoch 114/200\n"
     ]
    },
    {
     "name": "stderr",
     "output_type": "stream",
     "text": [
      "                                                           \r"
     ]
    },
    {
     "name": "stdout",
     "output_type": "stream",
     "text": [
      "  Train Total Loss: 0.000469, Value Loss: 0.000469\n"
     ]
    },
    {
     "name": "stderr",
     "output_type": "stream",
     "text": [
      "                                                             \r"
     ]
    },
    {
     "name": "stdout",
     "output_type": "stream",
     "text": [
      "  Global Pearson Correlation: 0.9392\n",
      "  R² layer mean - uw: 0.8897\n",
      "  R² layer mean - vw: 0.8704\n",
      "  R² layer mean - tw: 0.8849\n",
      "  R² layer mean - qw: 0.6767\n",
      "  Saved R² plot to ./model_plots1\\uvtr2_layer_epoch114.png\n",
      "  Saved scatter plot to ./model_plots1\\uvtscatter_epoch114.png\n",
      "  Val Total Loss: 0.001094, Value Loss: 0.001094\n",
      "  Per-channel RMSE: uw=0.3611, vw=0.3936, tw=0.3643, \n",
      "\n",
      "Epoch 115/200\n"
     ]
    },
    {
     "name": "stderr",
     "output_type": "stream",
     "text": [
      "                                                           \r"
     ]
    },
    {
     "name": "stdout",
     "output_type": "stream",
     "text": [
      "  Train Total Loss: 0.000460, Value Loss: 0.000460\n"
     ]
    },
    {
     "name": "stderr",
     "output_type": "stream",
     "text": [
      "                                                             \r"
     ]
    },
    {
     "name": "stdout",
     "output_type": "stream",
     "text": [
      "  Global Pearson Correlation: 0.9393\n",
      "  R² layer mean - uw: 0.8871\n",
      "  R² layer mean - vw: 0.8708\n",
      "  R² layer mean - tw: 0.8856\n",
      "  R² layer mean - qw: 0.6700\n",
      "  Saved R² plot to ./model_plots1\\uvtr2_layer_epoch115.png\n",
      "  Saved scatter plot to ./model_plots1\\uvtscatter_epoch115.png\n",
      "  Val Total Loss: 0.001096, Value Loss: 0.001096\n",
      "  Per-channel RMSE: uw=0.3651, vw=0.3930, tw=0.3633, \n",
      "\n",
      "Epoch 116/200\n"
     ]
    },
    {
     "name": "stderr",
     "output_type": "stream",
     "text": [
      "                                                           \r"
     ]
    },
    {
     "name": "stdout",
     "output_type": "stream",
     "text": [
      "  Train Total Loss: 0.000462, Value Loss: 0.000462\n"
     ]
    },
    {
     "name": "stderr",
     "output_type": "stream",
     "text": [
      "                                                             \r"
     ]
    },
    {
     "name": "stdout",
     "output_type": "stream",
     "text": [
      "  Global Pearson Correlation: 0.9407\n",
      "  R² layer mean - uw: 0.8928\n",
      "  R² layer mean - vw: 0.8723\n",
      "  R² layer mean - tw: 0.8881\n",
      "  R² layer mean - qw: 0.6532\n",
      "  Saved R² plot to ./model_plots1\\uvtr2_layer_epoch116.png\n",
      "  Saved scatter plot to ./model_plots1\\uvtscatter_epoch116.png\n",
      "  Val Total Loss: 0.001082, Value Loss: 0.001082\n",
      "  Per-channel RMSE: uw=0.3554, vw=0.3904, tw=0.3591, \n",
      "  Saved best model: F:\\model\\model_save\\best_epoch116_val0.001082.pth\n",
      "\n",
      "Epoch 117/200\n"
     ]
    },
    {
     "name": "stderr",
     "output_type": "stream",
     "text": [
      "                                                           \r"
     ]
    },
    {
     "name": "stdout",
     "output_type": "stream",
     "text": [
      "  Train Total Loss: 0.000461, Value Loss: 0.000461\n"
     ]
    },
    {
     "name": "stderr",
     "output_type": "stream",
     "text": [
      "                                                             \r"
     ]
    },
    {
     "name": "stdout",
     "output_type": "stream",
     "text": [
      "  Global Pearson Correlation: 0.9392\n",
      "  R² layer mean - uw: 0.8861\n",
      "  R² layer mean - vw: 0.8671\n",
      "  R² layer mean - tw: 0.8857\n",
      "  R² layer mean - qw: 0.6812\n",
      "  Saved R² plot to ./model_plots1\\uvtr2_layer_epoch117.png\n",
      "  Saved scatter plot to ./model_plots1\\uvtscatter_epoch117.png\n",
      "  Val Total Loss: 0.001104, Value Loss: 0.001104\n",
      "  Per-channel RMSE: uw=0.3669, vw=0.3989, tw=0.3629, \n",
      "\n",
      "Epoch 118/200\n"
     ]
    },
    {
     "name": "stderr",
     "output_type": "stream",
     "text": [
      "                                                           \r"
     ]
    },
    {
     "name": "stdout",
     "output_type": "stream",
     "text": [
      "  Train Total Loss: 0.000459, Value Loss: 0.000459\n"
     ]
    },
    {
     "name": "stderr",
     "output_type": "stream",
     "text": [
      "                                                             \r"
     ]
    },
    {
     "name": "stdout",
     "output_type": "stream",
     "text": [
      "  Global Pearson Correlation: 0.9396\n",
      "  R² layer mean - uw: 0.8914\n",
      "  R² layer mean - vw: 0.8686\n",
      "  R² layer mean - tw: 0.8859\n",
      "  R² layer mean - qw: 0.6792\n",
      "  Saved R² plot to ./model_plots1\\uvtr2_layer_epoch118.png\n",
      "  Saved scatter plot to ./model_plots1\\uvtscatter_epoch118.png\n",
      "  Val Total Loss: 0.001095, Value Loss: 0.001095\n",
      "  Per-channel RMSE: uw=0.3577, vw=0.3964, tw=0.3628, \n",
      "\n",
      "Epoch 119/200\n"
     ]
    },
    {
     "name": "stderr",
     "output_type": "stream",
     "text": [
      "                                                           \r"
     ]
    },
    {
     "name": "stdout",
     "output_type": "stream",
     "text": [
      "  Train Total Loss: 0.000457, Value Loss: 0.000457\n"
     ]
    },
    {
     "name": "stderr",
     "output_type": "stream",
     "text": [
      "                                                             \r"
     ]
    },
    {
     "name": "stdout",
     "output_type": "stream",
     "text": [
      "  Global Pearson Correlation: 0.9399\n",
      "  R² layer mean - uw: 0.8912\n",
      "  R² layer mean - vw: 0.8711\n",
      "  R² layer mean - tw: 0.8851\n",
      "  R² layer mean - qw: 0.6673\n",
      "  Saved R² plot to ./model_plots1\\uvtr2_layer_epoch119.png\n",
      "  Saved scatter plot to ./model_plots1\\uvtscatter_epoch119.png\n",
      "  Val Total Loss: 0.001083, Value Loss: 0.001083\n",
      "  Per-channel RMSE: uw=0.3586, vw=0.3927, tw=0.3640, \n",
      "\n",
      "Epoch 120/200\n"
     ]
    },
    {
     "name": "stderr",
     "output_type": "stream",
     "text": [
      "                                                           \r"
     ]
    },
    {
     "name": "stdout",
     "output_type": "stream",
     "text": [
      "  Train Total Loss: 0.000458, Value Loss: 0.000458\n"
     ]
    },
    {
     "name": "stderr",
     "output_type": "stream",
     "text": [
      "                                                             \r"
     ]
    },
    {
     "name": "stdout",
     "output_type": "stream",
     "text": [
      "  Global Pearson Correlation: 0.9392\n",
      "  R² layer mean - uw: 0.8908\n",
      "  R² layer mean - vw: 0.8622\n",
      "  R² layer mean - tw: 0.8869\n",
      "  R² layer mean - qw: 0.6784\n",
      "  Saved R² plot to ./model_plots1\\uvtr2_layer_epoch120.png\n",
      "  Saved scatter plot to ./model_plots1\\uvtscatter_epoch120.png\n",
      "  Val Total Loss: 0.001121, Value Loss: 0.001121\n",
      "  Per-channel RMSE: uw=0.3588, vw=0.4059, tw=0.3610, \n",
      "\n",
      "Epoch 121/200\n"
     ]
    },
    {
     "name": "stderr",
     "output_type": "stream",
     "text": [
      "                                                           \r"
     ]
    },
    {
     "name": "stdout",
     "output_type": "stream",
     "text": [
      "  Train Total Loss: 0.000457, Value Loss: 0.000457\n"
     ]
    },
    {
     "name": "stderr",
     "output_type": "stream",
     "text": [
      "                                                             \r"
     ]
    },
    {
     "name": "stdout",
     "output_type": "stream",
     "text": [
      "  Global Pearson Correlation: 0.9404\n",
      "  R² layer mean - uw: 0.8951\n",
      "  R² layer mean - vw: 0.8675\n",
      "  R² layer mean - tw: 0.8888\n",
      "  R² layer mean - qw: 0.6814\n",
      "  Saved R² plot to ./model_plots1\\uvtr2_layer_epoch121.png\n",
      "  Saved scatter plot to ./model_plots1\\uvtscatter_epoch121.png\n",
      "  Val Total Loss: 0.001088, Value Loss: 0.001088\n",
      "  Per-channel RMSE: uw=0.3515, vw=0.3980, tw=0.3581, \n",
      "\n",
      "Epoch 122/200\n"
     ]
    },
    {
     "name": "stderr",
     "output_type": "stream",
     "text": [
      "                                                           \r"
     ]
    },
    {
     "name": "stdout",
     "output_type": "stream",
     "text": [
      "  Train Total Loss: 0.000451, Value Loss: 0.000451\n"
     ]
    },
    {
     "name": "stderr",
     "output_type": "stream",
     "text": [
      "                                                             \r"
     ]
    },
    {
     "name": "stdout",
     "output_type": "stream",
     "text": [
      "  Global Pearson Correlation: 0.9408\n",
      "  R² layer mean - uw: 0.8937\n",
      "  R² layer mean - vw: 0.8709\n",
      "  R² layer mean - tw: 0.8901\n",
      "  R² layer mean - qw: 0.6750\n",
      "  Saved R² plot to ./model_plots1\\uvtr2_layer_epoch122.png\n",
      "  Saved scatter plot to ./model_plots1\\uvtscatter_epoch122.png\n",
      "  Val Total Loss: 0.001084, Value Loss: 0.001084\n",
      "  Per-channel RMSE: uw=0.3541, vw=0.3930, tw=0.3559, \n",
      "\n",
      "Epoch 123/200\n"
     ]
    },
    {
     "name": "stderr",
     "output_type": "stream",
     "text": [
      "                                                           \r"
     ]
    },
    {
     "name": "stdout",
     "output_type": "stream",
     "text": [
      "  Train Total Loss: 0.000396, Value Loss: 0.000396\n"
     ]
    },
    {
     "name": "stderr",
     "output_type": "stream",
     "text": [
      "                                                             \r"
     ]
    },
    {
     "name": "stdout",
     "output_type": "stream",
     "text": [
      "  Global Pearson Correlation: 0.9439\n",
      "  R² layer mean - uw: 0.8979\n",
      "  R² layer mean - vw: 0.8792\n",
      "  R² layer mean - tw: 0.8925\n",
      "  R² layer mean - qw: 0.6829\n",
      "  Saved R² plot to ./model_plots1\\uvtr2_layer_epoch123.png\n",
      "  Saved scatter plot to ./model_plots1\\uvtscatter_epoch123.png\n",
      "  Val Total Loss: 0.001024, Value Loss: 0.001024\n",
      "  Per-channel RMSE: uw=0.3472, vw=0.3799, tw=0.3521, \n",
      "  Saved best model: F:\\model\\model_save\\best_epoch123_val0.001024.pth\n",
      "\n",
      "Epoch 124/200\n"
     ]
    },
    {
     "name": "stderr",
     "output_type": "stream",
     "text": [
      "                                                           \r"
     ]
    },
    {
     "name": "stdout",
     "output_type": "stream",
     "text": [
      "  Train Total Loss: 0.000377, Value Loss: 0.000377\n"
     ]
    },
    {
     "name": "stderr",
     "output_type": "stream",
     "text": [
      "                                                             \r"
     ]
    },
    {
     "name": "stdout",
     "output_type": "stream",
     "text": [
      "  Global Pearson Correlation: 0.9442\n",
      "  R² layer mean - uw: 0.8981\n",
      "  R² layer mean - vw: 0.8786\n",
      "  R² layer mean - tw: 0.8936\n",
      "  R² layer mean - qw: 0.6845\n",
      "  Saved R² plot to ./model_plots1\\uvtr2_layer_epoch124.png\n",
      "  Saved scatter plot to ./model_plots1\\uvtscatter_epoch124.png\n",
      "  Val Total Loss: 0.001024, Value Loss: 0.001024\n",
      "  Per-channel RMSE: uw=0.3466, vw=0.3810, tw=0.3502, \n",
      "\n",
      "Epoch 125/200\n"
     ]
    },
    {
     "name": "stderr",
     "output_type": "stream",
     "text": [
      "                                                           \r"
     ]
    },
    {
     "name": "stdout",
     "output_type": "stream",
     "text": [
      "  Train Total Loss: 0.000374, Value Loss: 0.000374\n"
     ]
    },
    {
     "name": "stderr",
     "output_type": "stream",
     "text": [
      "                                                             \r"
     ]
    },
    {
     "name": "stdout",
     "output_type": "stream",
     "text": [
      "  Global Pearson Correlation: 0.9445\n",
      "  R² layer mean - uw: 0.8994\n",
      "  R² layer mean - vw: 0.8798\n",
      "  R² layer mean - tw: 0.8928\n",
      "  R² layer mean - qw: 0.6748\n",
      "  Saved R² plot to ./model_plots1\\uvtr2_layer_epoch125.png\n",
      "  Saved scatter plot to ./model_plots1\\uvtscatter_epoch125.png\n",
      "  Val Total Loss: 0.001016, Value Loss: 0.001016\n",
      "  Per-channel RMSE: uw=0.3443, vw=0.3788, tw=0.3515, \n",
      "  Saved best model: F:\\model\\model_save\\best_epoch125_val0.001016.pth\n",
      "\n",
      "Epoch 126/200\n"
     ]
    },
    {
     "name": "stderr",
     "output_type": "stream",
     "text": [
      "                                                           \r"
     ]
    },
    {
     "name": "stdout",
     "output_type": "stream",
     "text": [
      "  Train Total Loss: 0.000371, Value Loss: 0.000371\n"
     ]
    },
    {
     "name": "stderr",
     "output_type": "stream",
     "text": [
      "                                                             \r"
     ]
    },
    {
     "name": "stdout",
     "output_type": "stream",
     "text": [
      "  Global Pearson Correlation: 0.9444\n",
      "  R² layer mean - uw: 0.9003\n",
      "  R² layer mean - vw: 0.8789\n",
      "  R² layer mean - tw: 0.8942\n",
      "  R² layer mean - qw: 0.6864\n",
      "  Saved R² plot to ./model_plots1\\uvtr2_layer_epoch126.png\n",
      "  Saved scatter plot to ./model_plots1\\uvtscatter_epoch126.png\n",
      "  Val Total Loss: 0.001016, Value Loss: 0.001016\n",
      "  Per-channel RMSE: uw=0.3428, vw=0.3804, tw=0.3492, \n",
      "\n",
      "Epoch 127/200\n"
     ]
    },
    {
     "name": "stderr",
     "output_type": "stream",
     "text": [
      "                                                           \r"
     ]
    },
    {
     "name": "stdout",
     "output_type": "stream",
     "text": [
      "  Train Total Loss: 0.000371, Value Loss: 0.000371\n"
     ]
    },
    {
     "name": "stderr",
     "output_type": "stream",
     "text": [
      "                                                             \r"
     ]
    },
    {
     "name": "stdout",
     "output_type": "stream",
     "text": [
      "  Global Pearson Correlation: 0.9435\n",
      "  R² layer mean - uw: 0.8993\n",
      "  R² layer mean - vw: 0.8784\n",
      "  R² layer mean - tw: 0.8908\n",
      "  R² layer mean - qw: 0.6837\n",
      "  Saved R² plot to ./model_plots1\\uvtr2_layer_epoch127.png\n",
      "  Saved scatter plot to ./model_plots1\\uvtscatter_epoch127.png\n",
      "  Val Total Loss: 0.001027, Value Loss: 0.001027\n",
      "  Per-channel RMSE: uw=0.3445, vw=0.3812, tw=0.3547, \n",
      "\n",
      "Epoch 128/200\n"
     ]
    },
    {
     "name": "stderr",
     "output_type": "stream",
     "text": [
      "                                                           \r"
     ]
    },
    {
     "name": "stdout",
     "output_type": "stream",
     "text": [
      "  Train Total Loss: 0.000369, Value Loss: 0.000369\n"
     ]
    },
    {
     "name": "stderr",
     "output_type": "stream",
     "text": [
      "                                                             \r"
     ]
    },
    {
     "name": "stdout",
     "output_type": "stream",
     "text": [
      "  Global Pearson Correlation: 0.9439\n",
      "  R² layer mean - uw: 0.9001\n",
      "  R² layer mean - vw: 0.8793\n",
      "  R² layer mean - tw: 0.8904\n",
      "  R² layer mean - qw: 0.6783\n",
      "  Saved R² plot to ./model_plots1\\uvtr2_layer_epoch128.png\n",
      "  Saved scatter plot to ./model_plots1\\uvtscatter_epoch128.png\n",
      "  Val Total Loss: 0.001023, Value Loss: 0.001023\n",
      "  Per-channel RMSE: uw=0.3433, vw=0.3797, tw=0.3554, \n",
      "\n",
      "Epoch 129/200\n"
     ]
    },
    {
     "name": "stderr",
     "output_type": "stream",
     "text": [
      "                                                           \r"
     ]
    },
    {
     "name": "stdout",
     "output_type": "stream",
     "text": [
      "  Train Total Loss: 0.000369, Value Loss: 0.000369\n"
     ]
    },
    {
     "name": "stderr",
     "output_type": "stream",
     "text": [
      "                                                             \r"
     ]
    },
    {
     "name": "stdout",
     "output_type": "stream",
     "text": [
      "  Global Pearson Correlation: 0.9442\n",
      "  R² layer mean - uw: 0.9007\n",
      "  R² layer mean - vw: 0.8796\n",
      "  R² layer mean - tw: 0.8931\n",
      "  R² layer mean - qw: 0.6834\n",
      "  Saved R² plot to ./model_plots1\\uvtr2_layer_epoch129.png\n",
      "  Saved scatter plot to ./model_plots1\\uvtscatter_epoch129.png\n",
      "  Val Total Loss: 0.001017, Value Loss: 0.001017\n",
      "  Per-channel RMSE: uw=0.3423, vw=0.3792, tw=0.3510, \n",
      "\n",
      "Epoch 130/200\n"
     ]
    },
    {
     "name": "stderr",
     "output_type": "stream",
     "text": [
      "                                                           \r"
     ]
    },
    {
     "name": "stdout",
     "output_type": "stream",
     "text": [
      "  Train Total Loss: 0.000364, Value Loss: 0.000364\n"
     ]
    },
    {
     "name": "stderr",
     "output_type": "stream",
     "text": [
      "                                                             \r"
     ]
    },
    {
     "name": "stdout",
     "output_type": "stream",
     "text": [
      "  Global Pearson Correlation: 0.9444\n",
      "  R² layer mean - uw: 0.9002\n",
      "  R² layer mean - vw: 0.8792\n",
      "  R² layer mean - tw: 0.8932\n",
      "  R² layer mean - qw: 0.6742\n",
      "  Saved R² plot to ./model_plots1\\uvtr2_layer_epoch130.png\n",
      "  Saved scatter plot to ./model_plots1\\uvtscatter_epoch130.png\n",
      "  Val Total Loss: 0.001017, Value Loss: 0.001017\n",
      "  Per-channel RMSE: uw=0.3430, vw=0.3798, tw=0.3508, \n",
      "\n",
      "Epoch 131/200\n"
     ]
    },
    {
     "name": "stderr",
     "output_type": "stream",
     "text": [
      "                                                           \r"
     ]
    },
    {
     "name": "stdout",
     "output_type": "stream",
     "text": [
      "  Train Total Loss: 0.000368, Value Loss: 0.000368\n"
     ]
    },
    {
     "name": "stderr",
     "output_type": "stream",
     "text": [
      "                                                             \r"
     ]
    },
    {
     "name": "stdout",
     "output_type": "stream",
     "text": [
      "  Global Pearson Correlation: 0.9445\n",
      "  R² layer mean - uw: 0.8991\n",
      "  R² layer mean - vw: 0.8801\n",
      "  R² layer mean - tw: 0.8955\n",
      "  R² layer mean - qw: 0.6827\n",
      "  Saved R² plot to ./model_plots1\\uvtr2_layer_epoch131.png\n",
      "  Saved scatter plot to ./model_plots1\\uvtscatter_epoch131.png\n",
      "  Val Total Loss: 0.001013, Value Loss: 0.001013\n",
      "  Per-channel RMSE: uw=0.3451, vw=0.3784, tw=0.3471, \n",
      "  Saved best model: F:\\model\\model_save\\best_epoch131_val0.001013.pth\n",
      "\n",
      "Epoch 132/200\n"
     ]
    },
    {
     "name": "stderr",
     "output_type": "stream",
     "text": [
      "                                                           \r"
     ]
    },
    {
     "name": "stdout",
     "output_type": "stream",
     "text": [
      "  Train Total Loss: 0.000366, Value Loss: 0.000366\n"
     ]
    },
    {
     "name": "stderr",
     "output_type": "stream",
     "text": [
      "                                                             \r"
     ]
    },
    {
     "name": "stdout",
     "output_type": "stream",
     "text": [
      "  Global Pearson Correlation: 0.9443\n",
      "  R² layer mean - uw: 0.8977\n",
      "  R² layer mean - vw: 0.8805\n",
      "  R² layer mean - tw: 0.8948\n",
      "  R² layer mean - qw: 0.6850\n",
      "  Saved R² plot to ./model_plots1\\uvtr2_layer_epoch132.png\n",
      "  Saved scatter plot to ./model_plots1\\uvtscatter_epoch132.png\n",
      "  Val Total Loss: 0.001014, Value Loss: 0.001014\n",
      "  Per-channel RMSE: uw=0.3475, vw=0.3778, tw=0.3481, \n",
      "\n",
      "Epoch 133/200\n"
     ]
    },
    {
     "name": "stderr",
     "output_type": "stream",
     "text": [
      "                                                           \r"
     ]
    },
    {
     "name": "stdout",
     "output_type": "stream",
     "text": [
      "  Train Total Loss: 0.000361, Value Loss: 0.000361\n"
     ]
    },
    {
     "name": "stderr",
     "output_type": "stream",
     "text": [
      "                                                             \r"
     ]
    },
    {
     "name": "stdout",
     "output_type": "stream",
     "text": [
      "  Global Pearson Correlation: 0.9447\n",
      "  R² layer mean - uw: 0.8999\n",
      "  R² layer mean - vw: 0.8796\n",
      "  R² layer mean - tw: 0.8959\n",
      "  R² layer mean - qw: 0.6857\n",
      "  Saved R² plot to ./model_plots1\\uvtr2_layer_epoch133.png\n",
      "  Saved scatter plot to ./model_plots1\\uvtscatter_epoch133.png\n",
      "  Val Total Loss: 0.001012, Value Loss: 0.001012\n",
      "  Per-channel RMSE: uw=0.3437, vw=0.3793, tw=0.3464, \n",
      "  Saved best model: F:\\model\\model_save\\best_epoch133_val0.001012.pth\n",
      "\n",
      "Epoch 134/200\n"
     ]
    },
    {
     "name": "stderr",
     "output_type": "stream",
     "text": [
      "                                                           \r"
     ]
    },
    {
     "name": "stdout",
     "output_type": "stream",
     "text": [
      "  Train Total Loss: 0.000360, Value Loss: 0.000360\n"
     ]
    },
    {
     "name": "stderr",
     "output_type": "stream",
     "text": [
      "                                                             \r"
     ]
    },
    {
     "name": "stdout",
     "output_type": "stream",
     "text": [
      "  Global Pearson Correlation: 0.9446\n",
      "  R² layer mean - uw: 0.9002\n",
      "  R² layer mean - vw: 0.8797\n",
      "  R² layer mean - tw: 0.8957\n",
      "  R² layer mean - qw: 0.6825\n",
      "  Saved R² plot to ./model_plots1\\uvtr2_layer_epoch134.png\n",
      "  Saved scatter plot to ./model_plots1\\uvtscatter_epoch134.png\n",
      "  Val Total Loss: 0.001013, Value Loss: 0.001013\n",
      "  Per-channel RMSE: uw=0.3431, vw=0.3792, tw=0.3467, \n",
      "\n",
      "Epoch 135/200\n"
     ]
    },
    {
     "name": "stderr",
     "output_type": "stream",
     "text": [
      "                                                           \r"
     ]
    },
    {
     "name": "stdout",
     "output_type": "stream",
     "text": [
      "  Train Total Loss: 0.000357, Value Loss: 0.000357\n"
     ]
    },
    {
     "name": "stderr",
     "output_type": "stream",
     "text": [
      "                                                             \r"
     ]
    },
    {
     "name": "stdout",
     "output_type": "stream",
     "text": [
      "  Global Pearson Correlation: 0.9451\n",
      "  R² layer mean - uw: 0.9019\n",
      "  R² layer mean - vw: 0.8809\n",
      "  R² layer mean - tw: 0.8963\n",
      "  R² layer mean - qw: 0.6783\n",
      "  Saved R² plot to ./model_plots1\\uvtr2_layer_epoch135.png\n",
      "  Saved scatter plot to ./model_plots1\\uvtscatter_epoch135.png\n",
      "  Val Total Loss: 0.001004, Value Loss: 0.001004\n",
      "  Per-channel RMSE: uw=0.3401, vw=0.3772, tw=0.3457, \n",
      "  Saved best model: F:\\model\\model_save\\best_epoch135_val0.001004.pth\n",
      "\n",
      "Epoch 136/200\n"
     ]
    },
    {
     "name": "stderr",
     "output_type": "stream",
     "text": [
      "                                                           \r"
     ]
    },
    {
     "name": "stdout",
     "output_type": "stream",
     "text": [
      "  Train Total Loss: 0.000360, Value Loss: 0.000360\n"
     ]
    },
    {
     "name": "stderr",
     "output_type": "stream",
     "text": [
      "                                                             \r"
     ]
    },
    {
     "name": "stdout",
     "output_type": "stream",
     "text": [
      "  Global Pearson Correlation: 0.9445\n",
      "  R² layer mean - uw: 0.9004\n",
      "  R² layer mean - vw: 0.8797\n",
      "  R² layer mean - tw: 0.8951\n",
      "  R² layer mean - qw: 0.6818\n",
      "  Saved R² plot to ./model_plots1\\uvtr2_layer_epoch136.png\n",
      "  Saved scatter plot to ./model_plots1\\uvtscatter_epoch136.png\n",
      "  Val Total Loss: 0.001013, Value Loss: 0.001013\n",
      "  Per-channel RMSE: uw=0.3430, vw=0.3792, tw=0.3478, \n",
      "\n",
      "Epoch 137/200\n"
     ]
    },
    {
     "name": "stderr",
     "output_type": "stream",
     "text": [
      "                                                           \r"
     ]
    },
    {
     "name": "stdout",
     "output_type": "stream",
     "text": [
      "  Train Total Loss: 0.000357, Value Loss: 0.000357\n"
     ]
    },
    {
     "name": "stderr",
     "output_type": "stream",
     "text": [
      "                                                             \r"
     ]
    },
    {
     "name": "stdout",
     "output_type": "stream",
     "text": [
      "  Global Pearson Correlation: 0.9445\n",
      "  R² layer mean - uw: 0.9010\n",
      "  R² layer mean - vw: 0.8796\n",
      "  R² layer mean - tw: 0.8949\n",
      "  R² layer mean - qw: 0.6831\n",
      "  Saved R² plot to ./model_plots1\\uvtr2_layer_epoch137.png\n",
      "  Saved scatter plot to ./model_plots1\\uvtscatter_epoch137.png\n",
      "  Val Total Loss: 0.001010, Value Loss: 0.001010\n",
      "  Per-channel RMSE: uw=0.3416, vw=0.3792, tw=0.3481, \n",
      "\n",
      "Epoch 138/200\n"
     ]
    },
    {
     "name": "stderr",
     "output_type": "stream",
     "text": [
      "                                                           \r"
     ]
    },
    {
     "name": "stdout",
     "output_type": "stream",
     "text": [
      "  Train Total Loss: 0.000357, Value Loss: 0.000357\n"
     ]
    },
    {
     "name": "stderr",
     "output_type": "stream",
     "text": [
      "                                                             \r"
     ]
    },
    {
     "name": "stdout",
     "output_type": "stream",
     "text": [
      "  Global Pearson Correlation: 0.9440\n",
      "  R² layer mean - uw: 0.9008\n",
      "  R² layer mean - vw: 0.8763\n",
      "  R² layer mean - tw: 0.8941\n",
      "  R² layer mean - qw: 0.6774\n",
      "  Saved R² plot to ./model_plots1\\uvtr2_layer_epoch138.png\n",
      "  Saved scatter plot to ./model_plots1\\uvtscatter_epoch138.png\n",
      "  Val Total Loss: 0.001024, Value Loss: 0.001024\n",
      "  Per-channel RMSE: uw=0.3420, vw=0.3846, tw=0.3494, \n",
      "\n",
      "Epoch 139/200\n"
     ]
    },
    {
     "name": "stderr",
     "output_type": "stream",
     "text": [
      "                                                           \r"
     ]
    },
    {
     "name": "stdout",
     "output_type": "stream",
     "text": [
      "  Train Total Loss: 0.000357, Value Loss: 0.000357\n"
     ]
    },
    {
     "name": "stderr",
     "output_type": "stream",
     "text": [
      "                                                             \r"
     ]
    },
    {
     "name": "stdout",
     "output_type": "stream",
     "text": [
      "  Global Pearson Correlation: 0.9450\n",
      "  R² layer mean - uw: 0.9016\n",
      "  R² layer mean - vw: 0.8800\n",
      "  R² layer mean - tw: 0.8959\n",
      "  R² layer mean - qw: 0.6744\n",
      "  Saved R² plot to ./model_plots1\\uvtr2_layer_epoch139.png\n",
      "  Saved scatter plot to ./model_plots1\\uvtscatter_epoch139.png\n",
      "  Val Total Loss: 0.001007, Value Loss: 0.001007\n",
      "  Per-channel RMSE: uw=0.3406, vw=0.3786, tw=0.3464, \n",
      "\n",
      "Epoch 140/200\n"
     ]
    },
    {
     "name": "stderr",
     "output_type": "stream",
     "text": [
      "                                                           \r"
     ]
    },
    {
     "name": "stdout",
     "output_type": "stream",
     "text": [
      "  Train Total Loss: 0.000357, Value Loss: 0.000357\n"
     ]
    },
    {
     "name": "stderr",
     "output_type": "stream",
     "text": [
      "                                                             \r"
     ]
    },
    {
     "name": "stdout",
     "output_type": "stream",
     "text": [
      "  Global Pearson Correlation: 0.9449\n",
      "  R² layer mean - uw: 0.9003\n",
      "  R² layer mean - vw: 0.8806\n",
      "  R² layer mean - tw: 0.8948\n",
      "  R² layer mean - qw: 0.6847\n",
      "  Saved R² plot to ./model_plots1\\uvtr2_layer_epoch140.png\n",
      "  Saved scatter plot to ./model_plots1\\uvtscatter_epoch140.png\n",
      "  Val Total Loss: 0.001007, Value Loss: 0.001007\n",
      "  Per-channel RMSE: uw=0.3429, vw=0.3777, tw=0.3482, \n",
      "\n",
      "Epoch 141/200\n"
     ]
    },
    {
     "name": "stderr",
     "output_type": "stream",
     "text": [
      "                                                           \r"
     ]
    },
    {
     "name": "stdout",
     "output_type": "stream",
     "text": [
      "  Train Total Loss: 0.000355, Value Loss: 0.000355\n"
     ]
    },
    {
     "name": "stderr",
     "output_type": "stream",
     "text": [
      "                                                             \r"
     ]
    },
    {
     "name": "stdout",
     "output_type": "stream",
     "text": [
      "  Global Pearson Correlation: 0.9451\n",
      "  R² layer mean - uw: 0.9024\n",
      "  R² layer mean - vw: 0.8809\n",
      "  R² layer mean - tw: 0.8944\n",
      "  R² layer mean - qw: 0.6834\n",
      "  Saved R² plot to ./model_plots1\\uvtr2_layer_epoch141.png\n",
      "  Saved scatter plot to ./model_plots1\\uvtscatter_epoch141.png\n",
      "  Val Total Loss: 0.001005, Value Loss: 0.001005\n",
      "  Per-channel RMSE: uw=0.3394, vw=0.3773, tw=0.3490, \n",
      "\n",
      "Epoch 142/200\n"
     ]
    },
    {
     "name": "stderr",
     "output_type": "stream",
     "text": [
      "                                                           \r"
     ]
    },
    {
     "name": "stdout",
     "output_type": "stream",
     "text": [
      "  Train Total Loss: 0.000326, Value Loss: 0.000326\n"
     ]
    },
    {
     "name": "stderr",
     "output_type": "stream",
     "text": [
      "                                                             \r"
     ]
    },
    {
     "name": "stdout",
     "output_type": "stream",
     "text": [
      "  Global Pearson Correlation: 0.9465\n",
      "  R² layer mean - uw: 0.9047\n",
      "  R² layer mean - vw: 0.8830\n",
      "  R² layer mean - tw: 0.8982\n",
      "  R² layer mean - qw: 0.6864\n",
      "  Saved R² plot to ./model_plots1\\uvtr2_layer_epoch142.png\n",
      "  Saved scatter plot to ./model_plots1\\uvtscatter_epoch142.png\n",
      "  Val Total Loss: 0.000983, Value Loss: 0.000983\n",
      "  Per-channel RMSE: uw=0.3354, vw=0.3739, tw=0.3425, \n",
      "  Saved best model: F:\\model\\model_save\\best_epoch142_val0.000983.pth\n",
      "\n",
      "Epoch 143/200\n"
     ]
    },
    {
     "name": "stderr",
     "output_type": "stream",
     "text": [
      "                                                           \r"
     ]
    },
    {
     "name": "stdout",
     "output_type": "stream",
     "text": [
      "  Train Total Loss: 0.000320, Value Loss: 0.000320\n"
     ]
    },
    {
     "name": "stderr",
     "output_type": "stream",
     "text": [
      "                                                             \r"
     ]
    },
    {
     "name": "stdout",
     "output_type": "stream",
     "text": [
      "  Global Pearson Correlation: 0.9465\n",
      "  R² layer mean - uw: 0.9046\n",
      "  R² layer mean - vw: 0.8836\n",
      "  R² layer mean - tw: 0.8985\n",
      "  R² layer mean - qw: 0.6895\n",
      "  Saved R² plot to ./model_plots1\\uvtr2_layer_epoch143.png\n",
      "  Saved scatter plot to ./model_plots1\\uvtscatter_epoch143.png\n",
      "  Val Total Loss: 0.000982, Value Loss: 0.000982\n",
      "  Per-channel RMSE: uw=0.3355, vw=0.3727, tw=0.3421, \n",
      "  Saved best model: F:\\model\\model_save\\best_epoch143_val0.000982.pth\n",
      "\n",
      "Epoch 144/200\n"
     ]
    },
    {
     "name": "stderr",
     "output_type": "stream",
     "text": [
      "                                                           \r"
     ]
    },
    {
     "name": "stdout",
     "output_type": "stream",
     "text": [
      "  Train Total Loss: 0.000316, Value Loss: 0.000316\n"
     ]
    },
    {
     "name": "stderr",
     "output_type": "stream",
     "text": [
      "                                                             \r"
     ]
    },
    {
     "name": "stdout",
     "output_type": "stream",
     "text": [
      "  Global Pearson Correlation: 0.9466\n",
      "  R² layer mean - uw: 0.9041\n",
      "  R² layer mean - vw: 0.8831\n",
      "  R² layer mean - tw: 0.8984\n",
      "  R² layer mean - qw: 0.6804\n",
      "  Saved R² plot to ./model_plots1\\uvtr2_layer_epoch144.png\n",
      "  Saved scatter plot to ./model_plots1\\uvtscatter_epoch144.png\n",
      "  Val Total Loss: 0.000981, Value Loss: 0.000981\n",
      "  Per-channel RMSE: uw=0.3364, vw=0.3737, tw=0.3422, \n",
      "  Saved best model: F:\\model\\model_save\\best_epoch144_val0.000981.pth\n",
      "\n",
      "Epoch 145/200\n"
     ]
    },
    {
     "name": "stderr",
     "output_type": "stream",
     "text": [
      "                                                           \r"
     ]
    },
    {
     "name": "stdout",
     "output_type": "stream",
     "text": [
      "  Train Total Loss: 0.000314, Value Loss: 0.000314\n"
     ]
    },
    {
     "name": "stderr",
     "output_type": "stream",
     "text": [
      "                                                             \r"
     ]
    },
    {
     "name": "stdout",
     "output_type": "stream",
     "text": [
      "  Global Pearson Correlation: 0.9463\n",
      "  R² layer mean - uw: 0.9031\n",
      "  R² layer mean - vw: 0.8827\n",
      "  R² layer mean - tw: 0.8971\n",
      "  R² layer mean - qw: 0.6843\n",
      "  Saved R² plot to ./model_plots1\\uvtr2_layer_epoch145.png\n",
      "  Saved scatter plot to ./model_plots1\\uvtscatter_epoch145.png\n",
      "  Val Total Loss: 0.000985, Value Loss: 0.000985\n",
      "  Per-channel RMSE: uw=0.3381, vw=0.3744, tw=0.3444, \n",
      "\n",
      "Epoch 146/200\n"
     ]
    },
    {
     "name": "stderr",
     "output_type": "stream",
     "text": [
      "                                                           \r"
     ]
    },
    {
     "name": "stdout",
     "output_type": "stream",
     "text": [
      "  Train Total Loss: 0.000312, Value Loss: 0.000312\n"
     ]
    },
    {
     "name": "stderr",
     "output_type": "stream",
     "text": [
      "                                                             \r"
     ]
    },
    {
     "name": "stdout",
     "output_type": "stream",
     "text": [
      "  Global Pearson Correlation: 0.9465\n",
      "  R² layer mean - uw: 0.9055\n",
      "  R² layer mean - vw: 0.8833\n",
      "  R² layer mean - tw: 0.8973\n",
      "  R² layer mean - qw: 0.6823\n",
      "  Saved R² plot to ./model_plots1\\uvtr2_layer_epoch146.png\n",
      "  Saved scatter plot to ./model_plots1\\uvtscatter_epoch146.png\n",
      "  Val Total Loss: 0.000980, Value Loss: 0.000980\n",
      "  Per-channel RMSE: uw=0.3338, vw=0.3733, tw=0.3441, \n",
      "  Saved best model: F:\\model\\model_save\\best_epoch146_val0.000980.pth\n",
      "\n",
      "Epoch 147/200\n"
     ]
    },
    {
     "name": "stderr",
     "output_type": "stream",
     "text": [
      "                                                           \r"
     ]
    },
    {
     "name": "stdout",
     "output_type": "stream",
     "text": [
      "  Train Total Loss: 0.000315, Value Loss: 0.000315\n"
     ]
    },
    {
     "name": "stderr",
     "output_type": "stream",
     "text": [
      "                                                             \r"
     ]
    },
    {
     "name": "stdout",
     "output_type": "stream",
     "text": [
      "  Global Pearson Correlation: 0.9462\n",
      "  R² layer mean - uw: 0.9037\n",
      "  R² layer mean - vw: 0.8821\n",
      "  R² layer mean - tw: 0.8978\n",
      "  R² layer mean - qw: 0.6835\n",
      "  Saved R² plot to ./model_plots1\\uvtr2_layer_epoch147.png\n",
      "  Saved scatter plot to ./model_plots1\\uvtscatter_epoch147.png\n",
      "  Val Total Loss: 0.000984, Value Loss: 0.000984\n",
      "  Per-channel RMSE: uw=0.3371, vw=0.3753, tw=0.3433, \n",
      "\n",
      "Epoch 148/200\n"
     ]
    },
    {
     "name": "stderr",
     "output_type": "stream",
     "text": [
      "                                                           \r"
     ]
    },
    {
     "name": "stdout",
     "output_type": "stream",
     "text": [
      "  Train Total Loss: 0.000314, Value Loss: 0.000314\n"
     ]
    },
    {
     "name": "stderr",
     "output_type": "stream",
     "text": [
      "                                                             \r"
     ]
    },
    {
     "name": "stdout",
     "output_type": "stream",
     "text": [
      "  Global Pearson Correlation: 0.9465\n",
      "  R² layer mean - uw: 0.9031\n",
      "  R² layer mean - vw: 0.8823\n",
      "  R² layer mean - tw: 0.8966\n",
      "  R² layer mean - qw: 0.6864\n",
      "  Saved R² plot to ./model_plots1\\uvtr2_layer_epoch148.png\n",
      "  Saved scatter plot to ./model_plots1\\uvtscatter_epoch148.png\n",
      "  Val Total Loss: 0.000988, Value Loss: 0.000988\n",
      "  Per-channel RMSE: uw=0.3383, vw=0.3750, tw=0.3453, \n",
      "\n",
      "Epoch 149/200\n"
     ]
    },
    {
     "name": "stderr",
     "output_type": "stream",
     "text": [
      "                                                           \r"
     ]
    },
    {
     "name": "stdout",
     "output_type": "stream",
     "text": [
      "  Train Total Loss: 0.000312, Value Loss: 0.000312\n"
     ]
    },
    {
     "name": "stderr",
     "output_type": "stream",
     "text": [
      "                                                             \r"
     ]
    },
    {
     "name": "stdout",
     "output_type": "stream",
     "text": [
      "  Global Pearson Correlation: 0.9465\n",
      "  R² layer mean - uw: 0.9046\n",
      "  R² layer mean - vw: 0.8829\n",
      "  R² layer mean - tw: 0.8968\n",
      "  R² layer mean - qw: 0.6760\n",
      "  Saved R² plot to ./model_plots1\\uvtr2_layer_epoch149.png\n",
      "  Saved scatter plot to ./model_plots1\\uvtscatter_epoch149.png\n",
      "  Val Total Loss: 0.000983, Value Loss: 0.000983\n",
      "  Per-channel RMSE: uw=0.3357, vw=0.3739, tw=0.3449, \n",
      "\n",
      "Epoch 150/200\n"
     ]
    },
    {
     "name": "stderr",
     "output_type": "stream",
     "text": [
      "                                                           \r"
     ]
    },
    {
     "name": "stdout",
     "output_type": "stream",
     "text": [
      "  Train Total Loss: 0.000312, Value Loss: 0.000312\n"
     ]
    },
    {
     "name": "stderr",
     "output_type": "stream",
     "text": [
      "                                                             \r"
     ]
    },
    {
     "name": "stdout",
     "output_type": "stream",
     "text": [
      "  Global Pearson Correlation: 0.9464\n",
      "  R² layer mean - uw: 0.9048\n",
      "  R² layer mean - vw: 0.8831\n",
      "  R² layer mean - tw: 0.8982\n",
      "  R² layer mean - qw: 0.6807\n",
      "  Saved R² plot to ./model_plots1\\uvtr2_layer_epoch150.png\n",
      "  Saved scatter plot to ./model_plots1\\uvtscatter_epoch150.png\n",
      "  Val Total Loss: 0.000982, Value Loss: 0.000982\n",
      "  Per-channel RMSE: uw=0.3352, vw=0.3738, tw=0.3426, \n",
      "\n",
      "Epoch 151/200\n"
     ]
    },
    {
     "name": "stderr",
     "output_type": "stream",
     "text": [
      "                                                           \r"
     ]
    },
    {
     "name": "stdout",
     "output_type": "stream",
     "text": [
      "  Train Total Loss: 0.000310, Value Loss: 0.000310\n"
     ]
    },
    {
     "name": "stderr",
     "output_type": "stream",
     "text": [
      "                                                             \r"
     ]
    },
    {
     "name": "stdout",
     "output_type": "stream",
     "text": [
      "  Global Pearson Correlation: 0.9462\n",
      "  R² layer mean - uw: 0.9024\n",
      "  R² layer mean - vw: 0.8828\n",
      "  R² layer mean - tw: 0.8970\n",
      "  R² layer mean - qw: 0.6882\n",
      "  Saved R² plot to ./model_plots1\\uvtr2_layer_epoch151.png\n",
      "  Saved scatter plot to ./model_plots1\\uvtscatter_epoch151.png\n",
      "  Val Total Loss: 0.000985, Value Loss: 0.000985\n",
      "  Per-channel RMSE: uw=0.3395, vw=0.3742, tw=0.3446, \n",
      "\n",
      "Epoch 152/200\n"
     ]
    },
    {
     "name": "stderr",
     "output_type": "stream",
     "text": [
      "                                                           \r"
     ]
    },
    {
     "name": "stdout",
     "output_type": "stream",
     "text": [
      "  Train Total Loss: 0.000308, Value Loss: 0.000308\n"
     ]
    },
    {
     "name": "stderr",
     "output_type": "stream",
     "text": [
      "                                                             \r"
     ]
    },
    {
     "name": "stdout",
     "output_type": "stream",
     "text": [
      "  Global Pearson Correlation: 0.9466\n",
      "  R² layer mean - uw: 0.9052\n",
      "  R² layer mean - vw: 0.8831\n",
      "  R² layer mean - tw: 0.8988\n",
      "  R² layer mean - qw: 0.6788\n",
      "  Saved R² plot to ./model_plots1\\uvtr2_layer_epoch152.png\n",
      "  Saved scatter plot to ./model_plots1\\uvtscatter_epoch152.png\n",
      "  Val Total Loss: 0.000978, Value Loss: 0.000978\n",
      "  Per-channel RMSE: uw=0.3344, vw=0.3736, tw=0.3415, \n",
      "  Saved best model: F:\\model\\model_save\\best_epoch152_val0.000978.pth\n",
      "\n",
      "Epoch 153/200\n"
     ]
    },
    {
     "name": "stderr",
     "output_type": "stream",
     "text": [
      "                                                           \r"
     ]
    },
    {
     "name": "stdout",
     "output_type": "stream",
     "text": [
      "  Train Total Loss: 0.000311, Value Loss: 0.000311\n"
     ]
    },
    {
     "name": "stderr",
     "output_type": "stream",
     "text": [
      "                                                             \r"
     ]
    },
    {
     "name": "stdout",
     "output_type": "stream",
     "text": [
      "  Global Pearson Correlation: 0.9466\n",
      "  R² layer mean - uw: 0.9051\n",
      "  R² layer mean - vw: 0.8834\n",
      "  R² layer mean - tw: 0.8984\n",
      "  R² layer mean - qw: 0.6804\n",
      "  Saved R² plot to ./model_plots1\\uvtr2_layer_epoch153.png\n",
      "  Saved scatter plot to ./model_plots1\\uvtscatter_epoch153.png\n",
      "  Val Total Loss: 0.000979, Value Loss: 0.000979\n",
      "  Per-channel RMSE: uw=0.3345, vw=0.3731, tw=0.3422, \n",
      "\n",
      "Epoch 154/200\n"
     ]
    },
    {
     "name": "stderr",
     "output_type": "stream",
     "text": [
      "                                                           \r"
     ]
    },
    {
     "name": "stdout",
     "output_type": "stream",
     "text": [
      "  Train Total Loss: 0.000307, Value Loss: 0.000307\n"
     ]
    },
    {
     "name": "stderr",
     "output_type": "stream",
     "text": [
      "                                                             \r"
     ]
    },
    {
     "name": "stdout",
     "output_type": "stream",
     "text": [
      "  Global Pearson Correlation: 0.9458\n",
      "  R² layer mean - uw: 0.9032\n",
      "  R² layer mean - vw: 0.8816\n",
      "  R² layer mean - tw: 0.8969\n",
      "  R² layer mean - qw: 0.6842\n",
      "  Saved R² plot to ./model_plots1\\uvtr2_layer_epoch154.png\n",
      "  Saved scatter plot to ./model_plots1\\uvtscatter_epoch154.png\n",
      "  Val Total Loss: 0.000989, Value Loss: 0.000989\n",
      "  Per-channel RMSE: uw=0.3379, vw=0.3761, tw=0.3448, \n",
      "\n",
      "Epoch 155/200\n"
     ]
    },
    {
     "name": "stderr",
     "output_type": "stream",
     "text": [
      "                                                           \r"
     ]
    },
    {
     "name": "stdout",
     "output_type": "stream",
     "text": [
      "  Train Total Loss: 0.000309, Value Loss: 0.000309\n"
     ]
    },
    {
     "name": "stderr",
     "output_type": "stream",
     "text": [
      "                                                             \r"
     ]
    },
    {
     "name": "stdout",
     "output_type": "stream",
     "text": [
      "  Global Pearson Correlation: 0.9461\n",
      "  R² layer mean - uw: 0.9027\n",
      "  R² layer mean - vw: 0.8813\n",
      "  R² layer mean - tw: 0.8972\n",
      "  R² layer mean - qw: 0.6815\n",
      "  Saved R² plot to ./model_plots1\\uvtr2_layer_epoch155.png\n",
      "  Saved scatter plot to ./model_plots1\\uvtscatter_epoch155.png\n",
      "  Val Total Loss: 0.000988, Value Loss: 0.000988\n",
      "  Per-channel RMSE: uw=0.3390, vw=0.3765, tw=0.3443, \n",
      "\n",
      "Epoch 156/200\n"
     ]
    },
    {
     "name": "stderr",
     "output_type": "stream",
     "text": [
      "                                                           \r"
     ]
    },
    {
     "name": "stdout",
     "output_type": "stream",
     "text": [
      "  Train Total Loss: 0.000310, Value Loss: 0.000310\n"
     ]
    },
    {
     "name": "stderr",
     "output_type": "stream",
     "text": [
      "                                                             \r"
     ]
    },
    {
     "name": "stdout",
     "output_type": "stream",
     "text": [
      "  Global Pearson Correlation: 0.9465\n",
      "  R² layer mean - uw: 0.9037\n",
      "  R² layer mean - vw: 0.8835\n",
      "  R² layer mean - tw: 0.8979\n",
      "  R² layer mean - qw: 0.6825\n",
      "  Saved R² plot to ./model_plots1\\uvtr2_layer_epoch156.png\n",
      "  Saved scatter plot to ./model_plots1\\uvtscatter_epoch156.png\n",
      "  Val Total Loss: 0.000979, Value Loss: 0.000979\n",
      "  Per-channel RMSE: uw=0.3372, vw=0.3729, tw=0.3432, \n",
      "\n",
      "Epoch 157/200\n"
     ]
    },
    {
     "name": "stderr",
     "output_type": "stream",
     "text": [
      "                                                           \r"
     ]
    },
    {
     "name": "stdout",
     "output_type": "stream",
     "text": [
      "  Train Total Loss: 0.000307, Value Loss: 0.000307\n"
     ]
    },
    {
     "name": "stderr",
     "output_type": "stream",
     "text": [
      "                                                             \r"
     ]
    },
    {
     "name": "stdout",
     "output_type": "stream",
     "text": [
      "  Global Pearson Correlation: 0.9465\n",
      "  R² layer mean - uw: 0.9049\n",
      "  R² layer mean - vw: 0.8833\n",
      "  R² layer mean - tw: 0.8975\n",
      "  R² layer mean - qw: 0.6825\n",
      "  Saved R² plot to ./model_plots1\\uvtr2_layer_epoch157.png\n",
      "  Saved scatter plot to ./model_plots1\\uvtscatter_epoch157.png\n",
      "  Val Total Loss: 0.000978, Value Loss: 0.000978\n",
      "  Per-channel RMSE: uw=0.3351, vw=0.3732, tw=0.3437, \n",
      "\n",
      "Epoch 158/200\n"
     ]
    },
    {
     "name": "stderr",
     "output_type": "stream",
     "text": [
      "                                                           \r"
     ]
    },
    {
     "name": "stdout",
     "output_type": "stream",
     "text": [
      "  Train Total Loss: 0.000302, Value Loss: 0.000302\n"
     ]
    },
    {
     "name": "stderr",
     "output_type": "stream",
     "text": [
      "                                                             \r"
     ]
    },
    {
     "name": "stdout",
     "output_type": "stream",
     "text": [
      "  Global Pearson Correlation: 0.9465\n",
      "  R² layer mean - uw: 0.9051\n",
      "  R² layer mean - vw: 0.8828\n",
      "  R² layer mean - tw: 0.8978\n",
      "  R² layer mean - qw: 0.6823\n",
      "  Saved R² plot to ./model_plots1\\uvtr2_layer_epoch158.png\n",
      "  Saved scatter plot to ./model_plots1\\uvtscatter_epoch158.png\n",
      "  Val Total Loss: 0.000979, Value Loss: 0.000979\n",
      "  Per-channel RMSE: uw=0.3345, vw=0.3740, tw=0.3433, \n",
      "\n",
      "Epoch 159/200\n"
     ]
    },
    {
     "name": "stderr",
     "output_type": "stream",
     "text": [
      "                                                           \r"
     ]
    },
    {
     "name": "stdout",
     "output_type": "stream",
     "text": [
      "  Train Total Loss: 0.000291, Value Loss: 0.000291\n"
     ]
    },
    {
     "name": "stderr",
     "output_type": "stream",
     "text": [
      "                                                             \r"
     ]
    },
    {
     "name": "stdout",
     "output_type": "stream",
     "text": [
      "  Global Pearson Correlation: 0.9470\n",
      "  R² layer mean - uw: 0.9058\n",
      "  R² layer mean - vw: 0.8848\n",
      "  R² layer mean - tw: 0.8987\n",
      "  R² layer mean - qw: 0.6865\n",
      "  Saved R² plot to ./model_plots1\\uvtr2_layer_epoch159.png\n",
      "  Saved scatter plot to ./model_plots1\\uvtscatter_epoch159.png\n",
      "  Val Total Loss: 0.000969, Value Loss: 0.000969\n",
      "  Per-channel RMSE: uw=0.3332, vw=0.3708, tw=0.3418, \n",
      "  Saved best model: F:\\model\\model_save\\best_epoch159_val0.000969.pth\n",
      "\n",
      "Epoch 160/200\n"
     ]
    },
    {
     "name": "stderr",
     "output_type": "stream",
     "text": [
      "                                                           \r"
     ]
    },
    {
     "name": "stdout",
     "output_type": "stream",
     "text": [
      "  Train Total Loss: 0.000291, Value Loss: 0.000291\n"
     ]
    },
    {
     "name": "stderr",
     "output_type": "stream",
     "text": [
      "                                                             \r"
     ]
    },
    {
     "name": "stdout",
     "output_type": "stream",
     "text": [
      "  Global Pearson Correlation: 0.9467\n",
      "  R² layer mean - uw: 0.9056\n",
      "  R² layer mean - vw: 0.8834\n",
      "  R² layer mean - tw: 0.8987\n",
      "  R² layer mean - qw: 0.6792\n",
      "  Saved R² plot to ./model_plots1\\uvtr2_layer_epoch160.png\n",
      "  Saved scatter plot to ./model_plots1\\uvtscatter_epoch160.png\n",
      "  Val Total Loss: 0.000974, Value Loss: 0.000974\n",
      "  Per-channel RMSE: uw=0.3337, vw=0.3731, tw=0.3418, \n",
      "\n",
      "Epoch 161/200\n"
     ]
    },
    {
     "name": "stderr",
     "output_type": "stream",
     "text": [
      "                                                           \r"
     ]
    },
    {
     "name": "stdout",
     "output_type": "stream",
     "text": [
      "  Train Total Loss: 0.000290, Value Loss: 0.000290\n"
     ]
    },
    {
     "name": "stderr",
     "output_type": "stream",
     "text": [
      "                                                             \r"
     ]
    },
    {
     "name": "stdout",
     "output_type": "stream",
     "text": [
      "  Global Pearson Correlation: 0.9473\n",
      "  R² layer mean - uw: 0.9061\n",
      "  R² layer mean - vw: 0.8852\n",
      "  R² layer mean - tw: 0.8989\n",
      "  R² layer mean - qw: 0.6826\n",
      "  Saved R² plot to ./model_plots1\\uvtr2_layer_epoch161.png\n",
      "  Saved scatter plot to ./model_plots1\\uvtscatter_epoch161.png\n",
      "  Val Total Loss: 0.000966, Value Loss: 0.000966\n",
      "  Per-channel RMSE: uw=0.3327, vw=0.3702, tw=0.3414, \n",
      "  Saved best model: F:\\model\\model_save\\best_epoch161_val0.000966.pth\n",
      "\n",
      "Epoch 162/200\n"
     ]
    },
    {
     "name": "stderr",
     "output_type": "stream",
     "text": [
      "                                                           \r"
     ]
    },
    {
     "name": "stdout",
     "output_type": "stream",
     "text": [
      "  Train Total Loss: 0.000288, Value Loss: 0.000288\n"
     ]
    },
    {
     "name": "stderr",
     "output_type": "stream",
     "text": [
      "                                                             \r"
     ]
    },
    {
     "name": "stdout",
     "output_type": "stream",
     "text": [
      "  Global Pearson Correlation: 0.9471\n",
      "  R² layer mean - uw: 0.9060\n",
      "  R² layer mean - vw: 0.8843\n",
      "  R² layer mean - tw: 0.8984\n",
      "  R² layer mean - qw: 0.6864\n",
      "  Saved R² plot to ./model_plots1\\uvtr2_layer_epoch162.png\n",
      "  Saved scatter plot to ./model_plots1\\uvtscatter_epoch162.png\n",
      "  Val Total Loss: 0.000969, Value Loss: 0.000969\n",
      "  Per-channel RMSE: uw=0.3330, vw=0.3717, tw=0.3423, \n",
      "\n",
      "Epoch 163/200\n"
     ]
    },
    {
     "name": "stderr",
     "output_type": "stream",
     "text": [
      "                                                           \r"
     ]
    },
    {
     "name": "stdout",
     "output_type": "stream",
     "text": [
      "  Train Total Loss: 0.000286, Value Loss: 0.000286\n"
     ]
    },
    {
     "name": "stderr",
     "output_type": "stream",
     "text": [
      "                                                             \r"
     ]
    },
    {
     "name": "stdout",
     "output_type": "stream",
     "text": [
      "  Global Pearson Correlation: 0.9472\n",
      "  R² layer mean - uw: 0.9054\n",
      "  R² layer mean - vw: 0.8854\n",
      "  R² layer mean - tw: 0.8996\n",
      "  R² layer mean - qw: 0.6836\n",
      "  Saved R² plot to ./model_plots1\\uvtr2_layer_epoch163.png\n",
      "  Saved scatter plot to ./model_plots1\\uvtscatter_epoch163.png\n",
      "  Val Total Loss: 0.000964, Value Loss: 0.000964\n",
      "  Per-channel RMSE: uw=0.3341, vw=0.3698, tw=0.3403, \n",
      "  Saved best model: F:\\model\\model_save\\best_epoch163_val0.000964.pth\n",
      "\n",
      "Epoch 164/200\n"
     ]
    },
    {
     "name": "stderr",
     "output_type": "stream",
     "text": [
      "                                                           \r"
     ]
    },
    {
     "name": "stdout",
     "output_type": "stream",
     "text": [
      "  Train Total Loss: 0.000288, Value Loss: 0.000288\n"
     ]
    },
    {
     "name": "stderr",
     "output_type": "stream",
     "text": [
      "                                                             \r"
     ]
    },
    {
     "name": "stdout",
     "output_type": "stream",
     "text": [
      "  Global Pearson Correlation: 0.9472\n",
      "  R² layer mean - uw: 0.9053\n",
      "  R² layer mean - vw: 0.8845\n",
      "  R² layer mean - tw: 0.8989\n",
      "  R² layer mean - qw: 0.6846\n",
      "  Saved R² plot to ./model_plots1\\uvtr2_layer_epoch164.png\n",
      "  Saved scatter plot to ./model_plots1\\uvtscatter_epoch164.png\n",
      "  Val Total Loss: 0.000968, Value Loss: 0.000968\n",
      "  Per-channel RMSE: uw=0.3343, vw=0.3712, tw=0.3414, \n",
      "\n",
      "Epoch 165/200\n"
     ]
    },
    {
     "name": "stderr",
     "output_type": "stream",
     "text": [
      "                                                           \r"
     ]
    },
    {
     "name": "stdout",
     "output_type": "stream",
     "text": [
      "  Train Total Loss: 0.000286, Value Loss: 0.000286\n"
     ]
    },
    {
     "name": "stderr",
     "output_type": "stream",
     "text": [
      "                                                             \r"
     ]
    },
    {
     "name": "stdout",
     "output_type": "stream",
     "text": [
      "  Global Pearson Correlation: 0.9471\n",
      "  R² layer mean - uw: 0.9063\n",
      "  R² layer mean - vw: 0.8842\n",
      "  R² layer mean - tw: 0.8990\n",
      "  R² layer mean - qw: 0.6873\n",
      "  Saved R² plot to ./model_plots1\\uvtr2_layer_epoch165.png\n",
      "  Saved scatter plot to ./model_plots1\\uvtscatter_epoch165.png\n",
      "  Val Total Loss: 0.000968, Value Loss: 0.000968\n",
      "  Per-channel RMSE: uw=0.3324, vw=0.3718, tw=0.3412, \n",
      "\n",
      "Epoch 166/200\n"
     ]
    },
    {
     "name": "stderr",
     "output_type": "stream",
     "text": [
      "                                                           \r"
     ]
    },
    {
     "name": "stdout",
     "output_type": "stream",
     "text": [
      "  Train Total Loss: 0.000286, Value Loss: 0.000286\n"
     ]
    },
    {
     "name": "stderr",
     "output_type": "stream",
     "text": [
      "                                                             \r"
     ]
    },
    {
     "name": "stdout",
     "output_type": "stream",
     "text": [
      "  Global Pearson Correlation: 0.9472\n",
      "  R² layer mean - uw: 0.9063\n",
      "  R² layer mean - vw: 0.8851\n",
      "  R² layer mean - tw: 0.8990\n",
      "  R² layer mean - qw: 0.6821\n",
      "  Saved R² plot to ./model_plots1\\uvtr2_layer_epoch166.png\n",
      "  Saved scatter plot to ./model_plots1\\uvtscatter_epoch166.png\n",
      "  Val Total Loss: 0.000966, Value Loss: 0.000966\n",
      "  Per-channel RMSE: uw=0.3324, vw=0.3703, tw=0.3412, \n",
      "\n",
      "Epoch 167/200\n"
     ]
    },
    {
     "name": "stderr",
     "output_type": "stream",
     "text": [
      "                                                           \r"
     ]
    },
    {
     "name": "stdout",
     "output_type": "stream",
     "text": [
      "  Train Total Loss: 0.000286, Value Loss: 0.000286\n"
     ]
    },
    {
     "name": "stderr",
     "output_type": "stream",
     "text": [
      "                                                             \r"
     ]
    },
    {
     "name": "stdout",
     "output_type": "stream",
     "text": [
      "  Global Pearson Correlation: 0.9468\n",
      "  R² layer mean - uw: 0.9057\n",
      "  R² layer mean - vw: 0.8839\n",
      "  R² layer mean - tw: 0.8981\n",
      "  R² layer mean - qw: 0.6821\n",
      "  Saved R² plot to ./model_plots1\\uvtr2_layer_epoch167.png\n",
      "  Saved scatter plot to ./model_plots1\\uvtscatter_epoch167.png\n",
      "  Val Total Loss: 0.000973, Value Loss: 0.000973\n",
      "  Per-channel RMSE: uw=0.3336, vw=0.3723, tw=0.3428, \n",
      "\n",
      "Epoch 168/200\n"
     ]
    },
    {
     "name": "stderr",
     "output_type": "stream",
     "text": [
      "                                                           \r"
     ]
    },
    {
     "name": "stdout",
     "output_type": "stream",
     "text": [
      "  Train Total Loss: 0.000284, Value Loss: 0.000284\n"
     ]
    },
    {
     "name": "stderr",
     "output_type": "stream",
     "text": [
      "                                                             \r"
     ]
    },
    {
     "name": "stdout",
     "output_type": "stream",
     "text": [
      "  Global Pearson Correlation: 0.9475\n",
      "  R² layer mean - uw: 0.9071\n",
      "  R² layer mean - vw: 0.8852\n",
      "  R² layer mean - tw: 0.8994\n",
      "  R² layer mean - qw: 0.6846\n",
      "  Saved R² plot to ./model_plots1\\uvtr2_layer_epoch168.png\n",
      "  Saved scatter plot to ./model_plots1\\uvtscatter_epoch168.png\n",
      "  Val Total Loss: 0.000961, Value Loss: 0.000961\n",
      "  Per-channel RMSE: uw=0.3310, vw=0.3702, tw=0.3406, \n",
      "  Saved best model: F:\\model\\model_save\\best_epoch168_val0.000961.pth\n",
      "\n",
      "Epoch 169/200\n"
     ]
    },
    {
     "name": "stderr",
     "output_type": "stream",
     "text": [
      "                                                           \r"
     ]
    },
    {
     "name": "stdout",
     "output_type": "stream",
     "text": [
      "  Train Total Loss: 0.000285, Value Loss: 0.000285\n"
     ]
    },
    {
     "name": "stderr",
     "output_type": "stream",
     "text": [
      "                                                             \r"
     ]
    },
    {
     "name": "stdout",
     "output_type": "stream",
     "text": [
      "  Global Pearson Correlation: 0.9472\n",
      "  R² layer mean - uw: 0.9060\n",
      "  R² layer mean - vw: 0.8848\n",
      "  R² layer mean - tw: 0.8996\n",
      "  R² layer mean - qw: 0.6821\n",
      "  Saved R² plot to ./model_plots1\\uvtr2_layer_epoch169.png\n",
      "  Saved scatter plot to ./model_plots1\\uvtscatter_epoch169.png\n",
      "  Val Total Loss: 0.000964, Value Loss: 0.000964\n",
      "  Per-channel RMSE: uw=0.3331, vw=0.3708, tw=0.3402, \n",
      "\n",
      "Epoch 170/200\n"
     ]
    },
    {
     "name": "stderr",
     "output_type": "stream",
     "text": [
      "                                                           \r"
     ]
    },
    {
     "name": "stdout",
     "output_type": "stream",
     "text": [
      "  Train Total Loss: 0.000286, Value Loss: 0.000286\n"
     ]
    },
    {
     "name": "stderr",
     "output_type": "stream",
     "text": [
      "                                                             \r"
     ]
    },
    {
     "name": "stdout",
     "output_type": "stream",
     "text": [
      "  Global Pearson Correlation: 0.9472\n",
      "  R² layer mean - uw: 0.9058\n",
      "  R² layer mean - vw: 0.8842\n",
      "  R² layer mean - tw: 0.8993\n",
      "  R² layer mean - qw: 0.6865\n",
      "  Saved R² plot to ./model_plots1\\uvtr2_layer_epoch170.png\n",
      "  Saved scatter plot to ./model_plots1\\uvtscatter_epoch170.png\n",
      "  Val Total Loss: 0.000969, Value Loss: 0.000969\n",
      "  Per-channel RMSE: uw=0.3335, vw=0.3719, tw=0.3407, \n",
      "\n",
      "Epoch 171/200\n"
     ]
    },
    {
     "name": "stderr",
     "output_type": "stream",
     "text": [
      "                                                           \r"
     ]
    },
    {
     "name": "stdout",
     "output_type": "stream",
     "text": [
      "  Train Total Loss: 0.000284, Value Loss: 0.000284\n"
     ]
    },
    {
     "name": "stderr",
     "output_type": "stream",
     "text": [
      "                                                             \r"
     ]
    },
    {
     "name": "stdout",
     "output_type": "stream",
     "text": [
      "  Global Pearson Correlation: 0.9474\n",
      "  R² layer mean - uw: 0.9065\n",
      "  R² layer mean - vw: 0.8849\n",
      "  R² layer mean - tw: 0.8983\n",
      "  R² layer mean - qw: 0.6867\n",
      "  Saved R² plot to ./model_plots1\\uvtr2_layer_epoch171.png\n",
      "  Saved scatter plot to ./model_plots1\\uvtscatter_epoch171.png\n",
      "  Val Total Loss: 0.000966, Value Loss: 0.000966\n",
      "  Per-channel RMSE: uw=0.3322, vw=0.3707, tw=0.3423, \n",
      "\n",
      "Epoch 172/200\n"
     ]
    },
    {
     "name": "stderr",
     "output_type": "stream",
     "text": [
      "                                                           \r"
     ]
    },
    {
     "name": "stdout",
     "output_type": "stream",
     "text": [
      "  Train Total Loss: 0.000284, Value Loss: 0.000284\n"
     ]
    },
    {
     "name": "stderr",
     "output_type": "stream",
     "text": [
      "                                                             \r"
     ]
    },
    {
     "name": "stdout",
     "output_type": "stream",
     "text": [
      "  Global Pearson Correlation: 0.9470\n",
      "  R² layer mean - uw: 0.9058\n",
      "  R² layer mean - vw: 0.8840\n",
      "  R² layer mean - tw: 0.8983\n",
      "  R² layer mean - qw: 0.6869\n",
      "  Saved R² plot to ./model_plots1\\uvtr2_layer_epoch172.png\n",
      "  Saved scatter plot to ./model_plots1\\uvtscatter_epoch172.png\n",
      "  Val Total Loss: 0.000970, Value Loss: 0.000970\n",
      "  Per-channel RMSE: uw=0.3334, vw=0.3722, tw=0.3425, \n",
      "\n",
      "Epoch 173/200\n"
     ]
    },
    {
     "name": "stderr",
     "output_type": "stream",
     "text": [
      "                                                           \r"
     ]
    },
    {
     "name": "stdout",
     "output_type": "stream",
     "text": [
      "  Train Total Loss: 0.000282, Value Loss: 0.000282\n"
     ]
    },
    {
     "name": "stderr",
     "output_type": "stream",
     "text": [
      "                                                             \r"
     ]
    },
    {
     "name": "stdout",
     "output_type": "stream",
     "text": [
      "  Global Pearson Correlation: 0.9473\n",
      "  R² layer mean - uw: 0.9063\n",
      "  R² layer mean - vw: 0.8848\n",
      "  R² layer mean - tw: 0.8995\n",
      "  R² layer mean - qw: 0.6853\n",
      "  Saved R² plot to ./model_plots1\\uvtr2_layer_epoch173.png\n",
      "  Saved scatter plot to ./model_plots1\\uvtscatter_epoch173.png\n",
      "  Val Total Loss: 0.000965, Value Loss: 0.000965\n",
      "  Per-channel RMSE: uw=0.3325, vw=0.3710, tw=0.3404, \n",
      "\n",
      "Epoch 174/200\n"
     ]
    },
    {
     "name": "stderr",
     "output_type": "stream",
     "text": [
      "                                                           \r"
     ]
    },
    {
     "name": "stdout",
     "output_type": "stream",
     "text": [
      "  Train Total Loss: 0.000283, Value Loss: 0.000283\n"
     ]
    },
    {
     "name": "stderr",
     "output_type": "stream",
     "text": [
      "                                                             \r"
     ]
    },
    {
     "name": "stdout",
     "output_type": "stream",
     "text": [
      "  Global Pearson Correlation: 0.9472\n",
      "  R² layer mean - uw: 0.9060\n",
      "  R² layer mean - vw: 0.8848\n",
      "  R² layer mean - tw: 0.8983\n",
      "  R² layer mean - qw: 0.6829\n",
      "  Saved R² plot to ./model_plots1\\uvtr2_layer_epoch174.png\n",
      "  Saved scatter plot to ./model_plots1\\uvtscatter_epoch174.png\n",
      "  Val Total Loss: 0.000966, Value Loss: 0.000966\n",
      "  Per-channel RMSE: uw=0.3330, vw=0.3708, tw=0.3424, \n",
      "\n",
      "Epoch 175/200\n"
     ]
    },
    {
     "name": "stderr",
     "output_type": "stream",
     "text": [
      "                                                           \r"
     ]
    },
    {
     "name": "stdout",
     "output_type": "stream",
     "text": [
      "  Train Total Loss: 0.000277, Value Loss: 0.000277\n"
     ]
    },
    {
     "name": "stderr",
     "output_type": "stream",
     "text": [
      "                                                             \r"
     ]
    },
    {
     "name": "stdout",
     "output_type": "stream",
     "text": [
      "  Global Pearson Correlation: 0.9475\n",
      "  R² layer mean - uw: 0.9067\n",
      "  R² layer mean - vw: 0.8853\n",
      "  R² layer mean - tw: 0.8995\n",
      "  R² layer mean - qw: 0.6825\n",
      "  Saved R² plot to ./model_plots1\\uvtr2_layer_epoch175.png\n",
      "  Saved scatter plot to ./model_plots1\\uvtscatter_epoch175.png\n",
      "  Val Total Loss: 0.000961, Value Loss: 0.000961\n",
      "  Per-channel RMSE: uw=0.3318, vw=0.3700, tw=0.3404, \n",
      "\n",
      "Epoch 176/200\n"
     ]
    },
    {
     "name": "stderr",
     "output_type": "stream",
     "text": [
      "                                                           \r"
     ]
    },
    {
     "name": "stdout",
     "output_type": "stream",
     "text": [
      "  Train Total Loss: 0.000276, Value Loss: 0.000276\n"
     ]
    },
    {
     "name": "stderr",
     "output_type": "stream",
     "text": [
      "                                                             \r"
     ]
    },
    {
     "name": "stdout",
     "output_type": "stream",
     "text": [
      "  Global Pearson Correlation: 0.9471\n",
      "  R² layer mean - uw: 0.9050\n",
      "  R² layer mean - vw: 0.8847\n",
      "  R² layer mean - tw: 0.8972\n",
      "  R² layer mean - qw: 0.6874\n",
      "  Saved R² plot to ./model_plots1\\uvtr2_layer_epoch176.png\n",
      "  Saved scatter plot to ./model_plots1\\uvtscatter_epoch176.png\n",
      "  Val Total Loss: 0.000969, Value Loss: 0.000969\n",
      "  Per-channel RMSE: uw=0.3349, vw=0.3710, tw=0.3442, \n",
      "\n",
      "Epoch 177/200\n"
     ]
    },
    {
     "name": "stderr",
     "output_type": "stream",
     "text": [
      "                                                           \r"
     ]
    },
    {
     "name": "stdout",
     "output_type": "stream",
     "text": [
      "  Train Total Loss: 0.000276, Value Loss: 0.000276\n"
     ]
    },
    {
     "name": "stderr",
     "output_type": "stream",
     "text": [
      "                                                             \r"
     ]
    },
    {
     "name": "stdout",
     "output_type": "stream",
     "text": [
      "  Global Pearson Correlation: 0.9475\n",
      "  R² layer mean - uw: 0.9068\n",
      "  R² layer mean - vw: 0.8853\n",
      "  R² layer mean - tw: 0.8996\n",
      "  R² layer mean - qw: 0.6862\n",
      "  Saved R² plot to ./model_plots1\\uvtr2_layer_epoch177.png\n",
      "  Saved scatter plot to ./model_plots1\\uvtscatter_epoch177.png\n",
      "  Val Total Loss: 0.000960, Value Loss: 0.000960\n",
      "  Per-channel RMSE: uw=0.3316, vw=0.3700, tw=0.3402, \n",
      "  Saved best model: F:\\model\\model_save\\best_epoch177_val0.000960.pth\n",
      "\n",
      "Epoch 178/200\n"
     ]
    },
    {
     "name": "stderr",
     "output_type": "stream",
     "text": [
      "                                                           \r"
     ]
    },
    {
     "name": "stdout",
     "output_type": "stream",
     "text": [
      "  Train Total Loss: 0.000273, Value Loss: 0.000273\n"
     ]
    },
    {
     "name": "stderr",
     "output_type": "stream",
     "text": [
      "                                                             \r"
     ]
    },
    {
     "name": "stdout",
     "output_type": "stream",
     "text": [
      "  Global Pearson Correlation: 0.9473\n",
      "  R² layer mean - uw: 0.9060\n",
      "  R² layer mean - vw: 0.8849\n",
      "  R² layer mean - tw: 0.8979\n",
      "  R² layer mean - qw: 0.6873\n",
      "  Saved R² plot to ./model_plots1\\uvtr2_layer_epoch178.png\n",
      "  Saved scatter plot to ./model_plots1\\uvtscatter_epoch178.png\n",
      "  Val Total Loss: 0.000966, Value Loss: 0.000966\n",
      "  Per-channel RMSE: uw=0.3330, vw=0.3707, tw=0.3431, \n",
      "\n",
      "Epoch 179/200\n"
     ]
    },
    {
     "name": "stderr",
     "output_type": "stream",
     "text": [
      "                                                           \r"
     ]
    },
    {
     "name": "stdout",
     "output_type": "stream",
     "text": [
      "  Train Total Loss: 0.000274, Value Loss: 0.000274\n"
     ]
    },
    {
     "name": "stderr",
     "output_type": "stream",
     "text": [
      "                                                             \r"
     ]
    },
    {
     "name": "stdout",
     "output_type": "stream",
     "text": [
      "  Global Pearson Correlation: 0.9474\n",
      "  R² layer mean - uw: 0.9063\n",
      "  R² layer mean - vw: 0.8854\n",
      "  R² layer mean - tw: 0.8991\n",
      "  R² layer mean - qw: 0.6860\n",
      "  Saved R² plot to ./model_plots1\\uvtr2_layer_epoch179.png\n",
      "  Saved scatter plot to ./model_plots1\\uvtscatter_epoch179.png\n",
      "  Val Total Loss: 0.000963, Value Loss: 0.000963\n",
      "  Per-channel RMSE: uw=0.3326, vw=0.3699, tw=0.3410, \n",
      "\n",
      "Epoch 180/200\n"
     ]
    },
    {
     "name": "stderr",
     "output_type": "stream",
     "text": [
      "                                                           \r"
     ]
    },
    {
     "name": "stdout",
     "output_type": "stream",
     "text": [
      "  Train Total Loss: 0.000275, Value Loss: 0.000275\n"
     ]
    },
    {
     "name": "stderr",
     "output_type": "stream",
     "text": [
      "                                                             \r"
     ]
    },
    {
     "name": "stdout",
     "output_type": "stream",
     "text": [
      "  Global Pearson Correlation: 0.9472\n",
      "  R² layer mean - uw: 0.9068\n",
      "  R² layer mean - vw: 0.8850\n",
      "  R² layer mean - tw: 0.8990\n",
      "  R² layer mean - qw: 0.6845\n",
      "  Saved R² plot to ./model_plots1\\uvtr2_layer_epoch180.png\n",
      "  Saved scatter plot to ./model_plots1\\uvtscatter_epoch180.png\n",
      "  Val Total Loss: 0.000963, Value Loss: 0.000963\n",
      "  Per-channel RMSE: uw=0.3315, vw=0.3705, tw=0.3412, \n",
      "\n",
      "Epoch 181/200\n"
     ]
    },
    {
     "name": "stderr",
     "output_type": "stream",
     "text": [
      "                                                           \r"
     ]
    },
    {
     "name": "stdout",
     "output_type": "stream",
     "text": [
      "  Train Total Loss: 0.000276, Value Loss: 0.000276\n"
     ]
    },
    {
     "name": "stderr",
     "output_type": "stream",
     "text": [
      "                                                             \r"
     ]
    },
    {
     "name": "stdout",
     "output_type": "stream",
     "text": [
      "  Global Pearson Correlation: 0.9467\n",
      "  R² layer mean - uw: 0.9022\n",
      "  R² layer mean - vw: 0.8839\n",
      "  R² layer mean - tw: 0.8940\n",
      "  R² layer mean - qw: 0.6884\n",
      "  Saved R² plot to ./model_plots1\\uvtr2_layer_epoch181.png\n",
      "  Saved scatter plot to ./model_plots1\\uvtscatter_epoch181.png\n",
      "  Val Total Loss: 0.000981, Value Loss: 0.000981\n",
      "  Per-channel RMSE: uw=0.3399, vw=0.3724, tw=0.3494, \n",
      "\n",
      "Epoch 182/200\n"
     ]
    },
    {
     "name": "stderr",
     "output_type": "stream",
     "text": [
      "                                                           \r"
     ]
    },
    {
     "name": "stdout",
     "output_type": "stream",
     "text": [
      "  Train Total Loss: 0.000274, Value Loss: 0.000274\n"
     ]
    },
    {
     "name": "stderr",
     "output_type": "stream",
     "text": [
      "                                                             \r"
     ]
    },
    {
     "name": "stdout",
     "output_type": "stream",
     "text": [
      "  Global Pearson Correlation: 0.9476\n",
      "  R² layer mean - uw: 0.9064\n",
      "  R² layer mean - vw: 0.8853\n",
      "  R² layer mean - tw: 0.8995\n",
      "  R² layer mean - qw: 0.6836\n",
      "  Saved R² plot to ./model_plots1\\uvtr2_layer_epoch182.png\n",
      "  Saved scatter plot to ./model_plots1\\uvtscatter_epoch182.png\n",
      "  Val Total Loss: 0.000961, Value Loss: 0.000961\n",
      "  Per-channel RMSE: uw=0.3323, vw=0.3701, tw=0.3403, \n",
      "\n",
      "Epoch 183/200\n"
     ]
    },
    {
     "name": "stderr",
     "output_type": "stream",
     "text": [
      "                                                           \r"
     ]
    },
    {
     "name": "stdout",
     "output_type": "stream",
     "text": [
      "  Train Total Loss: 0.000275, Value Loss: 0.000275\n"
     ]
    },
    {
     "name": "stderr",
     "output_type": "stream",
     "text": [
      "                                                             \r"
     ]
    },
    {
     "name": "stdout",
     "output_type": "stream",
     "text": [
      "  Global Pearson Correlation: 0.9471\n",
      "  R² layer mean - uw: 0.9045\n",
      "  R² layer mean - vw: 0.8839\n",
      "  R² layer mean - tw: 0.8968\n",
      "  R² layer mean - qw: 0.6889\n",
      "  Saved R² plot to ./model_plots1\\uvtr2_layer_epoch183.png\n",
      "  Saved scatter plot to ./model_plots1\\uvtscatter_epoch183.png\n",
      "  Val Total Loss: 0.000972, Value Loss: 0.000972\n",
      "  Per-channel RMSE: uw=0.3360, vw=0.3724, tw=0.3449, \n",
      "\n",
      "Epoch 184/200\n"
     ]
    },
    {
     "name": "stderr",
     "output_type": "stream",
     "text": [
      "                                                           \r"
     ]
    },
    {
     "name": "stdout",
     "output_type": "stream",
     "text": [
      "  Train Total Loss: 0.000273, Value Loss: 0.000273\n"
     ]
    },
    {
     "name": "stderr",
     "output_type": "stream",
     "text": [
      "                                                             \r"
     ]
    },
    {
     "name": "stdout",
     "output_type": "stream",
     "text": [
      "  Global Pearson Correlation: 0.9473\n",
      "  R² layer mean - uw: 0.9055\n",
      "  R² layer mean - vw: 0.8851\n",
      "  R² layer mean - tw: 0.8959\n",
      "  R² layer mean - qw: 0.6885\n",
      "  Saved R² plot to ./model_plots1\\uvtr2_layer_epoch184.png\n",
      "  Saved scatter plot to ./model_plots1\\uvtscatter_epoch184.png\n",
      "  Val Total Loss: 0.000968, Value Loss: 0.000968\n",
      "  Per-channel RMSE: uw=0.3340, vw=0.3704, tw=0.3465, \n",
      "\n",
      "Epoch 185/200\n"
     ]
    },
    {
     "name": "stderr",
     "output_type": "stream",
     "text": [
      "                                                           \r"
     ]
    },
    {
     "name": "stdout",
     "output_type": "stream",
     "text": [
      "  Train Total Loss: 0.000269, Value Loss: 0.000269\n"
     ]
    },
    {
     "name": "stderr",
     "output_type": "stream",
     "text": [
      "                                                             \r"
     ]
    },
    {
     "name": "stdout",
     "output_type": "stream",
     "text": [
      "  Global Pearson Correlation: 0.9476\n",
      "  R² layer mean - uw: 0.9072\n",
      "  R² layer mean - vw: 0.8853\n",
      "  R² layer mean - tw: 0.8997\n",
      "  R² layer mean - qw: 0.6829\n",
      "  Saved R² plot to ./model_plots1\\uvtr2_layer_epoch185.png\n",
      "  Saved scatter plot to ./model_plots1\\uvtscatter_epoch185.png\n",
      "  Val Total Loss: 0.000958, Value Loss: 0.000958\n",
      "  Per-channel RMSE: uw=0.3308, vw=0.3700, tw=0.3400, \n",
      "  Saved best model: F:\\model\\model_save\\best_epoch185_val0.000958.pth\n",
      "\n",
      "Epoch 186/200\n"
     ]
    },
    {
     "name": "stderr",
     "output_type": "stream",
     "text": [
      "                                                           \r"
     ]
    },
    {
     "name": "stdout",
     "output_type": "stream",
     "text": [
      "  Train Total Loss: 0.000270, Value Loss: 0.000270\n"
     ]
    },
    {
     "name": "stderr",
     "output_type": "stream",
     "text": [
      "                                                             \r"
     ]
    },
    {
     "name": "stdout",
     "output_type": "stream",
     "text": [
      "  Global Pearson Correlation: 0.9475\n",
      "  R² layer mean - uw: 0.9066\n",
      "  R² layer mean - vw: 0.8856\n",
      "  R² layer mean - tw: 0.8992\n",
      "  R² layer mean - qw: 0.6848\n",
      "  Saved R² plot to ./model_plots1\\uvtr2_layer_epoch186.png\n",
      "  Saved scatter plot to ./model_plots1\\uvtscatter_epoch186.png\n",
      "  Val Total Loss: 0.000960, Value Loss: 0.000960\n",
      "  Per-channel RMSE: uw=0.3319, vw=0.3696, tw=0.3408, \n",
      "\n",
      "Epoch 187/200\n"
     ]
    },
    {
     "name": "stderr",
     "output_type": "stream",
     "text": [
      "                                                           \r"
     ]
    },
    {
     "name": "stdout",
     "output_type": "stream",
     "text": [
      "  Train Total Loss: 0.000269, Value Loss: 0.000269\n"
     ]
    },
    {
     "name": "stderr",
     "output_type": "stream",
     "text": [
      "                                                             \r"
     ]
    },
    {
     "name": "stdout",
     "output_type": "stream",
     "text": [
      "  Global Pearson Correlation: 0.9474\n",
      "  R² layer mean - uw: 0.9064\n",
      "  R² layer mean - vw: 0.8851\n",
      "  R² layer mean - tw: 0.8998\n",
      "  R² layer mean - qw: 0.6821\n",
      "  Saved R² plot to ./model_plots1\\uvtr2_layer_epoch187.png\n",
      "  Saved scatter plot to ./model_plots1\\uvtscatter_epoch187.png\n",
      "  Val Total Loss: 0.000963, Value Loss: 0.000963\n",
      "  Per-channel RMSE: uw=0.3324, vw=0.3704, tw=0.3399, \n",
      "\n",
      "Epoch 188/200\n"
     ]
    },
    {
     "name": "stderr",
     "output_type": "stream",
     "text": [
      "                                                           \r"
     ]
    },
    {
     "name": "stdout",
     "output_type": "stream",
     "text": [
      "  Train Total Loss: 0.000268, Value Loss: 0.000268\n"
     ]
    },
    {
     "name": "stderr",
     "output_type": "stream",
     "text": [
      "                                                             \r"
     ]
    },
    {
     "name": "stdout",
     "output_type": "stream",
     "text": [
      "  Global Pearson Correlation: 0.9473\n",
      "  R² layer mean - uw: 0.9054\n",
      "  R² layer mean - vw: 0.8852\n",
      "  R² layer mean - tw: 0.8989\n",
      "  R² layer mean - qw: 0.6864\n",
      "  Saved R² plot to ./model_plots1\\uvtr2_layer_epoch188.png\n",
      "  Saved scatter plot to ./model_plots1\\uvtscatter_epoch188.png\n",
      "  Val Total Loss: 0.000963, Value Loss: 0.000963\n",
      "  Per-channel RMSE: uw=0.3341, vw=0.3701, tw=0.3414, \n",
      "\n",
      "Epoch 189/200\n"
     ]
    },
    {
     "name": "stderr",
     "output_type": "stream",
     "text": [
      "                                                           \r"
     ]
    },
    {
     "name": "stdout",
     "output_type": "stream",
     "text": [
      "  Train Total Loss: 0.000270, Value Loss: 0.000270\n"
     ]
    },
    {
     "name": "stderr",
     "output_type": "stream",
     "text": [
      "                                                             \r"
     ]
    },
    {
     "name": "stdout",
     "output_type": "stream",
     "text": [
      "  Global Pearson Correlation: 0.9473\n",
      "  R² layer mean - uw: 0.9067\n",
      "  R² layer mean - vw: 0.8847\n",
      "  R² layer mean - tw: 0.8985\n",
      "  R² layer mean - qw: 0.6832\n",
      "  Saved R² plot to ./model_plots1\\uvtr2_layer_epoch189.png\n",
      "  Saved scatter plot to ./model_plots1\\uvtscatter_epoch189.png\n",
      "  Val Total Loss: 0.000965, Value Loss: 0.000965\n",
      "  Per-channel RMSE: uw=0.3318, vw=0.3710, tw=0.3421, \n",
      "\n",
      "Epoch 190/200\n"
     ]
    },
    {
     "name": "stderr",
     "output_type": "stream",
     "text": [
      "                                                           \r"
     ]
    },
    {
     "name": "stdout",
     "output_type": "stream",
     "text": [
      "  Train Total Loss: 0.000267, Value Loss: 0.000267\n"
     ]
    },
    {
     "name": "stderr",
     "output_type": "stream",
     "text": [
      "                                                             \r"
     ]
    },
    {
     "name": "stdout",
     "output_type": "stream",
     "text": [
      "  Global Pearson Correlation: 0.9474\n",
      "  R² layer mean - uw: 0.9037\n",
      "  R² layer mean - vw: 0.8850\n",
      "  R² layer mean - tw: 0.8986\n",
      "  R² layer mean - qw: 0.6879\n",
      "  Saved R² plot to ./model_plots1\\uvtr2_layer_epoch190.png\n",
      "  Saved scatter plot to ./model_plots1\\uvtscatter_epoch190.png\n",
      "  Val Total Loss: 0.000966, Value Loss: 0.000966\n",
      "  Per-channel RMSE: uw=0.3372, vw=0.3706, tw=0.3418, \n",
      "\n",
      "Epoch 191/200\n"
     ]
    },
    {
     "name": "stderr",
     "output_type": "stream",
     "text": [
      "                                                           \r"
     ]
    },
    {
     "name": "stdout",
     "output_type": "stream",
     "text": [
      "  Train Total Loss: 0.000268, Value Loss: 0.000268\n"
     ]
    },
    {
     "name": "stderr",
     "output_type": "stream",
     "text": [
      "                                                             \r"
     ]
    },
    {
     "name": "stdout",
     "output_type": "stream",
     "text": [
      "  Global Pearson Correlation: 0.9474\n",
      "  R² layer mean - uw: 0.9068\n",
      "  R² layer mean - vw: 0.8851\n",
      "  R² layer mean - tw: 0.8996\n",
      "  R² layer mean - qw: 0.6834\n",
      "  Saved R² plot to ./model_plots1\\uvtr2_layer_epoch191.png\n",
      "  Saved scatter plot to ./model_plots1\\uvtscatter_epoch191.png\n",
      "  Val Total Loss: 0.000962, Value Loss: 0.000962\n",
      "  Per-channel RMSE: uw=0.3317, vw=0.3703, tw=0.3402, \n",
      "\n",
      "Epoch 192/200\n"
     ]
    },
    {
     "name": "stderr",
     "output_type": "stream",
     "text": [
      "                                                           \r"
     ]
    },
    {
     "name": "stdout",
     "output_type": "stream",
     "text": [
      "  Train Total Loss: 0.000267, Value Loss: 0.000267\n"
     ]
    },
    {
     "name": "stderr",
     "output_type": "stream",
     "text": [
      "                                                             \r"
     ]
    },
    {
     "name": "stdout",
     "output_type": "stream",
     "text": [
      "  Global Pearson Correlation: 0.9476\n",
      "  R² layer mean - uw: 0.9070\n",
      "  R² layer mean - vw: 0.8859\n",
      "  R² layer mean - tw: 0.8992\n",
      "  R² layer mean - qw: 0.6832\n",
      "  Saved R² plot to ./model_plots1\\uvtr2_layer_epoch192.png\n",
      "  Saved scatter plot to ./model_plots1\\uvtscatter_epoch192.png\n",
      "  Val Total Loss: 0.000959, Value Loss: 0.000959\n",
      "  Per-channel RMSE: uw=0.3312, vw=0.3690, tw=0.3409, \n",
      "\n",
      "Epoch 193/200\n"
     ]
    },
    {
     "name": "stderr",
     "output_type": "stream",
     "text": [
      "                                                           \r"
     ]
    },
    {
     "name": "stdout",
     "output_type": "stream",
     "text": [
      "  Train Total Loss: 0.000266, Value Loss: 0.000266\n"
     ]
    },
    {
     "name": "stderr",
     "output_type": "stream",
     "text": [
      "                                                             \r"
     ]
    },
    {
     "name": "stdout",
     "output_type": "stream",
     "text": [
      "  Global Pearson Correlation: 0.9476\n",
      "  R² layer mean - uw: 0.9072\n",
      "  R² layer mean - vw: 0.8854\n",
      "  R² layer mean - tw: 0.8998\n",
      "  R² layer mean - qw: 0.6860\n",
      "  Saved R² plot to ./model_plots1\\uvtr2_layer_epoch193.png\n",
      "  Saved scatter plot to ./model_plots1\\uvtscatter_epoch193.png\n",
      "  Val Total Loss: 0.000958, Value Loss: 0.000958\n",
      "  Per-channel RMSE: uw=0.3309, vw=0.3698, tw=0.3399, \n",
      "\n",
      "Epoch 194/200\n"
     ]
    },
    {
     "name": "stderr",
     "output_type": "stream",
     "text": [
      "                                                           \r"
     ]
    },
    {
     "name": "stdout",
     "output_type": "stream",
     "text": [
      "  Train Total Loss: 0.000266, Value Loss: 0.000266\n"
     ]
    },
    {
     "name": "stderr",
     "output_type": "stream",
     "text": [
      "                                                             \r"
     ]
    },
    {
     "name": "stdout",
     "output_type": "stream",
     "text": [
      "  Global Pearson Correlation: 0.9477\n",
      "  R² layer mean - uw: 0.9067\n",
      "  R² layer mean - vw: 0.8854\n",
      "  R² layer mean - tw: 0.9001\n",
      "  R² layer mean - qw: 0.6831\n",
      "  Saved R² plot to ./model_plots1\\uvtr2_layer_epoch194.png\n",
      "  Saved scatter plot to ./model_plots1\\uvtscatter_epoch194.png\n",
      "  Val Total Loss: 0.000957, Value Loss: 0.000957\n",
      "  Per-channel RMSE: uw=0.3318, vw=0.3698, tw=0.3394, \n",
      "  Saved best model: F:\\model\\model_save\\best_epoch194_val0.000957.pth\n",
      "\n",
      "Epoch 195/200\n"
     ]
    },
    {
     "name": "stderr",
     "output_type": "stream",
     "text": [
      "                                                           \r"
     ]
    },
    {
     "name": "stdout",
     "output_type": "stream",
     "text": [
      "  Train Total Loss: 0.000267, Value Loss: 0.000267\n"
     ]
    },
    {
     "name": "stderr",
     "output_type": "stream",
     "text": [
      "                                                             \r"
     ]
    },
    {
     "name": "stdout",
     "output_type": "stream",
     "text": [
      "  Global Pearson Correlation: 0.9476\n",
      "  R² layer mean - uw: 0.9070\n",
      "  R² layer mean - vw: 0.8855\n",
      "  R² layer mean - tw: 0.8999\n",
      "  R² layer mean - qw: 0.6818\n",
      "  Saved R² plot to ./model_plots1\\uvtr2_layer_epoch195.png\n",
      "  Saved scatter plot to ./model_plots1\\uvtscatter_epoch195.png\n",
      "  Val Total Loss: 0.000959, Value Loss: 0.000959\n",
      "  Per-channel RMSE: uw=0.3312, vw=0.3697, tw=0.3397, \n",
      "\n",
      "Epoch 196/200\n"
     ]
    },
    {
     "name": "stderr",
     "output_type": "stream",
     "text": [
      "                                                           \r"
     ]
    },
    {
     "name": "stdout",
     "output_type": "stream",
     "text": [
      "  Train Total Loss: 0.000270, Value Loss: 0.000270\n"
     ]
    },
    {
     "name": "stderr",
     "output_type": "stream",
     "text": [
      "                                                             \r"
     ]
    },
    {
     "name": "stdout",
     "output_type": "stream",
     "text": [
      "  Global Pearson Correlation: 0.9476\n",
      "  R² layer mean - uw: 0.9064\n",
      "  R² layer mean - vw: 0.8857\n",
      "  R² layer mean - tw: 0.8988\n",
      "  R² layer mean - qw: 0.6877\n",
      "  Saved R² plot to ./model_plots1\\uvtr2_layer_epoch196.png\n",
      "  Saved scatter plot to ./model_plots1\\uvtscatter_epoch196.png\n",
      "  Val Total Loss: 0.000959, Value Loss: 0.000959\n",
      "  Per-channel RMSE: uw=0.3323, vw=0.3693, tw=0.3415, \n",
      "\n",
      "Epoch 197/200\n"
     ]
    },
    {
     "name": "stderr",
     "output_type": "stream",
     "text": [
      "                                                           \r"
     ]
    },
    {
     "name": "stdout",
     "output_type": "stream",
     "text": [
      "  Train Total Loss: 0.000269, Value Loss: 0.000269\n"
     ]
    },
    {
     "name": "stderr",
     "output_type": "stream",
     "text": [
      "                                                             \r"
     ]
    },
    {
     "name": "stdout",
     "output_type": "stream",
     "text": [
      "  Global Pearson Correlation: 0.9475\n",
      "  R² layer mean - uw: 0.9069\n",
      "  R² layer mean - vw: 0.8855\n",
      "  R² layer mean - tw: 0.8997\n",
      "  R² layer mean - qw: 0.6823\n",
      "  Saved R² plot to ./model_plots1\\uvtr2_layer_epoch197.png\n",
      "  Saved scatter plot to ./model_plots1\\uvtscatter_epoch197.png\n",
      "  Val Total Loss: 0.000959, Value Loss: 0.000959\n",
      "  Per-channel RMSE: uw=0.3315, vw=0.3696, tw=0.3401, \n",
      "\n",
      "Epoch 198/200\n"
     ]
    },
    {
     "name": "stderr",
     "output_type": "stream",
     "text": [
      "                                                           \r"
     ]
    },
    {
     "name": "stdout",
     "output_type": "stream",
     "text": [
      "  Train Total Loss: 0.000265, Value Loss: 0.000265\n"
     ]
    },
    {
     "name": "stderr",
     "output_type": "stream",
     "text": [
      "                                                             \r"
     ]
    },
    {
     "name": "stdout",
     "output_type": "stream",
     "text": [
      "  Global Pearson Correlation: 0.9474\n",
      "  R² layer mean - uw: 0.9066\n",
      "  R² layer mean - vw: 0.8852\n",
      "  R² layer mean - tw: 0.8995\n",
      "  R² layer mean - qw: 0.6873\n",
      "  Saved R² plot to ./model_plots1\\uvtr2_layer_epoch198.png\n",
      "  Saved scatter plot to ./model_plots1\\uvtscatter_epoch198.png\n",
      "  Val Total Loss: 0.000961, Value Loss: 0.000961\n",
      "  Per-channel RMSE: uw=0.3321, vw=0.3701, tw=0.3404, \n",
      "\n",
      "Epoch 199/200\n"
     ]
    },
    {
     "name": "stderr",
     "output_type": "stream",
     "text": [
      "                                                           \r"
     ]
    },
    {
     "name": "stdout",
     "output_type": "stream",
     "text": [
      "  Train Total Loss: 0.000265, Value Loss: 0.000265\n"
     ]
    },
    {
     "name": "stderr",
     "output_type": "stream",
     "text": [
      "                                                             \r"
     ]
    },
    {
     "name": "stdout",
     "output_type": "stream",
     "text": [
      "  Global Pearson Correlation: 0.9476\n",
      "  R² layer mean - uw: 0.9066\n",
      "  R² layer mean - vw: 0.8850\n",
      "  R² layer mean - tw: 0.8986\n",
      "  R² layer mean - qw: 0.6857\n",
      "  Saved R² plot to ./model_plots1\\uvtr2_layer_epoch199.png\n",
      "  Saved scatter plot to ./model_plots1\\uvtscatter_epoch199.png\n",
      "  Val Total Loss: 0.000961, Value Loss: 0.000961\n",
      "  Per-channel RMSE: uw=0.3320, vw=0.3705, tw=0.3418, \n",
      "\n",
      "Epoch 200/200\n"
     ]
    },
    {
     "name": "stderr",
     "output_type": "stream",
     "text": [
      "                                                           \r"
     ]
    },
    {
     "name": "stdout",
     "output_type": "stream",
     "text": [
      "  Train Total Loss: 0.000263, Value Loss: 0.000263\n"
     ]
    },
    {
     "name": "stderr",
     "output_type": "stream",
     "text": [
      "                                                             \r"
     ]
    },
    {
     "name": "stdout",
     "output_type": "stream",
     "text": [
      "  Global Pearson Correlation: 0.9475\n",
      "  R² layer mean - uw: 0.9065\n",
      "  R² layer mean - vw: 0.8855\n",
      "  R² layer mean - tw: 0.8991\n",
      "  R² layer mean - qw: 0.6842\n",
      "  Saved R² plot to ./model_plots1\\uvtr2_layer_epoch200.png\n",
      "  Saved scatter plot to ./model_plots1\\uvtscatter_epoch200.png\n",
      "  Val Total Loss: 0.000960, Value Loss: 0.000960\n",
      "  Per-channel RMSE: uw=0.3321, vw=0.3696, tw=0.3411, \n",
      "\n",
      "===== Final Evaluation on Test Set =====\n"
     ]
    },
    {
     "name": "stderr",
     "output_type": "stream",
     "text": [
      "Test Inference: 100%|██████████| 118/118 [00:11<00:00, 10.30it/s]"
     ]
    },
    {
     "name": "stdout",
     "output_type": "stream",
     "text": [
      "\n",
      "Training complete. Final model saved to:\n",
      "  F:\\model\\model_save\\unet1d_40km_0807-gather.pth\n"
     ]
    },
    {
     "name": "stderr",
     "output_type": "stream",
     "text": [
      "\n"
     ]
    }
   ],
   "source": [
    "# 相比于上面的代码，增加了训练数据量，把q和qw仅仅取了[:20],输入内容显示在了log里面，散点图显示范围缩小\n",
    "# ---------------------------------------------------------------------------- #\n",
    "# 配置与参数\n",
    "# ---------------------------------------------------------------------------- #\n",
    "INPUT_FOLDERS = {\n",
    "    'u': r'C:/gather/mean_u',\n",
    "    'v': r'C:/gather/mean_v',\n",
    "    't': r'C:/gather/mean_t',\n",
    "    'q': r'C:/gather/mean_q',\n",
    "    'wz': r'C:/gather/mean_wz',\n",
    "}\n",
    "TARGET_FOLDERS = {\n",
    "    'uw': r'C:/gather/uw',\n",
    "    'vw': r'C:/gather/vw',\n",
    "    'tw': r'C:/gather/tw',\n",
    "    'qw': r'C:/gather/qw'\n",
    "}\n",
    "TERRAIN_PATH = r'F:/data/terrain/zs.npy'\n",
    "STD_PATH = r'F:/data/terrain/std.npy'\n",
    "TARGET_STATS_PATH = \"./json/target_stats_40km-2.json\"\n",
    "INPUT_STATS_PATH = \"./json/input_stats_40km-2.json\"\n",
    "IN_CHANNELS = 7\n",
    "OUT_CHANNELS = 4\n",
    "DEPTH = 64 \n",
    "HEIGHT, WIDTH = 20, 20\n",
    "BASE_CHANNELS = 128\n",
    "BATCH_SIZE = 128\n",
    "NUM_WORKERS = 0\n",
    "LR = 1e-4\n",
    "NUM_EPOCHS = 200\n",
    "TRAIN_VAL_SPLIT = 0.8\n",
    "MAX_SAMPLES = 100000\n",
    "DEVICE = torch.device('cuda' if torch.cuda.is_available() else 'cpu')\n",
    "CHECKPOINT_DIR = Path(r'F:/model/model_save')\n",
    "CHECKPOINT_DIR.mkdir(parents=True, exist_ok=True)\n",
    "\n",
    "PATIENCE_ES = 20\n",
    "DZ = 0.1\n",
    "LAMBDA_GRAD = 0.1\n",
    "CHANNELS = ['uw', 'vw', 'tw', 'qw']\n",
    "# ---------------------------------------------------------------------------- #\n",
    "# 2) 统计函数：计算目标字段全局均值与标准差\n",
    "# ---------------------------------------------------------------------------- #\n",
    "def compute_target_stats_layerwise(keys, target_folders, depth=64):\n",
    "    \"\"\"\n",
    "    每个目标变量按高度层计算均值和标准差。\n",
    "    返回 dict: means[var] 和 stds[var] 为 shape=(depth,) 的列表\n",
    "    \"\"\"\n",
    "    means = {}\n",
    "    stds = {}\n",
    "    for tgt, folder in target_folders.items():\n",
    "        folder = Path(folder)\n",
    "        sum_layer = np.zeros(depth)\n",
    "        sumsq_layer = np.zeros(depth)\n",
    "        count_layer = 0\n",
    "        for key in tqdm(keys, desc=f\"Target stats (layerwise) - {tgt}\"):\n",
    "            arr3d = np.load(folder / f\"{key}.npy\", mmap_mode='r')[:, :, :depth]\n",
    "            flat = arr3d.reshape(-1, depth)\n",
    "            sum_layer += flat.sum(axis=0)\n",
    "            sumsq_layer += (flat ** 2).sum(axis=0)\n",
    "            count_layer += flat.shape[0]\n",
    "        μ = sum_layer / count_layer\n",
    "        σ = np.sqrt(sumsq_layer / count_layer - μ ** 2)\n",
    "        stds[tgt] = np.where(σ < 1e-3, 1e-3, σ).astype(np.float32).tolist()\n",
    "        means[tgt] = μ.astype(np.float32).tolist()\n",
    "    return means, stds\n",
    "\n",
    "\n",
    "# ---------------------------------------------------------------------------- #\n",
    "# 统计函数：计算输入字段的全局均值与标准差（按高度分层）\n",
    "# ---------------------------------------------------------------------------- #\n",
    "def compute_input_stats(keys, input_folders, depth=DEPTH):\n",
    "    \"\"\"\n",
    "    计算训练集 input 各变量、各高度层的均值与 std，用于标准化。\n",
    "    返回 dict: means[var]: shape(depth,), stds[var]: shape(depth,)\n",
    "    \"\"\"\n",
    "    sums = {var: np.zeros(depth, dtype=np.float64) for var in input_folders}\n",
    "    sumsqs = {var: np.zeros(depth, dtype=np.float64) for var in input_folders}\n",
    "    counts = {var: 0 for var in input_folders}\n",
    "    for var, folder in input_folders.items():\n",
    "        folder = Path(folder)\n",
    "        for key in tqdm(keys, desc=f\"Input stats {var}\"):\n",
    "            arr3d = np.load(folder / f\"{key}.npy\", mmap_mode='r').astype(np.float32)  # (H,W,51)\n",
    "            arr = arr3d[:, :, :depth]  # (100,100,depth)\n",
    "            arr_flat = arr.reshape(-1, depth)  # (100*100, depth)\n",
    "            sums[var] += arr_flat.sum(axis=0)\n",
    "            sumsqs[var] += (arr_flat**2).sum(axis=0)\n",
    "            counts[var] += arr_flat.shape[0]\n",
    "    means = {}\n",
    "    stds = {}\n",
    "    for var in input_folders:\n",
    "        μ = sums[var] / counts[var]  # shape (depth,)\n",
    "        σ = np.sqrt(sumsqs[var] / counts[var] - μ**2)\n",
    "        σ = np.where(σ < 1e-3, 1e-3, σ)\n",
    "        means[var] = μ.astype(np.float32).tolist()\n",
    "        stds[var] = σ.astype(np.float32).tolist()\n",
    "    return means, stds\n",
    "\n",
    "# ---------------------------------------------------------------------------- #\n",
    "# 3) Dataset 定义：加载 memmap，加上全局归一化\n",
    "# ---------------------------------------------------------------------------- #\n",
    "class VerticalProfileDataset(Dataset):\n",
    "    def __init__(self, keys, input_folders, target_folders,\n",
    "                 terrain_path, std_path,\n",
    "                 input_means, input_stds,\n",
    "                 target_means, target_stds,\n",
    "                 max_samples=100000):\n",
    "        \"\"\"\n",
    "        input_means/stds: dict var -> list of length DEPTH\n",
    "        target_means/stds: dict tgt -> float\n",
    "        \"\"\"\n",
    "        self.keys = keys\n",
    "        self.in_folders = {k: Path(v) for k, v in input_folders.items()}\n",
    "        self.tg_folders = {k: Path(v) for k, v in target_folders.items()}\n",
    "\n",
    "        # 预加载 memmap：input 和 target\n",
    "        self.input_data = {var: {} for var in input_folders}\n",
    "        self.target_data = {tgt: {} for tgt in target_folders}\n",
    "        for var in input_folders:\n",
    "            folder = self.in_folders[var]\n",
    "            for key in keys:\n",
    "                path = folder / f\"{key}.npy\"\n",
    "                try:\n",
    "                    arr = np.load(path, mmap_mode='r').astype(np.float32)\n",
    "                except Exception as e:\n",
    "                    raise RuntimeError(f\"Load input npy failed: {path}\") from e\n",
    "                self.input_data[var][key] = arr  # shape (H,W,51)\n",
    "        for tgt in target_folders:\n",
    "            folder = self.tg_folders[tgt]\n",
    "            for key in keys:\n",
    "                path = folder / f\"{key}.npy\"\n",
    "                try:\n",
    "                    arr = np.load(path, mmap_mode='r').astype(np.float32)\n",
    "                except Exception as e:\n",
    "                    raise RuntimeError(f\"Load target npy failed: {path}\") from e\n",
    "                self.target_data[tgt][key] = arr  # shape (H,W,51)\n",
    "\n",
    "        # 载入地形与地形std，并做全局归一化\n",
    "        terrain = np.load(terrain_path).astype(np.float32)  # (H,W)\n",
    "        terrain_std = np.load(std_path).astype(np.float32)  # (H,W)\n",
    "        t_mean = float(np.mean(terrain))\n",
    "        t_std = float(np.std(terrain)); t_std = max(t_std, 1e-3)\n",
    "        ts_mean = float(np.mean(terrain_std))\n",
    "        ts_std = float(np.std(terrain_std)); ts_std = max(ts_std, 1e-3)\n",
    "        self.terrain = (terrain - t_mean) / t_std\n",
    "        self.terrain_std = (terrain_std - ts_mean) / ts_std\n",
    "\n",
    "        # 保存 input/target 归一化参数\n",
    "        self.input_means = {var: np.array(input_means[var], dtype=np.float32) for var in input_means}\n",
    "        self.input_stds = {var: np.array(input_stds[var], dtype=np.float32) for var in input_stds}\n",
    "        self.target_means = {var: np.array(target_means[var], dtype=np.float32) for var in target_means}\n",
    "        self.target_stds = {var: np.array(target_stds[var], dtype=np.float32) for var in target_stds}\n",
    "\n",
    "        # self.target_means = target_means\n",
    "        # self.target_stds = target_stds\n",
    "\n",
    "        # 生成所有可能的位置索引 (key, i, j)\n",
    "        self.locations = []\n",
    "        for key in keys:\n",
    "            for i in range(HEIGHT):\n",
    "                for j in range(WIDTH):\n",
    "                    self.locations.append((key, i, j))\n",
    "        random.shuffle(self.locations)\n",
    "        self.locations = self.locations[:max_samples]\n",
    "        print(f\"Created dataset with {len(self.locations)} vertical profiles\")\n",
    "        log_print(f\"Created dataset with {len(self.locations)} vertical profiles\")\n",
    "    def __len__(self):\n",
    "        return len(self.locations)\n",
    "\n",
    "    def __getitem__(self, idx):\n",
    "        key, i, j = self.locations[idx]\n",
    "\n",
    "        # 加载输入变量 (u, v, t, q, wz)，并按全局分层归一化\n",
    "        input_arrays = []\n",
    "        for var in ['u', 'v', 't', 'q', 'wz']:\n",
    "            arr3d = self.input_data[var][key]\n",
    "            arr = arr3d[i, j, :DEPTH].astype(np.float32)\n",
    "            mean = self.input_means[var]\n",
    "            std = self.input_stds[var]\n",
    "            arr_norm = (arr - mean) / std\n",
    "            if var == 'q':\n",
    "                arr_norm[20:] = 0.0\n",
    "            input_arrays.append(arr_norm)\n",
    "\n",
    "        # 添加地形和地形标准差\n",
    "        terrain_val = float(self.terrain[i, j])\n",
    "        std_val = float(self.terrain_std[i, j])\n",
    "        input_arrays.append(np.full(DEPTH, terrain_val, dtype=np.float32))\n",
    "        input_arrays.append(np.full(DEPTH, std_val, dtype=np.float32))\n",
    "\n",
    "        x = torch.tensor(np.stack(input_arrays, axis=0), dtype=torch.float32)\n",
    "\n",
    "        # 加载目标变量并归一化\n",
    "        target_arrays = []\n",
    "        for tgt in CHANNELS:\n",
    "            arr3d = self.target_data[tgt][key]\n",
    "            arr = arr3d[i, j, :DEPTH].astype(np.float32)\n",
    "            μ = np.array(self.target_means[tgt], dtype=np.float32)  # shape (64,)\n",
    "            σ = np.array(self.target_stds[tgt], dtype=np.float32)\n",
    "            arr_norm = (arr - μ) / σ\n",
    "            if tgt == 'qw':\n",
    "                arr_norm[20:] = 0.0\n",
    "            target_arrays.append(arr_norm)\n",
    "        y = torch.tensor(np.stack(target_arrays, axis=0), dtype=torch.float32)\n",
    "        return x, y\n",
    "\n",
    "# ---------------------------------------------------------------------------- #\n",
    "# 4) 1D U-Net 模块\n",
    "# ---------------------------------------------------------------------------- #\n",
    "class DoubleConv1D(nn.Module):\n",
    "    def __init__(self, in_ch, out_ch):\n",
    "        super().__init__()\n",
    "        self.double_conv = nn.Sequential(\n",
    "            nn.Conv1d(in_ch, out_ch, 3, padding=1, bias=False),\n",
    "            nn.BatchNorm1d(out_ch),\n",
    "            nn.ReLU(inplace=True),\n",
    "            nn.Conv1d(out_ch, out_ch, 3, padding=1, bias=False),\n",
    "            nn.BatchNorm1d(out_ch),\n",
    "            nn.ReLU(inplace=True),\n",
    "        )\n",
    "\n",
    "    def forward(self, x):\n",
    "        return self.double_conv(x)\n",
    "\n",
    "class Down1D(nn.Module):\n",
    "    def __init__(self, in_ch, out_ch):\n",
    "        super().__init__()\n",
    "        self.seq = nn.Sequential(\n",
    "            nn.MaxPool1d(2),\n",
    "            DoubleConv1D(in_ch, out_ch)\n",
    "        )\n",
    "\n",
    "    def forward(self, x):\n",
    "        return self.seq(x)\n",
    "\n",
    "class Up1D(nn.Module):\n",
    "    def __init__(self, in_ch, out_ch):\n",
    "        super().__init__()\n",
    "        self.up = nn.ConvTranspose1d(in_ch, out_ch, kernel_size=2, stride=2)\n",
    "        self.conv = DoubleConv1D(out_ch * 2, out_ch)\n",
    "\n",
    "    def forward(self, x1, x2):\n",
    "        x1 = self.up(x1)\n",
    "        diff = x2.size(2) - x1.size(2)\n",
    "        if diff > 0:\n",
    "            pad_left = diff // 2\n",
    "            pad_right = diff - pad_left\n",
    "            x1 = nn.functional.pad(x1, [pad_left, pad_right])\n",
    "        elif diff < 0:\n",
    "            crop = -diff\n",
    "            crop_left = crop // 2\n",
    "            crop_right = crop - crop_left\n",
    "            x1 = x1[:, :, crop_left: x1.size(2)-crop_right]\n",
    "        x = torch.cat([x2, x1], dim=1)\n",
    "        return self.conv(x)\n",
    "\n",
    "class OutConv1D(nn.Module):\n",
    "    def __init__(self, in_ch, out_ch):\n",
    "        super().__init__()\n",
    "        self.conv = nn.Conv1d(in_ch, out_ch, 1)\n",
    "\n",
    "    def forward(self, x):\n",
    "        return self.conv(x)\n",
    "\n",
    "class UNet1D(nn.Module):\n",
    "    def __init__(self, in_c, out_c, base=64):\n",
    "        super().__init__()\n",
    "        self.inc = DoubleConv1D(in_c, base)\n",
    "        self.down1 = Down1D(base, base * 2)\n",
    "        self.down2 = Down1D(base * 2, base * 4)\n",
    "        self.down3 = Down1D(base * 4, base * 8)\n",
    "\n",
    "        self.bottleneck = DoubleConv1D(base * 8, base * 16)\n",
    "\n",
    "        self.up3 = Up1D(base * 16, base * 8)\n",
    "        self.up2 = Up1D(base * 8, base * 4)\n",
    "        self.up1 = Up1D(base * 4, base * 2)\n",
    "        self.up0 = Up1D(base * 2, base)\n",
    "\n",
    "        self.outc = OutConv1D(base, out_c)\n",
    "\n",
    "    def forward(self, x):\n",
    "        x1 = self.inc(x)\n",
    "        x2 = self.down1(x1)\n",
    "        x3 = self.down2(x2)\n",
    "        x4 = self.down3(x3)\n",
    "        x5 = self.bottleneck(x4)\n",
    "        x = self.up3(x5, x4)\n",
    "        x = self.up2(x, x3)\n",
    "        x = self.up1(x, x2)\n",
    "        x = self.up0(x, x1)\n",
    "        return self.outc(x)\n",
    "\n",
    "# ---------------------------------------------------------------------------- #\n",
    "# 5) 损失函数：加权MSE + 梯度损失\n",
    "# ---------------------------------------------------------------------------- #\n",
    "def compute_rmse_per_channel(pred, target):\n",
    "    \"\"\"\n",
    "    pred, target: torch.Tensor, shape (B, C, L)\n",
    "    返回 numpy array, shape (C,), per-channel RMSE averaged over batch和长度\n",
    "    \"\"\"\n",
    "    with torch.no_grad():\n",
    "        diff2 = (pred - target).cpu().numpy() ** 2\n",
    "    sum_sq = diff2.sum(axis=(0, 2))\n",
    "    B, C, L = diff2.shape\n",
    "    rmse = np.sqrt(sum_sq / (B * L))\n",
    "    return rmse\n",
    "\n",
    "def weighted_huber_loss(pred, target, weight, delta=1.0):\n",
    "    \"\"\"\n",
    "    pred, target: shape (B, C, L)\n",
    "    weight: shape (C,)\n",
    "    delta: float, Huber loss 的阈值参数\n",
    "    \"\"\"\n",
    "    abs_diff = torch.abs(pred - target)\n",
    "    quadratic = torch.minimum(abs_diff, torch.tensor(delta, device=pred.device))\n",
    "    linear = abs_diff - quadratic\n",
    "    loss = 0.5 * quadratic ** 2 + delta * linear\n",
    "    loss = loss * weight.view(1, -1, 1)\n",
    "    # 对qw通道，只计算前20层损失\n",
    "    qw_idx = CHANNELS.index('qw')\n",
    "    loss[:, qw_idx, 20:] = 0.0\n",
    "    return loss.mean()\n",
    "\n",
    "# ---------------------------------------------------------------------------- #\n",
    "# 6) 训练与验证函数\n",
    "# ---------------------------------------------------------------------------- #\n",
    "def train_one_epoch(model, loader, optimizer, device, loss_weights):\n",
    "    model.train()\n",
    "    running_loss = 0.0\n",
    "    running_value_loss = 0.0\n",
    "    for x_batch, y_batch in tqdm(loader, desc=\"Training\", leave=False):\n",
    "        x_batch = x_batch.to(device)\n",
    "        y_batch = y_batch.to(device)\n",
    "        optimizer.zero_grad()\n",
    "        outputs = model(x_batch)\n",
    "        value_loss = weighted_huber_loss(outputs, y_batch, loss_weights, delta=1.0)\n",
    "        loss = value_loss\n",
    "        loss.backward()\n",
    "        optimizer.step()\n",
    "        running_loss += loss.item() * x_batch.size(0)\n",
    "        running_value_loss += value_loss.item() * x_batch.size(0)\n",
    "    epoch_loss = running_loss / len(loader.dataset)\n",
    "    epoch_value = running_value_loss / len(loader.dataset)\n",
    "    return epoch_loss, epoch_value\n",
    "\n",
    "def plot_scatter_per_channel(preds, trues, channel_names, epoch, save_dir, max_samples=500000):\n",
    "    \"\"\"\n",
    "    绘制预测与真实的散点图，去除极端值，坐标轴对称，绘制1:1线和拟合线\n",
    "    \"\"\"\n",
    "    os.makedirs(save_dir, exist_ok=True)\n",
    "    save_path = os.path.join(save_dir, f'uvtscatter_epoch{epoch:03d}.png')\n",
    "    C = preds.shape[1]\n",
    "    fig, axes = plt.subplots(1, C, figsize=(5 * C, 5), dpi=150)\n",
    "    if C == 1:\n",
    "        axes = [axes]\n",
    "\n",
    "    for c in range(C):\n",
    "        ax = axes[c]\n",
    "        if channel_names[c] == 'qw':\n",
    "            pred_flat = preds[:, c, :20].reshape(-1)\n",
    "            true_flat = trues[:, c, :20].reshape(-1)\n",
    "        else:\n",
    "            pred_flat = preds[:, c, :].reshape(-1)\n",
    "            true_flat = trues[:, c, :].reshape(-1)\n",
    "\n",
    "        # 随机采样以提高效率\n",
    "        if len(pred_flat) > max_samples:\n",
    "            idx = np.random.choice(len(pred_flat), max_samples, replace=False)\n",
    "            pred_flat = pred_flat[idx]\n",
    "            true_flat = true_flat[idx]\n",
    "\n",
    "        # 去除极端值（最大/最小千分之一）\n",
    "        q_low = 0.001\n",
    "        q_high = 0.999\n",
    "        x_min, x_max = np.quantile(true_flat, [q_low, q_high])\n",
    "        y_min, y_max = np.quantile(pred_flat, [q_low, q_high])\n",
    "        lim = max(abs(x_min), abs(x_max), abs(y_min), abs(y_max))\n",
    "        lim = np.ceil(lim * 10) / 10  # 向上取整到0.1\n",
    "\n",
    "        # 只保留在范围内的数据\n",
    "        mask = (true_flat >= -lim) & (true_flat <= lim) & (pred_flat >= -lim) & (pred_flat <= lim)\n",
    "        true_flat = true_flat[mask]\n",
    "        pred_flat = pred_flat[mask]\n",
    "\n",
    "        # 相关统计\n",
    "        rmse = np.sqrt(np.mean((pred_flat - true_flat)**2))\n",
    "        corr = pearsonr(pred_flat, true_flat)[0]\n",
    "        bias = np.mean(pred_flat - true_flat)\n",
    "        slope, intercept = np.polyfit(true_flat, pred_flat, 1)\n",
    "\n",
    "        # 绘制散点\n",
    "        ax.hexbin(true_flat, pred_flat, gridsize=100, cmap='Spectral_r', bins='log', linewidths=0.2, mincnt=1)\n",
    "        # 1:1参考线\n",
    "        ax.plot([-lim, lim], [-lim, lim], 'r--', lw=1.2, alpha=0.6, label='1:1')\n",
    "        # 拟合线\n",
    "        x_fit = np.array([-lim, lim])\n",
    "        y_fit = slope * x_fit + intercept\n",
    "        ax.plot(x_fit, y_fit, 'b-', lw=1.2, alpha=0.7, label=f'Fit: y={slope:.2f}x+{intercept:.2f}')\n",
    "\n",
    "        ax.axhline(0, color='gray', linestyle='--', lw=0.5)\n",
    "        ax.axvline(0, color='gray', linestyle='--', lw=0.5)\n",
    "\n",
    "        ax.set_xlim(-lim, lim)\n",
    "        ax.set_ylim(-lim, lim)\n",
    "        ax.set_aspect('equal', adjustable='box')\n",
    "        ax.set_title(f\"{channel_names[c]}\\nRMSE={rmse:.3f}, Corr={corr:.3f}, Bias={bias:.3f}\", fontsize=10)\n",
    "        ax.set_xlabel(\"Truth\")\n",
    "        ax.set_ylabel(\"Pred\")\n",
    "        ax.legend(fontsize=8, loc='upper left')\n",
    "\n",
    "    plt.suptitle(f\"Scatter of Prediction vs Truth (Epoch {epoch})\", fontsize=14)\n",
    "    plt.tight_layout()\n",
    "    plt.savefig(save_path, bbox_inches='tight')\n",
    "    plt.close()\n",
    "    print(f\"  Saved scatter plot to {save_path}\")\n",
    "def plot_r2_profile_per_layer(r2_by_layer, channel_names, epoch, save_dir):\n",
    "    \"\"\"\n",
    "    绘制每个通道的R²随高度变化的图\n",
    "    r2_by_layer: numpy array, shape [C, L]\n",
    "    \"\"\"\n",
    "    os.makedirs(save_dir, exist_ok=True)\n",
    "    save_path = os.path.join(save_dir, f\"uvtr2_layer_epoch{epoch:03d}.png\")\n",
    "\n",
    "    plt.figure(figsize=(6, 6), dpi=200)\n",
    "    z_levels = list(range(r2_by_layer.shape[1]))[::-1]  # 63 -> 0\n",
    "\n",
    "    for idx, ch in enumerate(channel_names):\n",
    "        if ch == 'qw':\n",
    "            plt.plot(r2_by_layer[idx][:20][::-1], z_levels[-20:], label=ch, linewidth=2)\n",
    "        else:\n",
    "            plt.plot(r2_by_layer[idx][::-1], z_levels, label=ch, linewidth=2)\n",
    "\n",
    "    plt.xlabel(r'$R^2$', fontsize=12)\n",
    "    plt.ylabel('Height Level', fontsize=12)\n",
    "    plt.title(f'Validation $R^2$ per Layer (Epoch {epoch})', fontsize=14)\n",
    "    plt.grid(True, linestyle='--', alpha=0.6)\n",
    "    plt.legend(loc='upper center', bbox_to_anchor=(0.5, -0.08),\n",
    "               ncol=len(channel_names), frameon=False, fontsize=10)\n",
    "    plt.xlim(0, 1)\n",
    "    plt.xticks(fontsize=10)\n",
    "    plt.yticks(fontsize=10)\n",
    "    plt.tight_layout()\n",
    "    plt.savefig(save_path, bbox_inches='tight')\n",
    "    plt.close()\n",
    "    print(f\"  Saved R² plot to {save_path}\")\n",
    "\n",
    "def validate_one_epoch(model, loader, device, loss_weights, epoch=None, writer=None, save_plot_dir=None):\n",
    "    model.eval()\n",
    "    running_loss = 0.0\n",
    "    running_value_loss = 0.0\n",
    "    sum_sq = np.zeros(OUT_CHANNELS, dtype=np.float64)\n",
    "    total_count = np.zeros(OUT_CHANNELS, dtype=np.float64)\n",
    "\n",
    "    all_preds = []\n",
    "    all_trues = []\n",
    "\n",
    "    with torch.no_grad():\n",
    "        for x_batch, y_batch in tqdm(loader, desc=\"Validation\", leave=False):\n",
    "            x_batch = x_batch.to(device)\n",
    "            y_batch = y_batch.to(device)\n",
    "            outputs = model(x_batch)\n",
    "\n",
    "            value_loss = weighted_huber_loss(outputs, y_batch, loss_weights, delta=1.0)\n",
    "            loss = value_loss\n",
    "\n",
    "            running_loss += loss.item() * x_batch.size(0)\n",
    "            running_value_loss += value_loss.item() * x_batch.size(0)\n",
    "\n",
    "            diff2 = (outputs - y_batch).cpu().numpy() ** 2\n",
    "            B, C, L = diff2.shape\n",
    "            for c, ch in enumerate(CHANNELS):\n",
    "                if ch == 'qw':\n",
    "                    sum_sq[c] += diff2[:, c, :20].sum()\n",
    "                    total_count[c] += B * 20\n",
    "                else:\n",
    "                    sum_sq[c] += diff2[:, c, :].sum()\n",
    "                    total_count[c] += B * L\n",
    "\n",
    "            all_preds.append(outputs.cpu())\n",
    "            all_trues.append(y_batch.cpu())\n",
    "\n",
    "    overall_loss = running_loss / len(loader.dataset)\n",
    "    overall_value = running_value_loss / len(loader.dataset)\n",
    "    per_channel_rmse = np.sqrt(sum_sq / total_count)\n",
    "\n",
    "    # ===== 计算 R² 和 Pearson 散点相关系数 ===== #\n",
    "    all_preds = torch.cat(all_preds, dim=0).numpy()  # shape (N, C, L)\n",
    "    all_trues = torch.cat(all_trues, dim=0).numpy()\n",
    "\n",
    "    def compute_r2_per_layer(pred, true):\n",
    "        B, C, L = pred.shape\n",
    "        r2_layers = np.empty((C, L))\n",
    "        for c in range(C):\n",
    "            for l in range(L):\n",
    "                if CHANNELS[c] == 'qw' and l >= 20:\n",
    "                    r2_layers[c, l] = np.nan\n",
    "                    continue\n",
    "                y_true = true[:, c, l]\n",
    "                y_pred = pred[:, c, l]\n",
    "                ss_res = np.sum((y_true - y_pred) ** 2)\n",
    "                ss_tot = np.sum((y_true - np.mean(y_true)) ** 2)\n",
    "                r2_layers[c, l] = 1 - ss_res / ss_tot if ss_tot > 0 else np.nan\n",
    "        return r2_layers\n",
    "\n",
    "    def compute_global_corr(pred, true):\n",
    "        return np.corrcoef(pred.reshape(-1), true.reshape(-1))[0, 1]\n",
    "\n",
    "    r2_by_layer = compute_r2_per_layer(all_preds, all_trues)  # shape (4, 64)\n",
    "    global_corr = compute_global_corr(all_preds, all_trues)\n",
    "\n",
    "    print(f\"  Global Pearson Correlation: {global_corr:.4f}\")\n",
    "    for idx, ch in enumerate(CHANNELS):\n",
    "        print(f\"  R² layer mean - {ch}: {np.nanmean(r2_by_layer[idx]):.4f}\")\n",
    "        log_print(f\"  R² layer mean - {ch}: {np.nanmean(r2_by_layer[idx]):.4f}\")\n",
    "\n",
    "    if save_plot_dir and epoch is not None:\n",
    "        \n",
    "        os.makedirs(save_plot_dir, exist_ok=True)\n",
    "        plot_r2_profile_per_layer(r2_by_layer, CHANNELS, epoch, save_plot_dir)\n",
    "        plot_scatter_per_channel(all_preds, all_trues, CHANNELS, epoch, save_plot_dir)\n",
    "\n",
    "    return overall_loss, overall_value, per_channel_rmse\n",
    "\n",
    "\n",
    "# ---------------------------------------------------------------------------- #\\\n",
    "Path(\"./model_plots1\").mkdir(parents=True, exist_ok=True)\n",
    "writer = SummaryWriter(log_dir=f\"runs/unet1d_exp_{datetime.now().strftime('%m%d_%H%M')}\")\n",
    "\n",
    "# 7) 主流程\n",
    "# ---------------------------------------------------------------------------- #\n",
    "if __name__ == \"__main__\":\n",
    "    LOG_PATH = \"./train_log.txt\"\n",
    "    log_file = open(LOG_PATH, \"w\", encoding=\"utf-8\")\n",
    "\n",
    "    def log_print(*args, **kwargs):\n",
    "        print(*args, **kwargs, file=log_file)\n",
    "        log_file.flush()\n",
    "        \n",
    "    def denormalize(y_norm, mean, std):\n",
    "        return y_norm * std + mean\n",
    "\n",
    "    # 获取所有样本 keys\n",
    "    all_keys = sorted([p.stem for p in Path(INPUT_FOLDERS['u']).glob(\"*.npy\")])\n",
    "    random.shuffle(all_keys)\n",
    "    n_train = int(len(all_keys) * TRAIN_VAL_SPLIT)\n",
    "    # 获取所有样本 keys\n",
    "    all_keys = sorted([p.stem for p in Path(INPUT_FOLDERS['u']).glob(\"*.npy\")])\n",
    "    random.shuffle(all_keys)\n",
    "\n",
    "    n_total = len(all_keys)\n",
    "    n_train = int(n_total * 0.7)\n",
    "    n_val = int(n_total * 0.15)\n",
    "    n_test = n_total - n_train - n_val\n",
    "\n",
    "    train_keys = all_keys[:n_train]\n",
    "    val_keys = all_keys[n_train:n_train + n_val]\n",
    "    test_keys = all_keys[n_train + n_val:]\n",
    "\n",
    "    print(f\"Total samples: {n_total}, Train: {len(train_keys)}, Val: {len(val_keys)}, Test: {len(test_keys)}\")\n",
    "    log_print(f\"Total samples: {n_total}, Train: {len(train_keys)}, Val: {len(val_keys)}, Test: {len(test_keys)}\")\n",
    "\n",
    "    # 1) 计算并加载 target 统计量\n",
    "    if Path(TARGET_STATS_PATH).exists():\n",
    "        with open(TARGET_STATS_PATH) as f:\n",
    "            stats = json.load(f)\n",
    "        target_means = stats['means']\n",
    "        target_stds = stats['stds']\n",
    "        print(\"Loaded existing target stats\")\n",
    "    else:\n",
    "        means, stds = compute_target_stats_layerwise(train_keys, TARGET_FOLDERS, depth=DEPTH)\n",
    "        stats = {\"means\": means, \"stds\": stds}\n",
    "        with open(TARGET_STATS_PATH, \"w\") as f:\n",
    "            json.dump(stats, f, indent=2)\n",
    "        target_means = means\n",
    "        target_stds = stds\n",
    "        print(f\"Saved target stats to {TARGET_STATS_PATH}\")\n",
    "\n",
    "    # 2) 计算并加载 input 统计量\n",
    "    if Path(INPUT_STATS_PATH).exists():\n",
    "        with open(INPUT_STATS_PATH) as f:\n",
    "            input_stats = json.load(f)\n",
    "        input_means = input_stats['means']\n",
    "        input_stds = input_stats['stds']\n",
    "        print(\"Loaded existing input stats\")\n",
    "    else:\n",
    "        means_in, stds_in = compute_input_stats(train_keys, INPUT_FOLDERS, depth=DEPTH)\n",
    "        input_stats = {\"means\": means_in, \"stds\": stds_in}\n",
    "        with open(INPUT_STATS_PATH, \"w\") as f:\n",
    "            json.dump(input_stats, f, indent=2)\n",
    "        input_means = means_in\n",
    "        input_stds = stds_in\n",
    "        print(f\"Saved input stats to {INPUT_STATS_PATH}\")\n",
    "\n",
    "    # 3) 创建 Dataset\n",
    "    train_ds = VerticalProfileDataset(\n",
    "        train_keys, INPUT_FOLDERS, TARGET_FOLDERS,\n",
    "        TERRAIN_PATH, STD_PATH,\n",
    "        input_means, input_stds,\n",
    "        target_means, target_stds,\n",
    "        max_samples=MAX_SAMPLES\n",
    "    )\n",
    "    val_ds = VerticalProfileDataset(\n",
    "        val_keys, INPUT_FOLDERS, TARGET_FOLDERS,\n",
    "        TERRAIN_PATH, STD_PATH,\n",
    "        input_means, input_stds,\n",
    "        target_means, target_stds,\n",
    "        max_samples=int(MAX_SAMPLES * 0.15)\n",
    "    )\n",
    "    test_ds = VerticalProfileDataset(\n",
    "        test_keys, INPUT_FOLDERS, TARGET_FOLDERS,\n",
    "        TERRAIN_PATH, STD_PATH,\n",
    "        input_means, input_stds,\n",
    "        target_means, target_stds,\n",
    "        max_samples=int(MAX_SAMPLES * 0.15)\n",
    "    )\n",
    "\n",
    "    print(f\"Train samples: {len(train_ds)}, Validation samples: {len(val_ds)}\")\n",
    "    log_print(f\"Train samples: {len(train_ds)}, Validation samples: {len(val_ds)}\")    \n",
    "    # 4) DataLoader\n",
    "    train_loader = DataLoader(train_ds, batch_size=BATCH_SIZE, shuffle=True,\n",
    "                            num_workers=NUM_WORKERS, pin_memory=True)\n",
    "    val_loader = DataLoader(val_ds, batch_size=BATCH_SIZE, shuffle=False,\n",
    "                            num_workers=NUM_WORKERS, pin_memory=True)\n",
    "    test_loader = DataLoader(test_ds, batch_size=BATCH_SIZE, shuffle=False,\n",
    "                            num_workers=NUM_WORKERS, pin_memory=True)\n",
    "\n",
    "    # 5) 初始化模型、优化器、日志\n",
    "    model = UNet1D(IN_CHANNELS, OUT_CHANNELS, base=BASE_CHANNELS).to(DEVICE)\n",
    "    optimizer = optim.Adam(model.parameters(), lr=LR, weight_decay=1e-5)\n",
    "    scheduler = optim.lr_scheduler.ReduceLROnPlateau(optimizer, 'min', patience=5, factor=0.5)\n",
    "    writer = SummaryWriter(log_dir=\"runs/unet1d_experiment\")\n",
    "\n",
    "    total_params = sum(p.numel() for p in model.parameters()) / 1e6\n",
    "    print(f\"Model initialized on {DEVICE}, total parameters: {total_params:.2f}M\")\n",
    "    log_print(f\"Model initialized on {DEVICE}, total parameters: {total_params:.2f}M\")\n",
    "    inverse_std = 1.0 / np.array([np.mean(target_stds[ch]) for ch in CHANNELS])\n",
    "    norm_weights = inverse_std / np.max(inverse_std)\n",
    "    LOSS_WEIGHTS = torch.tensor(norm_weights, dtype=torch.float32).to(DEVICE)\n",
    "\n",
    "    print(f\"Auto-calculated LOSS_WEIGHTS: {LOSS_WEIGHTS}\")\n",
    "    log_print(f\"Auto-calculated LOSS_WEIGHTS: {LOSS_WEIGHTS}\")\n",
    "\n",
    "    # 6) 训练循环（无梯度损失）\n",
    "    best_val_loss = float('inf')\n",
    "    epochs_no_improve = 0\n",
    "\n",
    "    for epoch in range(1, NUM_EPOCHS + 1):\n",
    "        print(f\"\\nEpoch {epoch}/{NUM_EPOCHS}\")\n",
    "        log_print(f\"\\nEpoch {epoch}/{NUM_EPOCHS}\")\n",
    "        train_loss, train_value_loss = train_one_epoch(model, train_loader, optimizer, DEVICE, LOSS_WEIGHTS)\n",
    "\n",
    "        print(f\"  Train Total Loss: {train_loss:.6f}, Value Loss: {train_value_loss:.6f}\")\n",
    "        log_print(f\"  Train Total Loss: {train_loss:.6f}, Value Loss: {train_value_loss:.6f}\")\n",
    "        # 验证阶段，包含 R² 和相关系数\n",
    "        val_loss, val_value_loss, per_channel_rmse = validate_one_epoch(\n",
    "            model, val_loader, DEVICE, LOSS_WEIGHTS,\n",
    "            epoch=epoch,\n",
    "            writer=writer,\n",
    "            save_plot_dir=\"./model_plots1\"\n",
    "        )\n",
    "        # 打印 RMSE\n",
    "        print(f\"  Val Total Loss: {val_loss:.6f}, Value Loss: {val_value_loss:.6f}\")\n",
    "        print(f\"  Per-channel RMSE: uw={per_channel_rmse[0]:.4f}, vw={per_channel_rmse[1]:.4f}, tw={per_channel_rmse[2]:.4f}, \")\n",
    "        log_print(f\"  Val Total Loss: {val_loss:.6f}, Value Loss: {val_value_loss:.6f}\")\n",
    "        log_print(f\"  Per-channel RMSE: uw={per_channel_rmse[0]:.4f}, vw={per_channel_rmse[1]:.4f}, tw={per_channel_rmse[2]:.4f}, \")\n",
    "\n",
    "        # Tensorboard 写入（Loss 和 RMSE）\n",
    "        writer.add_scalar('Loss/train_total', train_loss, epoch)\n",
    "        writer.add_scalar('Loss/train_value', train_value_loss, epoch)\n",
    "        writer.add_scalar('Loss/val_total', val_loss, epoch)\n",
    "        writer.add_scalar('Loss/val_value', val_value_loss, epoch)\n",
    "        for idx, ch in enumerate(CHANNELS):\n",
    "            writer.add_scalar(f'RMSE/val_{ch}', per_channel_rmse[idx], epoch)\n",
    "\n",
    "        scheduler.step(val_loss)\n",
    "\n",
    "        # 保存最佳模型\n",
    "        if val_loss < best_val_loss:\n",
    "            best_val_loss = val_loss\n",
    "            epochs_no_improve = 0\n",
    "            ckpt_path = CHECKPOINT_DIR / f\"best_epoch{epoch:03d}_val{val_loss:.6f}.pth\"\n",
    "            torch.save({\n",
    "                'epoch': epoch,\n",
    "                'model_state_dict': model.state_dict(),\n",
    "                'optimizer_state_dict': optimizer.state_dict(),\n",
    "                'val_loss': val_loss,\n",
    "                'input_stats': {\"means\": input_means, \"stds\": input_stds},\n",
    "                'target_stats': {\"means\": target_means, \"stds\": target_stds},\n",
    "            }, ckpt_path)\n",
    "            print(f\"  Saved best model: {ckpt_path}\")\n",
    "            log_print(f\"  Saved best model: {ckpt_path}\")\n",
    "        else:\n",
    "            epochs_no_improve += 1\n",
    "            if epochs_no_improve >= PATIENCE_ES:\n",
    "                print(f\"Early stopping at epoch {epoch} (no improvement in {PATIENCE_ES} epochs)\")\n",
    "                log_print(f\"Early stopping at epoch {epoch} (no improvement in {PATIENCE_ES} epochs)\")\n",
    "\n",
    "                break\n",
    "\n",
    "    print(\"\\n===== Final Evaluation on Test Set =====\")\n",
    "    log_print(\"\\n===== Final Evaluation on Test Set =====\")\n",
    "    model.eval()\n",
    "    all_preds, all_targets = [], []\n",
    "\n",
    "    with torch.no_grad():\n",
    "        for batch in tqdm(test_loader, desc=\"Test Inference\"):\n",
    "            inputs, targets = batch\n",
    "            inputs = inputs.to(DEVICE)\n",
    "            targets = targets.to(DEVICE)\n",
    "\n",
    "            outputs = model(inputs)\n",
    "            all_preds.append(outputs)\n",
    "            all_targets.append(targets)\n",
    "\n",
    "    all_preds = torch.cat(all_preds, dim=0)  # [N, C, Z]\n",
    "    all_targets = torch.cat(all_targets, dim=0)\n",
    "\n",
    "    # 7) 保存最终模型\n",
    "    final_path = CHECKPOINT_DIR / \"unet1d_40km_0807-gather.pth\"\n",
    "    torch.save({\n",
    "        'model_state_dict': model.state_dict(),\n",
    "        'input_stats': {\"means\": input_means, \"stds\": input_stds},\n",
    "        'target_stats': {\"means\": target_means, \"stds\": target_stds},\n",
    "    }, final_path)\n",
    "    print(f\"\\nTraining complete. Final model saved to:\\n  {final_path}\")\n",
    "    log_print(f\"\\nTraining complete. Final model saved to:\\n  {final_path}\")\n",
    "    writer.close()\n",
    "\n"
   ]
  },
  {
   "cell_type": "code",
   "execution_count": null,
   "id": "0625fd23",
   "metadata": {},
   "outputs": [],
   "source": [
    "# 相比于上面的代码，增加了训练数据量，把q和qw仅仅取了[:20],输入内容显示在了log里面，散点图显示范围缩小\n",
    "# ---------------------------------------------------------------------------- #\n",
    "# 配置与参数\n",
    "# ---------------------------------------------------------------------------- #\n",
    "INPUT_FOLDERS = {\n",
    "    'u': r'C:/gather/mean_u',\n",
    "    'v': r'C:/gather/mean_v',\n",
    "    't': r'C:/gather/mean_t',\n",
    "    'q': r'C:/gather/mean_q',\n",
    "    'wz': r'C:/gather/mean_wz',\n",
    "}\n",
    "TARGET_FOLDERS = {\n",
    "    'uw': r'C:/gather/uw',\n",
    "    'vw': r'C:/gather/vw',\n",
    "    'tw': r'C:/gather/tw',\n",
    "    'qw': r'C:/gather/qw'\n",
    "}\n",
    "TERRAIN_PATH = r'F:/data/terrain/zs.npy'\n",
    "STD_PATH = r'F:/data/terrain/std.npy'\n",
    "TARGET_STATS_PATH = \"./json/target_stats_40km-2.json\"\n",
    "INPUT_STATS_PATH = \"./json/input_stats_40km-2.json\"\n",
    "IN_CHANNELS = 7\n",
    "OUT_CHANNELS = 4\n",
    "DEPTH = 64 \n",
    "HEIGHT, WIDTH = 20, 20\n",
    "BASE_CHANNELS = 128\n",
    "BATCH_SIZE = 128\n",
    "NUM_WORKERS = 0\n",
    "LR = 1e-4\n",
    "NUM_EPOCHS = 200\n",
    "TRAIN_VAL_SPLIT = 0.8\n",
    "MAX_SAMPLES = 100000\n",
    "DEVICE = torch.device('cuda' if torch.cuda.is_available() else 'cpu')\n",
    "CHECKPOINT_DIR = Path(r'F:/model/model_save')\n",
    "CHECKPOINT_DIR.mkdir(parents=True, exist_ok=True)\n",
    "\n",
    "PATIENCE_ES = 20\n",
    "DZ = 0.1\n",
    "LAMBDA_GRAD = 0.1\n",
    "CHANNELS = ['uw', 'vw', 'tw', 'qw']\n",
    "# ---------------------------------------------------------------------------- #\n",
    "# 2) 统计函数：计算目标字段全局均值与标准差\n",
    "# ---------------------------------------------------------------------------- #\n",
    "def compute_target_stats_layerwise(keys, target_folders, depth=64):\n",
    "    \"\"\"\n",
    "    每个目标变量按高度层计算均值和标准差。\n",
    "    返回 dict: means[var] 和 stds[var] 为 shape=(depth,) 的列表\n",
    "    \"\"\"\n",
    "    means = {}\n",
    "    stds = {}\n",
    "    for tgt, folder in target_folders.items():\n",
    "        folder = Path(folder)\n",
    "        sum_layer = np.zeros(depth)\n",
    "        sumsq_layer = np.zeros(depth)\n",
    "        count_layer = 0\n",
    "        for key in tqdm(keys, desc=f\"Target stats (layerwise) - {tgt}\"):\n",
    "            arr3d = np.load(folder / f\"{key}.npy\", mmap_mode='r')[:, :, :depth]\n",
    "            flat = arr3d.reshape(-1, depth)\n",
    "            sum_layer += flat.sum(axis=0)\n",
    "            sumsq_layer += (flat ** 2).sum(axis=0)\n",
    "            count_layer += flat.shape[0]\n",
    "        μ = sum_layer / count_layer\n",
    "        σ = np.sqrt(sumsq_layer / count_layer - μ ** 2)\n",
    "        stds[tgt] = np.where(σ < 1e-3, 1e-3, σ).astype(np.float32).tolist()\n",
    "        means[tgt] = μ.astype(np.float32).tolist()\n",
    "    return means, stds\n",
    "\n",
    "\n",
    "# ---------------------------------------------------------------------------- #\n",
    "# 统计函数：计算输入字段的全局均值与标准差（按高度分层）\n",
    "# ---------------------------------------------------------------------------- #\n",
    "def compute_input_stats(keys, input_folders, depth=DEPTH):\n",
    "    \"\"\"\n",
    "    计算训练集 input 各变量、各高度层的均值与 std，用于标准化。\n",
    "    返回 dict: means[var]: shape(depth,), stds[var]: shape(depth,)\n",
    "    \"\"\"\n",
    "    sums = {var: np.zeros(depth, dtype=np.float64) for var in input_folders}\n",
    "    sumsqs = {var: np.zeros(depth, dtype=np.float64) for var in input_folders}\n",
    "    counts = {var: 0 for var in input_folders}\n",
    "    for var, folder in input_folders.items():\n",
    "        folder = Path(folder)\n",
    "        for key in tqdm(keys, desc=f\"Input stats {var}\"):\n",
    "            arr3d = np.load(folder / f\"{key}.npy\", mmap_mode='r').astype(np.float32)  # (H,W,51)\n",
    "            arr = arr3d[:, :, :depth]  # (100,100,depth)\n",
    "            arr_flat = arr.reshape(-1, depth)  # (100*100, depth)\n",
    "            sums[var] += arr_flat.sum(axis=0)\n",
    "            sumsqs[var] += (arr_flat**2).sum(axis=0)\n",
    "            counts[var] += arr_flat.shape[0]\n",
    "    means = {}\n",
    "    stds = {}\n",
    "    for var in input_folders:\n",
    "        μ = sums[var] / counts[var]  # shape (depth,)\n",
    "        σ = np.sqrt(sumsqs[var] / counts[var] - μ**2)\n",
    "        σ = np.where(σ < 1e-3, 1e-3, σ)\n",
    "        means[var] = μ.astype(np.float32).tolist()\n",
    "        stds[var] = σ.astype(np.float32).tolist()\n",
    "    return means, stds\n",
    "\n",
    "# ---------------------------------------------------------------------------- #\n",
    "# 3) Dataset 定义：加载 memmap，加上全局归一化\n",
    "# ---------------------------------------------------------------------------- #\n",
    "class VerticalProfileDataset(Dataset):\n",
    "    def __init__(self, keys, input_folders, target_folders,\n",
    "                 terrain_path, std_path,\n",
    "                 input_means, input_stds,\n",
    "                 target_means, target_stds,\n",
    "                 max_samples=100000):\n",
    "        \"\"\"\n",
    "        input_means/stds: dict var -> list of length DEPTH\n",
    "        target_means/stds: dict tgt -> float\n",
    "        \"\"\"\n",
    "        self.keys = keys\n",
    "        self.in_folders = {k: Path(v) for k, v in input_folders.items()}\n",
    "        self.tg_folders = {k: Path(v) for k, v in target_folders.items()}\n",
    "\n",
    "        # 预加载 memmap：input 和 target\n",
    "        self.input_data = {var: {} for var in input_folders}\n",
    "        self.target_data = {tgt: {} for tgt in target_folders}\n",
    "        for var in input_folders:\n",
    "            folder = self.in_folders[var]\n",
    "            for key in keys:\n",
    "                path = folder / f\"{key}.npy\"\n",
    "                try:\n",
    "                    arr = np.load(path, mmap_mode='r').astype(np.float32)\n",
    "                except Exception as e:\n",
    "                    raise RuntimeError(f\"Load input npy failed: {path}\") from e\n",
    "                self.input_data[var][key] = arr  # shape (H,W,51)\n",
    "        for tgt in target_folders:\n",
    "            folder = self.tg_folders[tgt]\n",
    "            for key in keys:\n",
    "                path = folder / f\"{key}.npy\"\n",
    "                try:\n",
    "                    arr = np.load(path, mmap_mode='r').astype(np.float32)\n",
    "                except Exception as e:\n",
    "                    raise RuntimeError(f\"Load target npy failed: {path}\") from e\n",
    "                self.target_data[tgt][key] = arr  # shape (H,W,51)\n",
    "\n",
    "        # 载入地形与地形std，并做全局归一化\n",
    "        terrain = np.load(terrain_path).astype(np.float32)  # (H,W)\n",
    "        terrain_std = np.load(std_path).astype(np.float32)  # (H,W)\n",
    "        t_mean = float(np.mean(terrain))\n",
    "        t_std = float(np.std(terrain)); t_std = max(t_std, 1e-3)\n",
    "        ts_mean = float(np.mean(terrain_std))\n",
    "        ts_std = float(np.std(terrain_std)); ts_std = max(ts_std, 1e-3)\n",
    "        self.terrain = (terrain - t_mean) / t_std\n",
    "        self.terrain_std = (terrain_std - ts_mean) / ts_std\n",
    "\n",
    "        # 保存 input/target 归一化参数\n",
    "        self.input_means = {var: np.array(input_means[var], dtype=np.float32) for var in input_means}\n",
    "        self.input_stds = {var: np.array(input_stds[var], dtype=np.float32) for var in input_stds}\n",
    "        self.target_means = {var: np.array(target_means[var], dtype=np.float32) for var in target_means}\n",
    "        self.target_stds = {var: np.array(target_stds[var], dtype=np.float32) for var in target_stds}\n",
    "\n",
    "        # self.target_means = target_means\n",
    "        # self.target_stds = target_stds\n",
    "\n",
    "        # 生成所有可能的位置索引 (key, i, j)\n",
    "        self.locations = []\n",
    "        for key in keys:\n",
    "            for i in range(HEIGHT):\n",
    "                for j in range(WIDTH):\n",
    "                    self.locations.append((key, i, j))\n",
    "        random.shuffle(self.locations)\n",
    "        self.locations = self.locations[:max_samples]\n",
    "        print(f\"Created dataset with {len(self.locations)} vertical profiles\")\n",
    "        log_print(f\"Created dataset with {len(self.locations)} vertical profiles\")\n",
    "    def __len__(self):\n",
    "        return len(self.locations)\n",
    "\n",
    "    def __getitem__(self, idx):\n",
    "        key, i, j = self.locations[idx]\n",
    "\n",
    "        # 加载输入变量 (u, v, t, q, wz)，并按全局分层归一化\n",
    "        input_arrays = []\n",
    "        for var in ['u', 'v', 't', 'q', 'wz']:\n",
    "            arr3d = self.input_data[var][key]\n",
    "            arr = arr3d[i, j, :DEPTH].astype(np.float32)\n",
    "            mean = self.input_means[var]\n",
    "            std = self.input_stds[var]\n",
    "            arr_norm = (arr - mean) / std\n",
    "            # if var == 'q':\n",
    "            #     arr_norm[20:] = 0.0\n",
    "            input_arrays.append(arr_norm)\n",
    "\n",
    "        # 添加地形和地形标准差\n",
    "        terrain_val = float(self.terrain[i, j])\n",
    "        std_val = float(self.terrain_std[i, j])\n",
    "        input_arrays.append(np.full(DEPTH, terrain_val, dtype=np.float32))\n",
    "        input_arrays.append(np.full(DEPTH, std_val, dtype=np.float32))\n",
    "\n",
    "        x = torch.tensor(np.stack(input_arrays, axis=0), dtype=torch.float32)\n",
    "\n",
    "        # 加载目标变量并归一化\n",
    "        target_arrays = []\n",
    "        for tgt in CHANNELS:\n",
    "            arr3d = self.target_data[tgt][key]\n",
    "            arr = arr3d[i, j, :DEPTH].astype(np.float32)\n",
    "            μ = np.array(self.target_means[tgt], dtype=np.float32)  # shape (64,)\n",
    "            σ = np.array(self.target_stds[tgt], dtype=np.float32)\n",
    "            arr_norm = (arr - μ) / σ\n",
    "            if tgt == 'qw':\n",
    "                arr_norm[20:] = 0.0\n",
    "            target_arrays.append(arr_norm)\n",
    "        y = torch.tensor(np.stack(target_arrays, axis=0), dtype=torch.float32)\n",
    "        return x, y\n",
    "\n",
    "# ---------------------------------------------------------------------------- #\n",
    "# 4) 1D U-Net 模块\n",
    "# ---------------------------------------------------------------------------- #\n",
    "class DoubleConv1D(nn.Module):\n",
    "    def __init__(self, in_ch, out_ch):\n",
    "        super().__init__()\n",
    "        self.double_conv = nn.Sequential(\n",
    "            nn.Conv1d(in_ch, out_ch, 3, padding=1, bias=False),\n",
    "            nn.BatchNorm1d(out_ch),\n",
    "            nn.ReLU(inplace=True),\n",
    "            nn.Conv1d(out_ch, out_ch, 3, padding=1, bias=False),\n",
    "            nn.BatchNorm1d(out_ch),\n",
    "            nn.ReLU(inplace=True),\n",
    "        )\n",
    "\n",
    "    def forward(self, x):\n",
    "        return self.double_conv(x)\n",
    "\n",
    "class Down1D(nn.Module):\n",
    "    def __init__(self, in_ch, out_ch):\n",
    "        super().__init__()\n",
    "        self.seq = nn.Sequential(\n",
    "            nn.MaxPool1d(2),\n",
    "            DoubleConv1D(in_ch, out_ch)\n",
    "        )\n",
    "\n",
    "    def forward(self, x):\n",
    "        return self.seq(x)\n",
    "\n",
    "class Up1D(nn.Module):\n",
    "    def __init__(self, in_ch, out_ch):\n",
    "        super().__init__()\n",
    "        self.up = nn.ConvTranspose1d(in_ch, out_ch, kernel_size=2, stride=2)\n",
    "        self.conv = DoubleConv1D(out_ch * 2, out_ch)\n",
    "\n",
    "    def forward(self, x1, x2):\n",
    "        x1 = self.up(x1)\n",
    "        diff = x2.size(2) - x1.size(2)\n",
    "        if diff > 0:\n",
    "            pad_left = diff // 2\n",
    "            pad_right = diff - pad_left\n",
    "            x1 = nn.functional.pad(x1, [pad_left, pad_right])\n",
    "        elif diff < 0:\n",
    "            crop = -diff\n",
    "            crop_left = crop // 2\n",
    "            crop_right = crop - crop_left\n",
    "            x1 = x1[:, :, crop_left: x1.size(2)-crop_right]\n",
    "        x = torch.cat([x2, x1], dim=1)\n",
    "        return self.conv(x)\n",
    "\n",
    "class OutConv1D(nn.Module):\n",
    "    def __init__(self, in_ch, out_ch):\n",
    "        super().__init__()\n",
    "        self.conv = nn.Conv1d(in_ch, out_ch, 1)\n",
    "\n",
    "    def forward(self, x):\n",
    "        return self.conv(x)\n",
    "\n",
    "class UNet1D(nn.Module):\n",
    "    def __init__(self, in_c, out_c, base=64):\n",
    "        super().__init__()\n",
    "        self.inc = DoubleConv1D(in_c, base)\n",
    "        self.down1 = Down1D(base, base * 2)\n",
    "        self.down2 = Down1D(base * 2, base * 4)\n",
    "        self.down3 = Down1D(base * 4, base * 8)\n",
    "\n",
    "        self.bottleneck = DoubleConv1D(base * 8, base * 16)\n",
    "\n",
    "        self.up3 = Up1D(base * 16, base * 8)\n",
    "        self.up2 = Up1D(base * 8, base * 4)\n",
    "        self.up1 = Up1D(base * 4, base * 2)\n",
    "        self.up0 = Up1D(base * 2, base)\n",
    "\n",
    "        self.outc = OutConv1D(base, out_c)\n",
    "\n",
    "    def forward(self, x):\n",
    "        x1 = self.inc(x)\n",
    "        x2 = self.down1(x1)\n",
    "        x3 = self.down2(x2)\n",
    "        x4 = self.down3(x3)\n",
    "        x5 = self.bottleneck(x4)\n",
    "        x = self.up3(x5, x4)\n",
    "        x = self.up2(x, x3)\n",
    "        x = self.up1(x, x2)\n",
    "        x = self.up0(x, x1)\n",
    "        return self.outc(x)\n",
    "\n",
    "# ---------------------------------------------------------------------------- #\n",
    "# 5) 损失函数：加权MSE + 梯度损失\n",
    "# ---------------------------------------------------------------------------- #\n",
    "def compute_rmse_per_channel(pred, target):\n",
    "    \"\"\"\n",
    "    pred, target: torch.Tensor, shape (B, C, L)\n",
    "    返回 numpy array, shape (C,), per-channel RMSE averaged over batch和长度\n",
    "    \"\"\"\n",
    "    with torch.no_grad():\n",
    "        diff2 = (pred - target).cpu().numpy() ** 2\n",
    "    sum_sq = diff2.sum(axis=(0, 2))\n",
    "    B, C, L = diff2.shape\n",
    "    rmse = np.sqrt(sum_sq / (B * L))\n",
    "    return rmse\n",
    "\n",
    "def weighted_huber_loss(pred, target, weight, delta=1.0):\n",
    "    \"\"\"\n",
    "    pred, target: shape (B, C, L)\n",
    "    weight: shape (C,)\n",
    "    delta: float, Huber loss 的阈值参数\n",
    "    \"\"\"\n",
    "    abs_diff = torch.abs(pred - target)\n",
    "    quadratic = torch.minimum(abs_diff, torch.tensor(delta, device=pred.device))\n",
    "    linear = abs_diff - quadratic\n",
    "    loss = 0.5 * quadratic ** 2 + delta * linear\n",
    "    loss = loss * weight.view(1, -1, 1)\n",
    "    # 对qw通道，只计算前20层损失\n",
    "    qw_idx = CHANNELS.index('qw')\n",
    "    loss[:, qw_idx, 20:] = 0.0\n",
    "    return loss.mean()\n",
    "\n",
    "# ---------------------------------------------------------------------------- #\n",
    "# 6) 训练与验证函数\n",
    "# ---------------------------------------------------------------------------- #\n",
    "def train_one_epoch(model, loader, optimizer, device, loss_weights):\n",
    "    model.train()\n",
    "    running_loss = 0.0\n",
    "    running_value_loss = 0.0\n",
    "    for x_batch, y_batch in tqdm(loader, desc=\"Training\", leave=False):\n",
    "        x_batch = x_batch.to(device)\n",
    "        y_batch = y_batch.to(device)\n",
    "        optimizer.zero_grad()\n",
    "        outputs = model(x_batch)\n",
    "        value_loss = weighted_huber_loss(outputs, y_batch, loss_weights, delta=1.0)\n",
    "        loss = value_loss\n",
    "        loss.backward()\n",
    "        optimizer.step()\n",
    "        running_loss += loss.item() * x_batch.size(0)\n",
    "        running_value_loss += value_loss.item() * x_batch.size(0)\n",
    "    epoch_loss = running_loss / len(loader.dataset)\n",
    "    epoch_value = running_value_loss / len(loader.dataset)\n",
    "    return epoch_loss, epoch_value\n",
    "\n",
    "def plot_scatter_per_channel(preds, trues, channel_names, epoch, save_dir, max_samples=500000):\n",
    "    \"\"\"\n",
    "    绘制预测与真实的散点图，去除极端值，坐标轴对称，绘制1:1线和拟合线\n",
    "    \"\"\"\n",
    "    os.makedirs(save_dir, exist_ok=True)\n",
    "    save_path = os.path.join(save_dir, f'uvtscatter_epoch{epoch:03d}.png')\n",
    "    C = preds.shape[1]\n",
    "    fig, axes = plt.subplots(1, C, figsize=(5 * C, 5), dpi=150)\n",
    "    if C == 1:\n",
    "        axes = [axes]\n",
    "\n",
    "    for c in range(C):\n",
    "        ax = axes[c]\n",
    "        if channel_names[c] == 'qw':\n",
    "            pred_flat = preds[:, c, :20].reshape(-1)\n",
    "            true_flat = trues[:, c, :20].reshape(-1)\n",
    "        else:\n",
    "            pred_flat = preds[:, c, :].reshape(-1)\n",
    "            true_flat = trues[:, c, :].reshape(-1)\n",
    "\n",
    "        # 随机采样以提高效率\n",
    "        if len(pred_flat) > max_samples:\n",
    "            idx = np.random.choice(len(pred_flat), max_samples, replace=False)\n",
    "            pred_flat = pred_flat[idx]\n",
    "            true_flat = true_flat[idx]\n",
    "\n",
    "        # 去除极端值（最大/最小千分之一）\n",
    "        q_low = 0.001\n",
    "        q_high = 0.999\n",
    "        x_min, x_max = np.quantile(true_flat, [q_low, q_high])\n",
    "        y_min, y_max = np.quantile(pred_flat, [q_low, q_high])\n",
    "        lim = max(abs(x_min), abs(x_max), abs(y_min), abs(y_max))\n",
    "        lim = np.ceil(lim * 10) / 10  # 向上取整到0.1\n",
    "\n",
    "        # 只保留在范围内的数据\n",
    "        mask = (true_flat >= -lim) & (true_flat <= lim) & (pred_flat >= -lim) & (pred_flat <= lim)\n",
    "        true_flat = true_flat[mask]\n",
    "        pred_flat = pred_flat[mask]\n",
    "\n",
    "        # 相关统计\n",
    "        rmse = np.sqrt(np.mean((pred_flat - true_flat)**2))\n",
    "        corr = pearsonr(pred_flat, true_flat)[0]\n",
    "        bias = np.mean(pred_flat - true_flat)\n",
    "        slope, intercept = np.polyfit(true_flat, pred_flat, 1)\n",
    "\n",
    "        # 绘制散点\n",
    "        ax.hexbin(true_flat, pred_flat, gridsize=100, cmap='Spectral_r', bins='log', linewidths=0.2, mincnt=1)\n",
    "        # 1:1参考线\n",
    "        ax.plot([-lim, lim], [-lim, lim], 'r--', lw=1.2, alpha=0.6, label='1:1')\n",
    "        # 拟合线\n",
    "        x_fit = np.array([-lim, lim])\n",
    "        y_fit = slope * x_fit + intercept\n",
    "        ax.plot(x_fit, y_fit, 'b-', lw=1.2, alpha=0.7, label=f'Fit: y={slope:.2f}x+{intercept:.2f}')\n",
    "\n",
    "        ax.axhline(0, color='gray', linestyle='--', lw=0.5)\n",
    "        ax.axvline(0, color='gray', linestyle='--', lw=0.5)\n",
    "\n",
    "        ax.set_xlim(-lim, lim)\n",
    "        ax.set_ylim(-lim, lim)\n",
    "        ax.set_aspect('equal', adjustable='box')\n",
    "        ax.set_title(f\"{channel_names[c]}\\nRMSE={rmse:.3f}, Corr={corr:.3f}, Bias={bias:.3f}\", fontsize=10)\n",
    "        ax.set_xlabel(\"Truth\")\n",
    "        ax.set_ylabel(\"Pred\")\n",
    "        ax.legend(fontsize=8, loc='upper left')\n",
    "\n",
    "    plt.suptitle(f\"Scatter of Prediction vs Truth (Epoch {epoch})\", fontsize=14)\n",
    "    plt.tight_layout()\n",
    "    plt.savefig(save_path, bbox_inches='tight')\n",
    "    plt.close()\n",
    "    print(f\"  Saved scatter plot to {save_path}\")\n",
    "def plot_r2_profile_per_layer(r2_by_layer, channel_names, epoch, save_dir):\n",
    "    \"\"\"\n",
    "    绘制每个通道的R²随高度变化的图\n",
    "    r2_by_layer: numpy array, shape [C, L]\n",
    "    \"\"\"\n",
    "    os.makedirs(save_dir, exist_ok=True)\n",
    "    save_path = os.path.join(save_dir, f\"uvtr2_layer_epoch{epoch:03d}.png\")\n",
    "\n",
    "    plt.figure(figsize=(6, 6), dpi=200)\n",
    "    z_levels = list(range(r2_by_layer.shape[1]))[::-1]  # 63 -> 0\n",
    "\n",
    "    for idx, ch in enumerate(channel_names):\n",
    "        if ch == 'qw':\n",
    "            plt.plot(r2_by_layer[idx][:20][::-1], z_levels[-20:], label=ch, linewidth=2)\n",
    "        else:\n",
    "            plt.plot(r2_by_layer[idx][::-1], z_levels, label=ch, linewidth=2)\n",
    "\n",
    "    plt.xlabel(r'$R^2$', fontsize=12)\n",
    "    plt.ylabel('Height Level', fontsize=12)\n",
    "    plt.title(f'Validation $R^2$ per Layer (Epoch {epoch})', fontsize=14)\n",
    "    plt.grid(True, linestyle='--', alpha=0.6)\n",
    "    plt.legend(loc='upper center', bbox_to_anchor=(0.5, -0.08),\n",
    "               ncol=len(channel_names), frameon=False, fontsize=10)\n",
    "    plt.xlim(0, 1)\n",
    "    plt.xticks(fontsize=10)\n",
    "    plt.yticks(fontsize=10)\n",
    "    plt.tight_layout()\n",
    "    plt.savefig(save_path, bbox_inches='tight')\n",
    "    plt.close()\n",
    "    print(f\"  Saved R² plot to {save_path}\")\n",
    "\n",
    "def validate_one_epoch(model, loader, device, loss_weights, epoch=None, writer=None, save_plot_dir=None):\n",
    "    model.eval()\n",
    "    running_loss = 0.0\n",
    "    running_value_loss = 0.0\n",
    "    sum_sq = np.zeros(OUT_CHANNELS, dtype=np.float64)\n",
    "    total_count = np.zeros(OUT_CHANNELS, dtype=np.float64)\n",
    "\n",
    "    all_preds = []\n",
    "    all_trues = []\n",
    "\n",
    "    with torch.no_grad():\n",
    "        for x_batch, y_batch in tqdm(loader, desc=\"Validation\", leave=False):\n",
    "            x_batch = x_batch.to(device)\n",
    "            y_batch = y_batch.to(device)\n",
    "            outputs = model(x_batch)\n",
    "\n",
    "            value_loss = weighted_huber_loss(outputs, y_batch, loss_weights, delta=1.0)\n",
    "            loss = value_loss\n",
    "\n",
    "            running_loss += loss.item() * x_batch.size(0)\n",
    "            running_value_loss += value_loss.item() * x_batch.size(0)\n",
    "\n",
    "            diff2 = (outputs - y_batch).cpu().numpy() ** 2\n",
    "            B, C, L = diff2.shape\n",
    "            for c, ch in enumerate(CHANNELS):\n",
    "                if ch == 'qw':\n",
    "                    sum_sq[c] += diff2[:, c, :20].sum()\n",
    "                    total_count[c] += B * 20\n",
    "                else:\n",
    "                    sum_sq[c] += diff2[:, c, :].sum()\n",
    "                    total_count[c] += B * L\n",
    "\n",
    "            all_preds.append(outputs.cpu())\n",
    "            all_trues.append(y_batch.cpu())\n",
    "\n",
    "    overall_loss = running_loss / len(loader.dataset)\n",
    "    overall_value = running_value_loss / len(loader.dataset)\n",
    "    per_channel_rmse = np.sqrt(sum_sq / total_count)\n",
    "\n",
    "    # ===== 计算 R² 和 Pearson 散点相关系数 ===== #\n",
    "    all_preds = torch.cat(all_preds, dim=0).numpy()  # shape (N, C, L)\n",
    "    all_trues = torch.cat(all_trues, dim=0).numpy()\n",
    "\n",
    "    def compute_r2_per_layer(pred, true):\n",
    "        B, C, L = pred.shape\n",
    "        r2_layers = np.empty((C, L))\n",
    "        for c in range(C):\n",
    "            for l in range(L):\n",
    "                if CHANNELS[c] == 'qw' and l >= 20:\n",
    "                    r2_layers[c, l] = np.nan\n",
    "                    continue\n",
    "                y_true = true[:, c, l]\n",
    "                y_pred = pred[:, c, l]\n",
    "                ss_res = np.sum((y_true - y_pred) ** 2)\n",
    "                ss_tot = np.sum((y_true - np.mean(y_true)) ** 2)\n",
    "                r2_layers[c, l] = 1 - ss_res / ss_tot if ss_tot > 0 else np.nan\n",
    "        return r2_layers\n",
    "\n",
    "    def compute_global_corr(pred, true):\n",
    "        return np.corrcoef(pred.reshape(-1), true.reshape(-1))[0, 1]\n",
    "\n",
    "    r2_by_layer = compute_r2_per_layer(all_preds, all_trues)  # shape (4, 64)\n",
    "    global_corr = compute_global_corr(all_preds, all_trues)\n",
    "\n",
    "    print(f\"  Global Pearson Correlation: {global_corr:.4f}\")\n",
    "    for idx, ch in enumerate(CHANNELS):\n",
    "        print(f\"  R² layer mean - {ch}: {np.nanmean(r2_by_layer[idx]):.4f}\")\n",
    "        log_print(f\"  R² layer mean - {ch}: {np.nanmean(r2_by_layer[idx]):.4f}\")\n",
    "\n",
    "    if save_plot_dir and epoch is not None:\n",
    "        \n",
    "        os.makedirs(save_plot_dir, exist_ok=True)\n",
    "        plot_r2_profile_per_layer(r2_by_layer, CHANNELS, epoch, save_plot_dir)\n",
    "        plot_scatter_per_channel(all_preds, all_trues, CHANNELS, epoch, save_plot_dir)\n",
    "\n",
    "    return overall_loss, overall_value, per_channel_rmse\n",
    "\n",
    "\n",
    "# ---------------------------------------------------------------------------- #\\\n",
    "Path(\"./model_plots1\").mkdir(parents=True, exist_ok=True)\n",
    "writer = SummaryWriter(log_dir=f\"runs/unet1d_exp_{datetime.now().strftime('%m%d_%H%M')}\")\n",
    "\n",
    "# 7) 主流程\n",
    "# ---------------------------------------------------------------------------- #\n",
    "if __name__ == \"__main__\":\n",
    "    LOG_PATH = \"./train_log.txt\"\n",
    "    log_file = open(LOG_PATH, \"w\", encoding=\"utf-8\")\n",
    "\n",
    "    def log_print(*args, **kwargs):\n",
    "        print(*args, **kwargs, file=log_file)\n",
    "        log_file.flush()\n",
    "        \n",
    "    def denormalize(y_norm, mean, std):\n",
    "        return y_norm * std + mean\n",
    "\n",
    "    # 获取所有样本 keys\n",
    "    all_keys = sorted([p.stem for p in Path(INPUT_FOLDERS['u']).glob(\"*.npy\")])\n",
    "    random.shuffle(all_keys)\n",
    "    n_train = int(len(all_keys) * TRAIN_VAL_SPLIT)\n",
    "    # 获取所有样本 keys\n",
    "    all_keys = sorted([p.stem for p in Path(INPUT_FOLDERS['u']).glob(\"*.npy\")])\n",
    "    random.shuffle(all_keys)\n",
    "\n",
    "    n_total = len(all_keys)\n",
    "    n_train = int(n_total * 0.7)\n",
    "    n_val = int(n_total * 0.15)\n",
    "    n_test = n_total - n_train - n_val\n",
    "\n",
    "    train_keys = all_keys[:n_train]\n",
    "    val_keys = all_keys[n_train:n_train + n_val]\n",
    "    test_keys = all_keys[n_train + n_val:]\n",
    "\n",
    "    print(f\"Total samples: {n_total}, Train: {len(train_keys)}, Val: {len(val_keys)}, Test: {len(test_keys)}\")\n",
    "    log_print(f\"Total samples: {n_total}, Train: {len(train_keys)}, Val: {len(val_keys)}, Test: {len(test_keys)}\")\n",
    "\n",
    "    # 1) 计算并加载 target 统计量\n",
    "    if Path(TARGET_STATS_PATH).exists():\n",
    "        with open(TARGET_STATS_PATH) as f:\n",
    "            stats = json.load(f)\n",
    "        target_means = stats['means']\n",
    "        target_stds = stats['stds']\n",
    "        print(\"Loaded existing target stats\")\n",
    "    else:\n",
    "        means, stds = compute_target_stats_layerwise(train_keys, TARGET_FOLDERS, depth=DEPTH)\n",
    "        stats = {\"means\": means, \"stds\": stds}\n",
    "        with open(TARGET_STATS_PATH, \"w\") as f:\n",
    "            json.dump(stats, f, indent=2)\n",
    "        target_means = means\n",
    "        target_stds = stds\n",
    "        print(f\"Saved target stats to {TARGET_STATS_PATH}\")\n",
    "\n",
    "    # 2) 计算并加载 input 统计量\n",
    "    if Path(INPUT_STATS_PATH).exists():\n",
    "        with open(INPUT_STATS_PATH) as f:\n",
    "            input_stats = json.load(f)\n",
    "        input_means = input_stats['means']\n",
    "        input_stds = input_stats['stds']\n",
    "        print(\"Loaded existing input stats\")\n",
    "    else:\n",
    "        means_in, stds_in = compute_input_stats(train_keys, INPUT_FOLDERS, depth=DEPTH)\n",
    "        input_stats = {\"means\": means_in, \"stds\": stds_in}\n",
    "        with open(INPUT_STATS_PATH, \"w\") as f:\n",
    "            json.dump(input_stats, f, indent=2)\n",
    "        input_means = means_in\n",
    "        input_stds = stds_in\n",
    "        print(f\"Saved input stats to {INPUT_STATS_PATH}\")\n",
    "\n",
    "    # 3) 创建 Dataset\n",
    "    train_ds = VerticalProfileDataset(\n",
    "        train_keys, INPUT_FOLDERS, TARGET_FOLDERS,\n",
    "        TERRAIN_PATH, STD_PATH,\n",
    "        input_means, input_stds,\n",
    "        target_means, target_stds,\n",
    "        max_samples=MAX_SAMPLES\n",
    "    )\n",
    "    val_ds = VerticalProfileDataset(\n",
    "        val_keys, INPUT_FOLDERS, TARGET_FOLDERS,\n",
    "        TERRAIN_PATH, STD_PATH,\n",
    "        input_means, input_stds,\n",
    "        target_means, target_stds,\n",
    "        max_samples=int(MAX_SAMPLES * 0.15)\n",
    "    )\n",
    "    test_ds = VerticalProfileDataset(\n",
    "        test_keys, INPUT_FOLDERS, TARGET_FOLDERS,\n",
    "        TERRAIN_PATH, STD_PATH,\n",
    "        input_means, input_stds,\n",
    "        target_means, target_stds,\n",
    "        max_samples=int(MAX_SAMPLES * 0.15)\n",
    "    )\n",
    "\n",
    "    print(f\"Train samples: {len(train_ds)}, Validation samples: {len(val_ds)}\")\n",
    "    log_print(f\"Train samples: {len(train_ds)}, Validation samples: {len(val_ds)}\")    \n",
    "    # 4) DataLoader\n",
    "    train_loader = DataLoader(train_ds, batch_size=BATCH_SIZE, shuffle=True,\n",
    "                            num_workers=NUM_WORKERS, pin_memory=True)\n",
    "    val_loader = DataLoader(val_ds, batch_size=BATCH_SIZE, shuffle=False,\n",
    "                            num_workers=NUM_WORKERS, pin_memory=True)\n",
    "    test_loader = DataLoader(test_ds, batch_size=BATCH_SIZE, shuffle=False,\n",
    "                            num_workers=NUM_WORKERS, pin_memory=True)\n",
    "\n",
    "    # 5) 初始化模型、优化器、日志\n",
    "    model = UNet1D(IN_CHANNELS, OUT_CHANNELS, base=BASE_CHANNELS).to(DEVICE)\n",
    "    optimizer = optim.Adam(model.parameters(), lr=LR, weight_decay=1e-5)\n",
    "    scheduler = optim.lr_scheduler.ReduceLROnPlateau(optimizer, 'min', patience=5, factor=0.5)\n",
    "    writer = SummaryWriter(log_dir=\"runs/unet1d_experiment\")\n",
    "\n",
    "    total_params = sum(p.numel() for p in model.parameters()) / 1e6\n",
    "    print(f\"Model initialized on {DEVICE}, total parameters: {total_params:.2f}M\")\n",
    "    log_print(f\"Model initialized on {DEVICE}, total parameters: {total_params:.2f}M\")\n",
    "    inverse_std = 1.0 / np.array([np.mean(target_stds[ch]) for ch in CHANNELS])\n",
    "    norm_weights = inverse_std / np.max(inverse_std)\n",
    "    LOSS_WEIGHTS = torch.tensor(norm_weights, dtype=torch.float32).to(DEVICE)\n",
    "\n",
    "    print(f\"Auto-calculated LOSS_WEIGHTS: {LOSS_WEIGHTS}\")\n",
    "    log_print(f\"Auto-calculated LOSS_WEIGHTS: {LOSS_WEIGHTS}\")\n",
    "\n",
    "    # 6) 训练循环（无梯度损失）\n",
    "    best_val_loss = float('inf')\n",
    "    epochs_no_improve = 0\n",
    "\n",
    "    for epoch in range(1, NUM_EPOCHS + 1):\n",
    "        print(f\"\\nEpoch {epoch}/{NUM_EPOCHS}\")\n",
    "        log_print(f\"\\nEpoch {epoch}/{NUM_EPOCHS}\")\n",
    "        train_loss, train_value_loss = train_one_epoch(model, train_loader, optimizer, DEVICE, LOSS_WEIGHTS)\n",
    "\n",
    "        print(f\"  Train Total Loss: {train_loss:.6f}, Value Loss: {train_value_loss:.6f}\")\n",
    "        log_print(f\"  Train Total Loss: {train_loss:.6f}, Value Loss: {train_value_loss:.6f}\")\n",
    "        # 验证阶段，包含 R² 和相关系数\n",
    "        val_loss, val_value_loss, per_channel_rmse = validate_one_epoch(\n",
    "            model, val_loader, DEVICE, LOSS_WEIGHTS,\n",
    "            epoch=epoch,\n",
    "            writer=writer,\n",
    "            save_plot_dir=\"./model_plots1\"\n",
    "        )\n",
    "        # 打印 RMSE\n",
    "        print(f\"  Val Total Loss: {val_loss:.6f}, Value Loss: {val_value_loss:.6f}\")\n",
    "        print(f\"  Per-channel RMSE: uw={per_channel_rmse[0]:.4f}, vw={per_channel_rmse[1]:.4f}, tw={per_channel_rmse[2]:.4f}, \")\n",
    "        log_print(f\"  Val Total Loss: {val_loss:.6f}, Value Loss: {val_value_loss:.6f}\")\n",
    "        log_print(f\"  Per-channel RMSE: uw={per_channel_rmse[0]:.4f}, vw={per_channel_rmse[1]:.4f}, tw={per_channel_rmse[2]:.4f}, \")\n",
    "\n",
    "        # Tensorboard 写入（Loss 和 RMSE）\n",
    "        writer.add_scalar('Loss/train_total', train_loss, epoch)\n",
    "        writer.add_scalar('Loss/train_value', train_value_loss, epoch)\n",
    "        writer.add_scalar('Loss/val_total', val_loss, epoch)\n",
    "        writer.add_scalar('Loss/val_value', val_value_loss, epoch)\n",
    "        for idx, ch in enumerate(CHANNELS):\n",
    "            writer.add_scalar(f'RMSE/val_{ch}', per_channel_rmse[idx], epoch)\n",
    "\n",
    "        scheduler.step(val_loss)\n",
    "\n",
    "        # 保存最佳模型\n",
    "        if val_loss < best_val_loss:\n",
    "            best_val_loss = val_loss\n",
    "            epochs_no_improve = 0\n",
    "            ckpt_path = CHECKPOINT_DIR / f\"best_epoch{epoch:03d}_val{val_loss:.6f}.pth\"\n",
    "            torch.save({\n",
    "                'epoch': epoch,\n",
    "                'model_state_dict': model.state_dict(),\n",
    "                'optimizer_state_dict': optimizer.state_dict(),\n",
    "                'val_loss': val_loss,\n",
    "                'input_stats': {\"means\": input_means, \"stds\": input_stds},\n",
    "                'target_stats': {\"means\": target_means, \"stds\": target_stds},\n",
    "            }, ckpt_path)\n",
    "            print(f\"  Saved best model: {ckpt_path}\")\n",
    "            log_print(f\"  Saved best model: {ckpt_path}\")\n",
    "        else:\n",
    "            epochs_no_improve += 1\n",
    "            if epochs_no_improve >= PATIENCE_ES:\n",
    "                print(f\"Early stopping at epoch {epoch} (no improvement in {PATIENCE_ES} epochs)\")\n",
    "                log_print(f\"Early stopping at epoch {epoch} (no improvement in {PATIENCE_ES} epochs)\")\n",
    "\n",
    "                break\n",
    "\n",
    "    print(\"\\n===== Final Evaluation on Test Set =====\")\n",
    "    log_print(\"\\n===== Final Evaluation on Test Set =====\")\n",
    "    model.eval()\n",
    "    all_preds, all_targets = [], []\n",
    "\n",
    "    with torch.no_grad():\n",
    "        for batch in tqdm(test_loader, desc=\"Test Inference\"):\n",
    "            inputs, targets = batch\n",
    "            inputs = inputs.to(DEVICE)\n",
    "            targets = targets.to(DEVICE)\n",
    "\n",
    "            outputs = model(inputs)\n",
    "            all_preds.append(outputs)\n",
    "            all_targets.append(targets)\n",
    "\n",
    "    all_preds = torch.cat(all_preds, dim=0)  # [N, C, Z]\n",
    "    all_targets = torch.cat(all_targets, dim=0)\n",
    "\n",
    "    # 7) 保存最终模型\n",
    "    final_path = CHECKPOINT_DIR / \"unet1d_40km_0807-gather.pth\"\n",
    "    torch.save({\n",
    "        'model_state_dict': model.state_dict(),\n",
    "        'input_stats': {\"means\": input_means, \"stds\": input_stds},\n",
    "        'target_stats': {\"means\": target_means, \"stds\": target_stds},\n",
    "    }, final_path)\n",
    "    print(f\"\\nTraining complete. Final model saved to:\\n  {final_path}\")\n",
    "    log_print(f\"\\nTraining complete. Final model saved to:\\n  {final_path}\")\n",
    "    writer.close()\n",
    "\n"
   ]
  },
  {
   "cell_type": "code",
   "execution_count": null,
   "id": "661591c6",
   "metadata": {},
   "outputs": [],
   "source": []
  }
 ],
 "metadata": {
  "kernelspec": {
   "display_name": "torch_gpu",
   "language": "python",
   "name": "python3"
  },
  "language_info": {
   "codemirror_mode": {
    "name": "ipython",
    "version": 3
   },
   "file_extension": ".py",
   "mimetype": "text/x-python",
   "name": "python",
   "nbconvert_exporter": "python",
   "pygments_lexer": "ipython3",
   "version": "3.10.17"
  }
 },
 "nbformat": 4,
 "nbformat_minor": 5
}
