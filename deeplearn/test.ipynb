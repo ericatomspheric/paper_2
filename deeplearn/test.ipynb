{
 "cells": [
  {
   "cell_type": "code",
   "execution_count": 2,
   "id": "c0cf14db",
   "metadata": {},
   "outputs": [],
   "source": [
    "import os\n",
    "import shutil\n",
    "import random\n",
    "from pathlib import Path\n",
    "\n",
    "# 设置路径\n",
    "source_root = Path(r'Y:\\meso-unet\\40km\\gather\\gather')  # 替换为你的路径\n",
    "target_root = Path(r'Y:\\meso-unet\\40km\\gather-20')    # 替换为你的目标路径\n",
    "target_root.mkdir(parents=True, exist_ok=True)\n",
    "\n",
    "# 获取所有子文件夹\n",
    "subfolders = [f for f in source_root.iterdir() if f.is_dir()]\n",
    "\n",
    "# 用第一个子文件夹来获取统一的文件名列表\n",
    "first_folder = subfolders[0]\n",
    "all_files = sorted([f.name for f in first_folder.iterdir() if f.is_file()])\n",
    "sample_size = int(len(all_files) * 0.2)\n",
    "\n",
    "# 随机选出20%的文件名\n",
    "random.seed(42)  # 确保可复现\n",
    "selected_files = sorted(random.sample(all_files, sample_size))\n",
    "\n",
    "# 遍历所有子文件夹，复制对应文件到新目录结构\n",
    "for subfolder in subfolders:\n",
    "    target_subfolder = target_root / subfolder.name\n",
    "    target_subfolder.mkdir(parents=True, exist_ok=True)\n",
    "\n",
    "    for filename in selected_files:\n",
    "        src_file = subfolder / filename\n",
    "        dst_file = target_subfolder / filename\n",
    "        if src_file.exists():\n",
    "            shutil.copy(src_file, dst_file)\n",
    "        else:\n",
    "            print(f\"⚠️ 文件不存在: {src_file}\")\n"
   ]
  }
 ],
 "metadata": {
  "kernelspec": {
   "display_name": "base",
   "language": "python",
   "name": "python3"
  },
  "language_info": {
   "codemirror_mode": {
    "name": "ipython",
    "version": 3
   },
   "file_extension": ".py",
   "mimetype": "text/x-python",
   "name": "python",
   "nbconvert_exporter": "python",
   "pygments_lexer": "ipython3",
   "version": "3.12.3"
  }
 },
 "nbformat": 4,
 "nbformat_minor": 5
}
